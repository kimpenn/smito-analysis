{
 "cells": [
  {
   "cell_type": "code",
   "execution_count": 1,
   "metadata": {
    "vscode": {
     "languageId": "r"
    }
   },
   "outputs": [],
   "source": [
    "setwd(\"..\")"
   ]
  },
  {
   "cell_type": "code",
   "execution_count": 2,
   "metadata": {
    "vscode": {
     "languageId": "r"
    }
   },
   "outputs": [],
   "source": [
    "source(\"Source/functions.R\")\n",
    "library(\"data.table\")"
   ]
  },
  {
   "cell_type": "code",
   "execution_count": 3,
   "metadata": {
    "vscode": {
     "languageId": "r"
    }
   },
   "outputs": [],
   "source": [
    "snv_info <- fread(\"Data/snv_loci_v2.csv\")\n",
    "snvIDs <- snv_info[, SNVID]\n",
    "\n",
    "chrmproperties <- fread(\"Report/artifact/chrmbases_properties.csv.gz\")\n",
    "setkey(chrmproperties, \"pos\")"
   ]
  },
  {
   "cell_type": "code",
   "execution_count": 4,
   "metadata": {
    "vscode": {
     "languageId": "r"
    }
   },
   "outputs": [
    {
     "data": {
      "text/html": [
       "<style>\n",
       ".list-inline {list-style: none; margin:0; padding: 0}\n",
       ".list-inline>li {display: inline-block}\n",
       ".list-inline>li:not(:last-child)::after {content: \"\\00b7\"; padding: 0 .5ex}\n",
       "</style>\n",
       "<ol class=list-inline><li>1717</li><li>19</li></ol>\n"
      ],
      "text/latex": [
       "\\begin{enumerate*}\n",
       "\\item 1717\n",
       "\\item 19\n",
       "\\end{enumerate*}\n"
      ],
      "text/markdown": [
       "1. 1717\n",
       "2. 19\n",
       "\n",
       "\n"
      ],
      "text/plain": [
       "[1] 1717   19"
      ]
     },
     "metadata": {},
     "output_type": "display_data"
    }
   ],
   "source": [
    "MitoInfo <- fread(file = \"Report/metadata/MitoInfo.csv\")\n",
    "dim(MitoInfo)"
   ]
  },
  {
   "cell_type": "code",
   "execution_count": 5,
   "metadata": {
    "vscode": {
     "languageId": "r"
    }
   },
   "outputs": [
    {
     "data": {
      "text/html": [
       "<style>\n",
       ".list-inline {list-style: none; margin:0; padding: 0}\n",
       ".list-inline>li {display: inline-block}\n",
       ".list-inline>li:not(:last-child)::after {content: \"\\00b7\"; padding: 0 .5ex}\n",
       "</style>\n",
       "<ol class=list-inline><li>102</li><li>7</li></ol>\n"
      ],
      "text/latex": [
       "\\begin{enumerate*}\n",
       "\\item 102\n",
       "\\item 7\n",
       "\\end{enumerate*}\n"
      ],
      "text/markdown": [
       "1. 102\n",
       "2. 7\n",
       "\n",
       "\n"
      ],
      "text/plain": [
       "[1] 102   7"
      ]
     },
     "metadata": {},
     "output_type": "display_data"
    }
   ],
   "source": [
    "CellInfo <- fread(\"Report/metadata/CellInfo.csv\")\n",
    "dim(CellInfo)"
   ]
  },
  {
   "cell_type": "code",
   "execution_count": 6,
   "metadata": {
    "vscode": {
     "languageId": "r"
    }
   },
   "outputs": [
    {
     "data": {
      "text/html": [
       "<style>\n",
       ".list-inline {list-style: none; margin:0; padding: 0}\n",
       ".list-inline>li {display: inline-block}\n",
       ".list-inline>li:not(:last-child)::after {content: \"\\00b7\"; padding: 0 .5ex}\n",
       "</style>\n",
       "<ol class=list-inline><li>13</li><li>2</li></ol>\n"
      ],
      "text/latex": [
       "\\begin{enumerate*}\n",
       "\\item 13\n",
       "\\item 2\n",
       "\\end{enumerate*}\n"
      ],
      "text/markdown": [
       "1. 13\n",
       "2. 2\n",
       "\n",
       "\n"
      ],
      "text/plain": [
       "[1] 13  2"
      ]
     },
     "metadata": {},
     "output_type": "display_data"
    }
   ],
   "source": [
    "MouseInfo <- fread(\"Report/metadata/MouseInfo.csv\")\n",
    "dim(MouseInfo)"
   ]
  },
  {
   "cell_type": "markdown",
   "metadata": {},
   "source": [
    "Load the original SNV table that had missing data at 9027 because of the 150/151 mixed cycles"
   ]
  },
  {
   "cell_type": "code",
   "execution_count": 7,
   "metadata": {
    "vscode": {
     "languageId": "r"
    }
   },
   "outputs": [
    {
     "data": {
      "text/html": [
       "<table class=\"dataframe\">\n",
       "<caption>A data.table: 1659 × 6</caption>\n",
       "<thead>\n",
       "\t<tr><th scope=col>LibraryMitoID</th><th scope=col>=</th><th scope=col>A</th><th scope=col>C</th><th scope=col>G</th><th scope=col>T</th></tr>\n",
       "\t<tr><th scope=col>&lt;chr&gt;</th><th scope=col>&lt;int&gt;</th><th scope=col>&lt;int&gt;</th><th scope=col>&lt;int&gt;</th><th scope=col>&lt;int&gt;</th><th scope=col>&lt;int&gt;</th></tr>\n",
       "</thead>\n",
       "<tbody>\n",
       "\t<tr><td>L1R24P1C_M1 </td><td>  1</td><td> 28</td><td>0</td><td>0</td><td>0</td></tr>\n",
       "\t<tr><td>L1R24P1C_M2 </td><td> 37</td><td> 44</td><td>0</td><td>0</td><td>0</td></tr>\n",
       "\t<tr><td>L1R24P1C_M3 </td><td> 53</td><td> 46</td><td>0</td><td>0</td><td>0</td></tr>\n",
       "\t<tr><td>L1R24P1C_M4 </td><td> 12</td><td>167</td><td>0</td><td>0</td><td>0</td></tr>\n",
       "\t<tr><td>L1R24P1C_M5 </td><td>  0</td><td>  1</td><td>0</td><td>0</td><td>0</td></tr>\n",
       "\t<tr><td>L1R24P1C_M6 </td><td> 56</td><td>  2</td><td>0</td><td>0</td><td>0</td></tr>\n",
       "\t<tr><td>L1R24P1C_M7 </td><td>  1</td><td> 38</td><td>0</td><td>0</td><td>0</td></tr>\n",
       "\t<tr><td>L1R24P1C_M8 </td><td>  1</td><td> 27</td><td>0</td><td>0</td><td>0</td></tr>\n",
       "\t<tr><td>L1R24P1C_M9 </td><td> 10</td><td>  3</td><td>0</td><td>0</td><td>0</td></tr>\n",
       "\t<tr><td>L1R24P1C_M10</td><td> 22</td><td>  5</td><td>0</td><td>0</td><td>0</td></tr>\n",
       "\t<tr><td>L2R24P1C_M1 </td><td> 12</td><td> 29</td><td>0</td><td>0</td><td>0</td></tr>\n",
       "\t<tr><td>L2R24P1C_M2 </td><td> 40</td><td> 23</td><td>0</td><td>0</td><td>0</td></tr>\n",
       "\t<tr><td>L2R24P1C_M3 </td><td> 28</td><td> 14</td><td>0</td><td>0</td><td>0</td></tr>\n",
       "\t<tr><td>L2R24P1C_M4 </td><td> 18</td><td>114</td><td>0</td><td>0</td><td>0</td></tr>\n",
       "\t<tr><td>L2R24P1C_M5 </td><td>  2</td><td>  1</td><td>0</td><td>0</td><td>0</td></tr>\n",
       "\t<tr><td>L2R24P1C_M6 </td><td> 18</td><td>  2</td><td>0</td><td>0</td><td>0</td></tr>\n",
       "\t<tr><td>L2R24P1C_M7 </td><td>  2</td><td> 47</td><td>0</td><td>0</td><td>0</td></tr>\n",
       "\t<tr><td>L2R24P1C_M8 </td><td>  5</td><td> 37</td><td>0</td><td>0</td><td>0</td></tr>\n",
       "\t<tr><td>L2R24P1C_M9 </td><td>  4</td><td>  1</td><td>0</td><td>0</td><td>0</td></tr>\n",
       "\t<tr><td>L2R24P1C_M10</td><td>  7</td><td> 13</td><td>0</td><td>0</td><td>0</td></tr>\n",
       "\t<tr><td>L3R24P1C_M1 </td><td>  6</td><td> 37</td><td>0</td><td>0</td><td>0</td></tr>\n",
       "\t<tr><td>L3R24P1C_M2 </td><td> 61</td><td> 35</td><td>0</td><td>0</td><td>0</td></tr>\n",
       "\t<tr><td>L3R24P1C_M3 </td><td> 23</td><td> 16</td><td>0</td><td>0</td><td>0</td></tr>\n",
       "\t<tr><td>L3R24P1C_M4 </td><td>230</td><td> 54</td><td>0</td><td>0</td><td>0</td></tr>\n",
       "\t<tr><td>L3R24P1C_M5 </td><td>  1</td><td>  2</td><td>0</td><td>0</td><td>0</td></tr>\n",
       "\t<tr><td>L3R24P1C_M6 </td><td> 25</td><td>  4</td><td>0</td><td>0</td><td>0</td></tr>\n",
       "\t<tr><td>L3R24P1C_M7 </td><td> 11</td><td> 27</td><td>0</td><td>0</td><td>0</td></tr>\n",
       "\t<tr><td>L3R24P1C_M8 </td><td>  3</td><td> 15</td><td>0</td><td>0</td><td>0</td></tr>\n",
       "\t<tr><td>L3R24P1C_M9 </td><td>  1</td><td>  3</td><td>0</td><td>0</td><td>0</td></tr>\n",
       "\t<tr><td>L3R24P1C_M10</td><td> 64</td><td>  8</td><td>0</td><td>0</td><td>0</td></tr>\n",
       "\t<tr><td>⋮</td><td>⋮</td><td>⋮</td><td>⋮</td><td>⋮</td><td>⋮</td></tr>\n",
       "\t<tr><td>DepSeq-L1_M6</td><td>   0</td><td>  1</td><td>0</td><td>0</td><td>0</td></tr>\n",
       "\t<tr><td>DepSeq-L1_M7</td><td>  21</td><td> 53</td><td>0</td><td>0</td><td>0</td></tr>\n",
       "\t<tr><td>DepSeq-L1_M8</td><td>  17</td><td>  0</td><td>0</td><td>0</td><td>0</td></tr>\n",
       "\t<tr><td>DepSeq-L2_M1</td><td>  81</td><td> 77</td><td>0</td><td>0</td><td>0</td></tr>\n",
       "\t<tr><td>DepSeq-L2_M2</td><td> 141</td><td> 98</td><td>1</td><td>0</td><td>0</td></tr>\n",
       "\t<tr><td>DepSeq-L2_M3</td><td>1036</td><td>103</td><td>1</td><td>0</td><td>0</td></tr>\n",
       "\t<tr><td>DepSeq-L2_M4</td><td> 152</td><td>173</td><td>0</td><td>0</td><td>0</td></tr>\n",
       "\t<tr><td>DepSeq-L2_M6</td><td>  14</td><td>  0</td><td>0</td><td>0</td><td>0</td></tr>\n",
       "\t<tr><td>DepSeq-L2_M7</td><td> 135</td><td>112</td><td>0</td><td>0</td><td>0</td></tr>\n",
       "\t<tr><td>DepSeq-L2_M8</td><td>  67</td><td>  2</td><td>0</td><td>0</td><td>0</td></tr>\n",
       "\t<tr><td>DepSeq-L3_M1</td><td>   1</td><td> 11</td><td>0</td><td>0</td><td>0</td></tr>\n",
       "\t<tr><td>DepSeq-L3_M2</td><td>  20</td><td> 23</td><td>0</td><td>0</td><td>0</td></tr>\n",
       "\t<tr><td>DepSeq-L3_M3</td><td>   3</td><td>  7</td><td>0</td><td>0</td><td>0</td></tr>\n",
       "\t<tr><td>DepSeq-L3_M4</td><td>  20</td><td> 51</td><td>0</td><td>0</td><td>0</td></tr>\n",
       "\t<tr><td>DepSeq-L3_M6</td><td>   1</td><td>  0</td><td>0</td><td>0</td><td>0</td></tr>\n",
       "\t<tr><td>DepSeq-L3_M7</td><td>   9</td><td> 14</td><td>0</td><td>0</td><td>0</td></tr>\n",
       "\t<tr><td>DepSeq-L3_M8</td><td>   1</td><td>  1</td><td>0</td><td>0</td><td>0</td></tr>\n",
       "\t<tr><td>DepSeq-L4_M1</td><td>   0</td><td> 38</td><td>0</td><td>0</td><td>0</td></tr>\n",
       "\t<tr><td>DepSeq-L4_M2</td><td>  17</td><td> 79</td><td>0</td><td>0</td><td>0</td></tr>\n",
       "\t<tr><td>DepSeq-L4_M3</td><td>  29</td><td> 98</td><td>1</td><td>0</td><td>0</td></tr>\n",
       "\t<tr><td>DepSeq-L4_M4</td><td>  26</td><td>151</td><td>0</td><td>0</td><td>0</td></tr>\n",
       "\t<tr><td>DepSeq-L4_M6</td><td>   1</td><td>  0</td><td>0</td><td>0</td><td>0</td></tr>\n",
       "\t<tr><td>DepSeq-L4_M7</td><td>  10</td><td> 85</td><td>0</td><td>0</td><td>0</td></tr>\n",
       "\t<tr><td>DepSeq-L4_M8</td><td>   5</td><td>  1</td><td>0</td><td>0</td><td>0</td></tr>\n",
       "\t<tr><td>DepSeq-L5_M1</td><td>   5</td><td>109</td><td>1</td><td>0</td><td>0</td></tr>\n",
       "\t<tr><td>DepSeq-L5_M2</td><td>  34</td><td>157</td><td>0</td><td>0</td><td>0</td></tr>\n",
       "\t<tr><td>DepSeq-L5_M3</td><td>  11</td><td>142</td><td>1</td><td>0</td><td>0</td></tr>\n",
       "\t<tr><td>DepSeq-L5_M4</td><td>  11</td><td>286</td><td>0</td><td>0</td><td>0</td></tr>\n",
       "\t<tr><td>DepSeq-L5_M6</td><td>  32</td><td>  0</td><td>0</td><td>0</td><td>0</td></tr>\n",
       "\t<tr><td>DepSeq-L5_M7</td><td>   1</td><td> 38</td><td>0</td><td>0</td><td>0</td></tr>\n",
       "</tbody>\n",
       "</table>\n"
      ],
      "text/latex": [
       "A data.table: 1659 × 6\n",
       "\\begin{tabular}{llllll}\n",
       " LibraryMitoID & = & A & C & G & T\\\\\n",
       " <chr> & <int> & <int> & <int> & <int> & <int>\\\\\n",
       "\\hline\n",
       "\t L1R24P1C\\_M1  &   1 &  28 & 0 & 0 & 0\\\\\n",
       "\t L1R24P1C\\_M2  &  37 &  44 & 0 & 0 & 0\\\\\n",
       "\t L1R24P1C\\_M3  &  53 &  46 & 0 & 0 & 0\\\\\n",
       "\t L1R24P1C\\_M4  &  12 & 167 & 0 & 0 & 0\\\\\n",
       "\t L1R24P1C\\_M5  &   0 &   1 & 0 & 0 & 0\\\\\n",
       "\t L1R24P1C\\_M6  &  56 &   2 & 0 & 0 & 0\\\\\n",
       "\t L1R24P1C\\_M7  &   1 &  38 & 0 & 0 & 0\\\\\n",
       "\t L1R24P1C\\_M8  &   1 &  27 & 0 & 0 & 0\\\\\n",
       "\t L1R24P1C\\_M9  &  10 &   3 & 0 & 0 & 0\\\\\n",
       "\t L1R24P1C\\_M10 &  22 &   5 & 0 & 0 & 0\\\\\n",
       "\t L2R24P1C\\_M1  &  12 &  29 & 0 & 0 & 0\\\\\n",
       "\t L2R24P1C\\_M2  &  40 &  23 & 0 & 0 & 0\\\\\n",
       "\t L2R24P1C\\_M3  &  28 &  14 & 0 & 0 & 0\\\\\n",
       "\t L2R24P1C\\_M4  &  18 & 114 & 0 & 0 & 0\\\\\n",
       "\t L2R24P1C\\_M5  &   2 &   1 & 0 & 0 & 0\\\\\n",
       "\t L2R24P1C\\_M6  &  18 &   2 & 0 & 0 & 0\\\\\n",
       "\t L2R24P1C\\_M7  &   2 &  47 & 0 & 0 & 0\\\\\n",
       "\t L2R24P1C\\_M8  &   5 &  37 & 0 & 0 & 0\\\\\n",
       "\t L2R24P1C\\_M9  &   4 &   1 & 0 & 0 & 0\\\\\n",
       "\t L2R24P1C\\_M10 &   7 &  13 & 0 & 0 & 0\\\\\n",
       "\t L3R24P1C\\_M1  &   6 &  37 & 0 & 0 & 0\\\\\n",
       "\t L3R24P1C\\_M2  &  61 &  35 & 0 & 0 & 0\\\\\n",
       "\t L3R24P1C\\_M3  &  23 &  16 & 0 & 0 & 0\\\\\n",
       "\t L3R24P1C\\_M4  & 230 &  54 & 0 & 0 & 0\\\\\n",
       "\t L3R24P1C\\_M5  &   1 &   2 & 0 & 0 & 0\\\\\n",
       "\t L3R24P1C\\_M6  &  25 &   4 & 0 & 0 & 0\\\\\n",
       "\t L3R24P1C\\_M7  &  11 &  27 & 0 & 0 & 0\\\\\n",
       "\t L3R24P1C\\_M8  &   3 &  15 & 0 & 0 & 0\\\\\n",
       "\t L3R24P1C\\_M9  &   1 &   3 & 0 & 0 & 0\\\\\n",
       "\t L3R24P1C\\_M10 &  64 &   8 & 0 & 0 & 0\\\\\n",
       "\t ⋮ & ⋮ & ⋮ & ⋮ & ⋮ & ⋮\\\\\n",
       "\t DepSeq-L1\\_M6 &    0 &   1 & 0 & 0 & 0\\\\\n",
       "\t DepSeq-L1\\_M7 &   21 &  53 & 0 & 0 & 0\\\\\n",
       "\t DepSeq-L1\\_M8 &   17 &   0 & 0 & 0 & 0\\\\\n",
       "\t DepSeq-L2\\_M1 &   81 &  77 & 0 & 0 & 0\\\\\n",
       "\t DepSeq-L2\\_M2 &  141 &  98 & 1 & 0 & 0\\\\\n",
       "\t DepSeq-L2\\_M3 & 1036 & 103 & 1 & 0 & 0\\\\\n",
       "\t DepSeq-L2\\_M4 &  152 & 173 & 0 & 0 & 0\\\\\n",
       "\t DepSeq-L2\\_M6 &   14 &   0 & 0 & 0 & 0\\\\\n",
       "\t DepSeq-L2\\_M7 &  135 & 112 & 0 & 0 & 0\\\\\n",
       "\t DepSeq-L2\\_M8 &   67 &   2 & 0 & 0 & 0\\\\\n",
       "\t DepSeq-L3\\_M1 &    1 &  11 & 0 & 0 & 0\\\\\n",
       "\t DepSeq-L3\\_M2 &   20 &  23 & 0 & 0 & 0\\\\\n",
       "\t DepSeq-L3\\_M3 &    3 &   7 & 0 & 0 & 0\\\\\n",
       "\t DepSeq-L3\\_M4 &   20 &  51 & 0 & 0 & 0\\\\\n",
       "\t DepSeq-L3\\_M6 &    1 &   0 & 0 & 0 & 0\\\\\n",
       "\t DepSeq-L3\\_M7 &    9 &  14 & 0 & 0 & 0\\\\\n",
       "\t DepSeq-L3\\_M8 &    1 &   1 & 0 & 0 & 0\\\\\n",
       "\t DepSeq-L4\\_M1 &    0 &  38 & 0 & 0 & 0\\\\\n",
       "\t DepSeq-L4\\_M2 &   17 &  79 & 0 & 0 & 0\\\\\n",
       "\t DepSeq-L4\\_M3 &   29 &  98 & 1 & 0 & 0\\\\\n",
       "\t DepSeq-L4\\_M4 &   26 & 151 & 0 & 0 & 0\\\\\n",
       "\t DepSeq-L4\\_M6 &    1 &   0 & 0 & 0 & 0\\\\\n",
       "\t DepSeq-L4\\_M7 &   10 &  85 & 0 & 0 & 0\\\\\n",
       "\t DepSeq-L4\\_M8 &    5 &   1 & 0 & 0 & 0\\\\\n",
       "\t DepSeq-L5\\_M1 &    5 & 109 & 1 & 0 & 0\\\\\n",
       "\t DepSeq-L5\\_M2 &   34 & 157 & 0 & 0 & 0\\\\\n",
       "\t DepSeq-L5\\_M3 &   11 & 142 & 1 & 0 & 0\\\\\n",
       "\t DepSeq-L5\\_M4 &   11 & 286 & 0 & 0 & 0\\\\\n",
       "\t DepSeq-L5\\_M6 &   32 &   0 & 0 & 0 & 0\\\\\n",
       "\t DepSeq-L5\\_M7 &    1 &  38 & 0 & 0 & 0\\\\\n",
       "\\end{tabular}\n"
      ],
      "text/markdown": [
       "\n",
       "A data.table: 1659 × 6\n",
       "\n",
       "| LibraryMitoID &lt;chr&gt; | = &lt;int&gt; | A &lt;int&gt; | C &lt;int&gt; | G &lt;int&gt; | T &lt;int&gt; |\n",
       "|---|---|---|---|---|---|\n",
       "| L1R24P1C_M1  |   1 |  28 | 0 | 0 | 0 |\n",
       "| L1R24P1C_M2  |  37 |  44 | 0 | 0 | 0 |\n",
       "| L1R24P1C_M3  |  53 |  46 | 0 | 0 | 0 |\n",
       "| L1R24P1C_M4  |  12 | 167 | 0 | 0 | 0 |\n",
       "| L1R24P1C_M5  |   0 |   1 | 0 | 0 | 0 |\n",
       "| L1R24P1C_M6  |  56 |   2 | 0 | 0 | 0 |\n",
       "| L1R24P1C_M7  |   1 |  38 | 0 | 0 | 0 |\n",
       "| L1R24P1C_M8  |   1 |  27 | 0 | 0 | 0 |\n",
       "| L1R24P1C_M9  |  10 |   3 | 0 | 0 | 0 |\n",
       "| L1R24P1C_M10 |  22 |   5 | 0 | 0 | 0 |\n",
       "| L2R24P1C_M1  |  12 |  29 | 0 | 0 | 0 |\n",
       "| L2R24P1C_M2  |  40 |  23 | 0 | 0 | 0 |\n",
       "| L2R24P1C_M3  |  28 |  14 | 0 | 0 | 0 |\n",
       "| L2R24P1C_M4  |  18 | 114 | 0 | 0 | 0 |\n",
       "| L2R24P1C_M5  |   2 |   1 | 0 | 0 | 0 |\n",
       "| L2R24P1C_M6  |  18 |   2 | 0 | 0 | 0 |\n",
       "| L2R24P1C_M7  |   2 |  47 | 0 | 0 | 0 |\n",
       "| L2R24P1C_M8  |   5 |  37 | 0 | 0 | 0 |\n",
       "| L2R24P1C_M9  |   4 |   1 | 0 | 0 | 0 |\n",
       "| L2R24P1C_M10 |   7 |  13 | 0 | 0 | 0 |\n",
       "| L3R24P1C_M1  |   6 |  37 | 0 | 0 | 0 |\n",
       "| L3R24P1C_M2  |  61 |  35 | 0 | 0 | 0 |\n",
       "| L3R24P1C_M3  |  23 |  16 | 0 | 0 | 0 |\n",
       "| L3R24P1C_M4  | 230 |  54 | 0 | 0 | 0 |\n",
       "| L3R24P1C_M5  |   1 |   2 | 0 | 0 | 0 |\n",
       "| L3R24P1C_M6  |  25 |   4 | 0 | 0 | 0 |\n",
       "| L3R24P1C_M7  |  11 |  27 | 0 | 0 | 0 |\n",
       "| L3R24P1C_M8  |   3 |  15 | 0 | 0 | 0 |\n",
       "| L3R24P1C_M9  |   1 |   3 | 0 | 0 | 0 |\n",
       "| L3R24P1C_M10 |  64 |   8 | 0 | 0 | 0 |\n",
       "| ⋮ | ⋮ | ⋮ | ⋮ | ⋮ | ⋮ |\n",
       "| DepSeq-L1_M6 |    0 |   1 | 0 | 0 | 0 |\n",
       "| DepSeq-L1_M7 |   21 |  53 | 0 | 0 | 0 |\n",
       "| DepSeq-L1_M8 |   17 |   0 | 0 | 0 | 0 |\n",
       "| DepSeq-L2_M1 |   81 |  77 | 0 | 0 | 0 |\n",
       "| DepSeq-L2_M2 |  141 |  98 | 1 | 0 | 0 |\n",
       "| DepSeq-L2_M3 | 1036 | 103 | 1 | 0 | 0 |\n",
       "| DepSeq-L2_M4 |  152 | 173 | 0 | 0 | 0 |\n",
       "| DepSeq-L2_M6 |   14 |   0 | 0 | 0 | 0 |\n",
       "| DepSeq-L2_M7 |  135 | 112 | 0 | 0 | 0 |\n",
       "| DepSeq-L2_M8 |   67 |   2 | 0 | 0 | 0 |\n",
       "| DepSeq-L3_M1 |    1 |  11 | 0 | 0 | 0 |\n",
       "| DepSeq-L3_M2 |   20 |  23 | 0 | 0 | 0 |\n",
       "| DepSeq-L3_M3 |    3 |   7 | 0 | 0 | 0 |\n",
       "| DepSeq-L3_M4 |   20 |  51 | 0 | 0 | 0 |\n",
       "| DepSeq-L3_M6 |    1 |   0 | 0 | 0 | 0 |\n",
       "| DepSeq-L3_M7 |    9 |  14 | 0 | 0 | 0 |\n",
       "| DepSeq-L3_M8 |    1 |   1 | 0 | 0 | 0 |\n",
       "| DepSeq-L4_M1 |    0 |  38 | 0 | 0 | 0 |\n",
       "| DepSeq-L4_M2 |   17 |  79 | 0 | 0 | 0 |\n",
       "| DepSeq-L4_M3 |   29 |  98 | 1 | 0 | 0 |\n",
       "| DepSeq-L4_M4 |   26 | 151 | 0 | 0 | 0 |\n",
       "| DepSeq-L4_M6 |    1 |   0 | 0 | 0 | 0 |\n",
       "| DepSeq-L4_M7 |   10 |  85 | 0 | 0 | 0 |\n",
       "| DepSeq-L4_M8 |    5 |   1 | 0 | 0 | 0 |\n",
       "| DepSeq-L5_M1 |    5 | 109 | 1 | 0 | 0 |\n",
       "| DepSeq-L5_M2 |   34 | 157 | 0 | 0 | 0 |\n",
       "| DepSeq-L5_M3 |   11 | 142 | 1 | 0 | 0 |\n",
       "| DepSeq-L5_M4 |   11 | 286 | 0 | 0 | 0 |\n",
       "| DepSeq-L5_M6 |   32 |   0 | 0 | 0 | 0 |\n",
       "| DepSeq-L5_M7 |    1 |  38 | 0 | 0 | 0 |\n",
       "\n"
      ],
      "text/plain": [
       "     LibraryMitoID =    A   C G T\n",
       "1    L1R24P1C_M1     1   28 0 0 0\n",
       "2    L1R24P1C_M2    37   44 0 0 0\n",
       "3    L1R24P1C_M3    53   46 0 0 0\n",
       "4    L1R24P1C_M4    12  167 0 0 0\n",
       "5    L1R24P1C_M5     0    1 0 0 0\n",
       "6    L1R24P1C_M6    56    2 0 0 0\n",
       "7    L1R24P1C_M7     1   38 0 0 0\n",
       "8    L1R24P1C_M8     1   27 0 0 0\n",
       "9    L1R24P1C_M9    10    3 0 0 0\n",
       "10   L1R24P1C_M10   22    5 0 0 0\n",
       "11   L2R24P1C_M1    12   29 0 0 0\n",
       "12   L2R24P1C_M2    40   23 0 0 0\n",
       "13   L2R24P1C_M3    28   14 0 0 0\n",
       "14   L2R24P1C_M4    18  114 0 0 0\n",
       "15   L2R24P1C_M5     2    1 0 0 0\n",
       "16   L2R24P1C_M6    18    2 0 0 0\n",
       "17   L2R24P1C_M7     2   47 0 0 0\n",
       "18   L2R24P1C_M8     5   37 0 0 0\n",
       "19   L2R24P1C_M9     4    1 0 0 0\n",
       "20   L2R24P1C_M10    7   13 0 0 0\n",
       "21   L3R24P1C_M1     6   37 0 0 0\n",
       "22   L3R24P1C_M2    61   35 0 0 0\n",
       "23   L3R24P1C_M3    23   16 0 0 0\n",
       "24   L3R24P1C_M4   230   54 0 0 0\n",
       "25   L3R24P1C_M5     1    2 0 0 0\n",
       "26   L3R24P1C_M6    25    4 0 0 0\n",
       "27   L3R24P1C_M7    11   27 0 0 0\n",
       "28   L3R24P1C_M8     3   15 0 0 0\n",
       "29   L3R24P1C_M9     1    3 0 0 0\n",
       "30   L3R24P1C_M10   64    8 0 0 0\n",
       "⋮    ⋮             ⋮    ⋮   ⋮ ⋮ ⋮\n",
       "1630 DepSeq-L1_M6     0   1 0 0 0\n",
       "1631 DepSeq-L1_M7    21  53 0 0 0\n",
       "1632 DepSeq-L1_M8    17   0 0 0 0\n",
       "1633 DepSeq-L2_M1    81  77 0 0 0\n",
       "1634 DepSeq-L2_M2   141  98 1 0 0\n",
       "1635 DepSeq-L2_M3  1036 103 1 0 0\n",
       "1636 DepSeq-L2_M4   152 173 0 0 0\n",
       "1637 DepSeq-L2_M6    14   0 0 0 0\n",
       "1638 DepSeq-L2_M7   135 112 0 0 0\n",
       "1639 DepSeq-L2_M8    67   2 0 0 0\n",
       "1640 DepSeq-L3_M1     1  11 0 0 0\n",
       "1641 DepSeq-L3_M2    20  23 0 0 0\n",
       "1642 DepSeq-L3_M3     3   7 0 0 0\n",
       "1643 DepSeq-L3_M4    20  51 0 0 0\n",
       "1644 DepSeq-L3_M6     1   0 0 0 0\n",
       "1645 DepSeq-L3_M7     9  14 0 0 0\n",
       "1646 DepSeq-L3_M8     1   1 0 0 0\n",
       "1647 DepSeq-L4_M1     0  38 0 0 0\n",
       "1648 DepSeq-L4_M2    17  79 0 0 0\n",
       "1649 DepSeq-L4_M3    29  98 1 0 0\n",
       "1650 DepSeq-L4_M4    26 151 0 0 0\n",
       "1651 DepSeq-L4_M6     1   0 0 0 0\n",
       "1652 DepSeq-L4_M7    10  85 0 0 0\n",
       "1653 DepSeq-L4_M8     5   1 0 0 0\n",
       "1654 DepSeq-L5_M1     5 109 1 0 0\n",
       "1655 DepSeq-L5_M2    34 157 0 0 0\n",
       "1656 DepSeq-L5_M3    11 142 1 0 0\n",
       "1657 DepSeq-L5_M4    11 286 0 0 0\n",
       "1658 DepSeq-L5_M6    32   0 0 0 0\n",
       "1659 DepSeq-L5_M7     1  38 0 0 0"
      ]
     },
     "metadata": {},
     "output_type": "display_data"
    }
   ],
   "source": [
    "basedifffreq_cutdemux_q30_unstranded <- fread(\"Report/SNVs/basedifffreq_cutdemux_sub500k_q30_unstranded.csv.gz\")\n",
    "basedifffreq_cutdemux_q30_unstranded[, ref := toupper(ref)]\n",
    "basedifffreq_cutdemux_q30_unstranded[pos == 9027, list(LibraryMitoID, `=`, `A`, `C`, `G`, `T`)]"
   ]
  },
  {
   "cell_type": "markdown",
   "metadata": {},
   "source": [
    "Load 9027 matched and clipped counts"
   ]
  },
  {
   "cell_type": "code",
   "execution_count": 8,
   "metadata": {
    "vscode": {
     "languageId": "r"
    }
   },
   "outputs": [],
   "source": [
    "basedifffreq_end_q30_bysnv <- fread(file = \"Report/artifact/basedifffreq_end_q30_bysnv.csv.gz\")\n",
    "setkey(basedifffreq_end_q30_bysnv, LibraryMitoID)"
   ]
  },
  {
   "cell_type": "code",
   "execution_count": 9,
   "metadata": {
    "vscode": {
     "languageId": "r"
    }
   },
   "outputs": [],
   "source": [
    "basedifffreq_9027_q30 <- basedifffreq_end_q30_bysnv[pos == 9027 & IsClip == \"Y\"][J(basedifffreq_cutdemux_q30_unstranded[pos == 9027, LibraryMitoID]), list(LibraryMitoID, `A`, `C`, `G`, `T`)]\n",
    "basedifffreq_9027_q30[is.na(`A`), `A` := 0]\n",
    "basedifffreq_9027_q30[is.na(`C`), `C` := 0]\n",
    "basedifffreq_9027_q30[is.na(`G`), `G` := 0]\n",
    "basedifffreq_9027_q30[is.na(`T`), `T` := 0]"
   ]
  },
  {
   "cell_type": "code",
   "execution_count": 10,
   "metadata": {
    "vscode": {
     "languageId": "r"
    }
   },
   "outputs": [
    {
     "data": {
      "text/html": [
       "<table class=\"dataframe\">\n",
       "<caption>A data.table: 1659 × 5</caption>\n",
       "<thead>\n",
       "\t<tr><th scope=col>LibraryMitoID</th><th scope=col>A</th><th scope=col>C</th><th scope=col>G</th><th scope=col>T</th></tr>\n",
       "\t<tr><th scope=col>&lt;chr&gt;</th><th scope=col>&lt;int&gt;</th><th scope=col>&lt;int&gt;</th><th scope=col>&lt;int&gt;</th><th scope=col>&lt;int&gt;</th></tr>\n",
       "</thead>\n",
       "<tbody>\n",
       "\t<tr><td>L1R24P1C_M1 </td><td> 12255</td><td> 0</td><td>0</td><td> 0</td></tr>\n",
       "\t<tr><td>L1R24P1C_M2 </td><td>255117</td><td> 7</td><td>0</td><td>28</td></tr>\n",
       "\t<tr><td>L1R24P1C_M3 </td><td>290043</td><td> 4</td><td>0</td><td>31</td></tr>\n",
       "\t<tr><td>L1R24P1C_M4 </td><td>127776</td><td> 2</td><td>0</td><td>12</td></tr>\n",
       "\t<tr><td>L1R24P1C_M5 </td><td>   110</td><td> 0</td><td>0</td><td> 0</td></tr>\n",
       "\t<tr><td>L1R24P1C_M6 </td><td>   132</td><td> 0</td><td>0</td><td> 0</td></tr>\n",
       "\t<tr><td>L1R24P1C_M7 </td><td>  5912</td><td> 0</td><td>0</td><td> 0</td></tr>\n",
       "\t<tr><td>L1R24P1C_M8 </td><td>   101</td><td> 0</td><td>0</td><td> 0</td></tr>\n",
       "\t<tr><td>L1R24P1C_M9 </td><td>  6099</td><td> 1</td><td>0</td><td> 2</td></tr>\n",
       "\t<tr><td>L1R24P1C_M10</td><td> 10009</td><td> 0</td><td>0</td><td> 4</td></tr>\n",
       "\t<tr><td>L2R24P1C_M1 </td><td>  7442</td><td> 1</td><td>0</td><td> 2</td></tr>\n",
       "\t<tr><td>L2R24P1C_M2 </td><td>469613</td><td>13</td><td>0</td><td>61</td></tr>\n",
       "\t<tr><td>L2R24P1C_M3 </td><td>137988</td><td> 6</td><td>0</td><td>17</td></tr>\n",
       "\t<tr><td>L2R24P1C_M4 </td><td>232961</td><td> 7</td><td>0</td><td>18</td></tr>\n",
       "\t<tr><td>L2R24P1C_M5 </td><td>    78</td><td> 0</td><td>0</td><td> 0</td></tr>\n",
       "\t<tr><td>L2R24P1C_M6 </td><td>   103</td><td> 0</td><td>0</td><td> 1</td></tr>\n",
       "\t<tr><td>L2R24P1C_M7 </td><td>  8812</td><td> 1</td><td>0</td><td> 0</td></tr>\n",
       "\t<tr><td>L2R24P1C_M8 </td><td>   134</td><td> 0</td><td>0</td><td> 0</td></tr>\n",
       "\t<tr><td>L2R24P1C_M9 </td><td>   162</td><td> 0</td><td>0</td><td> 0</td></tr>\n",
       "\t<tr><td>L2R24P1C_M10</td><td> 10233</td><td> 0</td><td>0</td><td> 3</td></tr>\n",
       "\t<tr><td>L3R24P1C_M1 </td><td>  3632</td><td> 0</td><td>0</td><td> 0</td></tr>\n",
       "\t<tr><td>L3R24P1C_M2 </td><td>127046</td><td>13</td><td>0</td><td>12</td></tr>\n",
       "\t<tr><td>L3R24P1C_M3 </td><td> 68627</td><td> 4</td><td>0</td><td>13</td></tr>\n",
       "\t<tr><td>L3R24P1C_M4 </td><td>282622</td><td>23</td><td>0</td><td>53</td></tr>\n",
       "\t<tr><td>L3R24P1C_M5 </td><td>    45</td><td> 0</td><td>0</td><td> 0</td></tr>\n",
       "\t<tr><td>L3R24P1C_M6 </td><td>    45</td><td> 0</td><td>0</td><td> 0</td></tr>\n",
       "\t<tr><td>L3R24P1C_M7 </td><td>  3175</td><td> 0</td><td>0</td><td> 1</td></tr>\n",
       "\t<tr><td>L3R24P1C_M8 </td><td>    60</td><td> 0</td><td>0</td><td> 0</td></tr>\n",
       "\t<tr><td>L3R24P1C_M9 </td><td>   129</td><td> 0</td><td>0</td><td> 0</td></tr>\n",
       "\t<tr><td>L3R24P1C_M10</td><td> 16206</td><td> 1</td><td>0</td><td> 6</td></tr>\n",
       "\t<tr><td>⋮</td><td>⋮</td><td>⋮</td><td>⋮</td><td>⋮</td></tr>\n",
       "\t<tr><td>DepSeq-L1_M6</td><td>    10</td><td>  0</td><td>0</td><td>  0</td></tr>\n",
       "\t<tr><td>DepSeq-L1_M7</td><td>  3780</td><td>  1</td><td>0</td><td>  3</td></tr>\n",
       "\t<tr><td>DepSeq-L1_M8</td><td>    60</td><td>  0</td><td>0</td><td>  0</td></tr>\n",
       "\t<tr><td>DepSeq-L2_M1</td><td>    44</td><td>  0</td><td>0</td><td>  0</td></tr>\n",
       "\t<tr><td>DepSeq-L2_M2</td><td>   154</td><td>  0</td><td>0</td><td>  2</td></tr>\n",
       "\t<tr><td>DepSeq-L2_M3</td><td>188186</td><td>132</td><td>0</td><td>872</td></tr>\n",
       "\t<tr><td>DepSeq-L2_M4</td><td>   174</td><td>  0</td><td>0</td><td>  0</td></tr>\n",
       "\t<tr><td>DepSeq-L2_M6</td><td>     4</td><td>  0</td><td>0</td><td>  0</td></tr>\n",
       "\t<tr><td>DepSeq-L2_M7</td><td>  1165</td><td>  1</td><td>0</td><td>  1</td></tr>\n",
       "\t<tr><td>DepSeq-L2_M8</td><td>    11</td><td>  0</td><td>0</td><td>  0</td></tr>\n",
       "\t<tr><td>DepSeq-L3_M1</td><td>    17</td><td>  0</td><td>0</td><td>  0</td></tr>\n",
       "\t<tr><td>DepSeq-L3_M2</td><td>  4935</td><td>  3</td><td>0</td><td>  4</td></tr>\n",
       "\t<tr><td>DepSeq-L3_M3</td><td>   133</td><td>  0</td><td>0</td><td>  1</td></tr>\n",
       "\t<tr><td>DepSeq-L3_M4</td><td>  4157</td><td>  2</td><td>0</td><td>  2</td></tr>\n",
       "\t<tr><td>DepSeq-L3_M6</td><td>     1</td><td>  0</td><td>0</td><td>  0</td></tr>\n",
       "\t<tr><td>DepSeq-L3_M7</td><td>   496</td><td>  0</td><td>0</td><td>  1</td></tr>\n",
       "\t<tr><td>DepSeq-L3_M8</td><td>    12</td><td>  0</td><td>0</td><td>  0</td></tr>\n",
       "\t<tr><td>DepSeq-L4_M1</td><td>    13</td><td>  0</td><td>0</td><td>  0</td></tr>\n",
       "\t<tr><td>DepSeq-L4_M2</td><td>  2825</td><td>  0</td><td>0</td><td>  0</td></tr>\n",
       "\t<tr><td>DepSeq-L4_M3</td><td>100590</td><td> 12</td><td>0</td><td> 22</td></tr>\n",
       "\t<tr><td>DepSeq-L4_M4</td><td> 10430</td><td>  1</td><td>0</td><td>  3</td></tr>\n",
       "\t<tr><td>DepSeq-L4_M6</td><td>     0</td><td>  0</td><td>0</td><td>  0</td></tr>\n",
       "\t<tr><td>DepSeq-L4_M7</td><td>   532</td><td>  0</td><td>0</td><td>  0</td></tr>\n",
       "\t<tr><td>DepSeq-L4_M8</td><td>     4</td><td>  0</td><td>0</td><td>  0</td></tr>\n",
       "\t<tr><td>DepSeq-L5_M1</td><td>     9</td><td>  0</td><td>0</td><td>  0</td></tr>\n",
       "\t<tr><td>DepSeq-L5_M2</td><td>  2783</td><td>  1</td><td>0</td><td>  7</td></tr>\n",
       "\t<tr><td>DepSeq-L5_M3</td><td>199386</td><td> 23</td><td>0</td><td> 37</td></tr>\n",
       "\t<tr><td>DepSeq-L5_M4</td><td> 59197</td><td>  9</td><td>0</td><td> 11</td></tr>\n",
       "\t<tr><td>DepSeq-L5_M6</td><td>     5</td><td>  0</td><td>0</td><td>  0</td></tr>\n",
       "\t<tr><td>DepSeq-L5_M7</td><td>    31</td><td>  0</td><td>0</td><td>  0</td></tr>\n",
       "</tbody>\n",
       "</table>\n"
      ],
      "text/latex": [
       "A data.table: 1659 × 5\n",
       "\\begin{tabular}{lllll}\n",
       " LibraryMitoID & A & C & G & T\\\\\n",
       " <chr> & <int> & <int> & <int> & <int>\\\\\n",
       "\\hline\n",
       "\t L1R24P1C\\_M1  &  12255 &  0 & 0 &  0\\\\\n",
       "\t L1R24P1C\\_M2  & 255117 &  7 & 0 & 28\\\\\n",
       "\t L1R24P1C\\_M3  & 290043 &  4 & 0 & 31\\\\\n",
       "\t L1R24P1C\\_M4  & 127776 &  2 & 0 & 12\\\\\n",
       "\t L1R24P1C\\_M5  &    110 &  0 & 0 &  0\\\\\n",
       "\t L1R24P1C\\_M6  &    132 &  0 & 0 &  0\\\\\n",
       "\t L1R24P1C\\_M7  &   5912 &  0 & 0 &  0\\\\\n",
       "\t L1R24P1C\\_M8  &    101 &  0 & 0 &  0\\\\\n",
       "\t L1R24P1C\\_M9  &   6099 &  1 & 0 &  2\\\\\n",
       "\t L1R24P1C\\_M10 &  10009 &  0 & 0 &  4\\\\\n",
       "\t L2R24P1C\\_M1  &   7442 &  1 & 0 &  2\\\\\n",
       "\t L2R24P1C\\_M2  & 469613 & 13 & 0 & 61\\\\\n",
       "\t L2R24P1C\\_M3  & 137988 &  6 & 0 & 17\\\\\n",
       "\t L2R24P1C\\_M4  & 232961 &  7 & 0 & 18\\\\\n",
       "\t L2R24P1C\\_M5  &     78 &  0 & 0 &  0\\\\\n",
       "\t L2R24P1C\\_M6  &    103 &  0 & 0 &  1\\\\\n",
       "\t L2R24P1C\\_M7  &   8812 &  1 & 0 &  0\\\\\n",
       "\t L2R24P1C\\_M8  &    134 &  0 & 0 &  0\\\\\n",
       "\t L2R24P1C\\_M9  &    162 &  0 & 0 &  0\\\\\n",
       "\t L2R24P1C\\_M10 &  10233 &  0 & 0 &  3\\\\\n",
       "\t L3R24P1C\\_M1  &   3632 &  0 & 0 &  0\\\\\n",
       "\t L3R24P1C\\_M2  & 127046 & 13 & 0 & 12\\\\\n",
       "\t L3R24P1C\\_M3  &  68627 &  4 & 0 & 13\\\\\n",
       "\t L3R24P1C\\_M4  & 282622 & 23 & 0 & 53\\\\\n",
       "\t L3R24P1C\\_M5  &     45 &  0 & 0 &  0\\\\\n",
       "\t L3R24P1C\\_M6  &     45 &  0 & 0 &  0\\\\\n",
       "\t L3R24P1C\\_M7  &   3175 &  0 & 0 &  1\\\\\n",
       "\t L3R24P1C\\_M8  &     60 &  0 & 0 &  0\\\\\n",
       "\t L3R24P1C\\_M9  &    129 &  0 & 0 &  0\\\\\n",
       "\t L3R24P1C\\_M10 &  16206 &  1 & 0 &  6\\\\\n",
       "\t ⋮ & ⋮ & ⋮ & ⋮ & ⋮\\\\\n",
       "\t DepSeq-L1\\_M6 &     10 &   0 & 0 &   0\\\\\n",
       "\t DepSeq-L1\\_M7 &   3780 &   1 & 0 &   3\\\\\n",
       "\t DepSeq-L1\\_M8 &     60 &   0 & 0 &   0\\\\\n",
       "\t DepSeq-L2\\_M1 &     44 &   0 & 0 &   0\\\\\n",
       "\t DepSeq-L2\\_M2 &    154 &   0 & 0 &   2\\\\\n",
       "\t DepSeq-L2\\_M3 & 188186 & 132 & 0 & 872\\\\\n",
       "\t DepSeq-L2\\_M4 &    174 &   0 & 0 &   0\\\\\n",
       "\t DepSeq-L2\\_M6 &      4 &   0 & 0 &   0\\\\\n",
       "\t DepSeq-L2\\_M7 &   1165 &   1 & 0 &   1\\\\\n",
       "\t DepSeq-L2\\_M8 &     11 &   0 & 0 &   0\\\\\n",
       "\t DepSeq-L3\\_M1 &     17 &   0 & 0 &   0\\\\\n",
       "\t DepSeq-L3\\_M2 &   4935 &   3 & 0 &   4\\\\\n",
       "\t DepSeq-L3\\_M3 &    133 &   0 & 0 &   1\\\\\n",
       "\t DepSeq-L3\\_M4 &   4157 &   2 & 0 &   2\\\\\n",
       "\t DepSeq-L3\\_M6 &      1 &   0 & 0 &   0\\\\\n",
       "\t DepSeq-L3\\_M7 &    496 &   0 & 0 &   1\\\\\n",
       "\t DepSeq-L3\\_M8 &     12 &   0 & 0 &   0\\\\\n",
       "\t DepSeq-L4\\_M1 &     13 &   0 & 0 &   0\\\\\n",
       "\t DepSeq-L4\\_M2 &   2825 &   0 & 0 &   0\\\\\n",
       "\t DepSeq-L4\\_M3 & 100590 &  12 & 0 &  22\\\\\n",
       "\t DepSeq-L4\\_M4 &  10430 &   1 & 0 &   3\\\\\n",
       "\t DepSeq-L4\\_M6 &      0 &   0 & 0 &   0\\\\\n",
       "\t DepSeq-L4\\_M7 &    532 &   0 & 0 &   0\\\\\n",
       "\t DepSeq-L4\\_M8 &      4 &   0 & 0 &   0\\\\\n",
       "\t DepSeq-L5\\_M1 &      9 &   0 & 0 &   0\\\\\n",
       "\t DepSeq-L5\\_M2 &   2783 &   1 & 0 &   7\\\\\n",
       "\t DepSeq-L5\\_M3 & 199386 &  23 & 0 &  37\\\\\n",
       "\t DepSeq-L5\\_M4 &  59197 &   9 & 0 &  11\\\\\n",
       "\t DepSeq-L5\\_M6 &      5 &   0 & 0 &   0\\\\\n",
       "\t DepSeq-L5\\_M7 &     31 &   0 & 0 &   0\\\\\n",
       "\\end{tabular}\n"
      ],
      "text/markdown": [
       "\n",
       "A data.table: 1659 × 5\n",
       "\n",
       "| LibraryMitoID &lt;chr&gt; | A &lt;int&gt; | C &lt;int&gt; | G &lt;int&gt; | T &lt;int&gt; |\n",
       "|---|---|---|---|---|\n",
       "| L1R24P1C_M1  |  12255 |  0 | 0 |  0 |\n",
       "| L1R24P1C_M2  | 255117 |  7 | 0 | 28 |\n",
       "| L1R24P1C_M3  | 290043 |  4 | 0 | 31 |\n",
       "| L1R24P1C_M4  | 127776 |  2 | 0 | 12 |\n",
       "| L1R24P1C_M5  |    110 |  0 | 0 |  0 |\n",
       "| L1R24P1C_M6  |    132 |  0 | 0 |  0 |\n",
       "| L1R24P1C_M7  |   5912 |  0 | 0 |  0 |\n",
       "| L1R24P1C_M8  |    101 |  0 | 0 |  0 |\n",
       "| L1R24P1C_M9  |   6099 |  1 | 0 |  2 |\n",
       "| L1R24P1C_M10 |  10009 |  0 | 0 |  4 |\n",
       "| L2R24P1C_M1  |   7442 |  1 | 0 |  2 |\n",
       "| L2R24P1C_M2  | 469613 | 13 | 0 | 61 |\n",
       "| L2R24P1C_M3  | 137988 |  6 | 0 | 17 |\n",
       "| L2R24P1C_M4  | 232961 |  7 | 0 | 18 |\n",
       "| L2R24P1C_M5  |     78 |  0 | 0 |  0 |\n",
       "| L2R24P1C_M6  |    103 |  0 | 0 |  1 |\n",
       "| L2R24P1C_M7  |   8812 |  1 | 0 |  0 |\n",
       "| L2R24P1C_M8  |    134 |  0 | 0 |  0 |\n",
       "| L2R24P1C_M9  |    162 |  0 | 0 |  0 |\n",
       "| L2R24P1C_M10 |  10233 |  0 | 0 |  3 |\n",
       "| L3R24P1C_M1  |   3632 |  0 | 0 |  0 |\n",
       "| L3R24P1C_M2  | 127046 | 13 | 0 | 12 |\n",
       "| L3R24P1C_M3  |  68627 |  4 | 0 | 13 |\n",
       "| L3R24P1C_M4  | 282622 | 23 | 0 | 53 |\n",
       "| L3R24P1C_M5  |     45 |  0 | 0 |  0 |\n",
       "| L3R24P1C_M6  |     45 |  0 | 0 |  0 |\n",
       "| L3R24P1C_M7  |   3175 |  0 | 0 |  1 |\n",
       "| L3R24P1C_M8  |     60 |  0 | 0 |  0 |\n",
       "| L3R24P1C_M9  |    129 |  0 | 0 |  0 |\n",
       "| L3R24P1C_M10 |  16206 |  1 | 0 |  6 |\n",
       "| ⋮ | ⋮ | ⋮ | ⋮ | ⋮ |\n",
       "| DepSeq-L1_M6 |     10 |   0 | 0 |   0 |\n",
       "| DepSeq-L1_M7 |   3780 |   1 | 0 |   3 |\n",
       "| DepSeq-L1_M8 |     60 |   0 | 0 |   0 |\n",
       "| DepSeq-L2_M1 |     44 |   0 | 0 |   0 |\n",
       "| DepSeq-L2_M2 |    154 |   0 | 0 |   2 |\n",
       "| DepSeq-L2_M3 | 188186 | 132 | 0 | 872 |\n",
       "| DepSeq-L2_M4 |    174 |   0 | 0 |   0 |\n",
       "| DepSeq-L2_M6 |      4 |   0 | 0 |   0 |\n",
       "| DepSeq-L2_M7 |   1165 |   1 | 0 |   1 |\n",
       "| DepSeq-L2_M8 |     11 |   0 | 0 |   0 |\n",
       "| DepSeq-L3_M1 |     17 |   0 | 0 |   0 |\n",
       "| DepSeq-L3_M2 |   4935 |   3 | 0 |   4 |\n",
       "| DepSeq-L3_M3 |    133 |   0 | 0 |   1 |\n",
       "| DepSeq-L3_M4 |   4157 |   2 | 0 |   2 |\n",
       "| DepSeq-L3_M6 |      1 |   0 | 0 |   0 |\n",
       "| DepSeq-L3_M7 |    496 |   0 | 0 |   1 |\n",
       "| DepSeq-L3_M8 |     12 |   0 | 0 |   0 |\n",
       "| DepSeq-L4_M1 |     13 |   0 | 0 |   0 |\n",
       "| DepSeq-L4_M2 |   2825 |   0 | 0 |   0 |\n",
       "| DepSeq-L4_M3 | 100590 |  12 | 0 |  22 |\n",
       "| DepSeq-L4_M4 |  10430 |   1 | 0 |   3 |\n",
       "| DepSeq-L4_M6 |      0 |   0 | 0 |   0 |\n",
       "| DepSeq-L4_M7 |    532 |   0 | 0 |   0 |\n",
       "| DepSeq-L4_M8 |      4 |   0 | 0 |   0 |\n",
       "| DepSeq-L5_M1 |      9 |   0 | 0 |   0 |\n",
       "| DepSeq-L5_M2 |   2783 |   1 | 0 |   7 |\n",
       "| DepSeq-L5_M3 | 199386 |  23 | 0 |  37 |\n",
       "| DepSeq-L5_M4 |  59197 |   9 | 0 |  11 |\n",
       "| DepSeq-L5_M6 |      5 |   0 | 0 |   0 |\n",
       "| DepSeq-L5_M7 |     31 |   0 | 0 |   0 |\n",
       "\n"
      ],
      "text/plain": [
       "     LibraryMitoID A      C   G T  \n",
       "1    L1R24P1C_M1    12255  0  0  0 \n",
       "2    L1R24P1C_M2   255117  7  0 28 \n",
       "3    L1R24P1C_M3   290043  4  0 31 \n",
       "4    L1R24P1C_M4   127776  2  0 12 \n",
       "5    L1R24P1C_M5      110  0  0  0 \n",
       "6    L1R24P1C_M6      132  0  0  0 \n",
       "7    L1R24P1C_M7     5912  0  0  0 \n",
       "8    L1R24P1C_M8      101  0  0  0 \n",
       "9    L1R24P1C_M9     6099  1  0  2 \n",
       "10   L1R24P1C_M10   10009  0  0  4 \n",
       "11   L2R24P1C_M1     7442  1  0  2 \n",
       "12   L2R24P1C_M2   469613 13  0 61 \n",
       "13   L2R24P1C_M3   137988  6  0 17 \n",
       "14   L2R24P1C_M4   232961  7  0 18 \n",
       "15   L2R24P1C_M5       78  0  0  0 \n",
       "16   L2R24P1C_M6      103  0  0  1 \n",
       "17   L2R24P1C_M7     8812  1  0  0 \n",
       "18   L2R24P1C_M8      134  0  0  0 \n",
       "19   L2R24P1C_M9      162  0  0  0 \n",
       "20   L2R24P1C_M10   10233  0  0  3 \n",
       "21   L3R24P1C_M1     3632  0  0  0 \n",
       "22   L3R24P1C_M2   127046 13  0 12 \n",
       "23   L3R24P1C_M3    68627  4  0 13 \n",
       "24   L3R24P1C_M4   282622 23  0 53 \n",
       "25   L3R24P1C_M5       45  0  0  0 \n",
       "26   L3R24P1C_M6       45  0  0  0 \n",
       "27   L3R24P1C_M7     3175  0  0  1 \n",
       "28   L3R24P1C_M8       60  0  0  0 \n",
       "29   L3R24P1C_M9      129  0  0  0 \n",
       "30   L3R24P1C_M10   16206  1  0  6 \n",
       "⋮    ⋮             ⋮      ⋮   ⋮ ⋮  \n",
       "1630 DepSeq-L1_M6      10   0 0   0\n",
       "1631 DepSeq-L1_M7    3780   1 0   3\n",
       "1632 DepSeq-L1_M8      60   0 0   0\n",
       "1633 DepSeq-L2_M1      44   0 0   0\n",
       "1634 DepSeq-L2_M2     154   0 0   2\n",
       "1635 DepSeq-L2_M3  188186 132 0 872\n",
       "1636 DepSeq-L2_M4     174   0 0   0\n",
       "1637 DepSeq-L2_M6       4   0 0   0\n",
       "1638 DepSeq-L2_M7    1165   1 0   1\n",
       "1639 DepSeq-L2_M8      11   0 0   0\n",
       "1640 DepSeq-L3_M1      17   0 0   0\n",
       "1641 DepSeq-L3_M2    4935   3 0   4\n",
       "1642 DepSeq-L3_M3     133   0 0   1\n",
       "1643 DepSeq-L3_M4    4157   2 0   2\n",
       "1644 DepSeq-L3_M6       1   0 0   0\n",
       "1645 DepSeq-L3_M7     496   0 0   1\n",
       "1646 DepSeq-L3_M8      12   0 0   0\n",
       "1647 DepSeq-L4_M1      13   0 0   0\n",
       "1648 DepSeq-L4_M2    2825   0 0   0\n",
       "1649 DepSeq-L4_M3  100590  12 0  22\n",
       "1650 DepSeq-L4_M4   10430   1 0   3\n",
       "1651 DepSeq-L4_M6       0   0 0   0\n",
       "1652 DepSeq-L4_M7     532   0 0   0\n",
       "1653 DepSeq-L4_M8       4   0 0   0\n",
       "1654 DepSeq-L5_M1       9   0 0   0\n",
       "1655 DepSeq-L5_M2    2783   1 0   7\n",
       "1656 DepSeq-L5_M3  199386  23 0  37\n",
       "1657 DepSeq-L5_M4   59197   9 0  11\n",
       "1658 DepSeq-L5_M6       5   0 0   0\n",
       "1659 DepSeq-L5_M7      31   0 0   0"
      ]
     },
     "metadata": {},
     "output_type": "display_data"
    }
   ],
   "source": [
    "basedifffreq_9027_q30"
   ]
  },
  {
   "cell_type": "markdown",
   "metadata": {},
   "source": [
    "Compensate the softclipped bases at 9027"
   ]
  },
  {
   "cell_type": "code",
   "execution_count": 11,
   "metadata": {
    "vscode": {
     "languageId": "r"
    }
   },
   "outputs": [
    {
     "data": {
      "text/html": [
       "<table class=\"dataframe\">\n",
       "<caption>A data.table: 1659 × 6</caption>\n",
       "<thead>\n",
       "\t<tr><th scope=col>LibraryMitoID</th><th scope=col>=</th><th scope=col>A</th><th scope=col>C</th><th scope=col>G</th><th scope=col>T</th></tr>\n",
       "\t<tr><th scope=col>&lt;chr&gt;</th><th scope=col>&lt;int&gt;</th><th scope=col>&lt;int&gt;</th><th scope=col>&lt;int&gt;</th><th scope=col>&lt;int&gt;</th><th scope=col>&lt;int&gt;</th></tr>\n",
       "</thead>\n",
       "<tbody>\n",
       "\t<tr><td>L1R24P1C_M1 </td><td>  1</td><td> 12283</td><td> 0</td><td>0</td><td> 0</td></tr>\n",
       "\t<tr><td>L1R24P1C_M2 </td><td> 37</td><td>255161</td><td> 7</td><td>0</td><td>28</td></tr>\n",
       "\t<tr><td>L1R24P1C_M3 </td><td> 53</td><td>290089</td><td> 4</td><td>0</td><td>31</td></tr>\n",
       "\t<tr><td>L1R24P1C_M4 </td><td> 12</td><td>127943</td><td> 2</td><td>0</td><td>12</td></tr>\n",
       "\t<tr><td>L1R24P1C_M5 </td><td>  0</td><td>   111</td><td> 0</td><td>0</td><td> 0</td></tr>\n",
       "\t<tr><td>L1R24P1C_M6 </td><td> 56</td><td>   134</td><td> 0</td><td>0</td><td> 0</td></tr>\n",
       "\t<tr><td>L1R24P1C_M7 </td><td>  1</td><td>  5950</td><td> 0</td><td>0</td><td> 0</td></tr>\n",
       "\t<tr><td>L1R24P1C_M8 </td><td>  1</td><td>   128</td><td> 0</td><td>0</td><td> 0</td></tr>\n",
       "\t<tr><td>L1R24P1C_M9 </td><td> 10</td><td>  6102</td><td> 1</td><td>0</td><td> 2</td></tr>\n",
       "\t<tr><td>L1R24P1C_M10</td><td> 22</td><td> 10014</td><td> 0</td><td>0</td><td> 4</td></tr>\n",
       "\t<tr><td>L2R24P1C_M1 </td><td> 12</td><td>  7471</td><td> 1</td><td>0</td><td> 2</td></tr>\n",
       "\t<tr><td>L2R24P1C_M2 </td><td> 40</td><td>469636</td><td>13</td><td>0</td><td>61</td></tr>\n",
       "\t<tr><td>L2R24P1C_M3 </td><td> 28</td><td>138002</td><td> 6</td><td>0</td><td>17</td></tr>\n",
       "\t<tr><td>L2R24P1C_M4 </td><td> 18</td><td>233075</td><td> 7</td><td>0</td><td>18</td></tr>\n",
       "\t<tr><td>L2R24P1C_M5 </td><td>  2</td><td>    79</td><td> 0</td><td>0</td><td> 0</td></tr>\n",
       "\t<tr><td>L2R24P1C_M6 </td><td> 18</td><td>   105</td><td> 0</td><td>0</td><td> 1</td></tr>\n",
       "\t<tr><td>L2R24P1C_M7 </td><td>  2</td><td>  8859</td><td> 1</td><td>0</td><td> 0</td></tr>\n",
       "\t<tr><td>L2R24P1C_M8 </td><td>  5</td><td>   171</td><td> 0</td><td>0</td><td> 0</td></tr>\n",
       "\t<tr><td>L2R24P1C_M9 </td><td>  4</td><td>   163</td><td> 0</td><td>0</td><td> 0</td></tr>\n",
       "\t<tr><td>L2R24P1C_M10</td><td>  7</td><td> 10246</td><td> 0</td><td>0</td><td> 3</td></tr>\n",
       "\t<tr><td>L3R24P1C_M1 </td><td>  6</td><td>  3669</td><td> 0</td><td>0</td><td> 0</td></tr>\n",
       "\t<tr><td>L3R24P1C_M2 </td><td> 61</td><td>127081</td><td>13</td><td>0</td><td>12</td></tr>\n",
       "\t<tr><td>L3R24P1C_M3 </td><td> 23</td><td> 68643</td><td> 4</td><td>0</td><td>13</td></tr>\n",
       "\t<tr><td>L3R24P1C_M4 </td><td>230</td><td>282676</td><td>23</td><td>0</td><td>53</td></tr>\n",
       "\t<tr><td>L3R24P1C_M5 </td><td>  1</td><td>    47</td><td> 0</td><td>0</td><td> 0</td></tr>\n",
       "\t<tr><td>L3R24P1C_M6 </td><td> 25</td><td>    49</td><td> 0</td><td>0</td><td> 0</td></tr>\n",
       "\t<tr><td>L3R24P1C_M7 </td><td> 11</td><td>  3202</td><td> 0</td><td>0</td><td> 1</td></tr>\n",
       "\t<tr><td>L3R24P1C_M8 </td><td>  3</td><td>    75</td><td> 0</td><td>0</td><td> 0</td></tr>\n",
       "\t<tr><td>L3R24P1C_M9 </td><td>  1</td><td>   132</td><td> 0</td><td>0</td><td> 0</td></tr>\n",
       "\t<tr><td>L3R24P1C_M10</td><td> 64</td><td> 16214</td><td> 1</td><td>0</td><td> 6</td></tr>\n",
       "\t<tr><td>⋮</td><td>⋮</td><td>⋮</td><td>⋮</td><td>⋮</td><td>⋮</td></tr>\n",
       "\t<tr><td>DepSeq-L1_M6</td><td>   0</td><td>    11</td><td>  0</td><td>0</td><td>  0</td></tr>\n",
       "\t<tr><td>DepSeq-L1_M7</td><td>  21</td><td>  3833</td><td>  1</td><td>0</td><td>  3</td></tr>\n",
       "\t<tr><td>DepSeq-L1_M8</td><td>  17</td><td>    60</td><td>  0</td><td>0</td><td>  0</td></tr>\n",
       "\t<tr><td>DepSeq-L2_M1</td><td>  81</td><td>   121</td><td>  0</td><td>0</td><td>  0</td></tr>\n",
       "\t<tr><td>DepSeq-L2_M2</td><td> 141</td><td>   252</td><td>  1</td><td>0</td><td>  2</td></tr>\n",
       "\t<tr><td>DepSeq-L2_M3</td><td>1036</td><td>188289</td><td>133</td><td>0</td><td>872</td></tr>\n",
       "\t<tr><td>DepSeq-L2_M4</td><td> 152</td><td>   347</td><td>  0</td><td>0</td><td>  0</td></tr>\n",
       "\t<tr><td>DepSeq-L2_M6</td><td>  14</td><td>     4</td><td>  0</td><td>0</td><td>  0</td></tr>\n",
       "\t<tr><td>DepSeq-L2_M7</td><td> 135</td><td>  1277</td><td>  1</td><td>0</td><td>  1</td></tr>\n",
       "\t<tr><td>DepSeq-L2_M8</td><td>  67</td><td>    13</td><td>  0</td><td>0</td><td>  0</td></tr>\n",
       "\t<tr><td>DepSeq-L3_M1</td><td>   1</td><td>    28</td><td>  0</td><td>0</td><td>  0</td></tr>\n",
       "\t<tr><td>DepSeq-L3_M2</td><td>  20</td><td>  4958</td><td>  3</td><td>0</td><td>  4</td></tr>\n",
       "\t<tr><td>DepSeq-L3_M3</td><td>   3</td><td>   140</td><td>  0</td><td>0</td><td>  1</td></tr>\n",
       "\t<tr><td>DepSeq-L3_M4</td><td>  20</td><td>  4208</td><td>  2</td><td>0</td><td>  2</td></tr>\n",
       "\t<tr><td>DepSeq-L3_M6</td><td>   1</td><td>     1</td><td>  0</td><td>0</td><td>  0</td></tr>\n",
       "\t<tr><td>DepSeq-L3_M7</td><td>   9</td><td>   510</td><td>  0</td><td>0</td><td>  1</td></tr>\n",
       "\t<tr><td>DepSeq-L3_M8</td><td>   1</td><td>    13</td><td>  0</td><td>0</td><td>  0</td></tr>\n",
       "\t<tr><td>DepSeq-L4_M1</td><td>   0</td><td>    51</td><td>  0</td><td>0</td><td>  0</td></tr>\n",
       "\t<tr><td>DepSeq-L4_M2</td><td>  17</td><td>  2904</td><td>  0</td><td>0</td><td>  0</td></tr>\n",
       "\t<tr><td>DepSeq-L4_M3</td><td>  29</td><td>100688</td><td> 13</td><td>0</td><td> 22</td></tr>\n",
       "\t<tr><td>DepSeq-L4_M4</td><td>  26</td><td> 10581</td><td>  1</td><td>0</td><td>  3</td></tr>\n",
       "\t<tr><td>DepSeq-L4_M6</td><td>   1</td><td>     0</td><td>  0</td><td>0</td><td>  0</td></tr>\n",
       "\t<tr><td>DepSeq-L4_M7</td><td>  10</td><td>   617</td><td>  0</td><td>0</td><td>  0</td></tr>\n",
       "\t<tr><td>DepSeq-L4_M8</td><td>   5</td><td>     5</td><td>  0</td><td>0</td><td>  0</td></tr>\n",
       "\t<tr><td>DepSeq-L5_M1</td><td>   5</td><td>   118</td><td>  1</td><td>0</td><td>  0</td></tr>\n",
       "\t<tr><td>DepSeq-L5_M2</td><td>  34</td><td>  2940</td><td>  1</td><td>0</td><td>  7</td></tr>\n",
       "\t<tr><td>DepSeq-L5_M3</td><td>  11</td><td>199528</td><td> 24</td><td>0</td><td> 37</td></tr>\n",
       "\t<tr><td>DepSeq-L5_M4</td><td>  11</td><td> 59483</td><td>  9</td><td>0</td><td> 11</td></tr>\n",
       "\t<tr><td>DepSeq-L5_M6</td><td>  32</td><td>     5</td><td>  0</td><td>0</td><td>  0</td></tr>\n",
       "\t<tr><td>DepSeq-L5_M7</td><td>   1</td><td>    69</td><td>  0</td><td>0</td><td>  0</td></tr>\n",
       "</tbody>\n",
       "</table>\n"
      ],
      "text/latex": [
       "A data.table: 1659 × 6\n",
       "\\begin{tabular}{llllll}\n",
       " LibraryMitoID & = & A & C & G & T\\\\\n",
       " <chr> & <int> & <int> & <int> & <int> & <int>\\\\\n",
       "\\hline\n",
       "\t L1R24P1C\\_M1  &   1 &  12283 &  0 & 0 &  0\\\\\n",
       "\t L1R24P1C\\_M2  &  37 & 255161 &  7 & 0 & 28\\\\\n",
       "\t L1R24P1C\\_M3  &  53 & 290089 &  4 & 0 & 31\\\\\n",
       "\t L1R24P1C\\_M4  &  12 & 127943 &  2 & 0 & 12\\\\\n",
       "\t L1R24P1C\\_M5  &   0 &    111 &  0 & 0 &  0\\\\\n",
       "\t L1R24P1C\\_M6  &  56 &    134 &  0 & 0 &  0\\\\\n",
       "\t L1R24P1C\\_M7  &   1 &   5950 &  0 & 0 &  0\\\\\n",
       "\t L1R24P1C\\_M8  &   1 &    128 &  0 & 0 &  0\\\\\n",
       "\t L1R24P1C\\_M9  &  10 &   6102 &  1 & 0 &  2\\\\\n",
       "\t L1R24P1C\\_M10 &  22 &  10014 &  0 & 0 &  4\\\\\n",
       "\t L2R24P1C\\_M1  &  12 &   7471 &  1 & 0 &  2\\\\\n",
       "\t L2R24P1C\\_M2  &  40 & 469636 & 13 & 0 & 61\\\\\n",
       "\t L2R24P1C\\_M3  &  28 & 138002 &  6 & 0 & 17\\\\\n",
       "\t L2R24P1C\\_M4  &  18 & 233075 &  7 & 0 & 18\\\\\n",
       "\t L2R24P1C\\_M5  &   2 &     79 &  0 & 0 &  0\\\\\n",
       "\t L2R24P1C\\_M6  &  18 &    105 &  0 & 0 &  1\\\\\n",
       "\t L2R24P1C\\_M7  &   2 &   8859 &  1 & 0 &  0\\\\\n",
       "\t L2R24P1C\\_M8  &   5 &    171 &  0 & 0 &  0\\\\\n",
       "\t L2R24P1C\\_M9  &   4 &    163 &  0 & 0 &  0\\\\\n",
       "\t L2R24P1C\\_M10 &   7 &  10246 &  0 & 0 &  3\\\\\n",
       "\t L3R24P1C\\_M1  &   6 &   3669 &  0 & 0 &  0\\\\\n",
       "\t L3R24P1C\\_M2  &  61 & 127081 & 13 & 0 & 12\\\\\n",
       "\t L3R24P1C\\_M3  &  23 &  68643 &  4 & 0 & 13\\\\\n",
       "\t L3R24P1C\\_M4  & 230 & 282676 & 23 & 0 & 53\\\\\n",
       "\t L3R24P1C\\_M5  &   1 &     47 &  0 & 0 &  0\\\\\n",
       "\t L3R24P1C\\_M6  &  25 &     49 &  0 & 0 &  0\\\\\n",
       "\t L3R24P1C\\_M7  &  11 &   3202 &  0 & 0 &  1\\\\\n",
       "\t L3R24P1C\\_M8  &   3 &     75 &  0 & 0 &  0\\\\\n",
       "\t L3R24P1C\\_M9  &   1 &    132 &  0 & 0 &  0\\\\\n",
       "\t L3R24P1C\\_M10 &  64 &  16214 &  1 & 0 &  6\\\\\n",
       "\t ⋮ & ⋮ & ⋮ & ⋮ & ⋮ & ⋮\\\\\n",
       "\t DepSeq-L1\\_M6 &    0 &     11 &   0 & 0 &   0\\\\\n",
       "\t DepSeq-L1\\_M7 &   21 &   3833 &   1 & 0 &   3\\\\\n",
       "\t DepSeq-L1\\_M8 &   17 &     60 &   0 & 0 &   0\\\\\n",
       "\t DepSeq-L2\\_M1 &   81 &    121 &   0 & 0 &   0\\\\\n",
       "\t DepSeq-L2\\_M2 &  141 &    252 &   1 & 0 &   2\\\\\n",
       "\t DepSeq-L2\\_M3 & 1036 & 188289 & 133 & 0 & 872\\\\\n",
       "\t DepSeq-L2\\_M4 &  152 &    347 &   0 & 0 &   0\\\\\n",
       "\t DepSeq-L2\\_M6 &   14 &      4 &   0 & 0 &   0\\\\\n",
       "\t DepSeq-L2\\_M7 &  135 &   1277 &   1 & 0 &   1\\\\\n",
       "\t DepSeq-L2\\_M8 &   67 &     13 &   0 & 0 &   0\\\\\n",
       "\t DepSeq-L3\\_M1 &    1 &     28 &   0 & 0 &   0\\\\\n",
       "\t DepSeq-L3\\_M2 &   20 &   4958 &   3 & 0 &   4\\\\\n",
       "\t DepSeq-L3\\_M3 &    3 &    140 &   0 & 0 &   1\\\\\n",
       "\t DepSeq-L3\\_M4 &   20 &   4208 &   2 & 0 &   2\\\\\n",
       "\t DepSeq-L3\\_M6 &    1 &      1 &   0 & 0 &   0\\\\\n",
       "\t DepSeq-L3\\_M7 &    9 &    510 &   0 & 0 &   1\\\\\n",
       "\t DepSeq-L3\\_M8 &    1 &     13 &   0 & 0 &   0\\\\\n",
       "\t DepSeq-L4\\_M1 &    0 &     51 &   0 & 0 &   0\\\\\n",
       "\t DepSeq-L4\\_M2 &   17 &   2904 &   0 & 0 &   0\\\\\n",
       "\t DepSeq-L4\\_M3 &   29 & 100688 &  13 & 0 &  22\\\\\n",
       "\t DepSeq-L4\\_M4 &   26 &  10581 &   1 & 0 &   3\\\\\n",
       "\t DepSeq-L4\\_M6 &    1 &      0 &   0 & 0 &   0\\\\\n",
       "\t DepSeq-L4\\_M7 &   10 &    617 &   0 & 0 &   0\\\\\n",
       "\t DepSeq-L4\\_M8 &    5 &      5 &   0 & 0 &   0\\\\\n",
       "\t DepSeq-L5\\_M1 &    5 &    118 &   1 & 0 &   0\\\\\n",
       "\t DepSeq-L5\\_M2 &   34 &   2940 &   1 & 0 &   7\\\\\n",
       "\t DepSeq-L5\\_M3 &   11 & 199528 &  24 & 0 &  37\\\\\n",
       "\t DepSeq-L5\\_M4 &   11 &  59483 &   9 & 0 &  11\\\\\n",
       "\t DepSeq-L5\\_M6 &   32 &      5 &   0 & 0 &   0\\\\\n",
       "\t DepSeq-L5\\_M7 &    1 &     69 &   0 & 0 &   0\\\\\n",
       "\\end{tabular}\n"
      ],
      "text/markdown": [
       "\n",
       "A data.table: 1659 × 6\n",
       "\n",
       "| LibraryMitoID &lt;chr&gt; | = &lt;int&gt; | A &lt;int&gt; | C &lt;int&gt; | G &lt;int&gt; | T &lt;int&gt; |\n",
       "|---|---|---|---|---|---|\n",
       "| L1R24P1C_M1  |   1 |  12283 |  0 | 0 |  0 |\n",
       "| L1R24P1C_M2  |  37 | 255161 |  7 | 0 | 28 |\n",
       "| L1R24P1C_M3  |  53 | 290089 |  4 | 0 | 31 |\n",
       "| L1R24P1C_M4  |  12 | 127943 |  2 | 0 | 12 |\n",
       "| L1R24P1C_M5  |   0 |    111 |  0 | 0 |  0 |\n",
       "| L1R24P1C_M6  |  56 |    134 |  0 | 0 |  0 |\n",
       "| L1R24P1C_M7  |   1 |   5950 |  0 | 0 |  0 |\n",
       "| L1R24P1C_M8  |   1 |    128 |  0 | 0 |  0 |\n",
       "| L1R24P1C_M9  |  10 |   6102 |  1 | 0 |  2 |\n",
       "| L1R24P1C_M10 |  22 |  10014 |  0 | 0 |  4 |\n",
       "| L2R24P1C_M1  |  12 |   7471 |  1 | 0 |  2 |\n",
       "| L2R24P1C_M2  |  40 | 469636 | 13 | 0 | 61 |\n",
       "| L2R24P1C_M3  |  28 | 138002 |  6 | 0 | 17 |\n",
       "| L2R24P1C_M4  |  18 | 233075 |  7 | 0 | 18 |\n",
       "| L2R24P1C_M5  |   2 |     79 |  0 | 0 |  0 |\n",
       "| L2R24P1C_M6  |  18 |    105 |  0 | 0 |  1 |\n",
       "| L2R24P1C_M7  |   2 |   8859 |  1 | 0 |  0 |\n",
       "| L2R24P1C_M8  |   5 |    171 |  0 | 0 |  0 |\n",
       "| L2R24P1C_M9  |   4 |    163 |  0 | 0 |  0 |\n",
       "| L2R24P1C_M10 |   7 |  10246 |  0 | 0 |  3 |\n",
       "| L3R24P1C_M1  |   6 |   3669 |  0 | 0 |  0 |\n",
       "| L3R24P1C_M2  |  61 | 127081 | 13 | 0 | 12 |\n",
       "| L3R24P1C_M3  |  23 |  68643 |  4 | 0 | 13 |\n",
       "| L3R24P1C_M4  | 230 | 282676 | 23 | 0 | 53 |\n",
       "| L3R24P1C_M5  |   1 |     47 |  0 | 0 |  0 |\n",
       "| L3R24P1C_M6  |  25 |     49 |  0 | 0 |  0 |\n",
       "| L3R24P1C_M7  |  11 |   3202 |  0 | 0 |  1 |\n",
       "| L3R24P1C_M8  |   3 |     75 |  0 | 0 |  0 |\n",
       "| L3R24P1C_M9  |   1 |    132 |  0 | 0 |  0 |\n",
       "| L3R24P1C_M10 |  64 |  16214 |  1 | 0 |  6 |\n",
       "| ⋮ | ⋮ | ⋮ | ⋮ | ⋮ | ⋮ |\n",
       "| DepSeq-L1_M6 |    0 |     11 |   0 | 0 |   0 |\n",
       "| DepSeq-L1_M7 |   21 |   3833 |   1 | 0 |   3 |\n",
       "| DepSeq-L1_M8 |   17 |     60 |   0 | 0 |   0 |\n",
       "| DepSeq-L2_M1 |   81 |    121 |   0 | 0 |   0 |\n",
       "| DepSeq-L2_M2 |  141 |    252 |   1 | 0 |   2 |\n",
       "| DepSeq-L2_M3 | 1036 | 188289 | 133 | 0 | 872 |\n",
       "| DepSeq-L2_M4 |  152 |    347 |   0 | 0 |   0 |\n",
       "| DepSeq-L2_M6 |   14 |      4 |   0 | 0 |   0 |\n",
       "| DepSeq-L2_M7 |  135 |   1277 |   1 | 0 |   1 |\n",
       "| DepSeq-L2_M8 |   67 |     13 |   0 | 0 |   0 |\n",
       "| DepSeq-L3_M1 |    1 |     28 |   0 | 0 |   0 |\n",
       "| DepSeq-L3_M2 |   20 |   4958 |   3 | 0 |   4 |\n",
       "| DepSeq-L3_M3 |    3 |    140 |   0 | 0 |   1 |\n",
       "| DepSeq-L3_M4 |   20 |   4208 |   2 | 0 |   2 |\n",
       "| DepSeq-L3_M6 |    1 |      1 |   0 | 0 |   0 |\n",
       "| DepSeq-L3_M7 |    9 |    510 |   0 | 0 |   1 |\n",
       "| DepSeq-L3_M8 |    1 |     13 |   0 | 0 |   0 |\n",
       "| DepSeq-L4_M1 |    0 |     51 |   0 | 0 |   0 |\n",
       "| DepSeq-L4_M2 |   17 |   2904 |   0 | 0 |   0 |\n",
       "| DepSeq-L4_M3 |   29 | 100688 |  13 | 0 |  22 |\n",
       "| DepSeq-L4_M4 |   26 |  10581 |   1 | 0 |   3 |\n",
       "| DepSeq-L4_M6 |    1 |      0 |   0 | 0 |   0 |\n",
       "| DepSeq-L4_M7 |   10 |    617 |   0 | 0 |   0 |\n",
       "| DepSeq-L4_M8 |    5 |      5 |   0 | 0 |   0 |\n",
       "| DepSeq-L5_M1 |    5 |    118 |   1 | 0 |   0 |\n",
       "| DepSeq-L5_M2 |   34 |   2940 |   1 | 0 |   7 |\n",
       "| DepSeq-L5_M3 |   11 | 199528 |  24 | 0 |  37 |\n",
       "| DepSeq-L5_M4 |   11 |  59483 |   9 | 0 |  11 |\n",
       "| DepSeq-L5_M6 |   32 |      5 |   0 | 0 |   0 |\n",
       "| DepSeq-L5_M7 |    1 |     69 |   0 | 0 |   0 |\n",
       "\n"
      ],
      "text/plain": [
       "     LibraryMitoID =    A      C   G T  \n",
       "1    L1R24P1C_M1     1   12283  0  0  0 \n",
       "2    L1R24P1C_M2    37  255161  7  0 28 \n",
       "3    L1R24P1C_M3    53  290089  4  0 31 \n",
       "4    L1R24P1C_M4    12  127943  2  0 12 \n",
       "5    L1R24P1C_M5     0     111  0  0  0 \n",
       "6    L1R24P1C_M6    56     134  0  0  0 \n",
       "7    L1R24P1C_M7     1    5950  0  0  0 \n",
       "8    L1R24P1C_M8     1     128  0  0  0 \n",
       "9    L1R24P1C_M9    10    6102  1  0  2 \n",
       "10   L1R24P1C_M10   22   10014  0  0  4 \n",
       "11   L2R24P1C_M1    12    7471  1  0  2 \n",
       "12   L2R24P1C_M2    40  469636 13  0 61 \n",
       "13   L2R24P1C_M3    28  138002  6  0 17 \n",
       "14   L2R24P1C_M4    18  233075  7  0 18 \n",
       "15   L2R24P1C_M5     2      79  0  0  0 \n",
       "16   L2R24P1C_M6    18     105  0  0  1 \n",
       "17   L2R24P1C_M7     2    8859  1  0  0 \n",
       "18   L2R24P1C_M8     5     171  0  0  0 \n",
       "19   L2R24P1C_M9     4     163  0  0  0 \n",
       "20   L2R24P1C_M10    7   10246  0  0  3 \n",
       "21   L3R24P1C_M1     6    3669  0  0  0 \n",
       "22   L3R24P1C_M2    61  127081 13  0 12 \n",
       "23   L3R24P1C_M3    23   68643  4  0 13 \n",
       "24   L3R24P1C_M4   230  282676 23  0 53 \n",
       "25   L3R24P1C_M5     1      47  0  0  0 \n",
       "26   L3R24P1C_M6    25      49  0  0  0 \n",
       "27   L3R24P1C_M7    11    3202  0  0  1 \n",
       "28   L3R24P1C_M8     3      75  0  0  0 \n",
       "29   L3R24P1C_M9     1     132  0  0  0 \n",
       "30   L3R24P1C_M10   64   16214  1  0  6 \n",
       "⋮    ⋮             ⋮    ⋮      ⋮   ⋮ ⋮  \n",
       "1630 DepSeq-L1_M6     0     11   0 0   0\n",
       "1631 DepSeq-L1_M7    21   3833   1 0   3\n",
       "1632 DepSeq-L1_M8    17     60   0 0   0\n",
       "1633 DepSeq-L2_M1    81    121   0 0   0\n",
       "1634 DepSeq-L2_M2   141    252   1 0   2\n",
       "1635 DepSeq-L2_M3  1036 188289 133 0 872\n",
       "1636 DepSeq-L2_M4   152    347   0 0   0\n",
       "1637 DepSeq-L2_M6    14      4   0 0   0\n",
       "1638 DepSeq-L2_M7   135   1277   1 0   1\n",
       "1639 DepSeq-L2_M8    67     13   0 0   0\n",
       "1640 DepSeq-L3_M1     1     28   0 0   0\n",
       "1641 DepSeq-L3_M2    20   4958   3 0   4\n",
       "1642 DepSeq-L3_M3     3    140   0 0   1\n",
       "1643 DepSeq-L3_M4    20   4208   2 0   2\n",
       "1644 DepSeq-L3_M6     1      1   0 0   0\n",
       "1645 DepSeq-L3_M7     9    510   0 0   1\n",
       "1646 DepSeq-L3_M8     1     13   0 0   0\n",
       "1647 DepSeq-L4_M1     0     51   0 0   0\n",
       "1648 DepSeq-L4_M2    17   2904   0 0   0\n",
       "1649 DepSeq-L4_M3    29 100688  13 0  22\n",
       "1650 DepSeq-L4_M4    26  10581   1 0   3\n",
       "1651 DepSeq-L4_M6     1      0   0 0   0\n",
       "1652 DepSeq-L4_M7    10    617   0 0   0\n",
       "1653 DepSeq-L4_M8     5      5   0 0   0\n",
       "1654 DepSeq-L5_M1     5    118   1 0   0\n",
       "1655 DepSeq-L5_M2    34   2940   1 0   7\n",
       "1656 DepSeq-L5_M3    11 199528  24 0  37\n",
       "1657 DepSeq-L5_M4    11  59483   9 0  11\n",
       "1658 DepSeq-L5_M6    32      5   0 0   0\n",
       "1659 DepSeq-L5_M7     1     69   0 0   0"
      ]
     },
     "metadata": {},
     "output_type": "display_data"
    }
   ],
   "source": [
    "basedifffreq_cutdemux_q30_unstranded[pos == 9027, `A` := `A` + basedifffreq_9027_q30[, `A`]]\n",
    "basedifffreq_cutdemux_q30_unstranded[pos == 9027, `C` := `C` + basedifffreq_9027_q30[, `C`]]\n",
    "## must be zero G\n",
    "basedifffreq_cutdemux_q30_unstranded[pos == 9027, `=` := `=` + basedifffreq_9027_q30[, `G`]]\n",
    "basedifffreq_cutdemux_q30_unstranded[pos == 9027, `T` := `T` + basedifffreq_9027_q30[, `T`]]\n",
    "basedifffreq_cutdemux_q30_unstranded[pos == 9027, list(LibraryMitoID, `=`, `A`, `C`, `G`, `T`)]"
   ]
  },
  {
   "cell_type": "code",
   "execution_count": 12,
   "metadata": {
    "vscode": {
     "languageId": "r"
    }
   },
   "outputs": [
    {
     "data": {
      "text/html": [
       "<table class=\"dataframe\">\n",
       "<caption>A data.table: 1659 × 8</caption>\n",
       "<thead>\n",
       "\t<tr><th scope=col>LibraryMitoID</th><th scope=col>depth</th><th scope=col>=</th><th scope=col>A</th><th scope=col>C</th><th scope=col>G</th><th scope=col>T</th><th scope=col>del</th></tr>\n",
       "\t<tr><th scope=col>&lt;chr&gt;</th><th scope=col>&lt;dbl&gt;</th><th scope=col>&lt;int&gt;</th><th scope=col>&lt;int&gt;</th><th scope=col>&lt;int&gt;</th><th scope=col>&lt;int&gt;</th><th scope=col>&lt;int&gt;</th><th scope=col>&lt;int&gt;</th></tr>\n",
       "</thead>\n",
       "<tbody>\n",
       "\t<tr><td>L1R24P1C_M1 </td><td> 12284</td><td>  1</td><td> 12283</td><td> 0</td><td>0</td><td> 0</td><td>0</td></tr>\n",
       "\t<tr><td>L1R24P1C_M2 </td><td>255233</td><td> 37</td><td>255161</td><td> 7</td><td>0</td><td>28</td><td>0</td></tr>\n",
       "\t<tr><td>L1R24P1C_M3 </td><td>290177</td><td> 53</td><td>290089</td><td> 4</td><td>0</td><td>31</td><td>0</td></tr>\n",
       "\t<tr><td>L1R24P1C_M4 </td><td>127969</td><td> 12</td><td>127943</td><td> 2</td><td>0</td><td>12</td><td>0</td></tr>\n",
       "\t<tr><td>L1R24P1C_M5 </td><td>   111</td><td>  0</td><td>   111</td><td> 0</td><td>0</td><td> 0</td><td>0</td></tr>\n",
       "\t<tr><td>L1R24P1C_M6 </td><td>   190</td><td> 56</td><td>   134</td><td> 0</td><td>0</td><td> 0</td><td>0</td></tr>\n",
       "\t<tr><td>L1R24P1C_M7 </td><td>  5951</td><td>  1</td><td>  5950</td><td> 0</td><td>0</td><td> 0</td><td>0</td></tr>\n",
       "\t<tr><td>L1R24P1C_M8 </td><td>   129</td><td>  1</td><td>   128</td><td> 0</td><td>0</td><td> 0</td><td>0</td></tr>\n",
       "\t<tr><td>L1R24P1C_M9 </td><td>  6115</td><td> 10</td><td>  6102</td><td> 1</td><td>0</td><td> 2</td><td>0</td></tr>\n",
       "\t<tr><td>L1R24P1C_M10</td><td> 10040</td><td> 22</td><td> 10014</td><td> 0</td><td>0</td><td> 4</td><td>0</td></tr>\n",
       "\t<tr><td>L2R24P1C_M1 </td><td>  7486</td><td> 12</td><td>  7471</td><td> 1</td><td>0</td><td> 2</td><td>0</td></tr>\n",
       "\t<tr><td>L2R24P1C_M2 </td><td>469750</td><td> 40</td><td>469636</td><td>13</td><td>0</td><td>61</td><td>0</td></tr>\n",
       "\t<tr><td>L2R24P1C_M3 </td><td>138053</td><td> 28</td><td>138002</td><td> 6</td><td>0</td><td>17</td><td>0</td></tr>\n",
       "\t<tr><td>L2R24P1C_M4 </td><td>233118</td><td> 18</td><td>233075</td><td> 7</td><td>0</td><td>18</td><td>0</td></tr>\n",
       "\t<tr><td>L2R24P1C_M5 </td><td>    81</td><td>  2</td><td>    79</td><td> 0</td><td>0</td><td> 0</td><td>0</td></tr>\n",
       "\t<tr><td>L2R24P1C_M6 </td><td>   124</td><td> 18</td><td>   105</td><td> 0</td><td>0</td><td> 1</td><td>0</td></tr>\n",
       "\t<tr><td>L2R24P1C_M7 </td><td>  8862</td><td>  2</td><td>  8859</td><td> 1</td><td>0</td><td> 0</td><td>0</td></tr>\n",
       "\t<tr><td>L2R24P1C_M8 </td><td>   176</td><td>  5</td><td>   171</td><td> 0</td><td>0</td><td> 0</td><td>0</td></tr>\n",
       "\t<tr><td>L2R24P1C_M9 </td><td>   167</td><td>  4</td><td>   163</td><td> 0</td><td>0</td><td> 0</td><td>0</td></tr>\n",
       "\t<tr><td>L2R24P1C_M10</td><td> 10256</td><td>  7</td><td> 10246</td><td> 0</td><td>0</td><td> 3</td><td>0</td></tr>\n",
       "\t<tr><td>L3R24P1C_M1 </td><td>  3675</td><td>  6</td><td>  3669</td><td> 0</td><td>0</td><td> 0</td><td>0</td></tr>\n",
       "\t<tr><td>L3R24P1C_M2 </td><td>127167</td><td> 61</td><td>127081</td><td>13</td><td>0</td><td>12</td><td>0</td></tr>\n",
       "\t<tr><td>L3R24P1C_M3 </td><td> 68683</td><td> 23</td><td> 68643</td><td> 4</td><td>0</td><td>13</td><td>0</td></tr>\n",
       "\t<tr><td>L3R24P1C_M4 </td><td>282982</td><td>230</td><td>282676</td><td>23</td><td>0</td><td>53</td><td>0</td></tr>\n",
       "\t<tr><td>L3R24P1C_M5 </td><td>    48</td><td>  1</td><td>    47</td><td> 0</td><td>0</td><td> 0</td><td>0</td></tr>\n",
       "\t<tr><td>L3R24P1C_M6 </td><td>    74</td><td> 25</td><td>    49</td><td> 0</td><td>0</td><td> 0</td><td>0</td></tr>\n",
       "\t<tr><td>L3R24P1C_M7 </td><td>  3214</td><td> 11</td><td>  3202</td><td> 0</td><td>0</td><td> 1</td><td>0</td></tr>\n",
       "\t<tr><td>L3R24P1C_M8 </td><td>    78</td><td>  3</td><td>    75</td><td> 0</td><td>0</td><td> 0</td><td>0</td></tr>\n",
       "\t<tr><td>L3R24P1C_M9 </td><td>   133</td><td>  1</td><td>   132</td><td> 0</td><td>0</td><td> 0</td><td>0</td></tr>\n",
       "\t<tr><td>L3R24P1C_M10</td><td> 16285</td><td> 64</td><td> 16214</td><td> 1</td><td>0</td><td> 6</td><td>0</td></tr>\n",
       "\t<tr><td>⋮</td><td>⋮</td><td>⋮</td><td>⋮</td><td>⋮</td><td>⋮</td><td>⋮</td><td>⋮</td></tr>\n",
       "\t<tr><td>DepSeq-L1_M6</td><td>    11</td><td>   0</td><td>    11</td><td>  0</td><td>0</td><td>  0</td><td>0</td></tr>\n",
       "\t<tr><td>DepSeq-L1_M7</td><td>  3858</td><td>  21</td><td>  3833</td><td>  1</td><td>0</td><td>  3</td><td>0</td></tr>\n",
       "\t<tr><td>DepSeq-L1_M8</td><td>    77</td><td>  17</td><td>    60</td><td>  0</td><td>0</td><td>  0</td><td>0</td></tr>\n",
       "\t<tr><td>DepSeq-L2_M1</td><td>   202</td><td>  81</td><td>   121</td><td>  0</td><td>0</td><td>  0</td><td>0</td></tr>\n",
       "\t<tr><td>DepSeq-L2_M2</td><td>   396</td><td> 141</td><td>   252</td><td>  1</td><td>0</td><td>  2</td><td>0</td></tr>\n",
       "\t<tr><td>DepSeq-L2_M3</td><td>190330</td><td>1036</td><td>188289</td><td>133</td><td>0</td><td>872</td><td>0</td></tr>\n",
       "\t<tr><td>DepSeq-L2_M4</td><td>   499</td><td> 152</td><td>   347</td><td>  0</td><td>0</td><td>  0</td><td>0</td></tr>\n",
       "\t<tr><td>DepSeq-L2_M6</td><td>    18</td><td>  14</td><td>     4</td><td>  0</td><td>0</td><td>  0</td><td>0</td></tr>\n",
       "\t<tr><td>DepSeq-L2_M7</td><td>  1414</td><td> 135</td><td>  1277</td><td>  1</td><td>0</td><td>  1</td><td>0</td></tr>\n",
       "\t<tr><td>DepSeq-L2_M8</td><td>    80</td><td>  67</td><td>    13</td><td>  0</td><td>0</td><td>  0</td><td>0</td></tr>\n",
       "\t<tr><td>DepSeq-L3_M1</td><td>    29</td><td>   1</td><td>    28</td><td>  0</td><td>0</td><td>  0</td><td>0</td></tr>\n",
       "\t<tr><td>DepSeq-L3_M2</td><td>  4985</td><td>  20</td><td>  4958</td><td>  3</td><td>0</td><td>  4</td><td>0</td></tr>\n",
       "\t<tr><td>DepSeq-L3_M3</td><td>   144</td><td>   3</td><td>   140</td><td>  0</td><td>0</td><td>  1</td><td>0</td></tr>\n",
       "\t<tr><td>DepSeq-L3_M4</td><td>  4232</td><td>  20</td><td>  4208</td><td>  2</td><td>0</td><td>  2</td><td>0</td></tr>\n",
       "\t<tr><td>DepSeq-L3_M6</td><td>     2</td><td>   1</td><td>     1</td><td>  0</td><td>0</td><td>  0</td><td>0</td></tr>\n",
       "\t<tr><td>DepSeq-L3_M7</td><td>   520</td><td>   9</td><td>   510</td><td>  0</td><td>0</td><td>  1</td><td>0</td></tr>\n",
       "\t<tr><td>DepSeq-L3_M8</td><td>    14</td><td>   1</td><td>    13</td><td>  0</td><td>0</td><td>  0</td><td>0</td></tr>\n",
       "\t<tr><td>DepSeq-L4_M1</td><td>    51</td><td>   0</td><td>    51</td><td>  0</td><td>0</td><td>  0</td><td>0</td></tr>\n",
       "\t<tr><td>DepSeq-L4_M2</td><td>  2921</td><td>  17</td><td>  2904</td><td>  0</td><td>0</td><td>  0</td><td>0</td></tr>\n",
       "\t<tr><td>DepSeq-L4_M3</td><td>100752</td><td>  29</td><td>100688</td><td> 13</td><td>0</td><td> 22</td><td>0</td></tr>\n",
       "\t<tr><td>DepSeq-L4_M4</td><td> 10611</td><td>  26</td><td> 10581</td><td>  1</td><td>0</td><td>  3</td><td>0</td></tr>\n",
       "\t<tr><td>DepSeq-L4_M6</td><td>     1</td><td>   1</td><td>     0</td><td>  0</td><td>0</td><td>  0</td><td>0</td></tr>\n",
       "\t<tr><td>DepSeq-L4_M7</td><td>   627</td><td>  10</td><td>   617</td><td>  0</td><td>0</td><td>  0</td><td>0</td></tr>\n",
       "\t<tr><td>DepSeq-L4_M8</td><td>    10</td><td>   5</td><td>     5</td><td>  0</td><td>0</td><td>  0</td><td>0</td></tr>\n",
       "\t<tr><td>DepSeq-L5_M1</td><td>   124</td><td>   5</td><td>   118</td><td>  1</td><td>0</td><td>  0</td><td>0</td></tr>\n",
       "\t<tr><td>DepSeq-L5_M2</td><td>  2982</td><td>  34</td><td>  2940</td><td>  1</td><td>0</td><td>  7</td><td>0</td></tr>\n",
       "\t<tr><td>DepSeq-L5_M3</td><td>199600</td><td>  11</td><td>199528</td><td> 24</td><td>0</td><td> 37</td><td>0</td></tr>\n",
       "\t<tr><td>DepSeq-L5_M4</td><td> 59514</td><td>  11</td><td> 59483</td><td>  9</td><td>0</td><td> 11</td><td>0</td></tr>\n",
       "\t<tr><td>DepSeq-L5_M6</td><td>    37</td><td>  32</td><td>     5</td><td>  0</td><td>0</td><td>  0</td><td>0</td></tr>\n",
       "\t<tr><td>DepSeq-L5_M7</td><td>    70</td><td>   1</td><td>    69</td><td>  0</td><td>0</td><td>  0</td><td>0</td></tr>\n",
       "</tbody>\n",
       "</table>\n"
      ],
      "text/latex": [
       "A data.table: 1659 × 8\n",
       "\\begin{tabular}{llllllll}\n",
       " LibraryMitoID & depth & = & A & C & G & T & del\\\\\n",
       " <chr> & <dbl> & <int> & <int> & <int> & <int> & <int> & <int>\\\\\n",
       "\\hline\n",
       "\t L1R24P1C\\_M1  &  12284 &   1 &  12283 &  0 & 0 &  0 & 0\\\\\n",
       "\t L1R24P1C\\_M2  & 255233 &  37 & 255161 &  7 & 0 & 28 & 0\\\\\n",
       "\t L1R24P1C\\_M3  & 290177 &  53 & 290089 &  4 & 0 & 31 & 0\\\\\n",
       "\t L1R24P1C\\_M4  & 127969 &  12 & 127943 &  2 & 0 & 12 & 0\\\\\n",
       "\t L1R24P1C\\_M5  &    111 &   0 &    111 &  0 & 0 &  0 & 0\\\\\n",
       "\t L1R24P1C\\_M6  &    190 &  56 &    134 &  0 & 0 &  0 & 0\\\\\n",
       "\t L1R24P1C\\_M7  &   5951 &   1 &   5950 &  0 & 0 &  0 & 0\\\\\n",
       "\t L1R24P1C\\_M8  &    129 &   1 &    128 &  0 & 0 &  0 & 0\\\\\n",
       "\t L1R24P1C\\_M9  &   6115 &  10 &   6102 &  1 & 0 &  2 & 0\\\\\n",
       "\t L1R24P1C\\_M10 &  10040 &  22 &  10014 &  0 & 0 &  4 & 0\\\\\n",
       "\t L2R24P1C\\_M1  &   7486 &  12 &   7471 &  1 & 0 &  2 & 0\\\\\n",
       "\t L2R24P1C\\_M2  & 469750 &  40 & 469636 & 13 & 0 & 61 & 0\\\\\n",
       "\t L2R24P1C\\_M3  & 138053 &  28 & 138002 &  6 & 0 & 17 & 0\\\\\n",
       "\t L2R24P1C\\_M4  & 233118 &  18 & 233075 &  7 & 0 & 18 & 0\\\\\n",
       "\t L2R24P1C\\_M5  &     81 &   2 &     79 &  0 & 0 &  0 & 0\\\\\n",
       "\t L2R24P1C\\_M6  &    124 &  18 &    105 &  0 & 0 &  1 & 0\\\\\n",
       "\t L2R24P1C\\_M7  &   8862 &   2 &   8859 &  1 & 0 &  0 & 0\\\\\n",
       "\t L2R24P1C\\_M8  &    176 &   5 &    171 &  0 & 0 &  0 & 0\\\\\n",
       "\t L2R24P1C\\_M9  &    167 &   4 &    163 &  0 & 0 &  0 & 0\\\\\n",
       "\t L2R24P1C\\_M10 &  10256 &   7 &  10246 &  0 & 0 &  3 & 0\\\\\n",
       "\t L3R24P1C\\_M1  &   3675 &   6 &   3669 &  0 & 0 &  0 & 0\\\\\n",
       "\t L3R24P1C\\_M2  & 127167 &  61 & 127081 & 13 & 0 & 12 & 0\\\\\n",
       "\t L3R24P1C\\_M3  &  68683 &  23 &  68643 &  4 & 0 & 13 & 0\\\\\n",
       "\t L3R24P1C\\_M4  & 282982 & 230 & 282676 & 23 & 0 & 53 & 0\\\\\n",
       "\t L3R24P1C\\_M5  &     48 &   1 &     47 &  0 & 0 &  0 & 0\\\\\n",
       "\t L3R24P1C\\_M6  &     74 &  25 &     49 &  0 & 0 &  0 & 0\\\\\n",
       "\t L3R24P1C\\_M7  &   3214 &  11 &   3202 &  0 & 0 &  1 & 0\\\\\n",
       "\t L3R24P1C\\_M8  &     78 &   3 &     75 &  0 & 0 &  0 & 0\\\\\n",
       "\t L3R24P1C\\_M9  &    133 &   1 &    132 &  0 & 0 &  0 & 0\\\\\n",
       "\t L3R24P1C\\_M10 &  16285 &  64 &  16214 &  1 & 0 &  6 & 0\\\\\n",
       "\t ⋮ & ⋮ & ⋮ & ⋮ & ⋮ & ⋮ & ⋮ & ⋮\\\\\n",
       "\t DepSeq-L1\\_M6 &     11 &    0 &     11 &   0 & 0 &   0 & 0\\\\\n",
       "\t DepSeq-L1\\_M7 &   3858 &   21 &   3833 &   1 & 0 &   3 & 0\\\\\n",
       "\t DepSeq-L1\\_M8 &     77 &   17 &     60 &   0 & 0 &   0 & 0\\\\\n",
       "\t DepSeq-L2\\_M1 &    202 &   81 &    121 &   0 & 0 &   0 & 0\\\\\n",
       "\t DepSeq-L2\\_M2 &    396 &  141 &    252 &   1 & 0 &   2 & 0\\\\\n",
       "\t DepSeq-L2\\_M3 & 190330 & 1036 & 188289 & 133 & 0 & 872 & 0\\\\\n",
       "\t DepSeq-L2\\_M4 &    499 &  152 &    347 &   0 & 0 &   0 & 0\\\\\n",
       "\t DepSeq-L2\\_M6 &     18 &   14 &      4 &   0 & 0 &   0 & 0\\\\\n",
       "\t DepSeq-L2\\_M7 &   1414 &  135 &   1277 &   1 & 0 &   1 & 0\\\\\n",
       "\t DepSeq-L2\\_M8 &     80 &   67 &     13 &   0 & 0 &   0 & 0\\\\\n",
       "\t DepSeq-L3\\_M1 &     29 &    1 &     28 &   0 & 0 &   0 & 0\\\\\n",
       "\t DepSeq-L3\\_M2 &   4985 &   20 &   4958 &   3 & 0 &   4 & 0\\\\\n",
       "\t DepSeq-L3\\_M3 &    144 &    3 &    140 &   0 & 0 &   1 & 0\\\\\n",
       "\t DepSeq-L3\\_M4 &   4232 &   20 &   4208 &   2 & 0 &   2 & 0\\\\\n",
       "\t DepSeq-L3\\_M6 &      2 &    1 &      1 &   0 & 0 &   0 & 0\\\\\n",
       "\t DepSeq-L3\\_M7 &    520 &    9 &    510 &   0 & 0 &   1 & 0\\\\\n",
       "\t DepSeq-L3\\_M8 &     14 &    1 &     13 &   0 & 0 &   0 & 0\\\\\n",
       "\t DepSeq-L4\\_M1 &     51 &    0 &     51 &   0 & 0 &   0 & 0\\\\\n",
       "\t DepSeq-L4\\_M2 &   2921 &   17 &   2904 &   0 & 0 &   0 & 0\\\\\n",
       "\t DepSeq-L4\\_M3 & 100752 &   29 & 100688 &  13 & 0 &  22 & 0\\\\\n",
       "\t DepSeq-L4\\_M4 &  10611 &   26 &  10581 &   1 & 0 &   3 & 0\\\\\n",
       "\t DepSeq-L4\\_M6 &      1 &    1 &      0 &   0 & 0 &   0 & 0\\\\\n",
       "\t DepSeq-L4\\_M7 &    627 &   10 &    617 &   0 & 0 &   0 & 0\\\\\n",
       "\t DepSeq-L4\\_M8 &     10 &    5 &      5 &   0 & 0 &   0 & 0\\\\\n",
       "\t DepSeq-L5\\_M1 &    124 &    5 &    118 &   1 & 0 &   0 & 0\\\\\n",
       "\t DepSeq-L5\\_M2 &   2982 &   34 &   2940 &   1 & 0 &   7 & 0\\\\\n",
       "\t DepSeq-L5\\_M3 & 199600 &   11 & 199528 &  24 & 0 &  37 & 0\\\\\n",
       "\t DepSeq-L5\\_M4 &  59514 &   11 &  59483 &   9 & 0 &  11 & 0\\\\\n",
       "\t DepSeq-L5\\_M6 &     37 &   32 &      5 &   0 & 0 &   0 & 0\\\\\n",
       "\t DepSeq-L5\\_M7 &     70 &    1 &     69 &   0 & 0 &   0 & 0\\\\\n",
       "\\end{tabular}\n"
      ],
      "text/markdown": [
       "\n",
       "A data.table: 1659 × 8\n",
       "\n",
       "| LibraryMitoID &lt;chr&gt; | depth &lt;dbl&gt; | = &lt;int&gt; | A &lt;int&gt; | C &lt;int&gt; | G &lt;int&gt; | T &lt;int&gt; | del &lt;int&gt; |\n",
       "|---|---|---|---|---|---|---|---|\n",
       "| L1R24P1C_M1  |  12284 |   1 |  12283 |  0 | 0 |  0 | 0 |\n",
       "| L1R24P1C_M2  | 255233 |  37 | 255161 |  7 | 0 | 28 | 0 |\n",
       "| L1R24P1C_M3  | 290177 |  53 | 290089 |  4 | 0 | 31 | 0 |\n",
       "| L1R24P1C_M4  | 127969 |  12 | 127943 |  2 | 0 | 12 | 0 |\n",
       "| L1R24P1C_M5  |    111 |   0 |    111 |  0 | 0 |  0 | 0 |\n",
       "| L1R24P1C_M6  |    190 |  56 |    134 |  0 | 0 |  0 | 0 |\n",
       "| L1R24P1C_M7  |   5951 |   1 |   5950 |  0 | 0 |  0 | 0 |\n",
       "| L1R24P1C_M8  |    129 |   1 |    128 |  0 | 0 |  0 | 0 |\n",
       "| L1R24P1C_M9  |   6115 |  10 |   6102 |  1 | 0 |  2 | 0 |\n",
       "| L1R24P1C_M10 |  10040 |  22 |  10014 |  0 | 0 |  4 | 0 |\n",
       "| L2R24P1C_M1  |   7486 |  12 |   7471 |  1 | 0 |  2 | 0 |\n",
       "| L2R24P1C_M2  | 469750 |  40 | 469636 | 13 | 0 | 61 | 0 |\n",
       "| L2R24P1C_M3  | 138053 |  28 | 138002 |  6 | 0 | 17 | 0 |\n",
       "| L2R24P1C_M4  | 233118 |  18 | 233075 |  7 | 0 | 18 | 0 |\n",
       "| L2R24P1C_M5  |     81 |   2 |     79 |  0 | 0 |  0 | 0 |\n",
       "| L2R24P1C_M6  |    124 |  18 |    105 |  0 | 0 |  1 | 0 |\n",
       "| L2R24P1C_M7  |   8862 |   2 |   8859 |  1 | 0 |  0 | 0 |\n",
       "| L2R24P1C_M8  |    176 |   5 |    171 |  0 | 0 |  0 | 0 |\n",
       "| L2R24P1C_M9  |    167 |   4 |    163 |  0 | 0 |  0 | 0 |\n",
       "| L2R24P1C_M10 |  10256 |   7 |  10246 |  0 | 0 |  3 | 0 |\n",
       "| L3R24P1C_M1  |   3675 |   6 |   3669 |  0 | 0 |  0 | 0 |\n",
       "| L3R24P1C_M2  | 127167 |  61 | 127081 | 13 | 0 | 12 | 0 |\n",
       "| L3R24P1C_M3  |  68683 |  23 |  68643 |  4 | 0 | 13 | 0 |\n",
       "| L3R24P1C_M4  | 282982 | 230 | 282676 | 23 | 0 | 53 | 0 |\n",
       "| L3R24P1C_M5  |     48 |   1 |     47 |  0 | 0 |  0 | 0 |\n",
       "| L3R24P1C_M6  |     74 |  25 |     49 |  0 | 0 |  0 | 0 |\n",
       "| L3R24P1C_M7  |   3214 |  11 |   3202 |  0 | 0 |  1 | 0 |\n",
       "| L3R24P1C_M8  |     78 |   3 |     75 |  0 | 0 |  0 | 0 |\n",
       "| L3R24P1C_M9  |    133 |   1 |    132 |  0 | 0 |  0 | 0 |\n",
       "| L3R24P1C_M10 |  16285 |  64 |  16214 |  1 | 0 |  6 | 0 |\n",
       "| ⋮ | ⋮ | ⋮ | ⋮ | ⋮ | ⋮ | ⋮ | ⋮ |\n",
       "| DepSeq-L1_M6 |     11 |    0 |     11 |   0 | 0 |   0 | 0 |\n",
       "| DepSeq-L1_M7 |   3858 |   21 |   3833 |   1 | 0 |   3 | 0 |\n",
       "| DepSeq-L1_M8 |     77 |   17 |     60 |   0 | 0 |   0 | 0 |\n",
       "| DepSeq-L2_M1 |    202 |   81 |    121 |   0 | 0 |   0 | 0 |\n",
       "| DepSeq-L2_M2 |    396 |  141 |    252 |   1 | 0 |   2 | 0 |\n",
       "| DepSeq-L2_M3 | 190330 | 1036 | 188289 | 133 | 0 | 872 | 0 |\n",
       "| DepSeq-L2_M4 |    499 |  152 |    347 |   0 | 0 |   0 | 0 |\n",
       "| DepSeq-L2_M6 |     18 |   14 |      4 |   0 | 0 |   0 | 0 |\n",
       "| DepSeq-L2_M7 |   1414 |  135 |   1277 |   1 | 0 |   1 | 0 |\n",
       "| DepSeq-L2_M8 |     80 |   67 |     13 |   0 | 0 |   0 | 0 |\n",
       "| DepSeq-L3_M1 |     29 |    1 |     28 |   0 | 0 |   0 | 0 |\n",
       "| DepSeq-L3_M2 |   4985 |   20 |   4958 |   3 | 0 |   4 | 0 |\n",
       "| DepSeq-L3_M3 |    144 |    3 |    140 |   0 | 0 |   1 | 0 |\n",
       "| DepSeq-L3_M4 |   4232 |   20 |   4208 |   2 | 0 |   2 | 0 |\n",
       "| DepSeq-L3_M6 |      2 |    1 |      1 |   0 | 0 |   0 | 0 |\n",
       "| DepSeq-L3_M7 |    520 |    9 |    510 |   0 | 0 |   1 | 0 |\n",
       "| DepSeq-L3_M8 |     14 |    1 |     13 |   0 | 0 |   0 | 0 |\n",
       "| DepSeq-L4_M1 |     51 |    0 |     51 |   0 | 0 |   0 | 0 |\n",
       "| DepSeq-L4_M2 |   2921 |   17 |   2904 |   0 | 0 |   0 | 0 |\n",
       "| DepSeq-L4_M3 | 100752 |   29 | 100688 |  13 | 0 |  22 | 0 |\n",
       "| DepSeq-L4_M4 |  10611 |   26 |  10581 |   1 | 0 |   3 | 0 |\n",
       "| DepSeq-L4_M6 |      1 |    1 |      0 |   0 | 0 |   0 | 0 |\n",
       "| DepSeq-L4_M7 |    627 |   10 |    617 |   0 | 0 |   0 | 0 |\n",
       "| DepSeq-L4_M8 |     10 |    5 |      5 |   0 | 0 |   0 | 0 |\n",
       "| DepSeq-L5_M1 |    124 |    5 |    118 |   1 | 0 |   0 | 0 |\n",
       "| DepSeq-L5_M2 |   2982 |   34 |   2940 |   1 | 0 |   7 | 0 |\n",
       "| DepSeq-L5_M3 | 199600 |   11 | 199528 |  24 | 0 |  37 | 0 |\n",
       "| DepSeq-L5_M4 |  59514 |   11 |  59483 |   9 | 0 |  11 | 0 |\n",
       "| DepSeq-L5_M6 |     37 |   32 |      5 |   0 | 0 |   0 | 0 |\n",
       "| DepSeq-L5_M7 |     70 |    1 |     69 |   0 | 0 |   0 | 0 |\n",
       "\n"
      ],
      "text/plain": [
       "     LibraryMitoID depth  =    A      C   G T   del\n",
       "1    L1R24P1C_M1    12284   1   12283  0  0  0  0  \n",
       "2    L1R24P1C_M2   255233  37  255161  7  0 28  0  \n",
       "3    L1R24P1C_M3   290177  53  290089  4  0 31  0  \n",
       "4    L1R24P1C_M4   127969  12  127943  2  0 12  0  \n",
       "5    L1R24P1C_M5      111   0     111  0  0  0  0  \n",
       "6    L1R24P1C_M6      190  56     134  0  0  0  0  \n",
       "7    L1R24P1C_M7     5951   1    5950  0  0  0  0  \n",
       "8    L1R24P1C_M8      129   1     128  0  0  0  0  \n",
       "9    L1R24P1C_M9     6115  10    6102  1  0  2  0  \n",
       "10   L1R24P1C_M10   10040  22   10014  0  0  4  0  \n",
       "11   L2R24P1C_M1     7486  12    7471  1  0  2  0  \n",
       "12   L2R24P1C_M2   469750  40  469636 13  0 61  0  \n",
       "13   L2R24P1C_M3   138053  28  138002  6  0 17  0  \n",
       "14   L2R24P1C_M4   233118  18  233075  7  0 18  0  \n",
       "15   L2R24P1C_M5       81   2      79  0  0  0  0  \n",
       "16   L2R24P1C_M6      124  18     105  0  0  1  0  \n",
       "17   L2R24P1C_M7     8862   2    8859  1  0  0  0  \n",
       "18   L2R24P1C_M8      176   5     171  0  0  0  0  \n",
       "19   L2R24P1C_M9      167   4     163  0  0  0  0  \n",
       "20   L2R24P1C_M10   10256   7   10246  0  0  3  0  \n",
       "21   L3R24P1C_M1     3675   6    3669  0  0  0  0  \n",
       "22   L3R24P1C_M2   127167  61  127081 13  0 12  0  \n",
       "23   L3R24P1C_M3    68683  23   68643  4  0 13  0  \n",
       "24   L3R24P1C_M4   282982 230  282676 23  0 53  0  \n",
       "25   L3R24P1C_M5       48   1      47  0  0  0  0  \n",
       "26   L3R24P1C_M6       74  25      49  0  0  0  0  \n",
       "27   L3R24P1C_M7     3214  11    3202  0  0  1  0  \n",
       "28   L3R24P1C_M8       78   3      75  0  0  0  0  \n",
       "29   L3R24P1C_M9      133   1     132  0  0  0  0  \n",
       "30   L3R24P1C_M10   16285  64   16214  1  0  6  0  \n",
       "⋮    ⋮             ⋮      ⋮    ⋮      ⋮   ⋮ ⋮   ⋮  \n",
       "1630 DepSeq-L1_M6      11    0     11   0 0   0 0  \n",
       "1631 DepSeq-L1_M7    3858   21   3833   1 0   3 0  \n",
       "1632 DepSeq-L1_M8      77   17     60   0 0   0 0  \n",
       "1633 DepSeq-L2_M1     202   81    121   0 0   0 0  \n",
       "1634 DepSeq-L2_M2     396  141    252   1 0   2 0  \n",
       "1635 DepSeq-L2_M3  190330 1036 188289 133 0 872 0  \n",
       "1636 DepSeq-L2_M4     499  152    347   0 0   0 0  \n",
       "1637 DepSeq-L2_M6      18   14      4   0 0   0 0  \n",
       "1638 DepSeq-L2_M7    1414  135   1277   1 0   1 0  \n",
       "1639 DepSeq-L2_M8      80   67     13   0 0   0 0  \n",
       "1640 DepSeq-L3_M1      29    1     28   0 0   0 0  \n",
       "1641 DepSeq-L3_M2    4985   20   4958   3 0   4 0  \n",
       "1642 DepSeq-L3_M3     144    3    140   0 0   1 0  \n",
       "1643 DepSeq-L3_M4    4232   20   4208   2 0   2 0  \n",
       "1644 DepSeq-L3_M6       2    1      1   0 0   0 0  \n",
       "1645 DepSeq-L3_M7     520    9    510   0 0   1 0  \n",
       "1646 DepSeq-L3_M8      14    1     13   0 0   0 0  \n",
       "1647 DepSeq-L4_M1      51    0     51   0 0   0 0  \n",
       "1648 DepSeq-L4_M2    2921   17   2904   0 0   0 0  \n",
       "1649 DepSeq-L4_M3  100752   29 100688  13 0  22 0  \n",
       "1650 DepSeq-L4_M4   10611   26  10581   1 0   3 0  \n",
       "1651 DepSeq-L4_M6       1    1      0   0 0   0 0  \n",
       "1652 DepSeq-L4_M7     627   10    617   0 0   0 0  \n",
       "1653 DepSeq-L4_M8      10    5      5   0 0   0 0  \n",
       "1654 DepSeq-L5_M1     124    5    118   1 0   0 0  \n",
       "1655 DepSeq-L5_M2    2982   34   2940   1 0   7 0  \n",
       "1656 DepSeq-L5_M3  199600   11 199528  24 0  37 0  \n",
       "1657 DepSeq-L5_M4   59514   11  59483   9 0  11 0  \n",
       "1658 DepSeq-L5_M6      37   32      5   0 0   0 0  \n",
       "1659 DepSeq-L5_M7      70    1     69   0 0   0 0  "
      ]
     },
     "metadata": {},
     "output_type": "display_data"
    }
   ],
   "source": [
    "basedifffreq_cutdemux_q30_unstranded[pos == 9027, `depth` := `=` + `A` + `C` + `G` + `T` + `del`]\n",
    "basedifffreq_cutdemux_q30_unstranded[pos == 9027, list(LibraryMitoID, depth, `=`, `A`, `C`, `G`, `T`, del)]"
   ]
  },
  {
   "cell_type": "code",
   "execution_count": 13,
   "metadata": {
    "vscode": {
     "languageId": "r"
    }
   },
   "outputs": [
    {
     "data": {
      "text/html": [
       "<table class=\"dataframe\">\n",
       "<caption>A data.table: 6 × 29</caption>\n",
       "<thead>\n",
       "\t<tr><th scope=col>LibraryID</th><th scope=col>ExptID</th><th scope=col>LibraryMitoID</th><th scope=col>IsolationRCADate</th><th scope=col>DIVDays</th><th scope=col>CellType</th><th scope=col>PlateID</th><th scope=col>CellID</th><th scope=col>CellUID</th><th scope=col>WellMitoBarcode</th><th scope=col>⋯</th><th scope=col>SNVID</th><th scope=col>pos</th><th scope=col>ref</th><th scope=col>depth</th><th scope=col>=</th><th scope=col>A</th><th scope=col>C</th><th scope=col>G</th><th scope=col>T</th><th scope=col>del</th></tr>\n",
       "\t<tr><th scope=col>&lt;chr&gt;</th><th scope=col>&lt;int&gt;</th><th scope=col>&lt;chr&gt;</th><th scope=col>&lt;IDate&gt;</th><th scope=col>&lt;int&gt;</th><th scope=col>&lt;chr&gt;</th><th scope=col>&lt;int&gt;</th><th scope=col>&lt;int&gt;</th><th scope=col>&lt;chr&gt;</th><th scope=col>&lt;chr&gt;</th><th scope=col>⋯</th><th scope=col>&lt;chr&gt;</th><th scope=col>&lt;int&gt;</th><th scope=col>&lt;chr&gt;</th><th scope=col>&lt;dbl&gt;</th><th scope=col>&lt;int&gt;</th><th scope=col>&lt;int&gt;</th><th scope=col>&lt;int&gt;</th><th scope=col>&lt;int&gt;</th><th scope=col>&lt;int&gt;</th><th scope=col>&lt;int&gt;</th></tr>\n",
       "</thead>\n",
       "<tbody>\n",
       "\t<tr><td>L1R24P1C</td><td>730</td><td>L1R24P1C_M1</td><td>2020-09-04</td><td>3</td><td>Neuron</td><td>1</td><td>2</td><td>Mouse05_Neuron_2</td><td>B1--M1</td><td>⋯</td><td>SNV1</td><td>9350</td><td>C</td><td> 5431</td><td> 5431</td><td>0</td><td> 0</td><td>0</td><td>0</td><td>0</td></tr>\n",
       "\t<tr><td>L1R24P1C</td><td>730</td><td>L1R24P1C_M1</td><td>2020-09-04</td><td>3</td><td>Neuron</td><td>1</td><td>2</td><td>Mouse05_Neuron_2</td><td>B1--M1</td><td>⋯</td><td>SNV1</td><td>9351</td><td>T</td><td> 5572</td><td> 5572</td><td>0</td><td> 0</td><td>0</td><td>0</td><td>0</td></tr>\n",
       "\t<tr><td>L1R24P1C</td><td>730</td><td>L1R24P1C_M1</td><td>2020-09-04</td><td>3</td><td>Neuron</td><td>1</td><td>2</td><td>Mouse05_Neuron_2</td><td>B1--M1</td><td>⋯</td><td>SNV1</td><td>9352</td><td>G</td><td>19115</td><td>19115</td><td>0</td><td> 0</td><td>0</td><td>0</td><td>0</td></tr>\n",
       "\t<tr><td>L1R24P1C</td><td>730</td><td>L1R24P1C_M1</td><td>2020-09-04</td><td>3</td><td>Neuron</td><td>1</td><td>2</td><td>Mouse05_Neuron_2</td><td>B1--M1</td><td>⋯</td><td>SNV1</td><td>9353</td><td>A</td><td>16857</td><td>16846</td><td>0</td><td>10</td><td>0</td><td>1</td><td>0</td></tr>\n",
       "\t<tr><td>L1R24P1C</td><td>730</td><td>L1R24P1C_M1</td><td>2020-09-04</td><td>3</td><td>Neuron</td><td>1</td><td>2</td><td>Mouse05_Neuron_2</td><td>B1--M1</td><td>⋯</td><td>SNV1</td><td>9354</td><td>C</td><td>19213</td><td>19207</td><td>1</td><td> 0</td><td>0</td><td>5</td><td>0</td></tr>\n",
       "\t<tr><td>L1R24P1C</td><td>730</td><td>L1R24P1C_M1</td><td>2020-09-04</td><td>3</td><td>Neuron</td><td>1</td><td>2</td><td>Mouse05_Neuron_2</td><td>B1--M1</td><td>⋯</td><td>SNV1</td><td>9355</td><td>T</td><td>19324</td><td>19313</td><td>1</td><td> 1</td><td>0</td><td>0</td><td>9</td></tr>\n",
       "</tbody>\n",
       "</table>\n"
      ],
      "text/latex": [
       "A data.table: 6 × 29\n",
       "\\begin{tabular}{lllllllllllllllllllll}\n",
       " LibraryID & ExptID & LibraryMitoID & IsolationRCADate & DIVDays & CellType & PlateID & CellID & CellUID & WellMitoBarcode & ⋯ & SNVID & pos & ref & depth & = & A & C & G & T & del\\\\\n",
       " <chr> & <int> & <chr> & <IDate> & <int> & <chr> & <int> & <int> & <chr> & <chr> & ⋯ & <chr> & <int> & <chr> & <dbl> & <int> & <int> & <int> & <int> & <int> & <int>\\\\\n",
       "\\hline\n",
       "\t L1R24P1C & 730 & L1R24P1C\\_M1 & 2020-09-04 & 3 & Neuron & 1 & 2 & Mouse05\\_Neuron\\_2 & B1--M1 & ⋯ & SNV1 & 9350 & C &  5431 &  5431 & 0 &  0 & 0 & 0 & 0\\\\\n",
       "\t L1R24P1C & 730 & L1R24P1C\\_M1 & 2020-09-04 & 3 & Neuron & 1 & 2 & Mouse05\\_Neuron\\_2 & B1--M1 & ⋯ & SNV1 & 9351 & T &  5572 &  5572 & 0 &  0 & 0 & 0 & 0\\\\\n",
       "\t L1R24P1C & 730 & L1R24P1C\\_M1 & 2020-09-04 & 3 & Neuron & 1 & 2 & Mouse05\\_Neuron\\_2 & B1--M1 & ⋯ & SNV1 & 9352 & G & 19115 & 19115 & 0 &  0 & 0 & 0 & 0\\\\\n",
       "\t L1R24P1C & 730 & L1R24P1C\\_M1 & 2020-09-04 & 3 & Neuron & 1 & 2 & Mouse05\\_Neuron\\_2 & B1--M1 & ⋯ & SNV1 & 9353 & A & 16857 & 16846 & 0 & 10 & 0 & 1 & 0\\\\\n",
       "\t L1R24P1C & 730 & L1R24P1C\\_M1 & 2020-09-04 & 3 & Neuron & 1 & 2 & Mouse05\\_Neuron\\_2 & B1--M1 & ⋯ & SNV1 & 9354 & C & 19213 & 19207 & 1 &  0 & 0 & 5 & 0\\\\\n",
       "\t L1R24P1C & 730 & L1R24P1C\\_M1 & 2020-09-04 & 3 & Neuron & 1 & 2 & Mouse05\\_Neuron\\_2 & B1--M1 & ⋯ & SNV1 & 9355 & T & 19324 & 19313 & 1 &  1 & 0 & 0 & 9\\\\\n",
       "\\end{tabular}\n"
      ],
      "text/markdown": [
       "\n",
       "A data.table: 6 × 29\n",
       "\n",
       "| LibraryID &lt;chr&gt; | ExptID &lt;int&gt; | LibraryMitoID &lt;chr&gt; | IsolationRCADate &lt;IDate&gt; | DIVDays &lt;int&gt; | CellType &lt;chr&gt; | PlateID &lt;int&gt; | CellID &lt;int&gt; | CellUID &lt;chr&gt; | WellMitoBarcode &lt;chr&gt; | ⋯ ⋯ | SNVID &lt;chr&gt; | pos &lt;int&gt; | ref &lt;chr&gt; | depth &lt;dbl&gt; | = &lt;int&gt; | A &lt;int&gt; | C &lt;int&gt; | G &lt;int&gt; | T &lt;int&gt; | del &lt;int&gt; |\n",
       "|---|---|---|---|---|---|---|---|---|---|---|---|---|---|---|---|---|---|---|---|---|\n",
       "| L1R24P1C | 730 | L1R24P1C_M1 | 2020-09-04 | 3 | Neuron | 1 | 2 | Mouse05_Neuron_2 | B1--M1 | ⋯ | SNV1 | 9350 | C |  5431 |  5431 | 0 |  0 | 0 | 0 | 0 |\n",
       "| L1R24P1C | 730 | L1R24P1C_M1 | 2020-09-04 | 3 | Neuron | 1 | 2 | Mouse05_Neuron_2 | B1--M1 | ⋯ | SNV1 | 9351 | T |  5572 |  5572 | 0 |  0 | 0 | 0 | 0 |\n",
       "| L1R24P1C | 730 | L1R24P1C_M1 | 2020-09-04 | 3 | Neuron | 1 | 2 | Mouse05_Neuron_2 | B1--M1 | ⋯ | SNV1 | 9352 | G | 19115 | 19115 | 0 |  0 | 0 | 0 | 0 |\n",
       "| L1R24P1C | 730 | L1R24P1C_M1 | 2020-09-04 | 3 | Neuron | 1 | 2 | Mouse05_Neuron_2 | B1--M1 | ⋯ | SNV1 | 9353 | A | 16857 | 16846 | 0 | 10 | 0 | 1 | 0 |\n",
       "| L1R24P1C | 730 | L1R24P1C_M1 | 2020-09-04 | 3 | Neuron | 1 | 2 | Mouse05_Neuron_2 | B1--M1 | ⋯ | SNV1 | 9354 | C | 19213 | 19207 | 1 |  0 | 0 | 5 | 0 |\n",
       "| L1R24P1C | 730 | L1R24P1C_M1 | 2020-09-04 | 3 | Neuron | 1 | 2 | Mouse05_Neuron_2 | B1--M1 | ⋯ | SNV1 | 9355 | T | 19324 | 19313 | 1 |  1 | 0 | 0 | 9 |\n",
       "\n"
      ],
      "text/plain": [
       "  LibraryID ExptID LibraryMitoID IsolationRCADate DIVDays CellType PlateID\n",
       "1 L1R24P1C  730    L1R24P1C_M1   2020-09-04       3       Neuron   1      \n",
       "2 L1R24P1C  730    L1R24P1C_M1   2020-09-04       3       Neuron   1      \n",
       "3 L1R24P1C  730    L1R24P1C_M1   2020-09-04       3       Neuron   1      \n",
       "4 L1R24P1C  730    L1R24P1C_M1   2020-09-04       3       Neuron   1      \n",
       "5 L1R24P1C  730    L1R24P1C_M1   2020-09-04       3       Neuron   1      \n",
       "6 L1R24P1C  730    L1R24P1C_M1   2020-09-04       3       Neuron   1      \n",
       "  CellID CellUID          WellMitoBarcode ⋯ SNVID pos  ref depth =     A C  G T\n",
       "1 2      Mouse05_Neuron_2 B1--M1          ⋯ SNV1  9350 C    5431  5431 0  0 0 0\n",
       "2 2      Mouse05_Neuron_2 B1--M1          ⋯ SNV1  9351 T    5572  5572 0  0 0 0\n",
       "3 2      Mouse05_Neuron_2 B1--M1          ⋯ SNV1  9352 G   19115 19115 0  0 0 0\n",
       "4 2      Mouse05_Neuron_2 B1--M1          ⋯ SNV1  9353 A   16857 16846 0 10 0 1\n",
       "5 2      Mouse05_Neuron_2 B1--M1          ⋯ SNV1  9354 C   19213 19207 1  0 0 5\n",
       "6 2      Mouse05_Neuron_2 B1--M1          ⋯ SNV1  9355 T   19324 19313 1  1 0 0\n",
       "  del\n",
       "1 0  \n",
       "2 0  \n",
       "3 0  \n",
       "4 0  \n",
       "5 0  \n",
       "6 9  "
      ]
     },
     "metadata": {},
     "output_type": "display_data"
    }
   ],
   "source": [
    "head(basedifffreq_cutdemux_q30_unstranded)"
   ]
  },
  {
   "cell_type": "code",
   "execution_count": null,
   "metadata": {
    "vscode": {
     "languageId": "r"
    }
   },
   "outputs": [],
   "source": [
    "fwrite(basedifffreq_cutdemux_q30_unstranded, file = \"Report/SNVs/basedifffreq_cutdemux_sub500k_q30_unstranded_9027fixed.csv.gz\")"
   ]
  },
  {
   "cell_type": "code",
   "execution_count": 15,
   "metadata": {
    "vscode": {
     "languageId": "r"
    }
   },
   "outputs": [
    {
     "data": {
      "text/html": [
       "<style>\n",
       ".list-inline {list-style: none; margin:0; padding: 0}\n",
       ".list-inline>li {display: inline-block}\n",
       ".list-inline>li:not(:last-child)::after {content: \"\\00b7\"; padding: 0 .5ex}\n",
       "</style>\n",
       "<ol class=list-inline><li>3117733</li><li>29</li></ol>\n"
      ],
      "text/latex": [
       "\\begin{enumerate*}\n",
       "\\item 3117733\n",
       "\\item 29\n",
       "\\end{enumerate*}\n"
      ],
      "text/markdown": [
       "1. 3117733\n",
       "2. 29\n",
       "\n",
       "\n"
      ],
      "text/plain": [
       "[1] 3117733      29"
      ]
     },
     "metadata": {},
     "output_type": "display_data"
    }
   ],
   "source": [
    "basediffperc_cutdemux_q30_unstranded <- copy(basedifffreq_cutdemux_q30_unstranded)\n",
    "basediffperc_cutdemux_q30_unstranded[, c(\"=\", \"A\", \"C\", \"G\", \"T\", \"del\") := lapply(.SD, function(x) x / depth * 100),.SDcols = c(\"=\", \"A\", \"C\", \"G\", \"T\", \"del\")]\n",
    "dim(basediffperc_cutdemux_q30_unstranded)"
   ]
  },
  {
   "cell_type": "code",
   "execution_count": 16,
   "metadata": {
    "vscode": {
     "languageId": "r"
    }
   },
   "outputs": [
    {
     "data": {
      "text/html": [
       "<style>\n",
       ".list-inline {list-style: none; margin:0; padding: 0}\n",
       ".list-inline>li {display: inline-block}\n",
       ".list-inline>li:not(:last-child)::after {content: \"\\00b7\"; padding: 0 .5ex}\n",
       "</style>\n",
       "<ol class=list-inline><li>1703153</li><li>29</li></ol>\n"
      ],
      "text/latex": [
       "\\begin{enumerate*}\n",
       "\\item 1703153\n",
       "\\item 29\n",
       "\\end{enumerate*}\n"
      ],
      "text/markdown": [
       "1. 1703153\n",
       "2. 29\n",
       "\n",
       "\n"
      ],
      "text/plain": [
       "[1] 1703153      29"
      ]
     },
     "metadata": {},
     "output_type": "display_data"
    }
   ],
   "source": [
    "depth_th <- 50\n",
    "basediffperc_cutdemux_q30_unstranded_highdepth <- basediffperc_cutdemux_q30_unstranded[depth >= depth_th]\n",
    "dim(basediffperc_cutdemux_q30_unstranded_highdepth)"
   ]
  },
  {
   "cell_type": "code",
   "execution_count": 17,
   "metadata": {
    "vscode": {
     "languageId": "r"
    }
   },
   "outputs": [
    {
     "data": {
      "text/html": [
       "<table class=\"dataframe\">\n",
       "<caption>A data.table: 6 × 29</caption>\n",
       "<thead>\n",
       "\t<tr><th scope=col>LibraryID</th><th scope=col>ExptID</th><th scope=col>LibraryMitoID</th><th scope=col>IsolationRCADate</th><th scope=col>DIVDays</th><th scope=col>CellType</th><th scope=col>PlateID</th><th scope=col>CellID</th><th scope=col>CellUID</th><th scope=col>WellMitoBarcode</th><th scope=col>⋯</th><th scope=col>SNVID</th><th scope=col>pos</th><th scope=col>ref</th><th scope=col>depth</th><th scope=col>=</th><th scope=col>A</th><th scope=col>C</th><th scope=col>G</th><th scope=col>T</th><th scope=col>del</th></tr>\n",
       "\t<tr><th scope=col>&lt;chr&gt;</th><th scope=col>&lt;int&gt;</th><th scope=col>&lt;chr&gt;</th><th scope=col>&lt;IDate&gt;</th><th scope=col>&lt;int&gt;</th><th scope=col>&lt;chr&gt;</th><th scope=col>&lt;int&gt;</th><th scope=col>&lt;int&gt;</th><th scope=col>&lt;chr&gt;</th><th scope=col>&lt;chr&gt;</th><th scope=col>⋯</th><th scope=col>&lt;chr&gt;</th><th scope=col>&lt;int&gt;</th><th scope=col>&lt;chr&gt;</th><th scope=col>&lt;dbl&gt;</th><th scope=col>&lt;dbl&gt;</th><th scope=col>&lt;dbl&gt;</th><th scope=col>&lt;dbl&gt;</th><th scope=col>&lt;dbl&gt;</th><th scope=col>&lt;dbl&gt;</th><th scope=col>&lt;dbl&gt;</th></tr>\n",
       "</thead>\n",
       "<tbody>\n",
       "\t<tr><td>L1R24P1C</td><td>730</td><td>L1R24P1C_M1</td><td>2020-09-04</td><td>3</td><td>Neuron</td><td>1</td><td>2</td><td>Mouse05_Neuron_2</td><td>B1--M1</td><td>⋯</td><td>SNV1</td><td>9350</td><td>C</td><td> 5431</td><td>100.00000</td><td>0.000000000</td><td>0.000000000</td><td>0</td><td>0.000000000</td><td>0.00000000</td></tr>\n",
       "\t<tr><td>L1R24P1C</td><td>730</td><td>L1R24P1C_M1</td><td>2020-09-04</td><td>3</td><td>Neuron</td><td>1</td><td>2</td><td>Mouse05_Neuron_2</td><td>B1--M1</td><td>⋯</td><td>SNV1</td><td>9351</td><td>T</td><td> 5572</td><td>100.00000</td><td>0.000000000</td><td>0.000000000</td><td>0</td><td>0.000000000</td><td>0.00000000</td></tr>\n",
       "\t<tr><td>L1R24P1C</td><td>730</td><td>L1R24P1C_M1</td><td>2020-09-04</td><td>3</td><td>Neuron</td><td>1</td><td>2</td><td>Mouse05_Neuron_2</td><td>B1--M1</td><td>⋯</td><td>SNV1</td><td>9352</td><td>G</td><td>19115</td><td>100.00000</td><td>0.000000000</td><td>0.000000000</td><td>0</td><td>0.000000000</td><td>0.00000000</td></tr>\n",
       "\t<tr><td>L1R24P1C</td><td>730</td><td>L1R24P1C_M1</td><td>2020-09-04</td><td>3</td><td>Neuron</td><td>1</td><td>2</td><td>Mouse05_Neuron_2</td><td>B1--M1</td><td>⋯</td><td>SNV1</td><td>9353</td><td>A</td><td>16857</td><td> 99.93475</td><td>0.000000000</td><td>0.059322537</td><td>0</td><td>0.005932254</td><td>0.00000000</td></tr>\n",
       "\t<tr><td>L1R24P1C</td><td>730</td><td>L1R24P1C_M1</td><td>2020-09-04</td><td>3</td><td>Neuron</td><td>1</td><td>2</td><td>Mouse05_Neuron_2</td><td>B1--M1</td><td>⋯</td><td>SNV1</td><td>9354</td><td>C</td><td>19213</td><td> 99.96877</td><td>0.005204809</td><td>0.000000000</td><td>0</td><td>0.026024046</td><td>0.00000000</td></tr>\n",
       "\t<tr><td>L1R24P1C</td><td>730</td><td>L1R24P1C_M1</td><td>2020-09-04</td><td>3</td><td>Neuron</td><td>1</td><td>2</td><td>Mouse05_Neuron_2</td><td>B1--M1</td><td>⋯</td><td>SNV1</td><td>9355</td><td>T</td><td>19324</td><td> 99.94308</td><td>0.005174912</td><td>0.005174912</td><td>0</td><td>0.000000000</td><td>0.04657421</td></tr>\n",
       "</tbody>\n",
       "</table>\n"
      ],
      "text/latex": [
       "A data.table: 6 × 29\n",
       "\\begin{tabular}{lllllllllllllllllllll}\n",
       " LibraryID & ExptID & LibraryMitoID & IsolationRCADate & DIVDays & CellType & PlateID & CellID & CellUID & WellMitoBarcode & ⋯ & SNVID & pos & ref & depth & = & A & C & G & T & del\\\\\n",
       " <chr> & <int> & <chr> & <IDate> & <int> & <chr> & <int> & <int> & <chr> & <chr> & ⋯ & <chr> & <int> & <chr> & <dbl> & <dbl> & <dbl> & <dbl> & <dbl> & <dbl> & <dbl>\\\\\n",
       "\\hline\n",
       "\t L1R24P1C & 730 & L1R24P1C\\_M1 & 2020-09-04 & 3 & Neuron & 1 & 2 & Mouse05\\_Neuron\\_2 & B1--M1 & ⋯ & SNV1 & 9350 & C &  5431 & 100.00000 & 0.000000000 & 0.000000000 & 0 & 0.000000000 & 0.00000000\\\\\n",
       "\t L1R24P1C & 730 & L1R24P1C\\_M1 & 2020-09-04 & 3 & Neuron & 1 & 2 & Mouse05\\_Neuron\\_2 & B1--M1 & ⋯ & SNV1 & 9351 & T &  5572 & 100.00000 & 0.000000000 & 0.000000000 & 0 & 0.000000000 & 0.00000000\\\\\n",
       "\t L1R24P1C & 730 & L1R24P1C\\_M1 & 2020-09-04 & 3 & Neuron & 1 & 2 & Mouse05\\_Neuron\\_2 & B1--M1 & ⋯ & SNV1 & 9352 & G & 19115 & 100.00000 & 0.000000000 & 0.000000000 & 0 & 0.000000000 & 0.00000000\\\\\n",
       "\t L1R24P1C & 730 & L1R24P1C\\_M1 & 2020-09-04 & 3 & Neuron & 1 & 2 & Mouse05\\_Neuron\\_2 & B1--M1 & ⋯ & SNV1 & 9353 & A & 16857 &  99.93475 & 0.000000000 & 0.059322537 & 0 & 0.005932254 & 0.00000000\\\\\n",
       "\t L1R24P1C & 730 & L1R24P1C\\_M1 & 2020-09-04 & 3 & Neuron & 1 & 2 & Mouse05\\_Neuron\\_2 & B1--M1 & ⋯ & SNV1 & 9354 & C & 19213 &  99.96877 & 0.005204809 & 0.000000000 & 0 & 0.026024046 & 0.00000000\\\\\n",
       "\t L1R24P1C & 730 & L1R24P1C\\_M1 & 2020-09-04 & 3 & Neuron & 1 & 2 & Mouse05\\_Neuron\\_2 & B1--M1 & ⋯ & SNV1 & 9355 & T & 19324 &  99.94308 & 0.005174912 & 0.005174912 & 0 & 0.000000000 & 0.04657421\\\\\n",
       "\\end{tabular}\n"
      ],
      "text/markdown": [
       "\n",
       "A data.table: 6 × 29\n",
       "\n",
       "| LibraryID &lt;chr&gt; | ExptID &lt;int&gt; | LibraryMitoID &lt;chr&gt; | IsolationRCADate &lt;IDate&gt; | DIVDays &lt;int&gt; | CellType &lt;chr&gt; | PlateID &lt;int&gt; | CellID &lt;int&gt; | CellUID &lt;chr&gt; | WellMitoBarcode &lt;chr&gt; | ⋯ ⋯ | SNVID &lt;chr&gt; | pos &lt;int&gt; | ref &lt;chr&gt; | depth &lt;dbl&gt; | = &lt;dbl&gt; | A &lt;dbl&gt; | C &lt;dbl&gt; | G &lt;dbl&gt; | T &lt;dbl&gt; | del &lt;dbl&gt; |\n",
       "|---|---|---|---|---|---|---|---|---|---|---|---|---|---|---|---|---|---|---|---|---|\n",
       "| L1R24P1C | 730 | L1R24P1C_M1 | 2020-09-04 | 3 | Neuron | 1 | 2 | Mouse05_Neuron_2 | B1--M1 | ⋯ | SNV1 | 9350 | C |  5431 | 100.00000 | 0.000000000 | 0.000000000 | 0 | 0.000000000 | 0.00000000 |\n",
       "| L1R24P1C | 730 | L1R24P1C_M1 | 2020-09-04 | 3 | Neuron | 1 | 2 | Mouse05_Neuron_2 | B1--M1 | ⋯ | SNV1 | 9351 | T |  5572 | 100.00000 | 0.000000000 | 0.000000000 | 0 | 0.000000000 | 0.00000000 |\n",
       "| L1R24P1C | 730 | L1R24P1C_M1 | 2020-09-04 | 3 | Neuron | 1 | 2 | Mouse05_Neuron_2 | B1--M1 | ⋯ | SNV1 | 9352 | G | 19115 | 100.00000 | 0.000000000 | 0.000000000 | 0 | 0.000000000 | 0.00000000 |\n",
       "| L1R24P1C | 730 | L1R24P1C_M1 | 2020-09-04 | 3 | Neuron | 1 | 2 | Mouse05_Neuron_2 | B1--M1 | ⋯ | SNV1 | 9353 | A | 16857 |  99.93475 | 0.000000000 | 0.059322537 | 0 | 0.005932254 | 0.00000000 |\n",
       "| L1R24P1C | 730 | L1R24P1C_M1 | 2020-09-04 | 3 | Neuron | 1 | 2 | Mouse05_Neuron_2 | B1--M1 | ⋯ | SNV1 | 9354 | C | 19213 |  99.96877 | 0.005204809 | 0.000000000 | 0 | 0.026024046 | 0.00000000 |\n",
       "| L1R24P1C | 730 | L1R24P1C_M1 | 2020-09-04 | 3 | Neuron | 1 | 2 | Mouse05_Neuron_2 | B1--M1 | ⋯ | SNV1 | 9355 | T | 19324 |  99.94308 | 0.005174912 | 0.005174912 | 0 | 0.000000000 | 0.04657421 |\n",
       "\n"
      ],
      "text/plain": [
       "  LibraryID ExptID LibraryMitoID IsolationRCADate DIVDays CellType PlateID\n",
       "1 L1R24P1C  730    L1R24P1C_M1   2020-09-04       3       Neuron   1      \n",
       "2 L1R24P1C  730    L1R24P1C_M1   2020-09-04       3       Neuron   1      \n",
       "3 L1R24P1C  730    L1R24P1C_M1   2020-09-04       3       Neuron   1      \n",
       "4 L1R24P1C  730    L1R24P1C_M1   2020-09-04       3       Neuron   1      \n",
       "5 L1R24P1C  730    L1R24P1C_M1   2020-09-04       3       Neuron   1      \n",
       "6 L1R24P1C  730    L1R24P1C_M1   2020-09-04       3       Neuron   1      \n",
       "  CellID CellUID          WellMitoBarcode ⋯ SNVID pos  ref depth =        \n",
       "1 2      Mouse05_Neuron_2 B1--M1          ⋯ SNV1  9350 C    5431 100.00000\n",
       "2 2      Mouse05_Neuron_2 B1--M1          ⋯ SNV1  9351 T    5572 100.00000\n",
       "3 2      Mouse05_Neuron_2 B1--M1          ⋯ SNV1  9352 G   19115 100.00000\n",
       "4 2      Mouse05_Neuron_2 B1--M1          ⋯ SNV1  9353 A   16857  99.93475\n",
       "5 2      Mouse05_Neuron_2 B1--M1          ⋯ SNV1  9354 C   19213  99.96877\n",
       "6 2      Mouse05_Neuron_2 B1--M1          ⋯ SNV1  9355 T   19324  99.94308\n",
       "  A           C           G T           del       \n",
       "1 0.000000000 0.000000000 0 0.000000000 0.00000000\n",
       "2 0.000000000 0.000000000 0 0.000000000 0.00000000\n",
       "3 0.000000000 0.000000000 0 0.000000000 0.00000000\n",
       "4 0.000000000 0.059322537 0 0.005932254 0.00000000\n",
       "5 0.005204809 0.000000000 0 0.026024046 0.00000000\n",
       "6 0.005174912 0.005174912 0 0.000000000 0.04657421"
      ]
     },
     "metadata": {},
     "output_type": "display_data"
    }
   ],
   "source": [
    "head(basediffperc_cutdemux_q30_unstranded_highdepth)"
   ]
  },
  {
   "cell_type": "code",
   "execution_count": null,
   "metadata": {
    "vscode": {
     "languageId": "r"
    }
   },
   "outputs": [],
   "source": [
    "fwrite(basediffperc_cutdemux_q30_unstranded_highdepth, file = \"Report/SNVs/filter/basediffperc_cutdemux_sub500k_q30_unstranded_highdepth.csv.gz\")"
   ]
  },
  {
   "cell_type": "markdown",
   "metadata": {},
   "source": [
    "SNV calls"
   ]
  },
  {
   "cell_type": "code",
   "execution_count": 19,
   "metadata": {
    "vscode": {
     "languageId": "r"
    }
   },
   "outputs": [
    {
     "data": {
      "text/html": [
       "<style>\n",
       ".list-inline {list-style: none; margin:0; padding: 0}\n",
       ".list-inline>li {display: inline-block}\n",
       ".list-inline>li:not(:last-child)::after {content: \"\\00b7\"; padding: 0 .5ex}\n",
       "</style>\n",
       "<ol class=list-inline><li>7967</li><li>29</li></ol>\n"
      ],
      "text/latex": [
       "\\begin{enumerate*}\n",
       "\\item 7967\n",
       "\\item 29\n",
       "\\end{enumerate*}\n"
      ],
      "text/markdown": [
       "1. 7967\n",
       "2. 29\n",
       "\n",
       "\n"
      ],
      "text/plain": [
       "[1] 7967   29"
      ]
     },
     "metadata": {},
     "output_type": "display_data"
    }
   ],
   "source": [
    "vaf_th <- 0.05\n",
    "basediffperc_cutdemux_q30_unstranded_highdepth_highaf <- basediffperc_cutdemux_q30_unstranded_highdepth[`A` >= vaf_th * 100 | `C` >= vaf_th * 100 | `G` >= vaf_th * 100 | `T` >= vaf_th * 100 | `del` >= vaf_th * 100]\n",
    "dim(basediffperc_cutdemux_q30_unstranded_highdepth_highaf)"
   ]
  },
  {
   "cell_type": "code",
   "execution_count": 20,
   "metadata": {
    "vscode": {
     "languageId": "r"
    }
   },
   "outputs": [
    {
     "data": {
      "text/html": [
       "<table class=\"dataframe\">\n",
       "<caption>A data.table: 6 × 29</caption>\n",
       "<thead>\n",
       "\t<tr><th scope=col>LibraryID</th><th scope=col>ExptID</th><th scope=col>LibraryMitoID</th><th scope=col>IsolationRCADate</th><th scope=col>DIVDays</th><th scope=col>CellType</th><th scope=col>PlateID</th><th scope=col>CellID</th><th scope=col>CellUID</th><th scope=col>WellMitoBarcode</th><th scope=col>⋯</th><th scope=col>SNVID</th><th scope=col>pos</th><th scope=col>ref</th><th scope=col>depth</th><th scope=col>=</th><th scope=col>A</th><th scope=col>C</th><th scope=col>G</th><th scope=col>T</th><th scope=col>del</th></tr>\n",
       "\t<tr><th scope=col>&lt;chr&gt;</th><th scope=col>&lt;int&gt;</th><th scope=col>&lt;chr&gt;</th><th scope=col>&lt;IDate&gt;</th><th scope=col>&lt;int&gt;</th><th scope=col>&lt;chr&gt;</th><th scope=col>&lt;int&gt;</th><th scope=col>&lt;int&gt;</th><th scope=col>&lt;chr&gt;</th><th scope=col>&lt;chr&gt;</th><th scope=col>⋯</th><th scope=col>&lt;chr&gt;</th><th scope=col>&lt;int&gt;</th><th scope=col>&lt;chr&gt;</th><th scope=col>&lt;dbl&gt;</th><th scope=col>&lt;dbl&gt;</th><th scope=col>&lt;dbl&gt;</th><th scope=col>&lt;dbl&gt;</th><th scope=col>&lt;dbl&gt;</th><th scope=col>&lt;dbl&gt;</th><th scope=col>&lt;dbl&gt;</th></tr>\n",
       "</thead>\n",
       "<tbody>\n",
       "\t<tr><td>L1R24P1C</td><td>730</td><td>L1R24P1C_M1</td><td>2020-09-04</td><td>3</td><td>Neuron</td><td>1</td><td>2</td><td>Mouse05_Neuron_2</td><td>B1--M1</td><td>⋯</td><td>SNV1</td><td> 9461</td><td>T</td><td> 14335</td><td> 0.048831531</td><td> 0.04883153</td><td>99.902336938</td><td>0.000000000</td><td>0.00000000</td><td>0</td></tr>\n",
       "\t<tr><td>L1R24P1C</td><td>730</td><td>L1R24P1C_M1</td><td>2020-09-04</td><td>3</td><td>Neuron</td><td>1</td><td>2</td><td>Mouse05_Neuron_2</td><td>B1--M1</td><td>⋯</td><td>SNV3</td><td> 9027</td><td>G</td><td> 12284</td><td> 0.008140671</td><td>99.99185933</td><td> 0.000000000</td><td>0.000000000</td><td>0.00000000</td><td>0</td></tr>\n",
       "\t<tr><td>L1R24P1C</td><td>730</td><td>L1R24P1C_M2</td><td>2020-09-04</td><td>3</td><td>Neuron</td><td>1</td><td>2</td><td>Mouse05_Neuron_2</td><td>B2--M2</td><td>⋯</td><td>SNV1</td><td> 9461</td><td>T</td><td> 75025</td><td> 0.029323559</td><td> 0.05064978</td><td>99.914695102</td><td>0.005331556</td><td>0.00000000</td><td>0</td></tr>\n",
       "\t<tr><td>L1R24P1C</td><td>730</td><td>L1R24P1C_M2</td><td>2020-09-04</td><td>3</td><td>Neuron</td><td>1</td><td>2</td><td>Mouse05_Neuron_2</td><td>B2--M2</td><td>⋯</td><td>SNV3</td><td> 9027</td><td>G</td><td>255233</td><td> 0.014496558</td><td>99.97179048</td><td> 0.002742592</td><td>0.000000000</td><td>0.01097037</td><td>0</td></tr>\n",
       "\t<tr><td>L1R24P1C</td><td>730</td><td>L1R24P1C_M2</td><td>2020-09-04</td><td>3</td><td>Neuron</td><td>1</td><td>2</td><td>Mouse05_Neuron_2</td><td>B2--M2</td><td>⋯</td><td>SNV8</td><td>16125</td><td>A</td><td>    57</td><td>87.719298246</td><td> 0.00000000</td><td> 5.263157895</td><td>7.017543860</td><td>0.00000000</td><td>0</td></tr>\n",
       "\t<tr><td>L1R24P1C</td><td>730</td><td>L1R24P1C_M3</td><td>2020-09-04</td><td>3</td><td>Neuron</td><td>1</td><td>2</td><td>Mouse05_Neuron_2</td><td>B3--M3</td><td>⋯</td><td>SNV1</td><td> 9461</td><td>T</td><td> 86245</td><td> 0.045220013</td><td> 0.04869848</td><td>99.906081512</td><td>0.000000000</td><td>0.00000000</td><td>0</td></tr>\n",
       "</tbody>\n",
       "</table>\n"
      ],
      "text/latex": [
       "A data.table: 6 × 29\n",
       "\\begin{tabular}{lllllllllllllllllllll}\n",
       " LibraryID & ExptID & LibraryMitoID & IsolationRCADate & DIVDays & CellType & PlateID & CellID & CellUID & WellMitoBarcode & ⋯ & SNVID & pos & ref & depth & = & A & C & G & T & del\\\\\n",
       " <chr> & <int> & <chr> & <IDate> & <int> & <chr> & <int> & <int> & <chr> & <chr> & ⋯ & <chr> & <int> & <chr> & <dbl> & <dbl> & <dbl> & <dbl> & <dbl> & <dbl> & <dbl>\\\\\n",
       "\\hline\n",
       "\t L1R24P1C & 730 & L1R24P1C\\_M1 & 2020-09-04 & 3 & Neuron & 1 & 2 & Mouse05\\_Neuron\\_2 & B1--M1 & ⋯ & SNV1 &  9461 & T &  14335 &  0.048831531 &  0.04883153 & 99.902336938 & 0.000000000 & 0.00000000 & 0\\\\\n",
       "\t L1R24P1C & 730 & L1R24P1C\\_M1 & 2020-09-04 & 3 & Neuron & 1 & 2 & Mouse05\\_Neuron\\_2 & B1--M1 & ⋯ & SNV3 &  9027 & G &  12284 &  0.008140671 & 99.99185933 &  0.000000000 & 0.000000000 & 0.00000000 & 0\\\\\n",
       "\t L1R24P1C & 730 & L1R24P1C\\_M2 & 2020-09-04 & 3 & Neuron & 1 & 2 & Mouse05\\_Neuron\\_2 & B2--M2 & ⋯ & SNV1 &  9461 & T &  75025 &  0.029323559 &  0.05064978 & 99.914695102 & 0.005331556 & 0.00000000 & 0\\\\\n",
       "\t L1R24P1C & 730 & L1R24P1C\\_M2 & 2020-09-04 & 3 & Neuron & 1 & 2 & Mouse05\\_Neuron\\_2 & B2--M2 & ⋯ & SNV3 &  9027 & G & 255233 &  0.014496558 & 99.97179048 &  0.002742592 & 0.000000000 & 0.01097037 & 0\\\\\n",
       "\t L1R24P1C & 730 & L1R24P1C\\_M2 & 2020-09-04 & 3 & Neuron & 1 & 2 & Mouse05\\_Neuron\\_2 & B2--M2 & ⋯ & SNV8 & 16125 & A &     57 & 87.719298246 &  0.00000000 &  5.263157895 & 7.017543860 & 0.00000000 & 0\\\\\n",
       "\t L1R24P1C & 730 & L1R24P1C\\_M3 & 2020-09-04 & 3 & Neuron & 1 & 2 & Mouse05\\_Neuron\\_2 & B3--M3 & ⋯ & SNV1 &  9461 & T &  86245 &  0.045220013 &  0.04869848 & 99.906081512 & 0.000000000 & 0.00000000 & 0\\\\\n",
       "\\end{tabular}\n"
      ],
      "text/markdown": [
       "\n",
       "A data.table: 6 × 29\n",
       "\n",
       "| LibraryID &lt;chr&gt; | ExptID &lt;int&gt; | LibraryMitoID &lt;chr&gt; | IsolationRCADate &lt;IDate&gt; | DIVDays &lt;int&gt; | CellType &lt;chr&gt; | PlateID &lt;int&gt; | CellID &lt;int&gt; | CellUID &lt;chr&gt; | WellMitoBarcode &lt;chr&gt; | ⋯ ⋯ | SNVID &lt;chr&gt; | pos &lt;int&gt; | ref &lt;chr&gt; | depth &lt;dbl&gt; | = &lt;dbl&gt; | A &lt;dbl&gt; | C &lt;dbl&gt; | G &lt;dbl&gt; | T &lt;dbl&gt; | del &lt;dbl&gt; |\n",
       "|---|---|---|---|---|---|---|---|---|---|---|---|---|---|---|---|---|---|---|---|---|\n",
       "| L1R24P1C | 730 | L1R24P1C_M1 | 2020-09-04 | 3 | Neuron | 1 | 2 | Mouse05_Neuron_2 | B1--M1 | ⋯ | SNV1 |  9461 | T |  14335 |  0.048831531 |  0.04883153 | 99.902336938 | 0.000000000 | 0.00000000 | 0 |\n",
       "| L1R24P1C | 730 | L1R24P1C_M1 | 2020-09-04 | 3 | Neuron | 1 | 2 | Mouse05_Neuron_2 | B1--M1 | ⋯ | SNV3 |  9027 | G |  12284 |  0.008140671 | 99.99185933 |  0.000000000 | 0.000000000 | 0.00000000 | 0 |\n",
       "| L1R24P1C | 730 | L1R24P1C_M2 | 2020-09-04 | 3 | Neuron | 1 | 2 | Mouse05_Neuron_2 | B2--M2 | ⋯ | SNV1 |  9461 | T |  75025 |  0.029323559 |  0.05064978 | 99.914695102 | 0.005331556 | 0.00000000 | 0 |\n",
       "| L1R24P1C | 730 | L1R24P1C_M2 | 2020-09-04 | 3 | Neuron | 1 | 2 | Mouse05_Neuron_2 | B2--M2 | ⋯ | SNV3 |  9027 | G | 255233 |  0.014496558 | 99.97179048 |  0.002742592 | 0.000000000 | 0.01097037 | 0 |\n",
       "| L1R24P1C | 730 | L1R24P1C_M2 | 2020-09-04 | 3 | Neuron | 1 | 2 | Mouse05_Neuron_2 | B2--M2 | ⋯ | SNV8 | 16125 | A |     57 | 87.719298246 |  0.00000000 |  5.263157895 | 7.017543860 | 0.00000000 | 0 |\n",
       "| L1R24P1C | 730 | L1R24P1C_M3 | 2020-09-04 | 3 | Neuron | 1 | 2 | Mouse05_Neuron_2 | B3--M3 | ⋯ | SNV1 |  9461 | T |  86245 |  0.045220013 |  0.04869848 | 99.906081512 | 0.000000000 | 0.00000000 | 0 |\n",
       "\n"
      ],
      "text/plain": [
       "  LibraryID ExptID LibraryMitoID IsolationRCADate DIVDays CellType PlateID\n",
       "1 L1R24P1C  730    L1R24P1C_M1   2020-09-04       3       Neuron   1      \n",
       "2 L1R24P1C  730    L1R24P1C_M1   2020-09-04       3       Neuron   1      \n",
       "3 L1R24P1C  730    L1R24P1C_M2   2020-09-04       3       Neuron   1      \n",
       "4 L1R24P1C  730    L1R24P1C_M2   2020-09-04       3       Neuron   1      \n",
       "5 L1R24P1C  730    L1R24P1C_M2   2020-09-04       3       Neuron   1      \n",
       "6 L1R24P1C  730    L1R24P1C_M3   2020-09-04       3       Neuron   1      \n",
       "  CellID CellUID          WellMitoBarcode ⋯ SNVID pos   ref depth  =           \n",
       "1 2      Mouse05_Neuron_2 B1--M1          ⋯ SNV1   9461 T    14335  0.048831531\n",
       "2 2      Mouse05_Neuron_2 B1--M1          ⋯ SNV3   9027 G    12284  0.008140671\n",
       "3 2      Mouse05_Neuron_2 B2--M2          ⋯ SNV1   9461 T    75025  0.029323559\n",
       "4 2      Mouse05_Neuron_2 B2--M2          ⋯ SNV3   9027 G   255233  0.014496558\n",
       "5 2      Mouse05_Neuron_2 B2--M2          ⋯ SNV8  16125 A       57 87.719298246\n",
       "6 2      Mouse05_Neuron_2 B3--M3          ⋯ SNV1   9461 T    86245  0.045220013\n",
       "  A           C            G           T          del\n",
       "1  0.04883153 99.902336938 0.000000000 0.00000000 0  \n",
       "2 99.99185933  0.000000000 0.000000000 0.00000000 0  \n",
       "3  0.05064978 99.914695102 0.005331556 0.00000000 0  \n",
       "4 99.97179048  0.002742592 0.000000000 0.01097037 0  \n",
       "5  0.00000000  5.263157895 7.017543860 0.00000000 0  \n",
       "6  0.04869848 99.906081512 0.000000000 0.00000000 0  "
      ]
     },
     "metadata": {},
     "output_type": "display_data"
    }
   ],
   "source": [
    "head(basediffperc_cutdemux_q30_unstranded_highdepth_highaf)"
   ]
  },
  {
   "cell_type": "code",
   "execution_count": null,
   "metadata": {
    "vscode": {
     "languageId": "r"
    }
   },
   "outputs": [],
   "source": [
    "fwrite(basediffperc_cutdemux_q30_unstranded_highdepth_highaf, file = \"Report/SNVs/filter/basediffperc_cutdemux_sub500k_q30_unstranded_highdepth_highaf.csv.gz\")"
   ]
  },
  {
   "cell_type": "markdown",
   "metadata": {},
   "source": [
    "Take the overlapping SNV sites between BWA and STAR\n",
    "Note, is_by_bwa is conditioned on the SNVs called by BWA at 5%, while `is_in_range` and `is_in_primer` are irrespective to SNV calls. "
   ]
  },
  {
   "cell_type": "code",
   "execution_count": 22,
   "metadata": {
    "vscode": {
     "languageId": "r"
    }
   },
   "outputs": [
    {
     "data": {
      "text/plain": [
       "is_by_bwa\n",
       "  N   Y \n",
       " 54 896 "
      ]
     },
     "metadata": {},
     "output_type": "display_data"
    }
   ],
   "source": [
    "pos_noctrl_starvsbwa <- fread(\"Report/bwa/snv_pos_noctrl.csv\")\n",
    "pos_noctrl_starvsbwa <- na.omit(pos_noctrl_starvsbwa[, intersect(all_star, all_bwa)])\n",
    "pos_noctrl_starvsbwa <- data.table(pos = basediffperc_cutdemux_q30_unstranded_highdepth_highaf[IsCtrl == \"N\", sort(unique(pos))], is_by_bwa = ifelse(basediffperc_cutdemux_q30_unstranded_highdepth_highaf[IsCtrl == \"N\", sort(unique(pos))] %in% pos_noctrl_starvsbwa, \"Y\", \"N\"))\n",
    "pos_noctrl_starvsbwa[, table(is_by_bwa)]"
   ]
  },
  {
   "cell_type": "code",
   "execution_count": 23,
   "metadata": {
    "vscode": {
     "languageId": "r"
    }
   },
   "outputs": [
    {
     "data": {
      "text/html": [
       "838"
      ],
      "text/latex": [
       "838"
      ],
      "text/markdown": [
       "838"
      ],
      "text/plain": [
       "[1] 838"
      ]
     },
     "metadata": {},
     "output_type": "display_data"
    }
   ],
   "source": [
    "pos_noctrl_qc <- merge.data.table(pos_noctrl_starvsbwa, chrmproperties[, c(\"pos\", \"is_in_range\", \"is_in_primer\")], by = \"pos\")\n",
    "pos_noctrl_qc[is_by_bwa == \"Y\" & is_in_range == \"Y\" & is_in_primer == \"N\", .N]"
   ]
  },
  {
   "cell_type": "code",
   "execution_count": 24,
   "metadata": {
    "vscode": {
     "languageId": "r"
    }
   },
   "outputs": [
    {
     "data": {
      "text/html": [
       "<table class=\"dataframe\">\n",
       "<caption>A data.table: 6 × 4</caption>\n",
       "<thead>\n",
       "\t<tr><th scope=col>pos</th><th scope=col>is_by_bwa</th><th scope=col>is_in_range</th><th scope=col>is_in_primer</th></tr>\n",
       "\t<tr><th scope=col>&lt;int&gt;</th><th scope=col>&lt;chr&gt;</th><th scope=col>&lt;chr&gt;</th><th scope=col>&lt;chr&gt;</th></tr>\n",
       "</thead>\n",
       "<tbody>\n",
       "\t<tr><td>1213</td><td>Y</td><td>Y</td><td>Y</td></tr>\n",
       "\t<tr><td>1214</td><td>Y</td><td>Y</td><td>Y</td></tr>\n",
       "\t<tr><td>1222</td><td>Y</td><td>Y</td><td>Y</td></tr>\n",
       "\t<tr><td>1224</td><td>Y</td><td>Y</td><td>N</td></tr>\n",
       "\t<tr><td>1225</td><td>Y</td><td>Y</td><td>N</td></tr>\n",
       "\t<tr><td>1226</td><td>Y</td><td>Y</td><td>N</td></tr>\n",
       "</tbody>\n",
       "</table>\n"
      ],
      "text/latex": [
       "A data.table: 6 × 4\n",
       "\\begin{tabular}{llll}\n",
       " pos & is\\_by\\_bwa & is\\_in\\_range & is\\_in\\_primer\\\\\n",
       " <int> & <chr> & <chr> & <chr>\\\\\n",
       "\\hline\n",
       "\t 1213 & Y & Y & Y\\\\\n",
       "\t 1214 & Y & Y & Y\\\\\n",
       "\t 1222 & Y & Y & Y\\\\\n",
       "\t 1224 & Y & Y & N\\\\\n",
       "\t 1225 & Y & Y & N\\\\\n",
       "\t 1226 & Y & Y & N\\\\\n",
       "\\end{tabular}\n"
      ],
      "text/markdown": [
       "\n",
       "A data.table: 6 × 4\n",
       "\n",
       "| pos &lt;int&gt; | is_by_bwa &lt;chr&gt; | is_in_range &lt;chr&gt; | is_in_primer &lt;chr&gt; |\n",
       "|---|---|---|---|\n",
       "| 1213 | Y | Y | Y |\n",
       "| 1214 | Y | Y | Y |\n",
       "| 1222 | Y | Y | Y |\n",
       "| 1224 | Y | Y | N |\n",
       "| 1225 | Y | Y | N |\n",
       "| 1226 | Y | Y | N |\n",
       "\n"
      ],
      "text/plain": [
       "  pos  is_by_bwa is_in_range is_in_primer\n",
       "1 1213 Y         Y           Y           \n",
       "2 1214 Y         Y           Y           \n",
       "3 1222 Y         Y           Y           \n",
       "4 1224 Y         Y           N           \n",
       "5 1225 Y         Y           N           \n",
       "6 1226 Y         Y           N           "
      ]
     },
     "metadata": {},
     "output_type": "display_data"
    }
   ],
   "source": [
    "head(pos_noctrl_qc)"
   ]
  },
  {
   "cell_type": "code",
   "execution_count": null,
   "metadata": {
    "vscode": {
     "languageId": "r"
    }
   },
   "outputs": [],
   "source": [
    "fwrite(pos_noctrl_qc, file = \"Report/SNVs/filter/basediffperc_cutdemux_sub500k_q30_unstranded_highdepth_highaf_qc.csv\")"
   ]
  },
  {
   "cell_type": "markdown",
   "metadata": {},
   "source": [
    "Filter for the BWA-STAR overlapping, in-range, out-of-primers SNV sites"
   ]
  },
  {
   "cell_type": "code",
   "execution_count": 26,
   "metadata": {
    "vscode": {
     "languageId": "r"
    }
   },
   "outputs": [
    {
     "data": {
      "text/html": [
       "<style>\n",
       ".list-inline {list-style: none; margin:0; padding: 0}\n",
       ".list-inline>li {display: inline-block}\n",
       ".list-inline>li:not(:last-child)::after {content: \"\\00b7\"; padding: 0 .5ex}\n",
       "</style>\n",
       "<ol class=list-inline><li>7157</li><li>29</li></ol>\n"
      ],
      "text/latex": [
       "\\begin{enumerate*}\n",
       "\\item 7157\n",
       "\\item 29\n",
       "\\end{enumerate*}\n"
      ],
      "text/markdown": [
       "1. 7157\n",
       "2. 29\n",
       "\n",
       "\n"
      ],
      "text/plain": [
       "[1] 7157   29"
      ]
     },
     "metadata": {},
     "output_type": "display_data"
    }
   ],
   "source": [
    "basediffperc_cutdemux_q30_unstranded_highdepth_highaf_qcfltd <- basediffperc_cutdemux_q30_unstranded_highdepth_highaf[pos %in% pos_noctrl_qc[is_by_bwa == \"Y\" & is_in_range == \"Y\" & is_in_primer == \"N\", pos]]\n",
    "dim(basediffperc_cutdemux_q30_unstranded_highdepth_highaf_qcfltd)"
   ]
  },
  {
   "cell_type": "code",
   "execution_count": 27,
   "metadata": {
    "vscode": {
     "languageId": "r"
    }
   },
   "outputs": [
    {
     "data": {
      "text/html": [
       "<table class=\"dataframe\">\n",
       "<caption>A data.table: 6 × 29</caption>\n",
       "<thead>\n",
       "\t<tr><th scope=col>LibraryID</th><th scope=col>ExptID</th><th scope=col>LibraryMitoID</th><th scope=col>IsolationRCADate</th><th scope=col>DIVDays</th><th scope=col>CellType</th><th scope=col>PlateID</th><th scope=col>CellID</th><th scope=col>CellUID</th><th scope=col>WellMitoBarcode</th><th scope=col>⋯</th><th scope=col>SNVID</th><th scope=col>pos</th><th scope=col>ref</th><th scope=col>depth</th><th scope=col>=</th><th scope=col>A</th><th scope=col>C</th><th scope=col>G</th><th scope=col>T</th><th scope=col>del</th></tr>\n",
       "\t<tr><th scope=col>&lt;chr&gt;</th><th scope=col>&lt;int&gt;</th><th scope=col>&lt;chr&gt;</th><th scope=col>&lt;IDate&gt;</th><th scope=col>&lt;int&gt;</th><th scope=col>&lt;chr&gt;</th><th scope=col>&lt;int&gt;</th><th scope=col>&lt;int&gt;</th><th scope=col>&lt;chr&gt;</th><th scope=col>&lt;chr&gt;</th><th scope=col>⋯</th><th scope=col>&lt;chr&gt;</th><th scope=col>&lt;int&gt;</th><th scope=col>&lt;chr&gt;</th><th scope=col>&lt;dbl&gt;</th><th scope=col>&lt;dbl&gt;</th><th scope=col>&lt;dbl&gt;</th><th scope=col>&lt;dbl&gt;</th><th scope=col>&lt;dbl&gt;</th><th scope=col>&lt;dbl&gt;</th><th scope=col>&lt;dbl&gt;</th></tr>\n",
       "</thead>\n",
       "<tbody>\n",
       "\t<tr><td>L1R24P1C</td><td>730</td><td>L1R24P1C_M1</td><td>2020-09-04</td><td>3</td><td>Neuron</td><td>1</td><td>2</td><td>Mouse05_Neuron_2</td><td>B1--M1</td><td>⋯</td><td>SNV1</td><td> 9461</td><td>T</td><td> 14335</td><td> 0.048831531</td><td> 0.04883153</td><td>99.902336938</td><td>0.000000000</td><td>0.00000000</td><td>0</td></tr>\n",
       "\t<tr><td>L1R24P1C</td><td>730</td><td>L1R24P1C_M1</td><td>2020-09-04</td><td>3</td><td>Neuron</td><td>1</td><td>2</td><td>Mouse05_Neuron_2</td><td>B1--M1</td><td>⋯</td><td>SNV3</td><td> 9027</td><td>G</td><td> 12284</td><td> 0.008140671</td><td>99.99185933</td><td> 0.000000000</td><td>0.000000000</td><td>0.00000000</td><td>0</td></tr>\n",
       "\t<tr><td>L1R24P1C</td><td>730</td><td>L1R24P1C_M2</td><td>2020-09-04</td><td>3</td><td>Neuron</td><td>1</td><td>2</td><td>Mouse05_Neuron_2</td><td>B2--M2</td><td>⋯</td><td>SNV1</td><td> 9461</td><td>T</td><td> 75025</td><td> 0.029323559</td><td> 0.05064978</td><td>99.914695102</td><td>0.005331556</td><td>0.00000000</td><td>0</td></tr>\n",
       "\t<tr><td>L1R24P1C</td><td>730</td><td>L1R24P1C_M2</td><td>2020-09-04</td><td>3</td><td>Neuron</td><td>1</td><td>2</td><td>Mouse05_Neuron_2</td><td>B2--M2</td><td>⋯</td><td>SNV3</td><td> 9027</td><td>G</td><td>255233</td><td> 0.014496558</td><td>99.97179048</td><td> 0.002742592</td><td>0.000000000</td><td>0.01097037</td><td>0</td></tr>\n",
       "\t<tr><td>L1R24P1C</td><td>730</td><td>L1R24P1C_M2</td><td>2020-09-04</td><td>3</td><td>Neuron</td><td>1</td><td>2</td><td>Mouse05_Neuron_2</td><td>B2--M2</td><td>⋯</td><td>SNV8</td><td>16125</td><td>A</td><td>    57</td><td>87.719298246</td><td> 0.00000000</td><td> 5.263157895</td><td>7.017543860</td><td>0.00000000</td><td>0</td></tr>\n",
       "\t<tr><td>L1R24P1C</td><td>730</td><td>L1R24P1C_M3</td><td>2020-09-04</td><td>3</td><td>Neuron</td><td>1</td><td>2</td><td>Mouse05_Neuron_2</td><td>B3--M3</td><td>⋯</td><td>SNV1</td><td> 9461</td><td>T</td><td> 86245</td><td> 0.045220013</td><td> 0.04869848</td><td>99.906081512</td><td>0.000000000</td><td>0.00000000</td><td>0</td></tr>\n",
       "</tbody>\n",
       "</table>\n"
      ],
      "text/latex": [
       "A data.table: 6 × 29\n",
       "\\begin{tabular}{lllllllllllllllllllll}\n",
       " LibraryID & ExptID & LibraryMitoID & IsolationRCADate & DIVDays & CellType & PlateID & CellID & CellUID & WellMitoBarcode & ⋯ & SNVID & pos & ref & depth & = & A & C & G & T & del\\\\\n",
       " <chr> & <int> & <chr> & <IDate> & <int> & <chr> & <int> & <int> & <chr> & <chr> & ⋯ & <chr> & <int> & <chr> & <dbl> & <dbl> & <dbl> & <dbl> & <dbl> & <dbl> & <dbl>\\\\\n",
       "\\hline\n",
       "\t L1R24P1C & 730 & L1R24P1C\\_M1 & 2020-09-04 & 3 & Neuron & 1 & 2 & Mouse05\\_Neuron\\_2 & B1--M1 & ⋯ & SNV1 &  9461 & T &  14335 &  0.048831531 &  0.04883153 & 99.902336938 & 0.000000000 & 0.00000000 & 0\\\\\n",
       "\t L1R24P1C & 730 & L1R24P1C\\_M1 & 2020-09-04 & 3 & Neuron & 1 & 2 & Mouse05\\_Neuron\\_2 & B1--M1 & ⋯ & SNV3 &  9027 & G &  12284 &  0.008140671 & 99.99185933 &  0.000000000 & 0.000000000 & 0.00000000 & 0\\\\\n",
       "\t L1R24P1C & 730 & L1R24P1C\\_M2 & 2020-09-04 & 3 & Neuron & 1 & 2 & Mouse05\\_Neuron\\_2 & B2--M2 & ⋯ & SNV1 &  9461 & T &  75025 &  0.029323559 &  0.05064978 & 99.914695102 & 0.005331556 & 0.00000000 & 0\\\\\n",
       "\t L1R24P1C & 730 & L1R24P1C\\_M2 & 2020-09-04 & 3 & Neuron & 1 & 2 & Mouse05\\_Neuron\\_2 & B2--M2 & ⋯ & SNV3 &  9027 & G & 255233 &  0.014496558 & 99.97179048 &  0.002742592 & 0.000000000 & 0.01097037 & 0\\\\\n",
       "\t L1R24P1C & 730 & L1R24P1C\\_M2 & 2020-09-04 & 3 & Neuron & 1 & 2 & Mouse05\\_Neuron\\_2 & B2--M2 & ⋯ & SNV8 & 16125 & A &     57 & 87.719298246 &  0.00000000 &  5.263157895 & 7.017543860 & 0.00000000 & 0\\\\\n",
       "\t L1R24P1C & 730 & L1R24P1C\\_M3 & 2020-09-04 & 3 & Neuron & 1 & 2 & Mouse05\\_Neuron\\_2 & B3--M3 & ⋯ & SNV1 &  9461 & T &  86245 &  0.045220013 &  0.04869848 & 99.906081512 & 0.000000000 & 0.00000000 & 0\\\\\n",
       "\\end{tabular}\n"
      ],
      "text/markdown": [
       "\n",
       "A data.table: 6 × 29\n",
       "\n",
       "| LibraryID &lt;chr&gt; | ExptID &lt;int&gt; | LibraryMitoID &lt;chr&gt; | IsolationRCADate &lt;IDate&gt; | DIVDays &lt;int&gt; | CellType &lt;chr&gt; | PlateID &lt;int&gt; | CellID &lt;int&gt; | CellUID &lt;chr&gt; | WellMitoBarcode &lt;chr&gt; | ⋯ ⋯ | SNVID &lt;chr&gt; | pos &lt;int&gt; | ref &lt;chr&gt; | depth &lt;dbl&gt; | = &lt;dbl&gt; | A &lt;dbl&gt; | C &lt;dbl&gt; | G &lt;dbl&gt; | T &lt;dbl&gt; | del &lt;dbl&gt; |\n",
       "|---|---|---|---|---|---|---|---|---|---|---|---|---|---|---|---|---|---|---|---|---|\n",
       "| L1R24P1C | 730 | L1R24P1C_M1 | 2020-09-04 | 3 | Neuron | 1 | 2 | Mouse05_Neuron_2 | B1--M1 | ⋯ | SNV1 |  9461 | T |  14335 |  0.048831531 |  0.04883153 | 99.902336938 | 0.000000000 | 0.00000000 | 0 |\n",
       "| L1R24P1C | 730 | L1R24P1C_M1 | 2020-09-04 | 3 | Neuron | 1 | 2 | Mouse05_Neuron_2 | B1--M1 | ⋯ | SNV3 |  9027 | G |  12284 |  0.008140671 | 99.99185933 |  0.000000000 | 0.000000000 | 0.00000000 | 0 |\n",
       "| L1R24P1C | 730 | L1R24P1C_M2 | 2020-09-04 | 3 | Neuron | 1 | 2 | Mouse05_Neuron_2 | B2--M2 | ⋯ | SNV1 |  9461 | T |  75025 |  0.029323559 |  0.05064978 | 99.914695102 | 0.005331556 | 0.00000000 | 0 |\n",
       "| L1R24P1C | 730 | L1R24P1C_M2 | 2020-09-04 | 3 | Neuron | 1 | 2 | Mouse05_Neuron_2 | B2--M2 | ⋯ | SNV3 |  9027 | G | 255233 |  0.014496558 | 99.97179048 |  0.002742592 | 0.000000000 | 0.01097037 | 0 |\n",
       "| L1R24P1C | 730 | L1R24P1C_M2 | 2020-09-04 | 3 | Neuron | 1 | 2 | Mouse05_Neuron_2 | B2--M2 | ⋯ | SNV8 | 16125 | A |     57 | 87.719298246 |  0.00000000 |  5.263157895 | 7.017543860 | 0.00000000 | 0 |\n",
       "| L1R24P1C | 730 | L1R24P1C_M3 | 2020-09-04 | 3 | Neuron | 1 | 2 | Mouse05_Neuron_2 | B3--M3 | ⋯ | SNV1 |  9461 | T |  86245 |  0.045220013 |  0.04869848 | 99.906081512 | 0.000000000 | 0.00000000 | 0 |\n",
       "\n"
      ],
      "text/plain": [
       "  LibraryID ExptID LibraryMitoID IsolationRCADate DIVDays CellType PlateID\n",
       "1 L1R24P1C  730    L1R24P1C_M1   2020-09-04       3       Neuron   1      \n",
       "2 L1R24P1C  730    L1R24P1C_M1   2020-09-04       3       Neuron   1      \n",
       "3 L1R24P1C  730    L1R24P1C_M2   2020-09-04       3       Neuron   1      \n",
       "4 L1R24P1C  730    L1R24P1C_M2   2020-09-04       3       Neuron   1      \n",
       "5 L1R24P1C  730    L1R24P1C_M2   2020-09-04       3       Neuron   1      \n",
       "6 L1R24P1C  730    L1R24P1C_M3   2020-09-04       3       Neuron   1      \n",
       "  CellID CellUID          WellMitoBarcode ⋯ SNVID pos   ref depth  =           \n",
       "1 2      Mouse05_Neuron_2 B1--M1          ⋯ SNV1   9461 T    14335  0.048831531\n",
       "2 2      Mouse05_Neuron_2 B1--M1          ⋯ SNV3   9027 G    12284  0.008140671\n",
       "3 2      Mouse05_Neuron_2 B2--M2          ⋯ SNV1   9461 T    75025  0.029323559\n",
       "4 2      Mouse05_Neuron_2 B2--M2          ⋯ SNV3   9027 G   255233  0.014496558\n",
       "5 2      Mouse05_Neuron_2 B2--M2          ⋯ SNV8  16125 A       57 87.719298246\n",
       "6 2      Mouse05_Neuron_2 B3--M3          ⋯ SNV1   9461 T    86245  0.045220013\n",
       "  A           C            G           T          del\n",
       "1  0.04883153 99.902336938 0.000000000 0.00000000 0  \n",
       "2 99.99185933  0.000000000 0.000000000 0.00000000 0  \n",
       "3  0.05064978 99.914695102 0.005331556 0.00000000 0  \n",
       "4 99.97179048  0.002742592 0.000000000 0.01097037 0  \n",
       "5  0.00000000  5.263157895 7.017543860 0.00000000 0  \n",
       "6  0.04869848 99.906081512 0.000000000 0.00000000 0  "
      ]
     },
     "metadata": {},
     "output_type": "display_data"
    }
   ],
   "source": [
    "head(basediffperc_cutdemux_q30_unstranded_highdepth_highaf_qcfltd)"
   ]
  },
  {
   "cell_type": "code",
   "execution_count": null,
   "metadata": {
    "vscode": {
     "languageId": "r"
    }
   },
   "outputs": [],
   "source": [
    "fwrite(basediffperc_cutdemux_q30_unstranded_highdepth_highaf_qcfltd, file = \"Report/SNVs/filter/basediffperc_cutdemux_sub500k_q30_unstranded_highdepth_highaf_qcfltd.csv.gz\")"
   ]
  },
  {
   "cell_type": "markdown",
   "metadata": {},
   "source": [
    "How many mitos/cells/mice support each SNV after QC filtering?"
   ]
  },
  {
   "cell_type": "code",
   "execution_count": 29,
   "metadata": {
    "vscode": {
     "languageId": "r"
    }
   },
   "outputs": [
    {
     "data": {
      "text/html": [
       "<style>\n",
       ".list-inline {list-style: none; margin:0; padding: 0}\n",
       ".list-inline>li {display: inline-block}\n",
       ".list-inline>li:not(:last-child)::after {content: \"\\00b7\"; padding: 0 .5ex}\n",
       "</style>\n",
       "<ol class=list-inline><li>6763</li><li>29</li></ol>\n"
      ],
      "text/latex": [
       "\\begin{enumerate*}\n",
       "\\item 6763\n",
       "\\item 29\n",
       "\\end{enumerate*}\n"
      ],
      "text/markdown": [
       "1. 6763\n",
       "2. 29\n",
       "\n",
       "\n"
      ],
      "text/plain": [
       "[1] 6763   29"
      ]
     },
     "metadata": {},
     "output_type": "display_data"
    }
   ],
   "source": [
    "basediffperc_cutdemux_q30_unstranded_highdepth_highaf_qcfltd_noctrl <- basediffperc_cutdemux_q30_unstranded_highdepth_highaf_qcfltd[IsCtrl == \"N\"]\n",
    "dim(basediffperc_cutdemux_q30_unstranded_highdepth_highaf_qcfltd_noctrl)"
   ]
  },
  {
   "cell_type": "code",
   "execution_count": 30,
   "metadata": {
    "vscode": {
     "languageId": "r"
    }
   },
   "outputs": [],
   "source": [
    "basediffperc_cutdemux_q30_unstranded_highdepth_highaf_qcfltd_noctrl[ref == \"A\", A := `=`]\n",
    "basediffperc_cutdemux_q30_unstranded_highdepth_highaf_qcfltd_noctrl[ref == \"C\", C := `=`]\n",
    "basediffperc_cutdemux_q30_unstranded_highdepth_highaf_qcfltd_noctrl[ref == \"G\", G := `=`]\n",
    "basediffperc_cutdemux_q30_unstranded_highdepth_highaf_qcfltd_noctrl[ref == \"T\", T := `=`]"
   ]
  },
  {
   "cell_type": "code",
   "execution_count": 31,
   "metadata": {
    "vscode": {
     "languageId": "r"
    }
   },
   "outputs": [
    {
     "data": {
      "text/html": [
       "<style>\n",
       ".list-inline {list-style: none; margin:0; padding: 0}\n",
       ".list-inline>li {display: inline-block}\n",
       ".list-inline>li:not(:last-child)::after {content: \"\\00b7\"; padding: 0 .5ex}\n",
       "</style>\n",
       "<ol class=list-inline><li>33815</li><li>26</li></ol>\n"
      ],
      "text/latex": [
       "\\begin{enumerate*}\n",
       "\\item 33815\n",
       "\\item 26\n",
       "\\end{enumerate*}\n"
      ],
      "text/markdown": [
       "1. 33815\n",
       "2. 26\n",
       "\n",
       "\n"
      ],
      "text/plain": [
       "[1] 33815    26"
      ]
     },
     "metadata": {},
     "output_type": "display_data"
    }
   ],
   "source": [
    "basediffperc_cutdemux_q30_unstranded_highdepth_highaf_qcfltd_noctrl <- melt.data.table(basediffperc_cutdemux_q30_unstranded_highdepth_highaf_qcfltd_noctrl, measure.vars = c(\"A\", \"C\", \"G\", \"T\", \"del\"), variable.name = \"alt\", value.name = \"altperc\")\n",
    "setnames(basediffperc_cutdemux_q30_unstranded_highdepth_highaf_qcfltd_noctrl, \"=\", \"refperc\")\n",
    "dim(basediffperc_cutdemux_q30_unstranded_highdepth_highaf_qcfltd_noctrl)"
   ]
  },
  {
   "cell_type": "markdown",
   "metadata": {},
   "source": [
    "Keep only variant alleles"
   ]
  },
  {
   "cell_type": "code",
   "execution_count": 32,
   "metadata": {
    "vscode": {
     "languageId": "r"
    }
   },
   "outputs": [
    {
     "data": {
      "text/html": [
       "<style>\n",
       ".list-inline {list-style: none; margin:0; padding: 0}\n",
       ".list-inline>li {display: inline-block}\n",
       ".list-inline>li:not(:last-child)::after {content: \"\\00b7\"; padding: 0 .5ex}\n",
       "</style>\n",
       "<ol class=list-inline><li>27052</li><li>26</li></ol>\n"
      ],
      "text/latex": [
       "\\begin{enumerate*}\n",
       "\\item 27052\n",
       "\\item 26\n",
       "\\end{enumerate*}\n"
      ],
      "text/markdown": [
       "1. 27052\n",
       "2. 26\n",
       "\n",
       "\n"
      ],
      "text/plain": [
       "[1] 27052    26"
      ]
     },
     "metadata": {},
     "output_type": "display_data"
    }
   ],
   "source": [
    "basediffperc_cutdemux_q30_unstranded_highdepth_highaf_qcfltd_noctrl <- basediffperc_cutdemux_q30_unstranded_highdepth_highaf_qcfltd_noctrl[ref != alt]\n",
    "dim(basediffperc_cutdemux_q30_unstranded_highdepth_highaf_qcfltd_noctrl)"
   ]
  },
  {
   "cell_type": "code",
   "execution_count": 33,
   "metadata": {
    "vscode": {
     "languageId": "r"
    }
   },
   "outputs": [
    {
     "data": {
      "text/plain": [
       "   Min. 1st Qu.  Median    Mean 3rd Qu.    Max. \n",
       "  0.000   0.000   0.000  10.857   5.085 100.000 "
      ]
     },
     "metadata": {},
     "output_type": "display_data"
    }
   ],
   "source": [
    "basediffperc_cutdemux_q30_unstranded_highdepth_highaf_qcfltd_noctrl[, summary(altperc)]\n",
    "##    Min. 1st Qu.  Median    Mean 3rd Qu.    Max."
   ]
  },
  {
   "cell_type": "markdown",
   "metadata": {},
   "source": [
    "Keep only variant alleles whose AF are >= 5% "
   ]
  },
  {
   "cell_type": "code",
   "execution_count": 34,
   "metadata": {
    "vscode": {
     "languageId": "r"
    }
   },
   "outputs": [
    {
     "data": {
      "text/html": [
       "<style>\n",
       ".list-inline {list-style: none; margin:0; padding: 0}\n",
       ".list-inline>li {display: inline-block}\n",
       ".list-inline>li:not(:last-child)::after {content: \"\\00b7\"; padding: 0 .5ex}\n",
       "</style>\n",
       "<ol class=list-inline><li>6863</li><li>26</li></ol>\n"
      ],
      "text/latex": [
       "\\begin{enumerate*}\n",
       "\\item 6863\n",
       "\\item 26\n",
       "\\end{enumerate*}\n"
      ],
      "text/markdown": [
       "1. 6863\n",
       "2. 26\n",
       "\n",
       "\n"
      ],
      "text/plain": [
       "[1] 6863   26"
      ]
     },
     "metadata": {},
     "output_type": "display_data"
    }
   ],
   "source": [
    "vaf_th <- 0.05\n",
    "basediffperc_cutdemux_q30_unstranded_highdepth_highaf_qcfltd_noctrl <- basediffperc_cutdemux_q30_unstranded_highdepth_highaf_qcfltd_noctrl[altperc >= vaf_th * 100]\n",
    "dim(basediffperc_cutdemux_q30_unstranded_highdepth_highaf_qcfltd_noctrl)"
   ]
  },
  {
   "cell_type": "code",
   "execution_count": 35,
   "metadata": {
    "vscode": {
     "languageId": "r"
    }
   },
   "outputs": [
    {
     "data": {
      "text/html": [
       "<style>\n",
       ".list-inline {list-style: none; margin:0; padding: 0}\n",
       ".list-inline>li {display: inline-block}\n",
       ".list-inline>li:not(:last-child)::after {content: \"\\00b7\"; padding: 0 .5ex}\n",
       "</style>\n",
       "<ol class=list-inline><li>6863</li><li>28</li></ol>\n"
      ],
      "text/latex": [
       "\\begin{enumerate*}\n",
       "\\item 6863\n",
       "\\item 28\n",
       "\\end{enumerate*}\n"
      ],
      "text/markdown": [
       "1. 6863\n",
       "2. 28\n",
       "\n",
       "\n"
      ],
      "text/plain": [
       "[1] 6863   28"
      ]
     },
     "metadata": {},
     "output_type": "display_data"
    }
   ],
   "source": [
    "basediffperc_cutdemux_q30_unstranded_highdepth_highaf_qcfltd_noctrl[, alt := factor(alt, levels = c(\"A\", \"C\", \"G\", \"T\", \"del\"))]\n",
    "basediffperc_cutdemux_q30_unstranded_highdepth_highaf_qcfltd_noctrl[, mut := factor(paste0(ref, \">\", alt), levels = paste0(rep(c(\"A\", \"C\", \"G\", \"T\"), each = 5), \">\", c(\"A\", \"C\", \"G\", \"T\", \"del\")))]\n",
    "setkey(basediffperc_cutdemux_q30_unstranded_highdepth_highaf_qcfltd_noctrl, pos, alt)\n",
    "basediffperc_cutdemux_q30_unstranded_highdepth_highaf_qcfltd_noctrl[, posmut := paste0(pos, \":\", mut)]\n",
    "basediffperc_cutdemux_q30_unstranded_highdepth_highaf_qcfltd_noctrl[, posmut := factor(posmut, levels = unique(posmut))]\n",
    "dim(basediffperc_cutdemux_q30_unstranded_highdepth_highaf_qcfltd_noctrl)"
   ]
  },
  {
   "cell_type": "code",
   "execution_count": 36,
   "metadata": {
    "vscode": {
     "languageId": "r"
    }
   },
   "outputs": [
    {
     "data": {
      "text/plain": [
       "   Min. 1st Qu.  Median    Mean 3rd Qu.    Max. \n",
       "  5.000   7.317  15.855  42.322  96.926 100.000 "
      ]
     },
     "metadata": {},
     "output_type": "display_data"
    }
   ],
   "source": [
    "basediffperc_cutdemux_q30_unstranded_highdepth_highaf_qcfltd_noctrl[, summary(altperc)]"
   ]
  },
  {
   "cell_type": "markdown",
   "metadata": {},
   "source": [
    "Get the number of sample support by variant alleles"
   ]
  },
  {
   "cell_type": "code",
   "execution_count": 37,
   "metadata": {
    "vscode": {
     "languageId": "r"
    }
   },
   "outputs": [
    {
     "data": {
      "text/html": [
       "<style>\n",
       ".list-inline {list-style: none; margin:0; padding: 0}\n",
       ".list-inline>li {display: inline-block}\n",
       ".list-inline>li:not(:last-child)::after {content: \"\\00b7\"; padding: 0 .5ex}\n",
       "</style>\n",
       "<ol class=list-inline><li>1032</li><li>5</li></ol>\n"
      ],
      "text/latex": [
       "\\begin{enumerate*}\n",
       "\\item 1032\n",
       "\\item 5\n",
       "\\end{enumerate*}\n"
      ],
      "text/markdown": [
       "1. 1032\n",
       "2. 5\n",
       "\n",
       "\n"
      ],
      "text/plain": [
       "[1] 1032    5"
      ]
     },
     "metadata": {},
     "output_type": "display_data"
    }
   ],
   "source": [
    "basediffperc_cutdemux_q30_unstranded_highdepth_highaf_qcfltd_support <- basediffperc_cutdemux_q30_unstranded_highdepth_highaf_qcfltd_noctrl[, list(SNVID = unique(SNVID), nmice = uniqueN(MouseID), ncells = uniqueN(CellUID), nmitos = uniqueN(LibraryMitoID)), by = \"posmut\"]\n",
    "dim(basediffperc_cutdemux_q30_unstranded_highdepth_highaf_qcfltd_support)"
   ]
  },
  {
   "cell_type": "code",
   "execution_count": 38,
   "metadata": {
    "vscode": {
     "languageId": "r"
    }
   },
   "outputs": [],
   "source": [
    "basediffperc_cutdemux_q30_unstranded_highdepth_highaf_qcfltd_support[, pos := as.integer(sapply(strsplit(as.character(posmut), \":\"), '[', 1))]\n",
    "basediffperc_cutdemux_q30_unstranded_highdepth_highaf_qcfltd_support[, mut := sapply(strsplit(as.character(posmut), \":\"), '[', 2)]\n",
    "basediffperc_cutdemux_q30_unstranded_highdepth_highaf_qcfltd_support[, ref := sapply(strsplit(as.character(mut), \">\"), '[', 1)]\n",
    "basediffperc_cutdemux_q30_unstranded_highdepth_highaf_qcfltd_support[, alt := sapply(strsplit(as.character(mut), \">\"), '[', 2)]\n",
    "setcolorder(basediffperc_cutdemux_q30_unstranded_highdepth_highaf_qcfltd_support, c(\"posmut\", \"SNVID\", \"pos\", \"mut\", \"ref\", \"alt\", \"nmice\", \"ncells\", \"nmitos\"))"
   ]
  },
  {
   "cell_type": "code",
   "execution_count": 39,
   "metadata": {
    "vscode": {
     "languageId": "r"
    }
   },
   "outputs": [
    {
     "data": {
      "text/html": [
       "<table class=\"dataframe\">\n",
       "<caption>A data.table: 6 × 9</caption>\n",
       "<thead>\n",
       "\t<tr><th scope=col>posmut</th><th scope=col>SNVID</th><th scope=col>pos</th><th scope=col>mut</th><th scope=col>ref</th><th scope=col>alt</th><th scope=col>nmice</th><th scope=col>ncells</th><th scope=col>nmitos</th></tr>\n",
       "\t<tr><th scope=col>&lt;fct&gt;</th><th scope=col>&lt;chr&gt;</th><th scope=col>&lt;int&gt;</th><th scope=col>&lt;chr&gt;</th><th scope=col>&lt;chr&gt;</th><th scope=col>&lt;chr&gt;</th><th scope=col>&lt;int&gt;</th><th scope=col>&lt;int&gt;</th><th scope=col>&lt;int&gt;</th></tr>\n",
       "</thead>\n",
       "<tbody>\n",
       "\t<tr><td>1224:A&gt;G</td><td>SNV12</td><td>1224</td><td>A&gt;G</td><td>A</td><td>G</td><td>3</td><td>5</td><td>5</td></tr>\n",
       "\t<tr><td>1224:A&gt;T</td><td>SNV12</td><td>1224</td><td>A&gt;T</td><td>A</td><td>T</td><td>1</td><td>2</td><td>3</td></tr>\n",
       "\t<tr><td>1225:G&gt;A</td><td>SNV12</td><td>1225</td><td>G&gt;A</td><td>G</td><td>A</td><td>2</td><td>2</td><td>2</td></tr>\n",
       "\t<tr><td>1226:A&gt;G</td><td>SNV12</td><td>1226</td><td>A&gt;G</td><td>A</td><td>G</td><td>1</td><td>1</td><td>1</td></tr>\n",
       "\t<tr><td>1228:G&gt;A</td><td>SNV12</td><td>1228</td><td>G&gt;A</td><td>G</td><td>A</td><td>3</td><td>4</td><td>6</td></tr>\n",
       "\t<tr><td>1228:G&gt;T</td><td>SNV12</td><td>1228</td><td>G&gt;T</td><td>G</td><td>T</td><td>1</td><td>1</td><td>1</td></tr>\n",
       "</tbody>\n",
       "</table>\n"
      ],
      "text/latex": [
       "A data.table: 6 × 9\n",
       "\\begin{tabular}{lllllllll}\n",
       " posmut & SNVID & pos & mut & ref & alt & nmice & ncells & nmitos\\\\\n",
       " <fct> & <chr> & <int> & <chr> & <chr> & <chr> & <int> & <int> & <int>\\\\\n",
       "\\hline\n",
       "\t 1224:A>G & SNV12 & 1224 & A>G & A & G & 3 & 5 & 5\\\\\n",
       "\t 1224:A>T & SNV12 & 1224 & A>T & A & T & 1 & 2 & 3\\\\\n",
       "\t 1225:G>A & SNV12 & 1225 & G>A & G & A & 2 & 2 & 2\\\\\n",
       "\t 1226:A>G & SNV12 & 1226 & A>G & A & G & 1 & 1 & 1\\\\\n",
       "\t 1228:G>A & SNV12 & 1228 & G>A & G & A & 3 & 4 & 6\\\\\n",
       "\t 1228:G>T & SNV12 & 1228 & G>T & G & T & 1 & 1 & 1\\\\\n",
       "\\end{tabular}\n"
      ],
      "text/markdown": [
       "\n",
       "A data.table: 6 × 9\n",
       "\n",
       "| posmut &lt;fct&gt; | SNVID &lt;chr&gt; | pos &lt;int&gt; | mut &lt;chr&gt; | ref &lt;chr&gt; | alt &lt;chr&gt; | nmice &lt;int&gt; | ncells &lt;int&gt; | nmitos &lt;int&gt; |\n",
       "|---|---|---|---|---|---|---|---|---|\n",
       "| 1224:A&gt;G | SNV12 | 1224 | A&gt;G | A | G | 3 | 5 | 5 |\n",
       "| 1224:A&gt;T | SNV12 | 1224 | A&gt;T | A | T | 1 | 2 | 3 |\n",
       "| 1225:G&gt;A | SNV12 | 1225 | G&gt;A | G | A | 2 | 2 | 2 |\n",
       "| 1226:A&gt;G | SNV12 | 1226 | A&gt;G | A | G | 1 | 1 | 1 |\n",
       "| 1228:G&gt;A | SNV12 | 1228 | G&gt;A | G | A | 3 | 4 | 6 |\n",
       "| 1228:G&gt;T | SNV12 | 1228 | G&gt;T | G | T | 1 | 1 | 1 |\n",
       "\n"
      ],
      "text/plain": [
       "  posmut   SNVID pos  mut ref alt nmice ncells nmitos\n",
       "1 1224:A>G SNV12 1224 A>G A   G   3     5      5     \n",
       "2 1224:A>T SNV12 1224 A>T A   T   1     2      3     \n",
       "3 1225:G>A SNV12 1225 G>A G   A   2     2      2     \n",
       "4 1226:A>G SNV12 1226 A>G A   G   1     1      1     \n",
       "5 1228:G>A SNV12 1228 G>A G   A   3     4      6     \n",
       "6 1228:G>T SNV12 1228 G>T G   T   1     1      1     "
      ]
     },
     "metadata": {},
     "output_type": "display_data"
    }
   ],
   "source": [
    "head(basediffperc_cutdemux_q30_unstranded_highdepth_highaf_qcfltd_support)"
   ]
  },
  {
   "cell_type": "code",
   "execution_count": 40,
   "metadata": {
    "vscode": {
     "languageId": "r"
    }
   },
   "outputs": [
    {
     "data": {
      "text/html": [
       "<table class=\"dataframe\">\n",
       "<caption>A data.table: 6 × 9</caption>\n",
       "<thead>\n",
       "\t<tr><th scope=col>posmut</th><th scope=col>SNVID</th><th scope=col>pos</th><th scope=col>mut</th><th scope=col>ref</th><th scope=col>alt</th><th scope=col>nmice</th><th scope=col>ncells</th><th scope=col>nmitos</th></tr>\n",
       "\t<tr><th scope=col>&lt;fct&gt;</th><th scope=col>&lt;chr&gt;</th><th scope=col>&lt;int&gt;</th><th scope=col>&lt;chr&gt;</th><th scope=col>&lt;chr&gt;</th><th scope=col>&lt;chr&gt;</th><th scope=col>&lt;int&gt;</th><th scope=col>&lt;int&gt;</th><th scope=col>&lt;int&gt;</th></tr>\n",
       "</thead>\n",
       "<tbody>\n",
       "\t<tr><td>1224:A&gt;G</td><td>SNV12</td><td>1224</td><td>A&gt;G</td><td>A</td><td>G</td><td>3</td><td>5</td><td>5</td></tr>\n",
       "\t<tr><td>1224:A&gt;T</td><td>SNV12</td><td>1224</td><td>A&gt;T</td><td>A</td><td>T</td><td>1</td><td>2</td><td>3</td></tr>\n",
       "\t<tr><td>1225:G&gt;A</td><td>SNV12</td><td>1225</td><td>G&gt;A</td><td>G</td><td>A</td><td>2</td><td>2</td><td>2</td></tr>\n",
       "\t<tr><td>1226:A&gt;G</td><td>SNV12</td><td>1226</td><td>A&gt;G</td><td>A</td><td>G</td><td>1</td><td>1</td><td>1</td></tr>\n",
       "\t<tr><td>1228:G&gt;A</td><td>SNV12</td><td>1228</td><td>G&gt;A</td><td>G</td><td>A</td><td>3</td><td>4</td><td>6</td></tr>\n",
       "\t<tr><td>1228:G&gt;T</td><td>SNV12</td><td>1228</td><td>G&gt;T</td><td>G</td><td>T</td><td>1</td><td>1</td><td>1</td></tr>\n",
       "</tbody>\n",
       "</table>\n"
      ],
      "text/latex": [
       "A data.table: 6 × 9\n",
       "\\begin{tabular}{lllllllll}\n",
       " posmut & SNVID & pos & mut & ref & alt & nmice & ncells & nmitos\\\\\n",
       " <fct> & <chr> & <int> & <chr> & <chr> & <chr> & <int> & <int> & <int>\\\\\n",
       "\\hline\n",
       "\t 1224:A>G & SNV12 & 1224 & A>G & A & G & 3 & 5 & 5\\\\\n",
       "\t 1224:A>T & SNV12 & 1224 & A>T & A & T & 1 & 2 & 3\\\\\n",
       "\t 1225:G>A & SNV12 & 1225 & G>A & G & A & 2 & 2 & 2\\\\\n",
       "\t 1226:A>G & SNV12 & 1226 & A>G & A & G & 1 & 1 & 1\\\\\n",
       "\t 1228:G>A & SNV12 & 1228 & G>A & G & A & 3 & 4 & 6\\\\\n",
       "\t 1228:G>T & SNV12 & 1228 & G>T & G & T & 1 & 1 & 1\\\\\n",
       "\\end{tabular}\n"
      ],
      "text/markdown": [
       "\n",
       "A data.table: 6 × 9\n",
       "\n",
       "| posmut &lt;fct&gt; | SNVID &lt;chr&gt; | pos &lt;int&gt; | mut &lt;chr&gt; | ref &lt;chr&gt; | alt &lt;chr&gt; | nmice &lt;int&gt; | ncells &lt;int&gt; | nmitos &lt;int&gt; |\n",
       "|---|---|---|---|---|---|---|---|---|\n",
       "| 1224:A&gt;G | SNV12 | 1224 | A&gt;G | A | G | 3 | 5 | 5 |\n",
       "| 1224:A&gt;T | SNV12 | 1224 | A&gt;T | A | T | 1 | 2 | 3 |\n",
       "| 1225:G&gt;A | SNV12 | 1225 | G&gt;A | G | A | 2 | 2 | 2 |\n",
       "| 1226:A&gt;G | SNV12 | 1226 | A&gt;G | A | G | 1 | 1 | 1 |\n",
       "| 1228:G&gt;A | SNV12 | 1228 | G&gt;A | G | A | 3 | 4 | 6 |\n",
       "| 1228:G&gt;T | SNV12 | 1228 | G&gt;T | G | T | 1 | 1 | 1 |\n",
       "\n"
      ],
      "text/plain": [
       "  posmut   SNVID pos  mut ref alt nmice ncells nmitos\n",
       "1 1224:A>G SNV12 1224 A>G A   G   3     5      5     \n",
       "2 1224:A>T SNV12 1224 A>T A   T   1     2      3     \n",
       "3 1225:G>A SNV12 1225 G>A G   A   2     2      2     \n",
       "4 1226:A>G SNV12 1226 A>G A   G   1     1      1     \n",
       "5 1228:G>A SNV12 1228 G>A G   A   3     4      6     \n",
       "6 1228:G>T SNV12 1228 G>T G   T   1     1      1     "
      ]
     },
     "metadata": {},
     "output_type": "display_data"
    }
   ],
   "source": [
    "head(basediffperc_cutdemux_q30_unstranded_highdepth_highaf_qcfltd_support)"
   ]
  },
  {
   "cell_type": "code",
   "execution_count": null,
   "metadata": {
    "vscode": {
     "languageId": "r"
    }
   },
   "outputs": [],
   "source": [
    "fwrite(basediffperc_cutdemux_q30_unstranded_highdepth_highaf_qcfltd_support, file = \"Report/SNVs/filter/basediffperc_cutdemux_sub500k_q30_unstranded_highdepth_highaf_qcfltd_support_byposmut.csv\")"
   ]
  },
  {
   "cell_type": "markdown",
   "metadata": {},
   "source": [
    "Get the number of sample support by SNV site"
   ]
  },
  {
   "cell_type": "code",
   "execution_count": 42,
   "metadata": {
    "vscode": {
     "languageId": "r"
    }
   },
   "outputs": [
    {
     "data": {
      "text/html": [
       "<style>\n",
       ".list-inline {list-style: none; margin:0; padding: 0}\n",
       ".list-inline>li {display: inline-block}\n",
       ".list-inline>li:not(:last-child)::after {content: \"\\00b7\"; padding: 0 .5ex}\n",
       "</style>\n",
       "<ol class=list-inline><li>838</li><li>5</li></ol>\n"
      ],
      "text/latex": [
       "\\begin{enumerate*}\n",
       "\\item 838\n",
       "\\item 5\n",
       "\\end{enumerate*}\n"
      ],
      "text/markdown": [
       "1. 838\n",
       "2. 5\n",
       "\n",
       "\n"
      ],
      "text/plain": [
       "[1] 838   5"
      ]
     },
     "metadata": {},
     "output_type": "display_data"
    }
   ],
   "source": [
    "basediffperc_cutdemux_q30_unstranded_highdepth_highaf_qcfltd_support <- basediffperc_cutdemux_q30_unstranded_highdepth_highaf_qcfltd[IsCtrl == \"N\", list(SNVID = unique(SNVID), nmice = uniqueN(MouseID), ncells = uniqueN(CellUID), nmitos = uniqueN(LibraryMitoID)), by = \"pos\"]\n",
    "dim(basediffperc_cutdemux_q30_unstranded_highdepth_highaf_qcfltd_support)"
   ]
  },
  {
   "cell_type": "code",
   "execution_count": 43,
   "metadata": {
    "vscode": {
     "languageId": "r"
    }
   },
   "outputs": [
    {
     "data": {
      "text/html": [
       "<table class=\"dataframe\">\n",
       "<caption>A data.table: 6 × 5</caption>\n",
       "<thead>\n",
       "\t<tr><th scope=col>pos</th><th scope=col>SNVID</th><th scope=col>nmice</th><th scope=col>ncells</th><th scope=col>nmitos</th></tr>\n",
       "\t<tr><th scope=col>&lt;int&gt;</th><th scope=col>&lt;chr&gt;</th><th scope=col>&lt;int&gt;</th><th scope=col>&lt;int&gt;</th><th scope=col>&lt;int&gt;</th></tr>\n",
       "</thead>\n",
       "<tbody>\n",
       "\t<tr><td> 9461</td><td>SNV1</td><td>13</td><td>100</td><td>1198</td></tr>\n",
       "\t<tr><td> 9027</td><td>SNV3</td><td>13</td><td>100</td><td>1308</td></tr>\n",
       "\t<tr><td>16125</td><td>SNV8</td><td>13</td><td> 62</td><td> 187</td></tr>\n",
       "\t<tr><td>16073</td><td>SNV8</td><td> 7</td><td>  7</td><td>   9</td></tr>\n",
       "\t<tr><td>16092</td><td>SNV8</td><td>11</td><td> 29</td><td>  52</td></tr>\n",
       "\t<tr><td>16099</td><td>SNV8</td><td>12</td><td> 44</td><td> 174</td></tr>\n",
       "</tbody>\n",
       "</table>\n"
      ],
      "text/latex": [
       "A data.table: 6 × 5\n",
       "\\begin{tabular}{lllll}\n",
       " pos & SNVID & nmice & ncells & nmitos\\\\\n",
       " <int> & <chr> & <int> & <int> & <int>\\\\\n",
       "\\hline\n",
       "\t  9461 & SNV1 & 13 & 100 & 1198\\\\\n",
       "\t  9027 & SNV3 & 13 & 100 & 1308\\\\\n",
       "\t 16125 & SNV8 & 13 &  62 &  187\\\\\n",
       "\t 16073 & SNV8 &  7 &   7 &    9\\\\\n",
       "\t 16092 & SNV8 & 11 &  29 &   52\\\\\n",
       "\t 16099 & SNV8 & 12 &  44 &  174\\\\\n",
       "\\end{tabular}\n"
      ],
      "text/markdown": [
       "\n",
       "A data.table: 6 × 5\n",
       "\n",
       "| pos &lt;int&gt; | SNVID &lt;chr&gt; | nmice &lt;int&gt; | ncells &lt;int&gt; | nmitos &lt;int&gt; |\n",
       "|---|---|---|---|---|\n",
       "|  9461 | SNV1 | 13 | 100 | 1198 |\n",
       "|  9027 | SNV3 | 13 | 100 | 1308 |\n",
       "| 16125 | SNV8 | 13 |  62 |  187 |\n",
       "| 16073 | SNV8 |  7 |   7 |    9 |\n",
       "| 16092 | SNV8 | 11 |  29 |   52 |\n",
       "| 16099 | SNV8 | 12 |  44 |  174 |\n",
       "\n"
      ],
      "text/plain": [
       "  pos   SNVID nmice ncells nmitos\n",
       "1  9461 SNV1  13    100    1198  \n",
       "2  9027 SNV3  13    100    1308  \n",
       "3 16125 SNV8  13     62     187  \n",
       "4 16073 SNV8   7      7       9  \n",
       "5 16092 SNV8  11     29      52  \n",
       "6 16099 SNV8  12     44     174  "
      ]
     },
     "metadata": {},
     "output_type": "display_data"
    }
   ],
   "source": [
    "head(basediffperc_cutdemux_q30_unstranded_highdepth_highaf_qcfltd_support)"
   ]
  },
  {
   "cell_type": "code",
   "execution_count": null,
   "metadata": {
    "vscode": {
     "languageId": "r"
    }
   },
   "outputs": [],
   "source": [
    "fwrite(basediffperc_cutdemux_q30_unstranded_highdepth_highaf_qcfltd_support, file = \"Report/SNVs/filter/basediffperc_cutdemux_sub500k_q30_unstranded_highdepth_highaf_qcfltd_support_bypos.csv\")"
   ]
  },
  {
   "cell_type": "markdown",
   "metadata": {},
   "source": [
    "Before filtering for nmitos/ncells/nmice >= k SNVs, first output them all"
   ]
  },
  {
   "cell_type": "code",
   "execution_count": 45,
   "metadata": {
    "vscode": {
     "languageId": "r"
    }
   },
   "outputs": [
    {
     "data": {
      "text/html": [
       "<style>\n",
       ".list-inline {list-style: none; margin:0; padding: 0}\n",
       ".list-inline>li {display: inline-block}\n",
       ".list-inline>li:not(:last-child)::after {content: \"\\00b7\"; padding: 0 .5ex}\n",
       "</style>\n",
       "<ol class=list-inline><li>832872</li><li>29</li></ol>\n"
      ],
      "text/latex": [
       "\\begin{enumerate*}\n",
       "\\item 832872\n",
       "\\item 29\n",
       "\\end{enumerate*}\n"
      ],
      "text/markdown": [
       "1. 832872\n",
       "2. 29\n",
       "\n",
       "\n"
      ],
      "text/plain": [
       "[1] 832872     29"
      ]
     },
     "metadata": {},
     "output_type": "display_data"
    }
   ],
   "source": [
    "basediffperc_cutdemux_q30_unstranded_highdepth <- fread(\"Report/SNVs/filter/basediffperc_cutdemux_sub500k_q30_unstranded_highdepth.csv.gz\")\n",
    "basediffperc_cutdemux_q30_unstranded_highdepth_highaf_qcfltd_support_byposmut <- fread(file = \"Report/SNVs/filter/basediffperc_cutdemux_sub500k_q30_unstranded_highdepth_highaf_qcfltd_support_byposmut.csv\")\n",
    "basediffperc_cutdemux_q30_unstranded_highdepth_qcfltd <- basediffperc_cutdemux_q30_unstranded_highdepth[pos %in% basediffperc_cutdemux_q30_unstranded_highdepth_highaf_qcfltd_support_byposmut[, pos]]\n",
    "dim(basediffperc_cutdemux_q30_unstranded_highdepth_qcfltd)"
   ]
  },
  {
   "cell_type": "code",
   "execution_count": 46,
   "metadata": {
    "vscode": {
     "languageId": "r"
    }
   },
   "outputs": [],
   "source": [
    "basediffperc_cutdemux_q30_unstranded_highdepth_qcfltd[ref == \"A\", A := `=`]\n",
    "basediffperc_cutdemux_q30_unstranded_highdepth_qcfltd[ref == \"C\", C := `=`]\n",
    "basediffperc_cutdemux_q30_unstranded_highdepth_qcfltd[ref == \"G\", G := `=`]\n",
    "basediffperc_cutdemux_q30_unstranded_highdepth_qcfltd[ref == \"T\", T := `=`]"
   ]
  },
  {
   "cell_type": "code",
   "execution_count": 47,
   "metadata": {
    "vscode": {
     "languageId": "r"
    }
   },
   "outputs": [
    {
     "data": {
      "text/html": [
       "<style>\n",
       ".list-inline {list-style: none; margin:0; padding: 0}\n",
       ".list-inline>li {display: inline-block}\n",
       ".list-inline>li:not(:last-child)::after {content: \"\\00b7\"; padding: 0 .5ex}\n",
       "</style>\n",
       "<ol class=list-inline><li>4164360</li><li>26</li></ol>\n"
      ],
      "text/latex": [
       "\\begin{enumerate*}\n",
       "\\item 4164360\n",
       "\\item 26\n",
       "\\end{enumerate*}\n"
      ],
      "text/markdown": [
       "1. 4164360\n",
       "2. 26\n",
       "\n",
       "\n"
      ],
      "text/plain": [
       "[1] 4164360      26"
      ]
     },
     "metadata": {},
     "output_type": "display_data"
    }
   ],
   "source": [
    "basediffperc_cutdemux_q30_unstranded_highdepth_qcfltd <- melt.data.table(basediffperc_cutdemux_q30_unstranded_highdepth_qcfltd, measure.vars = c(\"A\", \"C\", \"G\", \"T\", \"del\"), variable.name = \"alt\", value.name = \"altperc\")\n",
    "setnames(basediffperc_cutdemux_q30_unstranded_highdepth_qcfltd, \"=\", \"refperc\")\n",
    "dim(basediffperc_cutdemux_q30_unstranded_highdepth_qcfltd)"
   ]
  },
  {
   "cell_type": "code",
   "execution_count": 48,
   "metadata": {
    "vscode": {
     "languageId": "r"
    }
   },
   "outputs": [
    {
     "data": {
      "text/html": [
       "<style>\n",
       ".list-inline {list-style: none; margin:0; padding: 0}\n",
       ".list-inline>li {display: inline-block}\n",
       ".list-inline>li:not(:last-child)::after {content: \"\\00b7\"; padding: 0 .5ex}\n",
       "</style>\n",
       "<ol class=list-inline><li>3331488</li><li>26</li></ol>\n"
      ],
      "text/latex": [
       "\\begin{enumerate*}\n",
       "\\item 3331488\n",
       "\\item 26\n",
       "\\end{enumerate*}\n"
      ],
      "text/markdown": [
       "1. 3331488\n",
       "2. 26\n",
       "\n",
       "\n"
      ],
      "text/plain": [
       "[1] 3331488      26"
      ]
     },
     "metadata": {},
     "output_type": "display_data"
    }
   ],
   "source": [
    "basediffperc_cutdemux_q30_unstranded_highdepth_qcfltd <- basediffperc_cutdemux_q30_unstranded_highdepth_qcfltd[ref != alt]\n",
    "dim(basediffperc_cutdemux_q30_unstranded_highdepth_qcfltd)"
   ]
  },
  {
   "cell_type": "code",
   "execution_count": 49,
   "metadata": {
    "vscode": {
     "languageId": "r"
    }
   },
   "outputs": [
    {
     "data": {
      "text/html": [
       "<style>\n",
       ".list-inline {list-style: none; margin:0; padding: 0}\n",
       ".list-inline>li {display: inline-block}\n",
       ".list-inline>li:not(:last-child)::after {content: \"\\00b7\"; padding: 0 .5ex}\n",
       "</style>\n",
       "<ol class=list-inline><li>3331488</li><li>28</li></ol>\n"
      ],
      "text/latex": [
       "\\begin{enumerate*}\n",
       "\\item 3331488\n",
       "\\item 28\n",
       "\\end{enumerate*}\n"
      ],
      "text/markdown": [
       "1. 3331488\n",
       "2. 28\n",
       "\n",
       "\n"
      ],
      "text/plain": [
       "[1] 3331488      28"
      ]
     },
     "metadata": {},
     "output_type": "display_data"
    }
   ],
   "source": [
    "basediffperc_cutdemux_q30_unstranded_highdepth_qcfltd[, alt := factor(alt, levels = c(\"A\", \"C\", \"G\", \"T\", \"del\"))]\n",
    "basediffperc_cutdemux_q30_unstranded_highdepth_qcfltd[, mut := factor(paste0(ref, \">\", alt), levels = paste0(rep(c(\"A\", \"C\", \"G\", \"T\"), each = 5), \">\", c(\"A\", \"C\", \"G\", \"T\", \"del\")))]\n",
    "setkey(basediffperc_cutdemux_q30_unstranded_highdepth_qcfltd, pos, alt)\n",
    "basediffperc_cutdemux_q30_unstranded_highdepth_qcfltd[, posmut := paste0(pos, \":\", mut)]\n",
    "basediffperc_cutdemux_q30_unstranded_highdepth_qcfltd[, posmut := factor(posmut, levels = unique(posmut))]\n",
    "dim(basediffperc_cutdemux_q30_unstranded_highdepth_qcfltd)"
   ]
  },
  {
   "cell_type": "code",
   "execution_count": 50,
   "metadata": {
    "vscode": {
     "languageId": "r"
    }
   },
   "outputs": [
    {
     "data": {
      "text/html": [
       "<style>\n",
       ".list-inline {list-style: none; margin:0; padding: 0}\n",
       ".list-inline>li {display: inline-block}\n",
       ".list-inline>li:not(:last-child)::after {content: \"\\00b7\"; padding: 0 .5ex}\n",
       "</style>\n",
       "<ol class=list-inline><li>1021830</li><li>28</li></ol>\n"
      ],
      "text/latex": [
       "\\begin{enumerate*}\n",
       "\\item 1021830\n",
       "\\item 28\n",
       "\\end{enumerate*}\n"
      ],
      "text/markdown": [
       "1. 1021830\n",
       "2. 28\n",
       "\n",
       "\n"
      ],
      "text/plain": [
       "[1] 1021830      28"
      ]
     },
     "metadata": {},
     "output_type": "display_data"
    }
   ],
   "source": [
    "basediffperc_cutdemux_q30_unstranded_highdepth_qcfltd <- basediffperc_cutdemux_q30_unstranded_highdepth_qcfltd[as.character(posmut) %in% as.character(basediffperc_cutdemux_q30_unstranded_highdepth_highaf_qcfltd_support_byposmut[, posmut])]\n",
    "dim(basediffperc_cutdemux_q30_unstranded_highdepth_qcfltd)"
   ]
  },
  {
   "cell_type": "code",
   "execution_count": 51,
   "metadata": {
    "vscode": {
     "languageId": "r"
    }
   },
   "outputs": [
    {
     "data": {
      "text/html": [
       "<table class=\"dataframe\">\n",
       "<caption>A data.table: 6 × 26</caption>\n",
       "<thead>\n",
       "\t<tr><th scope=col>LibraryID</th><th scope=col>ExptID</th><th scope=col>LibraryMitoID</th><th scope=col>IsolationRCADate</th><th scope=col>DIVDays</th><th scope=col>CellType</th><th scope=col>PlateID</th><th scope=col>CellID</th><th scope=col>CellUID</th><th scope=col>WellMitoBarcode</th><th scope=col>⋯</th><th scope=col>Enzyme</th><th scope=col>HasRCA</th><th scope=col>IsCtrl</th><th scope=col>SNVID</th><th scope=col>pos</th><th scope=col>ref</th><th scope=col>depth</th><th scope=col>refperc</th><th scope=col>alt</th><th scope=col>altperc</th></tr>\n",
       "\t<tr><th scope=col>&lt;chr&gt;</th><th scope=col>&lt;int&gt;</th><th scope=col>&lt;chr&gt;</th><th scope=col>&lt;IDate&gt;</th><th scope=col>&lt;int&gt;</th><th scope=col>&lt;chr&gt;</th><th scope=col>&lt;int&gt;</th><th scope=col>&lt;int&gt;</th><th scope=col>&lt;chr&gt;</th><th scope=col>&lt;chr&gt;</th><th scope=col>⋯</th><th scope=col>&lt;chr&gt;</th><th scope=col>&lt;chr&gt;</th><th scope=col>&lt;chr&gt;</th><th scope=col>&lt;chr&gt;</th><th scope=col>&lt;int&gt;</th><th scope=col>&lt;chr&gt;</th><th scope=col>&lt;dbl&gt;</th><th scope=col>&lt;dbl&gt;</th><th scope=col>&lt;fct&gt;</th><th scope=col>&lt;dbl&gt;</th></tr>\n",
       "</thead>\n",
       "<tbody>\n",
       "\t<tr><td>L1R24P1C</td><td>730</td><td>L1R24P1C_M2</td><td>2020-09-04</td><td>3</td><td>Neuron</td><td>1</td><td>2</td><td>Mouse05_Neuron_2</td><td>B2--M2</td><td>⋯</td><td>None</td><td>Y</td><td>N</td><td>SNV12</td><td>1224</td><td>A</td><td> 196</td><td>100.00000</td><td>G</td><td>0.00000000</td></tr>\n",
       "\t<tr><td>L1R24P1C</td><td>730</td><td>L1R24P1C_M4</td><td>2020-09-04</td><td>3</td><td>Neuron</td><td>1</td><td>2</td><td>Mouse05_Neuron_2</td><td>B4--M4</td><td>⋯</td><td>None</td><td>Y</td><td>N</td><td>SNV12</td><td>1224</td><td>A</td><td>1981</td><td> 99.94952</td><td>G</td><td>0.05047956</td></tr>\n",
       "\t<tr><td>L1R24P1C</td><td>730</td><td>L1R24P1C_M7</td><td>2020-09-04</td><td>3</td><td>Neuron</td><td>1</td><td>1</td><td>Mouse05_Neuron_1</td><td>B7--M7</td><td>⋯</td><td>None</td><td>Y</td><td>N</td><td>SNV12</td><td>1224</td><td>A</td><td> 208</td><td>100.00000</td><td>G</td><td>0.00000000</td></tr>\n",
       "\t<tr><td>L2R24P1C</td><td>730</td><td>L2R24P1C_M1</td><td>2020-09-04</td><td>3</td><td>Neuron</td><td>1</td><td>2</td><td>Mouse05_Neuron_2</td><td>C1--M1</td><td>⋯</td><td>None</td><td>Y</td><td>N</td><td>SNV12</td><td>1224</td><td>A</td><td> 164</td><td>100.00000</td><td>G</td><td>0.00000000</td></tr>\n",
       "\t<tr><td>L2R24P1C</td><td>730</td><td>L2R24P1C_M2</td><td>2020-09-04</td><td>3</td><td>Neuron</td><td>1</td><td>2</td><td>Mouse05_Neuron_2</td><td>C2--M2</td><td>⋯</td><td>None</td><td>Y</td><td>N</td><td>SNV12</td><td>1224</td><td>A</td><td> 231</td><td> 99.56710</td><td>G</td><td>0.43290043</td></tr>\n",
       "\t<tr><td>L2R24P1C</td><td>730</td><td>L2R24P1C_M4</td><td>2020-09-04</td><td>3</td><td>Neuron</td><td>1</td><td>2</td><td>Mouse05_Neuron_2</td><td>C4--M4</td><td>⋯</td><td>None</td><td>Y</td><td>N</td><td>SNV12</td><td>1224</td><td>A</td><td>2260</td><td> 99.82301</td><td>G</td><td>0.17699115</td></tr>\n",
       "</tbody>\n",
       "</table>\n"
      ],
      "text/latex": [
       "A data.table: 6 × 26\n",
       "\\begin{tabular}{lllllllllllllllllllll}\n",
       " LibraryID & ExptID & LibraryMitoID & IsolationRCADate & DIVDays & CellType & PlateID & CellID & CellUID & WellMitoBarcode & ⋯ & Enzyme & HasRCA & IsCtrl & SNVID & pos & ref & depth & refperc & alt & altperc\\\\\n",
       " <chr> & <int> & <chr> & <IDate> & <int> & <chr> & <int> & <int> & <chr> & <chr> & ⋯ & <chr> & <chr> & <chr> & <chr> & <int> & <chr> & <dbl> & <dbl> & <fct> & <dbl>\\\\\n",
       "\\hline\n",
       "\t L1R24P1C & 730 & L1R24P1C\\_M2 & 2020-09-04 & 3 & Neuron & 1 & 2 & Mouse05\\_Neuron\\_2 & B2--M2 & ⋯ & None & Y & N & SNV12 & 1224 & A &  196 & 100.00000 & G & 0.00000000\\\\\n",
       "\t L1R24P1C & 730 & L1R24P1C\\_M4 & 2020-09-04 & 3 & Neuron & 1 & 2 & Mouse05\\_Neuron\\_2 & B4--M4 & ⋯ & None & Y & N & SNV12 & 1224 & A & 1981 &  99.94952 & G & 0.05047956\\\\\n",
       "\t L1R24P1C & 730 & L1R24P1C\\_M7 & 2020-09-04 & 3 & Neuron & 1 & 1 & Mouse05\\_Neuron\\_1 & B7--M7 & ⋯ & None & Y & N & SNV12 & 1224 & A &  208 & 100.00000 & G & 0.00000000\\\\\n",
       "\t L2R24P1C & 730 & L2R24P1C\\_M1 & 2020-09-04 & 3 & Neuron & 1 & 2 & Mouse05\\_Neuron\\_2 & C1--M1 & ⋯ & None & Y & N & SNV12 & 1224 & A &  164 & 100.00000 & G & 0.00000000\\\\\n",
       "\t L2R24P1C & 730 & L2R24P1C\\_M2 & 2020-09-04 & 3 & Neuron & 1 & 2 & Mouse05\\_Neuron\\_2 & C2--M2 & ⋯ & None & Y & N & SNV12 & 1224 & A &  231 &  99.56710 & G & 0.43290043\\\\\n",
       "\t L2R24P1C & 730 & L2R24P1C\\_M4 & 2020-09-04 & 3 & Neuron & 1 & 2 & Mouse05\\_Neuron\\_2 & C4--M4 & ⋯ & None & Y & N & SNV12 & 1224 & A & 2260 &  99.82301 & G & 0.17699115\\\\\n",
       "\\end{tabular}\n"
      ],
      "text/markdown": [
       "\n",
       "A data.table: 6 × 26\n",
       "\n",
       "| LibraryID &lt;chr&gt; | ExptID &lt;int&gt; | LibraryMitoID &lt;chr&gt; | IsolationRCADate &lt;IDate&gt; | DIVDays &lt;int&gt; | CellType &lt;chr&gt; | PlateID &lt;int&gt; | CellID &lt;int&gt; | CellUID &lt;chr&gt; | WellMitoBarcode &lt;chr&gt; | ⋯ ⋯ | Enzyme &lt;chr&gt; | HasRCA &lt;chr&gt; | IsCtrl &lt;chr&gt; | SNVID &lt;chr&gt; | pos &lt;int&gt; | ref &lt;chr&gt; | depth &lt;dbl&gt; | refperc &lt;dbl&gt; | alt &lt;fct&gt; | altperc &lt;dbl&gt; |\n",
       "|---|---|---|---|---|---|---|---|---|---|---|---|---|---|---|---|---|---|---|---|---|\n",
       "| L1R24P1C | 730 | L1R24P1C_M2 | 2020-09-04 | 3 | Neuron | 1 | 2 | Mouse05_Neuron_2 | B2--M2 | ⋯ | None | Y | N | SNV12 | 1224 | A |  196 | 100.00000 | G | 0.00000000 |\n",
       "| L1R24P1C | 730 | L1R24P1C_M4 | 2020-09-04 | 3 | Neuron | 1 | 2 | Mouse05_Neuron_2 | B4--M4 | ⋯ | None | Y | N | SNV12 | 1224 | A | 1981 |  99.94952 | G | 0.05047956 |\n",
       "| L1R24P1C | 730 | L1R24P1C_M7 | 2020-09-04 | 3 | Neuron | 1 | 1 | Mouse05_Neuron_1 | B7--M7 | ⋯ | None | Y | N | SNV12 | 1224 | A |  208 | 100.00000 | G | 0.00000000 |\n",
       "| L2R24P1C | 730 | L2R24P1C_M1 | 2020-09-04 | 3 | Neuron | 1 | 2 | Mouse05_Neuron_2 | C1--M1 | ⋯ | None | Y | N | SNV12 | 1224 | A |  164 | 100.00000 | G | 0.00000000 |\n",
       "| L2R24P1C | 730 | L2R24P1C_M2 | 2020-09-04 | 3 | Neuron | 1 | 2 | Mouse05_Neuron_2 | C2--M2 | ⋯ | None | Y | N | SNV12 | 1224 | A |  231 |  99.56710 | G | 0.43290043 |\n",
       "| L2R24P1C | 730 | L2R24P1C_M4 | 2020-09-04 | 3 | Neuron | 1 | 2 | Mouse05_Neuron_2 | C4--M4 | ⋯ | None | Y | N | SNV12 | 1224 | A | 2260 |  99.82301 | G | 0.17699115 |\n",
       "\n"
      ],
      "text/plain": [
       "  LibraryID ExptID LibraryMitoID IsolationRCADate DIVDays CellType PlateID\n",
       "1 L1R24P1C  730    L1R24P1C_M2   2020-09-04       3       Neuron   1      \n",
       "2 L1R24P1C  730    L1R24P1C_M4   2020-09-04       3       Neuron   1      \n",
       "3 L1R24P1C  730    L1R24P1C_M7   2020-09-04       3       Neuron   1      \n",
       "4 L2R24P1C  730    L2R24P1C_M1   2020-09-04       3       Neuron   1      \n",
       "5 L2R24P1C  730    L2R24P1C_M2   2020-09-04       3       Neuron   1      \n",
       "6 L2R24P1C  730    L2R24P1C_M4   2020-09-04       3       Neuron   1      \n",
       "  CellID CellUID          WellMitoBarcode ⋯ Enzyme HasRCA IsCtrl SNVID pos  ref\n",
       "1 2      Mouse05_Neuron_2 B2--M2          ⋯ None   Y      N      SNV12 1224 A  \n",
       "2 2      Mouse05_Neuron_2 B4--M4          ⋯ None   Y      N      SNV12 1224 A  \n",
       "3 1      Mouse05_Neuron_1 B7--M7          ⋯ None   Y      N      SNV12 1224 A  \n",
       "4 2      Mouse05_Neuron_2 C1--M1          ⋯ None   Y      N      SNV12 1224 A  \n",
       "5 2      Mouse05_Neuron_2 C2--M2          ⋯ None   Y      N      SNV12 1224 A  \n",
       "6 2      Mouse05_Neuron_2 C4--M4          ⋯ None   Y      N      SNV12 1224 A  \n",
       "  depth refperc   alt altperc   \n",
       "1  196  100.00000 G   0.00000000\n",
       "2 1981   99.94952 G   0.05047956\n",
       "3  208  100.00000 G   0.00000000\n",
       "4  164  100.00000 G   0.00000000\n",
       "5  231   99.56710 G   0.43290043\n",
       "6 2260   99.82301 G   0.17699115"
      ]
     },
     "metadata": {},
     "output_type": "display_data"
    }
   ],
   "source": [
    "basediffperc_cutdemux_q30_unstranded_highdepth_qcfltd <- basediffperc_cutdemux_q30_unstranded_highdepth_qcfltd[, -(27:28)]\n",
    "head(basediffperc_cutdemux_q30_unstranded_highdepth_qcfltd)"
   ]
  },
  {
   "cell_type": "code",
   "execution_count": null,
   "metadata": {
    "vscode": {
     "languageId": "r"
    }
   },
   "outputs": [],
   "source": [
    "fwrite(basediffperc_cutdemux_q30_unstranded_highdepth_qcfltd, file = \"Report/SNVs/filter/basediffperc_cutdemux_sub500k_q30_unstranded_highdepth_qcfltd.csv.gz\")"
   ]
  },
  {
   "cell_type": "markdown",
   "metadata": {},
   "source": [
    "For all QC filtered SNVs, get the VAF table: mito by SNV"
   ]
  },
  {
   "cell_type": "code",
   "execution_count": 53,
   "metadata": {
    "vscode": {
     "languageId": "r"
    }
   },
   "outputs": [
    {
     "data": {
      "text/html": [
       "<style>\n",
       ".list-inline {list-style: none; margin:0; padding: 0}\n",
       ".list-inline>li {display: inline-block}\n",
       ".list-inline>li:not(:last-child)::after {content: \"\\00b7\"; padding: 0 .5ex}\n",
       "</style>\n",
       "<ol class=list-inline><li>1021830</li><li>28</li></ol>\n"
      ],
      "text/latex": [
       "\\begin{enumerate*}\n",
       "\\item 1021830\n",
       "\\item 28\n",
       "\\end{enumerate*}\n"
      ],
      "text/markdown": [
       "1. 1021830\n",
       "2. 28\n",
       "\n",
       "\n"
      ],
      "text/plain": [
       "[1] 1021830      28"
      ]
     },
     "metadata": {},
     "output_type": "display_data"
    }
   ],
   "source": [
    "basediffperc_cutdemux_q30_unstranded_highdepth_qcfltd <- fread(file = \"Report/SNVs/filter/basediffperc_cutdemux_sub500k_q30_unstranded_highdepth_qcfltd.csv.gz\")\n",
    "basediffperc_cutdemux_q30_unstranded_highdepth_qcfltd[, alt := factor(alt, levels = c(\"A\", \"C\", \"G\", \"T\", \"del\"))]\n",
    "basediffperc_cutdemux_q30_unstranded_highdepth_qcfltd[, mut := factor(paste0(ref, \">\", alt), levels = paste0(rep(c(\"A\", \"C\", \"G\", \"T\"), each = 5), \">\", c(\"A\", \"C\", \"G\", \"T\", \"del\")))]\n",
    "setkey(basediffperc_cutdemux_q30_unstranded_highdepth_qcfltd, pos, alt)\n",
    "basediffperc_cutdemux_q30_unstranded_highdepth_qcfltd[, posmut := paste0(pos, \":\", mut)]\n",
    "basediffperc_cutdemux_q30_unstranded_highdepth_qcfltd[, posmut := factor(posmut, levels = unique(posmut))]\n",
    "dim(basediffperc_cutdemux_q30_unstranded_highdepth_qcfltd)"
   ]
  },
  {
   "cell_type": "code",
   "execution_count": 54,
   "metadata": {
    "vscode": {
     "languageId": "r"
    }
   },
   "outputs": [
    {
     "data": {
      "text/html": [
       "<style>\n",
       ".list-inline {list-style: none; margin:0; padding: 0}\n",
       ".list-inline>li {display: inline-block}\n",
       ".list-inline>li:not(:last-child)::after {content: \"\\00b7\"; padding: 0 .5ex}\n",
       "</style>\n",
       "<ol class=list-inline><li>1702</li><li>1033</li></ol>\n"
      ],
      "text/latex": [
       "\\begin{enumerate*}\n",
       "\\item 1702\n",
       "\\item 1033\n",
       "\\end{enumerate*}\n"
      ],
      "text/markdown": [
       "1. 1702\n",
       "2. 1033\n",
       "\n",
       "\n"
      ],
      "text/plain": [
       "[1] 1702 1033"
      ]
     },
     "metadata": {},
     "output_type": "display_data"
    }
   ],
   "source": [
    "basediffperc_cutdemux_q30_unstranded_highdepth_qcfltd_altperc_bymito_byposmut <- dcast.data.table(basediffperc_cutdemux_q30_unstranded_highdepth_qcfltd, LibraryMitoID ~ posmut, value.var = \"altperc\")\n",
    "dim(basediffperc_cutdemux_q30_unstranded_highdepth_qcfltd_altperc_bymito_byposmut)"
   ]
  },
  {
   "cell_type": "code",
   "execution_count": 55,
   "metadata": {
    "vscode": {
     "languageId": "r"
    }
   },
   "outputs": [
    {
     "data": {
      "text/html": [
       "<style>\n",
       ".list-inline {list-style: none; margin:0; padding: 0}\n",
       ".list-inline>li {display: inline-block}\n",
       ".list-inline>li:not(:last-child)::after {content: \"\\00b7\"; padding: 0 .5ex}\n",
       "</style>\n",
       "<ol class=list-inline><li>1702</li><li>1051</li></ol>\n"
      ],
      "text/latex": [
       "\\begin{enumerate*}\n",
       "\\item 1702\n",
       "\\item 1051\n",
       "\\end{enumerate*}\n"
      ],
      "text/markdown": [
       "1. 1702\n",
       "2. 1051\n",
       "\n",
       "\n"
      ],
      "text/plain": [
       "[1] 1702 1051"
      ]
     },
     "metadata": {},
     "output_type": "display_data"
    }
   ],
   "source": [
    "basediffperc_cutdemux_q30_unstranded_highdepth_qcfltd_altperc_bymito_byposmut <- merge.data.table(MitoInfo, basediffperc_cutdemux_q30_unstranded_highdepth_qcfltd_altperc_bymito_byposmut, by = \"LibraryMitoID\", all.x = FALSE, all.y = TRUE)\n",
    "dim(basediffperc_cutdemux_q30_unstranded_highdepth_qcfltd_altperc_bymito_byposmut)"
   ]
  },
  {
   "cell_type": "code",
   "execution_count": 56,
   "metadata": {
    "vscode": {
     "languageId": "r"
    }
   },
   "outputs": [
    {
     "data": {
      "text/html": [
       "<table class=\"dataframe\">\n",
       "<caption>A data.table: 6 × 1051</caption>\n",
       "<thead>\n",
       "\t<tr><th scope=col>LibraryMitoID</th><th scope=col>LibraryID</th><th scope=col>ExptID</th><th scope=col>IsolationRCADate</th><th scope=col>DIVDays</th><th scope=col>CellType</th><th scope=col>PlateID</th><th scope=col>CellID</th><th scope=col>CellUID</th><th scope=col>WellMitoBarcode</th><th scope=col>⋯</th><th scope=col>16124:C&gt;G</th><th scope=col>16125:A&gt;C</th><th scope=col>16125:A&gt;G</th><th scope=col>16125:A&gt;del</th><th scope=col>16133:T&gt;A</th><th scope=col>16133:T&gt;C</th><th scope=col>16133:T&gt;G</th><th scope=col>16140:T&gt;A</th><th scope=col>16140:T&gt;C</th><th scope=col>16141:T&gt;C</th></tr>\n",
       "\t<tr><th scope=col>&lt;chr&gt;</th><th scope=col>&lt;chr&gt;</th><th scope=col>&lt;int&gt;</th><th scope=col>&lt;IDate&gt;</th><th scope=col>&lt;int&gt;</th><th scope=col>&lt;chr&gt;</th><th scope=col>&lt;int&gt;</th><th scope=col>&lt;int&gt;</th><th scope=col>&lt;chr&gt;</th><th scope=col>&lt;chr&gt;</th><th scope=col>⋯</th><th scope=col>&lt;dbl&gt;</th><th scope=col>&lt;dbl&gt;</th><th scope=col>&lt;dbl&gt;</th><th scope=col>&lt;dbl&gt;</th><th scope=col>&lt;dbl&gt;</th><th scope=col>&lt;dbl&gt;</th><th scope=col>&lt;dbl&gt;</th><th scope=col>&lt;dbl&gt;</th><th scope=col>&lt;dbl&gt;</th><th scope=col>&lt;dbl&gt;</th></tr>\n",
       "</thead>\n",
       "<tbody>\n",
       "\t<tr><td>CTRR23P1B_M1 </td><td>CTRR23P1B</td><td>733</td><td>2020-08-28</td><td>3</td><td></td><td>NA</td><td>NA</td><td></td><td>(+)/(+) M1 </td><td>⋯</td><td>0.00659098</td><td>2.761370</td><td>0.02953337</td><td>0.7051093</td><td>53.00940</td><td>0.5956113</td><td>8.996865</td><td>32.53553</td><td>0.1495886</td><td>0.05878895</td></tr>\n",
       "\t<tr><td>CTRR23P1B_M10</td><td>CTRR23P1B</td><td>733</td><td>2020-08-28</td><td>3</td><td></td><td>NA</td><td>NA</td><td></td><td>(-)/(-) M10</td><td>⋯</td><td>        NA</td><td>      NA</td><td>        NA</td><td>       NA</td><td>      NA</td><td>       NA</td><td>      NA</td><td>      NA</td><td>       NA</td><td>        NA</td></tr>\n",
       "\t<tr><td>CTRR23P1B_M2 </td><td>CTRR23P1B</td><td>733</td><td>2020-08-28</td><td>3</td><td></td><td>NA</td><td>NA</td><td></td><td>(+)/(+) M2 </td><td>⋯</td><td>0.00000000</td><td>3.478854</td><td>0.00000000</td><td>0.4092769</td><td>52.40642</td><td>0.0000000</td><td>9.625668</td><td>21.95122</td><td>0.6097561</td><td>0.00000000</td></tr>\n",
       "\t<tr><td>CTRR23P1B_M3 </td><td>CTRR23P1B</td><td>733</td><td>2020-08-28</td><td>3</td><td></td><td>NA</td><td>NA</td><td></td><td>(-)/(+) M3 </td><td>⋯</td><td>0.00000000</td><td>0.000000</td><td>0.00000000</td><td>0.0000000</td><td> 0.00000</td><td>0.0000000</td><td>0.000000</td><td> 0.00000</td><td>0.0000000</td><td>0.00000000</td></tr>\n",
       "\t<tr><td>CTRR23P1B_M4 </td><td>CTRR23P1B</td><td>733</td><td>2020-08-28</td><td>3</td><td></td><td>NA</td><td>NA</td><td></td><td>(-)/(+) M4 </td><td>⋯</td><td>0.00000000</td><td>1.639344</td><td>0.00000000</td><td>0.0000000</td><td>      NA</td><td>       NA</td><td>      NA</td><td>      NA</td><td>       NA</td><td>        NA</td></tr>\n",
       "\t<tr><td>CTRR23P1B_M6 </td><td>CTRR23P1B</td><td>733</td><td>2020-08-28</td><td>3</td><td></td><td>NA</td><td>NA</td><td></td><td>(+)/(-) M6 </td><td>⋯</td><td>        NA</td><td>      NA</td><td>        NA</td><td>       NA</td><td>      NA</td><td>       NA</td><td>      NA</td><td>      NA</td><td>       NA</td><td>        NA</td></tr>\n",
       "</tbody>\n",
       "</table>\n"
      ],
      "text/latex": [
       "A data.table: 6 × 1051\n",
       "\\begin{tabular}{lllllllllllllllllllll}\n",
       " LibraryMitoID & LibraryID & ExptID & IsolationRCADate & DIVDays & CellType & PlateID & CellID & CellUID & WellMitoBarcode & ⋯ & 16124:C>G & 16125:A>C & 16125:A>G & 16125:A>del & 16133:T>A & 16133:T>C & 16133:T>G & 16140:T>A & 16140:T>C & 16141:T>C\\\\\n",
       " <chr> & <chr> & <int> & <IDate> & <int> & <chr> & <int> & <int> & <chr> & <chr> & ⋯ & <dbl> & <dbl> & <dbl> & <dbl> & <dbl> & <dbl> & <dbl> & <dbl> & <dbl> & <dbl>\\\\\n",
       "\\hline\n",
       "\t CTRR23P1B\\_M1  & CTRR23P1B & 733 & 2020-08-28 & 3 &  & NA & NA &  & (+)/(+) M1  & ⋯ & 0.00659098 & 2.761370 & 0.02953337 & 0.7051093 & 53.00940 & 0.5956113 & 8.996865 & 32.53553 & 0.1495886 & 0.05878895\\\\\n",
       "\t CTRR23P1B\\_M10 & CTRR23P1B & 733 & 2020-08-28 & 3 &  & NA & NA &  & (-)/(-) M10 & ⋯ &         NA &       NA &         NA &        NA &       NA &        NA &       NA &       NA &        NA &         NA\\\\\n",
       "\t CTRR23P1B\\_M2  & CTRR23P1B & 733 & 2020-08-28 & 3 &  & NA & NA &  & (+)/(+) M2  & ⋯ & 0.00000000 & 3.478854 & 0.00000000 & 0.4092769 & 52.40642 & 0.0000000 & 9.625668 & 21.95122 & 0.6097561 & 0.00000000\\\\\n",
       "\t CTRR23P1B\\_M3  & CTRR23P1B & 733 & 2020-08-28 & 3 &  & NA & NA &  & (-)/(+) M3  & ⋯ & 0.00000000 & 0.000000 & 0.00000000 & 0.0000000 &  0.00000 & 0.0000000 & 0.000000 &  0.00000 & 0.0000000 & 0.00000000\\\\\n",
       "\t CTRR23P1B\\_M4  & CTRR23P1B & 733 & 2020-08-28 & 3 &  & NA & NA &  & (-)/(+) M4  & ⋯ & 0.00000000 & 1.639344 & 0.00000000 & 0.0000000 &       NA &        NA &       NA &       NA &        NA &         NA\\\\\n",
       "\t CTRR23P1B\\_M6  & CTRR23P1B & 733 & 2020-08-28 & 3 &  & NA & NA &  & (+)/(-) M6  & ⋯ &         NA &       NA &         NA &        NA &       NA &        NA &       NA &       NA &        NA &         NA\\\\\n",
       "\\end{tabular}\n"
      ],
      "text/markdown": [
       "\n",
       "A data.table: 6 × 1051\n",
       "\n",
       "| LibraryMitoID &lt;chr&gt; | LibraryID &lt;chr&gt; | ExptID &lt;int&gt; | IsolationRCADate &lt;IDate&gt; | DIVDays &lt;int&gt; | CellType &lt;chr&gt; | PlateID &lt;int&gt; | CellID &lt;int&gt; | CellUID &lt;chr&gt; | WellMitoBarcode &lt;chr&gt; | ⋯ ⋯ | 16124:C&gt;G &lt;dbl&gt; | 16125:A&gt;C &lt;dbl&gt; | 16125:A&gt;G &lt;dbl&gt; | 16125:A&gt;del &lt;dbl&gt; | 16133:T&gt;A &lt;dbl&gt; | 16133:T&gt;C &lt;dbl&gt; | 16133:T&gt;G &lt;dbl&gt; | 16140:T&gt;A &lt;dbl&gt; | 16140:T&gt;C &lt;dbl&gt; | 16141:T&gt;C &lt;dbl&gt; |\n",
       "|---|---|---|---|---|---|---|---|---|---|---|---|---|---|---|---|---|---|---|---|---|\n",
       "| CTRR23P1B_M1  | CTRR23P1B | 733 | 2020-08-28 | 3 | <!----> | NA | NA | <!----> | (+)/(+) M1  | ⋯ | 0.00659098 | 2.761370 | 0.02953337 | 0.7051093 | 53.00940 | 0.5956113 | 8.996865 | 32.53553 | 0.1495886 | 0.05878895 |\n",
       "| CTRR23P1B_M10 | CTRR23P1B | 733 | 2020-08-28 | 3 | <!----> | NA | NA | <!----> | (-)/(-) M10 | ⋯ |         NA |       NA |         NA |        NA |       NA |        NA |       NA |       NA |        NA |         NA |\n",
       "| CTRR23P1B_M2  | CTRR23P1B | 733 | 2020-08-28 | 3 | <!----> | NA | NA | <!----> | (+)/(+) M2  | ⋯ | 0.00000000 | 3.478854 | 0.00000000 | 0.4092769 | 52.40642 | 0.0000000 | 9.625668 | 21.95122 | 0.6097561 | 0.00000000 |\n",
       "| CTRR23P1B_M3  | CTRR23P1B | 733 | 2020-08-28 | 3 | <!----> | NA | NA | <!----> | (-)/(+) M3  | ⋯ | 0.00000000 | 0.000000 | 0.00000000 | 0.0000000 |  0.00000 | 0.0000000 | 0.000000 |  0.00000 | 0.0000000 | 0.00000000 |\n",
       "| CTRR23P1B_M4  | CTRR23P1B | 733 | 2020-08-28 | 3 | <!----> | NA | NA | <!----> | (-)/(+) M4  | ⋯ | 0.00000000 | 1.639344 | 0.00000000 | 0.0000000 |       NA |        NA |       NA |       NA |        NA |         NA |\n",
       "| CTRR23P1B_M6  | CTRR23P1B | 733 | 2020-08-28 | 3 | <!----> | NA | NA | <!----> | (+)/(-) M6  | ⋯ |         NA |       NA |         NA |        NA |       NA |        NA |       NA |       NA |        NA |         NA |\n",
       "\n"
      ],
      "text/plain": [
       "  LibraryMitoID LibraryID ExptID IsolationRCADate DIVDays CellType PlateID\n",
       "1 CTRR23P1B_M1  CTRR23P1B 733    2020-08-28       3                NA     \n",
       "2 CTRR23P1B_M10 CTRR23P1B 733    2020-08-28       3                NA     \n",
       "3 CTRR23P1B_M2  CTRR23P1B 733    2020-08-28       3                NA     \n",
       "4 CTRR23P1B_M3  CTRR23P1B 733    2020-08-28       3                NA     \n",
       "5 CTRR23P1B_M4  CTRR23P1B 733    2020-08-28       3                NA     \n",
       "6 CTRR23P1B_M6  CTRR23P1B 733    2020-08-28       3                NA     \n",
       "  CellID CellUID WellMitoBarcode ⋯ 16124:C>G  16125:A>C 16125:A>G  16125:A>del\n",
       "1 NA             (+)/(+) M1      ⋯ 0.00659098 2.761370  0.02953337 0.7051093  \n",
       "2 NA             (-)/(-) M10     ⋯         NA       NA          NA        NA  \n",
       "3 NA             (+)/(+) M2      ⋯ 0.00000000 3.478854  0.00000000 0.4092769  \n",
       "4 NA             (-)/(+) M3      ⋯ 0.00000000 0.000000  0.00000000 0.0000000  \n",
       "5 NA             (-)/(+) M4      ⋯ 0.00000000 1.639344  0.00000000 0.0000000  \n",
       "6 NA             (+)/(-) M6      ⋯         NA       NA          NA        NA  \n",
       "  16133:T>A 16133:T>C 16133:T>G 16140:T>A 16140:T>C 16141:T>C \n",
       "1 53.00940  0.5956113 8.996865  32.53553  0.1495886 0.05878895\n",
       "2       NA         NA       NA        NA         NA         NA\n",
       "3 52.40642  0.0000000 9.625668  21.95122  0.6097561 0.00000000\n",
       "4  0.00000  0.0000000 0.000000   0.00000  0.0000000 0.00000000\n",
       "5       NA         NA       NA        NA         NA         NA\n",
       "6       NA         NA       NA        NA         NA         NA"
      ]
     },
     "metadata": {},
     "output_type": "display_data"
    }
   ],
   "source": [
    "head(basediffperc_cutdemux_q30_unstranded_highdepth_qcfltd_altperc_bymito_byposmut)"
   ]
  },
  {
   "cell_type": "code",
   "execution_count": null,
   "metadata": {
    "vscode": {
     "languageId": "r"
    }
   },
   "outputs": [],
   "source": [
    "fwrite(basediffperc_cutdemux_q30_unstranded_highdepth_qcfltd_altperc_bymito_byposmut, file = \"Report/SNVs/filter/basediffperc_cutdemux_sub500k_q30_unstranded_highdepth_qcfltd_altperc_bymito_byposmut.csv.gz\")"
   ]
  },
  {
   "cell_type": "markdown",
   "metadata": {},
   "source": [
    "For all QC filtered SNV sites, get the allele table: mitos by sites (A, AG, etc. whatever bases >= 5%)"
   ]
  },
  {
   "cell_type": "code",
   "execution_count": 58,
   "metadata": {
    "vscode": {
     "languageId": "r"
    }
   },
   "outputs": [],
   "source": [
    "basediffperc_cutdemux_q30_unstranded_highdepth <- fread(\"Report/SNVs/filter/basediffperc_cutdemux_sub500k_q30_unstranded_highdepth.csv.gz\")\n",
    "basediffperc_cutdemux_q30_unstranded_highdepth_highaf_qcfltd_support_byposmut <- fread(file = \"Report/SNVs/filter/basediffperc_cutdemux_sub500k_q30_unstranded_highdepth_highaf_qcfltd_support_byposmut.csv\")\n",
    "basediffperc_cutdemux_q30_unstranded_highdepth_qcfltd <- basediffperc_cutdemux_q30_unstranded_highdepth[pos %in% basediffperc_cutdemux_q30_unstranded_highdepth_highaf_qcfltd_support_byposmut[, pos]]\n",
    "basediffperc_cutdemux_q30_unstranded_highdepth_qcfltd[ref == \"A\", A := `=`]\n",
    "basediffperc_cutdemux_q30_unstranded_highdepth_qcfltd[ref == \"C\", C := `=`]\n",
    "basediffperc_cutdemux_q30_unstranded_highdepth_qcfltd[ref == \"G\", G := `=`]\n",
    "basediffperc_cutdemux_q30_unstranded_highdepth_qcfltd[ref == \"T\", T := `=`]"
   ]
  },
  {
   "cell_type": "code",
   "execution_count": 59,
   "metadata": {
    "vscode": {
     "languageId": "r"
    }
   },
   "outputs": [
    {
     "data": {
      "text/plain": [
       "allele\n",
       "     A     A-     AC    AC-    ACG   ACG-   ACGT    ACT     AG    AGT     AT \n",
       "298972     49    855     57     15      2      1      2   1439     25    505 \n",
       "     C     C-     CG    CGT     CT      G     GT      T     T- \n",
       "204063     28    339      8   1015 100040    853 224601      3 "
      ]
     },
     "metadata": {},
     "output_type": "display_data"
    }
   ],
   "source": [
    "vaf_th <- 0.05\n",
    "basediffperc_cutdemux_q30_unstranded_highdepth_qcfltd[, allele := apply(.SD, 1, function(x) paste0(c(\"A\", \"C\", \"G\", \"T\", \"-\")[x >= vaf_th * 100], collapse = \"\")), .SDcols = c(\"A\", \"C\", \"G\", \"T\", \"del\")]\n",
    "basediffperc_cutdemux_q30_unstranded_highdepth_qcfltd[, table(allele)]"
   ]
  },
  {
   "cell_type": "code",
   "execution_count": 60,
   "metadata": {
    "vscode": {
     "languageId": "r"
    }
   },
   "outputs": [
    {
     "data": {
      "text/html": [
       "<style>\n",
       ".list-inline {list-style: none; margin:0; padding: 0}\n",
       ".list-inline>li {display: inline-block}\n",
       ".list-inline>li:not(:last-child)::after {content: \"\\00b7\"; padding: 0 .5ex}\n",
       "</style>\n",
       "<ol class=list-inline><li>1702</li><li>839</li></ol>\n"
      ],
      "text/latex": [
       "\\begin{enumerate*}\n",
       "\\item 1702\n",
       "\\item 839\n",
       "\\end{enumerate*}\n"
      ],
      "text/markdown": [
       "1. 1702\n",
       "2. 839\n",
       "\n",
       "\n"
      ],
      "text/plain": [
       "[1] 1702  839"
      ]
     },
     "metadata": {},
     "output_type": "display_data"
    }
   ],
   "source": [
    "basediffperc_cutdemux_q30_unstranded_highdepth_qcfltd_allele_bymito_bypos <- dcast.data.table(basediffperc_cutdemux_q30_unstranded_highdepth_qcfltd, LibraryMitoID ~ pos, value.var = \"allele\")\n",
    "dim(basediffperc_cutdemux_q30_unstranded_highdepth_qcfltd_allele_bymito_bypos)"
   ]
  },
  {
   "cell_type": "code",
   "execution_count": 61,
   "metadata": {
    "vscode": {
     "languageId": "r"
    }
   },
   "outputs": [
    {
     "data": {
      "text/html": [
       "<style>\n",
       ".list-inline {list-style: none; margin:0; padding: 0}\n",
       ".list-inline>li {display: inline-block}\n",
       ".list-inline>li:not(:last-child)::after {content: \"\\00b7\"; padding: 0 .5ex}\n",
       "</style>\n",
       "<ol class=list-inline><li>1702</li><li>857</li></ol>\n"
      ],
      "text/latex": [
       "\\begin{enumerate*}\n",
       "\\item 1702\n",
       "\\item 857\n",
       "\\end{enumerate*}\n"
      ],
      "text/markdown": [
       "1. 1702\n",
       "2. 857\n",
       "\n",
       "\n"
      ],
      "text/plain": [
       "[1] 1702  857"
      ]
     },
     "metadata": {},
     "output_type": "display_data"
    }
   ],
   "source": [
    "basediffperc_cutdemux_q30_unstranded_highdepth_qcfltd_allele_bymito_bypos <- merge.data.table(MitoInfo, basediffperc_cutdemux_q30_unstranded_highdepth_qcfltd_allele_bymito_bypos, by = \"LibraryMitoID\", all.x = FALSE, all.y = TRUE)\n",
    "dim(basediffperc_cutdemux_q30_unstranded_highdepth_qcfltd_allele_bymito_bypos)"
   ]
  },
  {
   "cell_type": "code",
   "execution_count": 62,
   "metadata": {
    "vscode": {
     "languageId": "r"
    }
   },
   "outputs": [
    {
     "data": {
      "text/html": [
       "<table class=\"dataframe\">\n",
       "<caption>A data.table: 6 × 857</caption>\n",
       "<thead>\n",
       "\t<tr><th scope=col>LibraryMitoID</th><th scope=col>LibraryID</th><th scope=col>ExptID</th><th scope=col>IsolationRCADate</th><th scope=col>DIVDays</th><th scope=col>CellType</th><th scope=col>PlateID</th><th scope=col>CellID</th><th scope=col>CellUID</th><th scope=col>WellMitoBarcode</th><th scope=col>⋯</th><th scope=col>16118</th><th scope=col>16119</th><th scope=col>16120</th><th scope=col>16122</th><th scope=col>16123</th><th scope=col>16124</th><th scope=col>16125</th><th scope=col>16133</th><th scope=col>16140</th><th scope=col>16141</th></tr>\n",
       "\t<tr><th scope=col>&lt;chr&gt;</th><th scope=col>&lt;chr&gt;</th><th scope=col>&lt;int&gt;</th><th scope=col>&lt;IDate&gt;</th><th scope=col>&lt;int&gt;</th><th scope=col>&lt;chr&gt;</th><th scope=col>&lt;int&gt;</th><th scope=col>&lt;int&gt;</th><th scope=col>&lt;chr&gt;</th><th scope=col>&lt;chr&gt;</th><th scope=col>⋯</th><th scope=col>&lt;chr&gt;</th><th scope=col>&lt;chr&gt;</th><th scope=col>&lt;chr&gt;</th><th scope=col>&lt;chr&gt;</th><th scope=col>&lt;chr&gt;</th><th scope=col>&lt;chr&gt;</th><th scope=col>&lt;chr&gt;</th><th scope=col>&lt;chr&gt;</th><th scope=col>&lt;chr&gt;</th><th scope=col>&lt;chr&gt;</th></tr>\n",
       "</thead>\n",
       "<tbody>\n",
       "\t<tr><td>CTRR23P1B_M1 </td><td>CTRR23P1B</td><td>733</td><td>2020-08-28</td><td>3</td><td></td><td>NA</td><td>NA</td><td></td><td>(+)/(+) M1 </td><td>⋯</td><td>AC</td><td>AC</td><td>AC</td><td>C </td><td>C </td><td>C </td><td>A </td><td>AGT</td><td>AT</td><td>T </td></tr>\n",
       "\t<tr><td>CTRR23P1B_M10</td><td>CTRR23P1B</td><td>733</td><td>2020-08-28</td><td>3</td><td></td><td>NA</td><td>NA</td><td></td><td>(-)/(-) M10</td><td>⋯</td><td>NA</td><td>NA</td><td>NA</td><td>NA</td><td>NA</td><td>NA</td><td>NA</td><td>NA </td><td>NA</td><td>NA</td></tr>\n",
       "\t<tr><td>CTRR23P1B_M2 </td><td>CTRR23P1B</td><td>733</td><td>2020-08-28</td><td>3</td><td></td><td>NA</td><td>NA</td><td></td><td>(+)/(+) M2 </td><td>⋯</td><td>AC</td><td>A </td><td>AC</td><td>C </td><td>C </td><td>C </td><td>A </td><td>AGT</td><td>AT</td><td>T </td></tr>\n",
       "\t<tr><td>CTRR23P1B_M3 </td><td>CTRR23P1B</td><td>733</td><td>2020-08-28</td><td>3</td><td></td><td>NA</td><td>NA</td><td></td><td>(-)/(+) M3 </td><td>⋯</td><td>A </td><td>A </td><td>A </td><td>C </td><td>C </td><td>C </td><td>A </td><td>T  </td><td>T </td><td>T </td></tr>\n",
       "\t<tr><td>CTRR23P1B_M4 </td><td>CTRR23P1B</td><td>733</td><td>2020-08-28</td><td>3</td><td></td><td>NA</td><td>NA</td><td></td><td>(-)/(+) M4 </td><td>⋯</td><td>AC</td><td>A </td><td>A </td><td>C </td><td>NA</td><td>C </td><td>A </td><td>NA </td><td>NA</td><td>NA</td></tr>\n",
       "\t<tr><td>CTRR23P1B_M6 </td><td>CTRR23P1B</td><td>733</td><td>2020-08-28</td><td>3</td><td></td><td>NA</td><td>NA</td><td></td><td>(+)/(-) M6 </td><td>⋯</td><td>NA</td><td>NA</td><td>NA</td><td>NA</td><td>NA</td><td>NA</td><td>NA</td><td>NA </td><td>NA</td><td>NA</td></tr>\n",
       "</tbody>\n",
       "</table>\n"
      ],
      "text/latex": [
       "A data.table: 6 × 857\n",
       "\\begin{tabular}{lllllllllllllllllllll}\n",
       " LibraryMitoID & LibraryID & ExptID & IsolationRCADate & DIVDays & CellType & PlateID & CellID & CellUID & WellMitoBarcode & ⋯ & 16118 & 16119 & 16120 & 16122 & 16123 & 16124 & 16125 & 16133 & 16140 & 16141\\\\\n",
       " <chr> & <chr> & <int> & <IDate> & <int> & <chr> & <int> & <int> & <chr> & <chr> & ⋯ & <chr> & <chr> & <chr> & <chr> & <chr> & <chr> & <chr> & <chr> & <chr> & <chr>\\\\\n",
       "\\hline\n",
       "\t CTRR23P1B\\_M1  & CTRR23P1B & 733 & 2020-08-28 & 3 &  & NA & NA &  & (+)/(+) M1  & ⋯ & AC & AC & AC & C  & C  & C  & A  & AGT & AT & T \\\\\n",
       "\t CTRR23P1B\\_M10 & CTRR23P1B & 733 & 2020-08-28 & 3 &  & NA & NA &  & (-)/(-) M10 & ⋯ & NA & NA & NA & NA & NA & NA & NA & NA  & NA & NA\\\\\n",
       "\t CTRR23P1B\\_M2  & CTRR23P1B & 733 & 2020-08-28 & 3 &  & NA & NA &  & (+)/(+) M2  & ⋯ & AC & A  & AC & C  & C  & C  & A  & AGT & AT & T \\\\\n",
       "\t CTRR23P1B\\_M3  & CTRR23P1B & 733 & 2020-08-28 & 3 &  & NA & NA &  & (-)/(+) M3  & ⋯ & A  & A  & A  & C  & C  & C  & A  & T   & T  & T \\\\\n",
       "\t CTRR23P1B\\_M4  & CTRR23P1B & 733 & 2020-08-28 & 3 &  & NA & NA &  & (-)/(+) M4  & ⋯ & AC & A  & A  & C  & NA & C  & A  & NA  & NA & NA\\\\\n",
       "\t CTRR23P1B\\_M6  & CTRR23P1B & 733 & 2020-08-28 & 3 &  & NA & NA &  & (+)/(-) M6  & ⋯ & NA & NA & NA & NA & NA & NA & NA & NA  & NA & NA\\\\\n",
       "\\end{tabular}\n"
      ],
      "text/markdown": [
       "\n",
       "A data.table: 6 × 857\n",
       "\n",
       "| LibraryMitoID &lt;chr&gt; | LibraryID &lt;chr&gt; | ExptID &lt;int&gt; | IsolationRCADate &lt;IDate&gt; | DIVDays &lt;int&gt; | CellType &lt;chr&gt; | PlateID &lt;int&gt; | CellID &lt;int&gt; | CellUID &lt;chr&gt; | WellMitoBarcode &lt;chr&gt; | ⋯ ⋯ | 16118 &lt;chr&gt; | 16119 &lt;chr&gt; | 16120 &lt;chr&gt; | 16122 &lt;chr&gt; | 16123 &lt;chr&gt; | 16124 &lt;chr&gt; | 16125 &lt;chr&gt; | 16133 &lt;chr&gt; | 16140 &lt;chr&gt; | 16141 &lt;chr&gt; |\n",
       "|---|---|---|---|---|---|---|---|---|---|---|---|---|---|---|---|---|---|---|---|---|\n",
       "| CTRR23P1B_M1  | CTRR23P1B | 733 | 2020-08-28 | 3 | <!----> | NA | NA | <!----> | (+)/(+) M1  | ⋯ | AC | AC | AC | C  | C  | C  | A  | AGT | AT | T  |\n",
       "| CTRR23P1B_M10 | CTRR23P1B | 733 | 2020-08-28 | 3 | <!----> | NA | NA | <!----> | (-)/(-) M10 | ⋯ | NA | NA | NA | NA | NA | NA | NA | NA  | NA | NA |\n",
       "| CTRR23P1B_M2  | CTRR23P1B | 733 | 2020-08-28 | 3 | <!----> | NA | NA | <!----> | (+)/(+) M2  | ⋯ | AC | A  | AC | C  | C  | C  | A  | AGT | AT | T  |\n",
       "| CTRR23P1B_M3  | CTRR23P1B | 733 | 2020-08-28 | 3 | <!----> | NA | NA | <!----> | (-)/(+) M3  | ⋯ | A  | A  | A  | C  | C  | C  | A  | T   | T  | T  |\n",
       "| CTRR23P1B_M4  | CTRR23P1B | 733 | 2020-08-28 | 3 | <!----> | NA | NA | <!----> | (-)/(+) M4  | ⋯ | AC | A  | A  | C  | NA | C  | A  | NA  | NA | NA |\n",
       "| CTRR23P1B_M6  | CTRR23P1B | 733 | 2020-08-28 | 3 | <!----> | NA | NA | <!----> | (+)/(-) M6  | ⋯ | NA | NA | NA | NA | NA | NA | NA | NA  | NA | NA |\n",
       "\n"
      ],
      "text/plain": [
       "  LibraryMitoID LibraryID ExptID IsolationRCADate DIVDays CellType PlateID\n",
       "1 CTRR23P1B_M1  CTRR23P1B 733    2020-08-28       3                NA     \n",
       "2 CTRR23P1B_M10 CTRR23P1B 733    2020-08-28       3                NA     \n",
       "3 CTRR23P1B_M2  CTRR23P1B 733    2020-08-28       3                NA     \n",
       "4 CTRR23P1B_M3  CTRR23P1B 733    2020-08-28       3                NA     \n",
       "5 CTRR23P1B_M4  CTRR23P1B 733    2020-08-28       3                NA     \n",
       "6 CTRR23P1B_M6  CTRR23P1B 733    2020-08-28       3                NA     \n",
       "  CellID CellUID WellMitoBarcode ⋯ 16118 16119 16120 16122 16123 16124 16125\n",
       "1 NA             (+)/(+) M1      ⋯ AC    AC    AC    C     C     C     A    \n",
       "2 NA             (-)/(-) M10     ⋯ NA    NA    NA    NA    NA    NA    NA   \n",
       "3 NA             (+)/(+) M2      ⋯ AC    A     AC    C     C     C     A    \n",
       "4 NA             (-)/(+) M3      ⋯ A     A     A     C     C     C     A    \n",
       "5 NA             (-)/(+) M4      ⋯ AC    A     A     C     NA    C     A    \n",
       "6 NA             (+)/(-) M6      ⋯ NA    NA    NA    NA    NA    NA    NA   \n",
       "  16133 16140 16141\n",
       "1 AGT   AT    T    \n",
       "2 NA    NA    NA   \n",
       "3 AGT   AT    T    \n",
       "4 T     T     T    \n",
       "5 NA    NA    NA   \n",
       "6 NA    NA    NA   "
      ]
     },
     "metadata": {},
     "output_type": "display_data"
    }
   ],
   "source": [
    "head(basediffperc_cutdemux_q30_unstranded_highdepth_qcfltd_allele_bymito_bypos)"
   ]
  },
  {
   "cell_type": "code",
   "execution_count": null,
   "metadata": {
    "vscode": {
     "languageId": "r"
    }
   },
   "outputs": [],
   "source": [
    "fwrite(basediffperc_cutdemux_q30_unstranded_highdepth_qcfltd_allele_bymito_bypos, file = \"Report/SNVs/filter/basediffperc_cutdemux_sub500k_q30_unstranded_highdepth_qcfltd_allele_bymito_bypos.csv.gz\")"
   ]
  },
  {
   "cell_type": "markdown",
   "metadata": {},
   "source": [
    "For all QC filtered SNVs, get the depth table: mito by site  \n",
    "Note, we need to recover the low-depth sites, so we have to go back to the original table before depth filtering. "
   ]
  },
  {
   "cell_type": "code",
   "execution_count": 64,
   "metadata": {
    "vscode": {
     "languageId": "r"
    }
   },
   "outputs": [],
   "source": [
    "basedifffreq_cutdemux_q30_unstranded <- fread(file = \"Report/SNVs/basedifffreq_cutdemux_sub500k_q30_unstranded_9027fixed.csv.gz\")\n",
    "basediffperc_cutdemux_q30_unstranded_highdepth_highaf_qcfltd_support_byposmut <- fread(file = \"Report/SNVs/filter/basediffperc_cutdemux_sub500k_q30_unstranded_highdepth_highaf_qcfltd_support_byposmut.csv\")\n",
    "basedifffreq_cutdemux_q30_unstranded_qcfltd <- basedifffreq_cutdemux_q30_unstranded[pos %in% basediffperc_cutdemux_q30_unstranded_highdepth_highaf_qcfltd_support_byposmut[, unique(pos)]]\n",
    "basedifffreq_cutdemux_q30_unstranded_qcfltd_depth_bymito_bypos <- dcast.data.table(basedifffreq_cutdemux_q30_unstranded_qcfltd, LibraryMitoID ~ pos, value.var = \"depth\", fill = 0)\n",
    "basedifffreq_cutdemux_q30_unstranded_qcfltd_depth_bymito_bypos <- MitoInfo[basedifffreq_cutdemux_q30_unstranded_qcfltd_depth_bymito_bypos, on = \"LibraryMitoID\"]"
   ]
  },
  {
   "cell_type": "code",
   "execution_count": 65,
   "metadata": {
    "vscode": {
     "languageId": "r"
    }
   },
   "outputs": [
    {
     "data": {
      "text/html": [
       "<table class=\"dataframe\">\n",
       "<caption>A data.table: 6 × 857</caption>\n",
       "<thead>\n",
       "\t<tr><th scope=col>LibraryID</th><th scope=col>ExptID</th><th scope=col>LibraryMitoID</th><th scope=col>IsolationRCADate</th><th scope=col>DIVDays</th><th scope=col>CellType</th><th scope=col>PlateID</th><th scope=col>CellID</th><th scope=col>CellUID</th><th scope=col>WellMitoBarcode</th><th scope=col>⋯</th><th scope=col>16118</th><th scope=col>16119</th><th scope=col>16120</th><th scope=col>16122</th><th scope=col>16123</th><th scope=col>16124</th><th scope=col>16125</th><th scope=col>16133</th><th scope=col>16140</th><th scope=col>16141</th></tr>\n",
       "\t<tr><th scope=col>&lt;chr&gt;</th><th scope=col>&lt;int&gt;</th><th scope=col>&lt;chr&gt;</th><th scope=col>&lt;IDate&gt;</th><th scope=col>&lt;int&gt;</th><th scope=col>&lt;chr&gt;</th><th scope=col>&lt;int&gt;</th><th scope=col>&lt;int&gt;</th><th scope=col>&lt;chr&gt;</th><th scope=col>&lt;chr&gt;</th><th scope=col>⋯</th><th scope=col>&lt;dbl&gt;</th><th scope=col>&lt;dbl&gt;</th><th scope=col>&lt;dbl&gt;</th><th scope=col>&lt;dbl&gt;</th><th scope=col>&lt;dbl&gt;</th><th scope=col>&lt;dbl&gt;</th><th scope=col>&lt;dbl&gt;</th><th scope=col>&lt;dbl&gt;</th><th scope=col>&lt;dbl&gt;</th><th scope=col>&lt;dbl&gt;</th></tr>\n",
       "</thead>\n",
       "<tbody>\n",
       "\t<tr><td>CTRR23P1B</td><td>733</td><td>CTRR23P1B_M1 </td><td>2020-08-28</td><td>3</td><td></td><td>NA</td><td>NA</td><td></td><td>(+)/(+) M1 </td><td>⋯</td><td>14925</td><td>16873</td><td>11093</td><td>39717</td><td>46631</td><td>60689</td><td>27088</td><td>3190</td><td>2674</td><td>5103</td></tr>\n",
       "\t<tr><td>CTRR23P1B</td><td>733</td><td>CTRR23P1B_M10</td><td>2020-08-28</td><td>3</td><td></td><td>NA</td><td>NA</td><td></td><td>(-)/(-) M10</td><td>⋯</td><td>    1</td><td>    2</td><td>    2</td><td>    1</td><td>    1</td><td>    2</td><td>    2</td><td>   3</td><td>   3</td><td>   0</td></tr>\n",
       "\t<tr><td>CTRR23P1B</td><td>733</td><td>CTRR23P1B_M2 </td><td>2020-08-28</td><td>3</td><td></td><td>NA</td><td>NA</td><td></td><td>(+)/(+) M2 </td><td>⋯</td><td>  800</td><td>  873</td><td>  583</td><td> 2133</td><td> 2584</td><td> 3279</td><td> 1466</td><td> 187</td><td> 164</td><td> 285</td></tr>\n",
       "\t<tr><td>CTRR23P1B</td><td>733</td><td>CTRR23P1B_M3 </td><td>2020-08-28</td><td>3</td><td></td><td>NA</td><td>NA</td><td></td><td>(-)/(+) M3 </td><td>⋯</td><td>  146</td><td>  132</td><td>  127</td><td>   96</td><td>  103</td><td>  136</td><td>  142</td><td> 101</td><td> 141</td><td> 121</td></tr>\n",
       "\t<tr><td>CTRR23P1B</td><td>733</td><td>CTRR23P1B_M4 </td><td>2020-08-28</td><td>3</td><td></td><td>NA</td><td>NA</td><td></td><td>(-)/(+) M4 </td><td>⋯</td><td>   56</td><td>   52</td><td>   52</td><td>   59</td><td>   49</td><td>   68</td><td>   61</td><td>  37</td><td>  47</td><td>  44</td></tr>\n",
       "\t<tr><td>CTRR23P1B</td><td>733</td><td>CTRR23P1B_M6 </td><td>2020-08-28</td><td>3</td><td></td><td>NA</td><td>NA</td><td></td><td>(+)/(-) M6 </td><td>⋯</td><td>    2</td><td>    3</td><td>    2</td><td>    0</td><td>    1</td><td>    2</td><td>    2</td><td>   2</td><td>   1</td><td>   2</td></tr>\n",
       "</tbody>\n",
       "</table>\n"
      ],
      "text/latex": [
       "A data.table: 6 × 857\n",
       "\\begin{tabular}{lllllllllllllllllllll}\n",
       " LibraryID & ExptID & LibraryMitoID & IsolationRCADate & DIVDays & CellType & PlateID & CellID & CellUID & WellMitoBarcode & ⋯ & 16118 & 16119 & 16120 & 16122 & 16123 & 16124 & 16125 & 16133 & 16140 & 16141\\\\\n",
       " <chr> & <int> & <chr> & <IDate> & <int> & <chr> & <int> & <int> & <chr> & <chr> & ⋯ & <dbl> & <dbl> & <dbl> & <dbl> & <dbl> & <dbl> & <dbl> & <dbl> & <dbl> & <dbl>\\\\\n",
       "\\hline\n",
       "\t CTRR23P1B & 733 & CTRR23P1B\\_M1  & 2020-08-28 & 3 &  & NA & NA &  & (+)/(+) M1  & ⋯ & 14925 & 16873 & 11093 & 39717 & 46631 & 60689 & 27088 & 3190 & 2674 & 5103\\\\\n",
       "\t CTRR23P1B & 733 & CTRR23P1B\\_M10 & 2020-08-28 & 3 &  & NA & NA &  & (-)/(-) M10 & ⋯ &     1 &     2 &     2 &     1 &     1 &     2 &     2 &    3 &    3 &    0\\\\\n",
       "\t CTRR23P1B & 733 & CTRR23P1B\\_M2  & 2020-08-28 & 3 &  & NA & NA &  & (+)/(+) M2  & ⋯ &   800 &   873 &   583 &  2133 &  2584 &  3279 &  1466 &  187 &  164 &  285\\\\\n",
       "\t CTRR23P1B & 733 & CTRR23P1B\\_M3  & 2020-08-28 & 3 &  & NA & NA &  & (-)/(+) M3  & ⋯ &   146 &   132 &   127 &    96 &   103 &   136 &   142 &  101 &  141 &  121\\\\\n",
       "\t CTRR23P1B & 733 & CTRR23P1B\\_M4  & 2020-08-28 & 3 &  & NA & NA &  & (-)/(+) M4  & ⋯ &    56 &    52 &    52 &    59 &    49 &    68 &    61 &   37 &   47 &   44\\\\\n",
       "\t CTRR23P1B & 733 & CTRR23P1B\\_M6  & 2020-08-28 & 3 &  & NA & NA &  & (+)/(-) M6  & ⋯ &     2 &     3 &     2 &     0 &     1 &     2 &     2 &    2 &    1 &    2\\\\\n",
       "\\end{tabular}\n"
      ],
      "text/markdown": [
       "\n",
       "A data.table: 6 × 857\n",
       "\n",
       "| LibraryID &lt;chr&gt; | ExptID &lt;int&gt; | LibraryMitoID &lt;chr&gt; | IsolationRCADate &lt;IDate&gt; | DIVDays &lt;int&gt; | CellType &lt;chr&gt; | PlateID &lt;int&gt; | CellID &lt;int&gt; | CellUID &lt;chr&gt; | WellMitoBarcode &lt;chr&gt; | ⋯ ⋯ | 16118 &lt;dbl&gt; | 16119 &lt;dbl&gt; | 16120 &lt;dbl&gt; | 16122 &lt;dbl&gt; | 16123 &lt;dbl&gt; | 16124 &lt;dbl&gt; | 16125 &lt;dbl&gt; | 16133 &lt;dbl&gt; | 16140 &lt;dbl&gt; | 16141 &lt;dbl&gt; |\n",
       "|---|---|---|---|---|---|---|---|---|---|---|---|---|---|---|---|---|---|---|---|---|\n",
       "| CTRR23P1B | 733 | CTRR23P1B_M1  | 2020-08-28 | 3 | <!----> | NA | NA | <!----> | (+)/(+) M1  | ⋯ | 14925 | 16873 | 11093 | 39717 | 46631 | 60689 | 27088 | 3190 | 2674 | 5103 |\n",
       "| CTRR23P1B | 733 | CTRR23P1B_M10 | 2020-08-28 | 3 | <!----> | NA | NA | <!----> | (-)/(-) M10 | ⋯ |     1 |     2 |     2 |     1 |     1 |     2 |     2 |    3 |    3 |    0 |\n",
       "| CTRR23P1B | 733 | CTRR23P1B_M2  | 2020-08-28 | 3 | <!----> | NA | NA | <!----> | (+)/(+) M2  | ⋯ |   800 |   873 |   583 |  2133 |  2584 |  3279 |  1466 |  187 |  164 |  285 |\n",
       "| CTRR23P1B | 733 | CTRR23P1B_M3  | 2020-08-28 | 3 | <!----> | NA | NA | <!----> | (-)/(+) M3  | ⋯ |   146 |   132 |   127 |    96 |   103 |   136 |   142 |  101 |  141 |  121 |\n",
       "| CTRR23P1B | 733 | CTRR23P1B_M4  | 2020-08-28 | 3 | <!----> | NA | NA | <!----> | (-)/(+) M4  | ⋯ |    56 |    52 |    52 |    59 |    49 |    68 |    61 |   37 |   47 |   44 |\n",
       "| CTRR23P1B | 733 | CTRR23P1B_M6  | 2020-08-28 | 3 | <!----> | NA | NA | <!----> | (+)/(-) M6  | ⋯ |     2 |     3 |     2 |     0 |     1 |     2 |     2 |    2 |    1 |    2 |\n",
       "\n"
      ],
      "text/plain": [
       "  LibraryID ExptID LibraryMitoID IsolationRCADate DIVDays CellType PlateID\n",
       "1 CTRR23P1B 733    CTRR23P1B_M1  2020-08-28       3                NA     \n",
       "2 CTRR23P1B 733    CTRR23P1B_M10 2020-08-28       3                NA     \n",
       "3 CTRR23P1B 733    CTRR23P1B_M2  2020-08-28       3                NA     \n",
       "4 CTRR23P1B 733    CTRR23P1B_M3  2020-08-28       3                NA     \n",
       "5 CTRR23P1B 733    CTRR23P1B_M4  2020-08-28       3                NA     \n",
       "6 CTRR23P1B 733    CTRR23P1B_M6  2020-08-28       3                NA     \n",
       "  CellID CellUID WellMitoBarcode ⋯ 16118 16119 16120 16122 16123 16124 16125\n",
       "1 NA             (+)/(+) M1      ⋯ 14925 16873 11093 39717 46631 60689 27088\n",
       "2 NA             (-)/(-) M10     ⋯     1     2     2     1     1     2     2\n",
       "3 NA             (+)/(+) M2      ⋯   800   873   583  2133  2584  3279  1466\n",
       "4 NA             (-)/(+) M3      ⋯   146   132   127    96   103   136   142\n",
       "5 NA             (-)/(+) M4      ⋯    56    52    52    59    49    68    61\n",
       "6 NA             (+)/(-) M6      ⋯     2     3     2     0     1     2     2\n",
       "  16133 16140 16141\n",
       "1 3190  2674  5103 \n",
       "2    3     3     0 \n",
       "3  187   164   285 \n",
       "4  101   141   121 \n",
       "5   37    47    44 \n",
       "6    2     1     2 "
      ]
     },
     "metadata": {},
     "output_type": "display_data"
    }
   ],
   "source": [
    "head(basedifffreq_cutdemux_q30_unstranded_qcfltd_depth_bymito_bypos)"
   ]
  },
  {
   "cell_type": "code",
   "execution_count": null,
   "metadata": {
    "vscode": {
     "languageId": "r"
    }
   },
   "outputs": [],
   "source": [
    "fwrite(basedifffreq_cutdemux_q30_unstranded_qcfltd_depth_bymito_bypos, file = \"Report/SNVs/filter/basedifffreq_cutdemux_sub500k_q30_unstranded_qcfltd_depth_bymito_bypos.csv.gz\")"
   ]
  },
  {
   "cell_type": "markdown",
   "metadata": {},
   "source": [
    "Filter insertions"
   ]
  },
  {
   "cell_type": "code",
   "execution_count": 67,
   "metadata": {
    "vscode": {
     "languageId": "r"
    }
   },
   "outputs": [
    {
     "data": {
      "text/html": [
       "<style>\n",
       ".list-inline {list-style: none; margin:0; padding: 0}\n",
       ".list-inline>li {display: inline-block}\n",
       ".list-inline>li:not(:last-child)::after {content: \"\\00b7\"; padding: 0 .5ex}\n",
       "</style>\n",
       "<ol class=list-inline><li>134</li><li>39</li></ol>\n"
      ],
      "text/latex": [
       "\\begin{enumerate*}\n",
       "\\item 134\n",
       "\\item 39\n",
       "\\end{enumerate*}\n"
      ],
      "text/markdown": [
       "1. 134\n",
       "2. 39\n",
       "\n",
       "\n"
      ],
      "text/plain": [
       "[1] 134  39"
      ]
     },
     "metadata": {},
     "output_type": "display_data"
    }
   ],
   "source": [
    "depth_th <- 50\n",
    "vaf_th <- 0.05\n",
    "\n",
    "mpileups_ins_cutdemux <- read.csv(\"Report/SNVs/ins/mpileups_ins_cutdemux_sub500k.csv.gz\", as.is = TRUE, check.names = FALSE)\n",
    "setDT(mpileups_ins_cutdemux)\n",
    "mpileups_ins_cutdemux_highdepth_highaf <- mpileups_ins_cutdemux[depth >= depth_th & altperctot >= vaf_th * 100]\n",
    "dim(mpileups_ins_cutdemux_highdepth_highaf)"
   ]
  },
  {
   "cell_type": "code",
   "execution_count": 68,
   "metadata": {
    "vscode": {
     "languageId": "r"
    }
   },
   "outputs": [
    {
     "data": {
      "text/html": [
       "<table class=\"dataframe\">\n",
       "<caption>A data.table: 6 × 39</caption>\n",
       "<thead>\n",
       "\t<tr><th scope=col>LibraryID</th><th scope=col>ExptID</th><th scope=col>LibraryMitoID</th><th scope=col>IsolationRCADate</th><th scope=col>DIVDays</th><th scope=col>CellType</th><th scope=col>PlateID</th><th scope=col>CellID</th><th scope=col>CellUID</th><th scope=col>WellMitoBarcode</th><th scope=col>⋯</th><th scope=col>basefrac_bin10_T</th><th scope=col>is_in_range</th><th scope=col>is_in_primer</th><th scope=col>dist5</th><th scope=col>dist3</th><th scope=col>depth</th><th scope=col>alt</th><th scope=col>altfreq</th><th scope=col>altfreqtot</th><th scope=col>altperctot</th></tr>\n",
       "\t<tr><th scope=col>&lt;chr&gt;</th><th scope=col>&lt;int&gt;</th><th scope=col>&lt;chr&gt;</th><th scope=col>&lt;chr&gt;</th><th scope=col>&lt;int&gt;</th><th scope=col>&lt;chr&gt;</th><th scope=col>&lt;int&gt;</th><th scope=col>&lt;int&gt;</th><th scope=col>&lt;chr&gt;</th><th scope=col>&lt;chr&gt;</th><th scope=col>⋯</th><th scope=col>&lt;dbl&gt;</th><th scope=col>&lt;chr&gt;</th><th scope=col>&lt;chr&gt;</th><th scope=col>&lt;int&gt;</th><th scope=col>&lt;int&gt;</th><th scope=col>&lt;int&gt;</th><th scope=col>&lt;chr&gt;</th><th scope=col>&lt;chr&gt;</th><th scope=col>&lt;int&gt;</th><th scope=col>&lt;dbl&gt;</th></tr>\n",
       "</thead>\n",
       "<tbody>\n",
       "\t<tr><td>L2R24P1C </td><td>730</td><td>L2R24P1C_M4 </td><td>2020-09-04</td><td>3</td><td>Neuron</td><td>1</td><td> 2</td><td>Mouse05_Neuron_2 </td><td>C4--M4</td><td>⋯</td><td>0.18181818</td><td>Y</td><td>N</td><td> 71</td><td>117</td><td>96164</td><td>AA,AAA,AC,AG,AT</td><td>4783,12,10,13,11</td><td>4829</td><td>5.021630</td></tr>\n",
       "\t<tr><td>L4R24P1C </td><td>730</td><td>L4R24P1C_M7 </td><td>2020-09-04</td><td>3</td><td>Neuron</td><td>1</td><td> 4</td><td>Mouse05_Neuron_4 </td><td>E7--M7</td><td>⋯</td><td>0.09090909</td><td>Y</td><td>Y</td><td> 19</td><td>166</td><td>  135</td><td>AA,AACAC,ATC   </td><td>1,1,5           </td><td>   7</td><td>5.185185</td></tr>\n",
       "\t<tr><td>L5R24P1C </td><td>730</td><td>L5R24P1C_M4 </td><td>2020-09-04</td><td>3</td><td>Neuron</td><td>1</td><td> 4</td><td>Mouse05_Neuron_4 </td><td>F4--M4</td><td>⋯</td><td>0.09090909</td><td>Y</td><td>Y</td><td> 19</td><td>166</td><td>  103</td><td>AA,ATC         </td><td>1,5             </td><td>   6</td><td>5.825243</td></tr>\n",
       "\t<tr><td>L10R24P2C</td><td>730</td><td>L10R24P2C_M4</td><td>2020-09-04</td><td>3</td><td>Neuron</td><td>2</td><td> 7</td><td>Mouse05_Neuron_7 </td><td>A4--M4</td><td>⋯</td><td>0.00000000</td><td>Y</td><td>N</td><td>116</td><td> 60</td><td>  206</td><td>CA             </td><td>14              </td><td>  14</td><td>6.796117</td></tr>\n",
       "\t<tr><td>L16R24P3C</td><td>730</td><td>L16R24P3C_M7</td><td>2020-09-04</td><td>3</td><td>Neuron</td><td>3</td><td>12</td><td>Mouse05_Neuron_12</td><td>B7--M7</td><td>⋯</td><td>0.09090909</td><td>Y</td><td>Y</td><td> 19</td><td>166</td><td>   57</td><td>ACGAAAC,ATC    </td><td>2,1             </td><td>   3</td><td>5.263158</td></tr>\n",
       "\t<tr><td>L11R23P1C</td><td>730</td><td>L11R23P1C_M1</td><td>2020-08-28</td><td>3</td><td>Neuron</td><td>1</td><td> 2</td><td>Mouse04_Neuron_2 </td><td>D1--M1</td><td>⋯</td><td>0.18181818</td><td>Y</td><td>N</td><td>121</td><td> 80</td><td>  233</td><td>AA             </td><td>16              </td><td>  16</td><td>6.866953</td></tr>\n",
       "</tbody>\n",
       "</table>\n"
      ],
      "text/latex": [
       "A data.table: 6 × 39\n",
       "\\begin{tabular}{lllllllllllllllllllll}\n",
       " LibraryID & ExptID & LibraryMitoID & IsolationRCADate & DIVDays & CellType & PlateID & CellID & CellUID & WellMitoBarcode & ⋯ & basefrac\\_bin10\\_T & is\\_in\\_range & is\\_in\\_primer & dist5 & dist3 & depth & alt & altfreq & altfreqtot & altperctot\\\\\n",
       " <chr> & <int> & <chr> & <chr> & <int> & <chr> & <int> & <int> & <chr> & <chr> & ⋯ & <dbl> & <chr> & <chr> & <int> & <int> & <int> & <chr> & <chr> & <int> & <dbl>\\\\\n",
       "\\hline\n",
       "\t L2R24P1C  & 730 & L2R24P1C\\_M4  & 2020-09-04 & 3 & Neuron & 1 &  2 & Mouse05\\_Neuron\\_2  & C4--M4 & ⋯ & 0.18181818 & Y & N &  71 & 117 & 96164 & AA,AAA,AC,AG,AT & 4783,12,10,13,11 & 4829 & 5.021630\\\\\n",
       "\t L4R24P1C  & 730 & L4R24P1C\\_M7  & 2020-09-04 & 3 & Neuron & 1 &  4 & Mouse05\\_Neuron\\_4  & E7--M7 & ⋯ & 0.09090909 & Y & Y &  19 & 166 &   135 & AA,AACAC,ATC    & 1,1,5            &    7 & 5.185185\\\\\n",
       "\t L5R24P1C  & 730 & L5R24P1C\\_M4  & 2020-09-04 & 3 & Neuron & 1 &  4 & Mouse05\\_Neuron\\_4  & F4--M4 & ⋯ & 0.09090909 & Y & Y &  19 & 166 &   103 & AA,ATC          & 1,5              &    6 & 5.825243\\\\\n",
       "\t L10R24P2C & 730 & L10R24P2C\\_M4 & 2020-09-04 & 3 & Neuron & 2 &  7 & Mouse05\\_Neuron\\_7  & A4--M4 & ⋯ & 0.00000000 & Y & N & 116 &  60 &   206 & CA              & 14               &   14 & 6.796117\\\\\n",
       "\t L16R24P3C & 730 & L16R24P3C\\_M7 & 2020-09-04 & 3 & Neuron & 3 & 12 & Mouse05\\_Neuron\\_12 & B7--M7 & ⋯ & 0.09090909 & Y & Y &  19 & 166 &    57 & ACGAAAC,ATC     & 2,1              &    3 & 5.263158\\\\\n",
       "\t L11R23P1C & 730 & L11R23P1C\\_M1 & 2020-08-28 & 3 & Neuron & 1 &  2 & Mouse04\\_Neuron\\_2  & D1--M1 & ⋯ & 0.18181818 & Y & N & 121 &  80 &   233 & AA              & 16               &   16 & 6.866953\\\\\n",
       "\\end{tabular}\n"
      ],
      "text/markdown": [
       "\n",
       "A data.table: 6 × 39\n",
       "\n",
       "| LibraryID &lt;chr&gt; | ExptID &lt;int&gt; | LibraryMitoID &lt;chr&gt; | IsolationRCADate &lt;chr&gt; | DIVDays &lt;int&gt; | CellType &lt;chr&gt; | PlateID &lt;int&gt; | CellID &lt;int&gt; | CellUID &lt;chr&gt; | WellMitoBarcode &lt;chr&gt; | ⋯ ⋯ | basefrac_bin10_T &lt;dbl&gt; | is_in_range &lt;chr&gt; | is_in_primer &lt;chr&gt; | dist5 &lt;int&gt; | dist3 &lt;int&gt; | depth &lt;int&gt; | alt &lt;chr&gt; | altfreq &lt;chr&gt; | altfreqtot &lt;int&gt; | altperctot &lt;dbl&gt; |\n",
       "|---|---|---|---|---|---|---|---|---|---|---|---|---|---|---|---|---|---|---|---|---|\n",
       "| L2R24P1C  | 730 | L2R24P1C_M4  | 2020-09-04 | 3 | Neuron | 1 |  2 | Mouse05_Neuron_2  | C4--M4 | ⋯ | 0.18181818 | Y | N |  71 | 117 | 96164 | AA,AAA,AC,AG,AT | 4783,12,10,13,11 | 4829 | 5.021630 |\n",
       "| L4R24P1C  | 730 | L4R24P1C_M7  | 2020-09-04 | 3 | Neuron | 1 |  4 | Mouse05_Neuron_4  | E7--M7 | ⋯ | 0.09090909 | Y | Y |  19 | 166 |   135 | AA,AACAC,ATC    | 1,1,5            |    7 | 5.185185 |\n",
       "| L5R24P1C  | 730 | L5R24P1C_M4  | 2020-09-04 | 3 | Neuron | 1 |  4 | Mouse05_Neuron_4  | F4--M4 | ⋯ | 0.09090909 | Y | Y |  19 | 166 |   103 | AA,ATC          | 1,5              |    6 | 5.825243 |\n",
       "| L10R24P2C | 730 | L10R24P2C_M4 | 2020-09-04 | 3 | Neuron | 2 |  7 | Mouse05_Neuron_7  | A4--M4 | ⋯ | 0.00000000 | Y | N | 116 |  60 |   206 | CA              | 14               |   14 | 6.796117 |\n",
       "| L16R24P3C | 730 | L16R24P3C_M7 | 2020-09-04 | 3 | Neuron | 3 | 12 | Mouse05_Neuron_12 | B7--M7 | ⋯ | 0.09090909 | Y | Y |  19 | 166 |    57 | ACGAAAC,ATC     | 2,1              |    3 | 5.263158 |\n",
       "| L11R23P1C | 730 | L11R23P1C_M1 | 2020-08-28 | 3 | Neuron | 1 |  2 | Mouse04_Neuron_2  | D1--M1 | ⋯ | 0.18181818 | Y | N | 121 |  80 |   233 | AA              | 16               |   16 | 6.866953 |\n",
       "\n"
      ],
      "text/plain": [
       "  LibraryID ExptID LibraryMitoID IsolationRCADate DIVDays CellType PlateID\n",
       "1 L2R24P1C  730    L2R24P1C_M4   2020-09-04       3       Neuron   1      \n",
       "2 L4R24P1C  730    L4R24P1C_M7   2020-09-04       3       Neuron   1      \n",
       "3 L5R24P1C  730    L5R24P1C_M4   2020-09-04       3       Neuron   1      \n",
       "4 L10R24P2C 730    L10R24P2C_M4  2020-09-04       3       Neuron   2      \n",
       "5 L16R24P3C 730    L16R24P3C_M7  2020-09-04       3       Neuron   3      \n",
       "6 L11R23P1C 730    L11R23P1C_M1  2020-08-28       3       Neuron   1      \n",
       "  CellID CellUID           WellMitoBarcode ⋯ basefrac_bin10_T is_in_range\n",
       "1  2     Mouse05_Neuron_2  C4--M4          ⋯ 0.18181818       Y          \n",
       "2  4     Mouse05_Neuron_4  E7--M7          ⋯ 0.09090909       Y          \n",
       "3  4     Mouse05_Neuron_4  F4--M4          ⋯ 0.09090909       Y          \n",
       "4  7     Mouse05_Neuron_7  A4--M4          ⋯ 0.00000000       Y          \n",
       "5 12     Mouse05_Neuron_12 B7--M7          ⋯ 0.09090909       Y          \n",
       "6  2     Mouse04_Neuron_2  D1--M1          ⋯ 0.18181818       Y          \n",
       "  is_in_primer dist5 dist3 depth alt             altfreq          altfreqtot\n",
       "1 N             71   117   96164 AA,AAA,AC,AG,AT 4783,12,10,13,11 4829      \n",
       "2 Y             19   166     135 AA,AACAC,ATC    1,1,5               7      \n",
       "3 Y             19   166     103 AA,ATC          1,5                 6      \n",
       "4 N            116    60     206 CA              14                 14      \n",
       "5 Y             19   166      57 ACGAAAC,ATC     2,1                 3      \n",
       "6 N            121    80     233 AA              16                 16      \n",
       "  altperctot\n",
       "1 5.021630  \n",
       "2 5.185185  \n",
       "3 5.825243  \n",
       "4 6.796117  \n",
       "5 5.263158  \n",
       "6 6.866953  "
      ]
     },
     "metadata": {},
     "output_type": "display_data"
    }
   ],
   "source": [
    "head(mpileups_ins_cutdemux_highdepth_highaf)"
   ]
  },
  {
   "cell_type": "code",
   "execution_count": null,
   "metadata": {
    "vscode": {
     "languageId": "r"
    }
   },
   "outputs": [],
   "source": [
    "fwrite(mpileups_ins_cutdemux_highdepth_highaf, file = \"Report/SNVs/filter/mpileups_ins_cutdemux_sub500k_highdepth_highaf.csv.gz\", na = \"NA\")"
   ]
  },
  {
   "cell_type": "code",
   "execution_count": 70,
   "metadata": {
    "vscode": {
     "languageId": "r"
    }
   },
   "outputs": [
    {
     "data": {
      "text/html": [
       "<table class=\"dataframe\">\n",
       "<caption>A data.table: 6 × 39</caption>\n",
       "<thead>\n",
       "\t<tr><th scope=col>LibraryID</th><th scope=col>ExptID</th><th scope=col>LibraryMitoID</th><th scope=col>IsolationRCADate</th><th scope=col>DIVDays</th><th scope=col>CellType</th><th scope=col>PlateID</th><th scope=col>CellID</th><th scope=col>CellUID</th><th scope=col>WellMitoBarcode</th><th scope=col>⋯</th><th scope=col>basefrac_bin10_T</th><th scope=col>is_in_range</th><th scope=col>is_in_primer</th><th scope=col>dist5</th><th scope=col>dist3</th><th scope=col>depth</th><th scope=col>alt</th><th scope=col>altfreq</th><th scope=col>altfreqtot</th><th scope=col>altperctot</th></tr>\n",
       "\t<tr><th scope=col>&lt;chr&gt;</th><th scope=col>&lt;int&gt;</th><th scope=col>&lt;chr&gt;</th><th scope=col>&lt;chr&gt;</th><th scope=col>&lt;int&gt;</th><th scope=col>&lt;chr&gt;</th><th scope=col>&lt;int&gt;</th><th scope=col>&lt;int&gt;</th><th scope=col>&lt;chr&gt;</th><th scope=col>&lt;chr&gt;</th><th scope=col>⋯</th><th scope=col>&lt;dbl&gt;</th><th scope=col>&lt;chr&gt;</th><th scope=col>&lt;chr&gt;</th><th scope=col>&lt;int&gt;</th><th scope=col>&lt;int&gt;</th><th scope=col>&lt;int&gt;</th><th scope=col>&lt;chr&gt;</th><th scope=col>&lt;chr&gt;</th><th scope=col>&lt;int&gt;</th><th scope=col>&lt;dbl&gt;</th></tr>\n",
       "</thead>\n",
       "<tbody>\n",
       "\t<tr><td>L2R24P1C </td><td>730</td><td>L2R24P1C_M4 </td><td>2020-09-04</td><td>3</td><td>Neuron   </td><td>1</td><td> 2</td><td>Mouse05_Neuron_2    </td><td>C4--M4</td><td>⋯</td><td>0.18181818</td><td>Y</td><td>N</td><td> 71</td><td>117</td><td>96164</td><td>AA,AAA,AC,AG,AT             </td><td>4783,12,10,13,11</td><td>4829</td><td> 5.021630</td></tr>\n",
       "\t<tr><td>L10R24P2C</td><td>730</td><td>L10R24P2C_M4</td><td>2020-09-04</td><td>3</td><td>Neuron   </td><td>2</td><td> 7</td><td>Mouse05_Neuron_7    </td><td>A4--M4</td><td>⋯</td><td>0.00000000</td><td>Y</td><td>N</td><td>116</td><td> 60</td><td>  206</td><td>CA                          </td><td>14              </td><td>  14</td><td> 6.796117</td></tr>\n",
       "\t<tr><td>L11R23P1C</td><td>730</td><td>L11R23P1C_M1</td><td>2020-08-28</td><td>3</td><td>Neuron   </td><td>1</td><td> 2</td><td>Mouse04_Neuron_2    </td><td>D1--M1</td><td>⋯</td><td>0.18181818</td><td>Y</td><td>N</td><td>121</td><td> 80</td><td>  233</td><td>AA                          </td><td>16              </td><td>  16</td><td> 6.866953</td></tr>\n",
       "\t<tr><td>L2R30P1B </td><td>732</td><td>L2R30P1B_M7 </td><td>2021-02-12</td><td>3</td><td>Astrocyte</td><td>1</td><td>14</td><td>Mouse08_Astrocyte_14</td><td>B7--M7</td><td>⋯</td><td>0.00000000</td><td>Y</td><td>N</td><td> 85</td><td> 91</td><td> 1255</td><td>CA,CACAA,CACAAC,CACAACCAACAT</td><td>50,21,13,1      </td><td>  85</td><td> 6.772908</td></tr>\n",
       "\t<tr><td>L4R30P1B </td><td>732</td><td>L4R30P1B_M4 </td><td>2021-02-12</td><td>3</td><td>Astrocyte</td><td>1</td><td>15</td><td>Mouse08_Astrocyte_15</td><td>D4--M4</td><td>⋯</td><td>0.18181818</td><td>Y</td><td>N</td><td> 71</td><td>117</td><td> 9283</td><td>AA,AAA,AC,AT                </td><td>1502,3,4,1      </td><td>1510</td><td>16.266293</td></tr>\n",
       "\t<tr><td>L4R30P1B </td><td>732</td><td>L4R30P1B_M9 </td><td>2021-02-12</td><td>3</td><td>Astrocyte</td><td>1</td><td>15</td><td>Mouse08_Astrocyte_15</td><td>D9--M9</td><td>⋯</td><td>0.09090909</td><td>Y</td><td>N</td><td> 88</td><td>100</td><td>   81</td><td>CC                          </td><td>6               </td><td>   6</td><td> 7.407407</td></tr>\n",
       "</tbody>\n",
       "</table>\n"
      ],
      "text/latex": [
       "A data.table: 6 × 39\n",
       "\\begin{tabular}{lllllllllllllllllllll}\n",
       " LibraryID & ExptID & LibraryMitoID & IsolationRCADate & DIVDays & CellType & PlateID & CellID & CellUID & WellMitoBarcode & ⋯ & basefrac\\_bin10\\_T & is\\_in\\_range & is\\_in\\_primer & dist5 & dist3 & depth & alt & altfreq & altfreqtot & altperctot\\\\\n",
       " <chr> & <int> & <chr> & <chr> & <int> & <chr> & <int> & <int> & <chr> & <chr> & ⋯ & <dbl> & <chr> & <chr> & <int> & <int> & <int> & <chr> & <chr> & <int> & <dbl>\\\\\n",
       "\\hline\n",
       "\t L2R24P1C  & 730 & L2R24P1C\\_M4  & 2020-09-04 & 3 & Neuron    & 1 &  2 & Mouse05\\_Neuron\\_2     & C4--M4 & ⋯ & 0.18181818 & Y & N &  71 & 117 & 96164 & AA,AAA,AC,AG,AT              & 4783,12,10,13,11 & 4829 &  5.021630\\\\\n",
       "\t L10R24P2C & 730 & L10R24P2C\\_M4 & 2020-09-04 & 3 & Neuron    & 2 &  7 & Mouse05\\_Neuron\\_7     & A4--M4 & ⋯ & 0.00000000 & Y & N & 116 &  60 &   206 & CA                           & 14               &   14 &  6.796117\\\\\n",
       "\t L11R23P1C & 730 & L11R23P1C\\_M1 & 2020-08-28 & 3 & Neuron    & 1 &  2 & Mouse04\\_Neuron\\_2     & D1--M1 & ⋯ & 0.18181818 & Y & N & 121 &  80 &   233 & AA                           & 16               &   16 &  6.866953\\\\\n",
       "\t L2R30P1B  & 732 & L2R30P1B\\_M7  & 2021-02-12 & 3 & Astrocyte & 1 & 14 & Mouse08\\_Astrocyte\\_14 & B7--M7 & ⋯ & 0.00000000 & Y & N &  85 &  91 &  1255 & CA,CACAA,CACAAC,CACAACCAACAT & 50,21,13,1       &   85 &  6.772908\\\\\n",
       "\t L4R30P1B  & 732 & L4R30P1B\\_M4  & 2021-02-12 & 3 & Astrocyte & 1 & 15 & Mouse08\\_Astrocyte\\_15 & D4--M4 & ⋯ & 0.18181818 & Y & N &  71 & 117 &  9283 & AA,AAA,AC,AT                 & 1502,3,4,1       & 1510 & 16.266293\\\\\n",
       "\t L4R30P1B  & 732 & L4R30P1B\\_M9  & 2021-02-12 & 3 & Astrocyte & 1 & 15 & Mouse08\\_Astrocyte\\_15 & D9--M9 & ⋯ & 0.09090909 & Y & N &  88 & 100 &    81 & CC                           & 6                &    6 &  7.407407\\\\\n",
       "\\end{tabular}\n"
      ],
      "text/markdown": [
       "\n",
       "A data.table: 6 × 39\n",
       "\n",
       "| LibraryID &lt;chr&gt; | ExptID &lt;int&gt; | LibraryMitoID &lt;chr&gt; | IsolationRCADate &lt;chr&gt; | DIVDays &lt;int&gt; | CellType &lt;chr&gt; | PlateID &lt;int&gt; | CellID &lt;int&gt; | CellUID &lt;chr&gt; | WellMitoBarcode &lt;chr&gt; | ⋯ ⋯ | basefrac_bin10_T &lt;dbl&gt; | is_in_range &lt;chr&gt; | is_in_primer &lt;chr&gt; | dist5 &lt;int&gt; | dist3 &lt;int&gt; | depth &lt;int&gt; | alt &lt;chr&gt; | altfreq &lt;chr&gt; | altfreqtot &lt;int&gt; | altperctot &lt;dbl&gt; |\n",
       "|---|---|---|---|---|---|---|---|---|---|---|---|---|---|---|---|---|---|---|---|---|\n",
       "| L2R24P1C  | 730 | L2R24P1C_M4  | 2020-09-04 | 3 | Neuron    | 1 |  2 | Mouse05_Neuron_2     | C4--M4 | ⋯ | 0.18181818 | Y | N |  71 | 117 | 96164 | AA,AAA,AC,AG,AT              | 4783,12,10,13,11 | 4829 |  5.021630 |\n",
       "| L10R24P2C | 730 | L10R24P2C_M4 | 2020-09-04 | 3 | Neuron    | 2 |  7 | Mouse05_Neuron_7     | A4--M4 | ⋯ | 0.00000000 | Y | N | 116 |  60 |   206 | CA                           | 14               |   14 |  6.796117 |\n",
       "| L11R23P1C | 730 | L11R23P1C_M1 | 2020-08-28 | 3 | Neuron    | 1 |  2 | Mouse04_Neuron_2     | D1--M1 | ⋯ | 0.18181818 | Y | N | 121 |  80 |   233 | AA                           | 16               |   16 |  6.866953 |\n",
       "| L2R30P1B  | 732 | L2R30P1B_M7  | 2021-02-12 | 3 | Astrocyte | 1 | 14 | Mouse08_Astrocyte_14 | B7--M7 | ⋯ | 0.00000000 | Y | N |  85 |  91 |  1255 | CA,CACAA,CACAAC,CACAACCAACAT | 50,21,13,1       |   85 |  6.772908 |\n",
       "| L4R30P1B  | 732 | L4R30P1B_M4  | 2021-02-12 | 3 | Astrocyte | 1 | 15 | Mouse08_Astrocyte_15 | D4--M4 | ⋯ | 0.18181818 | Y | N |  71 | 117 |  9283 | AA,AAA,AC,AT                 | 1502,3,4,1       | 1510 | 16.266293 |\n",
       "| L4R30P1B  | 732 | L4R30P1B_M9  | 2021-02-12 | 3 | Astrocyte | 1 | 15 | Mouse08_Astrocyte_15 | D9--M9 | ⋯ | 0.09090909 | Y | N |  88 | 100 |    81 | CC                           | 6                |    6 |  7.407407 |\n",
       "\n"
      ],
      "text/plain": [
       "  LibraryID ExptID LibraryMitoID IsolationRCADate DIVDays CellType  PlateID\n",
       "1 L2R24P1C  730    L2R24P1C_M4   2020-09-04       3       Neuron    1      \n",
       "2 L10R24P2C 730    L10R24P2C_M4  2020-09-04       3       Neuron    2      \n",
       "3 L11R23P1C 730    L11R23P1C_M1  2020-08-28       3       Neuron    1      \n",
       "4 L2R30P1B  732    L2R30P1B_M7   2021-02-12       3       Astrocyte 1      \n",
       "5 L4R30P1B  732    L4R30P1B_M4   2021-02-12       3       Astrocyte 1      \n",
       "6 L4R30P1B  732    L4R30P1B_M9   2021-02-12       3       Astrocyte 1      \n",
       "  CellID CellUID              WellMitoBarcode ⋯ basefrac_bin10_T is_in_range\n",
       "1  2     Mouse05_Neuron_2     C4--M4          ⋯ 0.18181818       Y          \n",
       "2  7     Mouse05_Neuron_7     A4--M4          ⋯ 0.00000000       Y          \n",
       "3  2     Mouse04_Neuron_2     D1--M1          ⋯ 0.18181818       Y          \n",
       "4 14     Mouse08_Astrocyte_14 B7--M7          ⋯ 0.00000000       Y          \n",
       "5 15     Mouse08_Astrocyte_15 D4--M4          ⋯ 0.18181818       Y          \n",
       "6 15     Mouse08_Astrocyte_15 D9--M9          ⋯ 0.09090909       Y          \n",
       "  is_in_primer dist5 dist3 depth alt                          altfreq         \n",
       "1 N             71   117   96164 AA,AAA,AC,AG,AT              4783,12,10,13,11\n",
       "2 N            116    60     206 CA                           14              \n",
       "3 N            121    80     233 AA                           16              \n",
       "4 N             85    91    1255 CA,CACAA,CACAAC,CACAACCAACAT 50,21,13,1      \n",
       "5 N             71   117    9283 AA,AAA,AC,AT                 1502,3,4,1      \n",
       "6 N             88   100      81 CC                           6               \n",
       "  altfreqtot altperctot\n",
       "1 4829        5.021630 \n",
       "2   14        6.796117 \n",
       "3   16        6.866953 \n",
       "4   85        6.772908 \n",
       "5 1510       16.266293 \n",
       "6    6        7.407407 "
      ]
     },
     "metadata": {},
     "output_type": "display_data"
    }
   ],
   "source": [
    "chrmproperties <- fread(\"Report/artifact/chrmbases_properties.csv.gz\")\n",
    "mpileups_ins_cutdemux_highdepth_highaf_qcfltd <- mpileups_ins_cutdemux_highdepth_highaf[pos %in% chrmproperties[is_in_range == \"Y\" & is_in_primer == \"N\", pos]]\n",
    "head(mpileups_ins_cutdemux_highdepth_highaf_qcfltd)"
   ]
  },
  {
   "cell_type": "code",
   "execution_count": null,
   "metadata": {
    "vscode": {
     "languageId": "r"
    }
   },
   "outputs": [],
   "source": [
    "fwrite(mpileups_ins_cutdemux_highdepth_highaf_qcfltd, file = \"Report/SNVs/filter/mpileups_ins_cutdemux_sub500k_highdepth_highaf_qcfltd.csv.gz\")"
   ]
  },
  {
   "cell_type": "code",
   "execution_count": 72,
   "metadata": {
    "vscode": {
     "languageId": "r"
    }
   },
   "outputs": [
    {
     "data": {
      "text/plain": [
       "R version 4.4.0 (2024-04-24)\n",
       "Platform: x86_64-pc-linux-gnu\n",
       "Running under: openSUSE Tumbleweed\n",
       "\n",
       "Matrix products: default\n",
       "BLAS:   /home/lenovo/Applications/R/4.4.0/lib64/R/lib/libRblas.so \n",
       "LAPACK: /home/lenovo/Applications/R/4.4.0/lib64/R/lib/libRlapack.so;  LAPACK version 3.12.0\n",
       "\n",
       "locale:\n",
       " [1] LC_CTYPE=en_US.UTF-8       LC_NUMERIC=C              \n",
       " [3] LC_TIME=en_US.UTF-8        LC_COLLATE=en_US.UTF-8    \n",
       " [5] LC_MONETARY=en_US.UTF-8    LC_MESSAGES=en_US.UTF-8   \n",
       " [7] LC_PAPER=en_US.UTF-8       LC_NAME=C                 \n",
       " [9] LC_ADDRESS=C               LC_TELEPHONE=C            \n",
       "[11] LC_MEASUREMENT=en_US.UTF-8 LC_IDENTIFICATION=C       \n",
       "\n",
       "time zone: America/New_York\n",
       "tzcode source: system (glibc)\n",
       "\n",
       "attached base packages:\n",
       "[1] stats     graphics  grDevices utils     datasets  methods   base     \n",
       "\n",
       "other attached packages:\n",
       "[1] data.table_1.16.2\n",
       "\n",
       "loaded via a namespace (and not attached):\n",
       " [1] digest_0.6.37     IRdisplay_1.1     utf8_1.2.4        base64enc_0.1-3  \n",
       " [5] fastmap_1.2.0     glue_1.8.0        R.utils_2.12.3    htmltools_0.5.8.1\n",
       " [9] repr_1.1.7        lifecycle_1.0.4   cli_3.6.3         fansi_1.0.6      \n",
       "[13] R.methodsS3_1.8.2 vctrs_0.6.5       pbdZMQ_0.3-13     compiler_4.4.0   \n",
       "[17] R.oo_1.26.0       tools_4.4.0       evaluate_1.0.1    pillar_1.9.0     \n",
       "[21] crayon_1.5.3      rlang_1.1.4       jsonlite_1.8.9    IRkernel_1.3.2   \n",
       "[25] uuid_1.2-1       "
      ]
     },
     "metadata": {},
     "output_type": "display_data"
    }
   ],
   "source": [
    "sessionInfo()"
   ]
  }
 ],
 "metadata": {
  "kernelspec": {
   "display_name": "R",
   "language": "R",
   "name": "ir"
  },
  "language_info": {
   "codemirror_mode": "r",
   "file_extension": ".r",
   "mimetype": "text/x-r-source",
   "name": "R",
   "pygments_lexer": "r",
   "version": "4.4.0"
  }
 },
 "nbformat": 4,
 "nbformat_minor": 2
}
