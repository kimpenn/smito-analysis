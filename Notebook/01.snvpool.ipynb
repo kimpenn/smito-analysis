{
 "cells": [
  {
   "cell_type": "code",
   "execution_count": 1,
   "metadata": {
    "vscode": {
     "languageId": "r"
    }
   },
   "outputs": [],
   "source": [
    "setwd(\"..\")"
   ]
  },
  {
   "cell_type": "code",
   "execution_count": 2,
   "metadata": {
    "vscode": {
     "languageId": "r"
    }
   },
   "outputs": [],
   "source": [
    "source(\"Source/functions.R\")\n",
    "library(\"data.table\")"
   ]
  },
  {
   "cell_type": "code",
   "execution_count": 3,
   "metadata": {
    "vscode": {
     "languageId": "r"
    }
   },
   "outputs": [
    {
     "data": {
      "text/html": [
       "<table class=\"dataframe\">\n",
       "<caption>A data.frame: 10 × 4</caption>\n",
       "<thead>\n",
       "\t<tr><th scope=col>ID</th><th scope=col>Spacer</th><th scope=col>Barcode</th><th scope=col>Seq</th></tr>\n",
       "\t<tr><th scope=col>&lt;chr&gt;</th><th scope=col>&lt;chr&gt;</th><th scope=col>&lt;chr&gt;</th><th scope=col>&lt;chr&gt;</th></tr>\n",
       "</thead>\n",
       "<tbody>\n",
       "\t<tr><td>M1 </td><td>CGATT</td><td>ATCACG</td><td>CGATTATCACG</td></tr>\n",
       "\t<tr><td>M2 </td><td>CGTAT</td><td>CGATGT</td><td>CGTATCGATGT</td></tr>\n",
       "\t<tr><td>M3 </td><td>GCTAA</td><td>TTAGGC</td><td>GCTAATTAGGC</td></tr>\n",
       "\t<tr><td>M4 </td><td>GCTTA</td><td>TGACCA</td><td>GCTTATGACCA</td></tr>\n",
       "\t<tr><td>M5 </td><td>CGATT</td><td>ACAGTG</td><td>CGATTACAGTG</td></tr>\n",
       "\t<tr><td>M6 </td><td>CGTAT</td><td>GCCAAT</td><td>CGTATGCCAAT</td></tr>\n",
       "\t<tr><td>M7 </td><td>CGTAT</td><td>CAGATC</td><td>CGTATCAGATC</td></tr>\n",
       "\t<tr><td>M8 </td><td>CGTAT</td><td>GATCAG</td><td>CGTATGATCAG</td></tr>\n",
       "\t<tr><td>M9 </td><td>CGTAT</td><td>AGTCAA</td><td>CGTATAGTCAA</td></tr>\n",
       "\t<tr><td>M10</td><td>CGTAT</td><td>ACTGAT</td><td>CGTATACTGAT</td></tr>\n",
       "</tbody>\n",
       "</table>\n"
      ],
      "text/latex": [
       "A data.frame: 10 × 4\n",
       "\\begin{tabular}{llll}\n",
       " ID & Spacer & Barcode & Seq\\\\\n",
       " <chr> & <chr> & <chr> & <chr>\\\\\n",
       "\\hline\n",
       "\t M1  & CGATT & ATCACG & CGATTATCACG\\\\\n",
       "\t M2  & CGTAT & CGATGT & CGTATCGATGT\\\\\n",
       "\t M3  & GCTAA & TTAGGC & GCTAATTAGGC\\\\\n",
       "\t M4  & GCTTA & TGACCA & GCTTATGACCA\\\\\n",
       "\t M5  & CGATT & ACAGTG & CGATTACAGTG\\\\\n",
       "\t M6  & CGTAT & GCCAAT & CGTATGCCAAT\\\\\n",
       "\t M7  & CGTAT & CAGATC & CGTATCAGATC\\\\\n",
       "\t M8  & CGTAT & GATCAG & CGTATGATCAG\\\\\n",
       "\t M9  & CGTAT & AGTCAA & CGTATAGTCAA\\\\\n",
       "\t M10 & CGTAT & ACTGAT & CGTATACTGAT\\\\\n",
       "\\end{tabular}\n"
      ],
      "text/markdown": [
       "\n",
       "A data.frame: 10 × 4\n",
       "\n",
       "| ID &lt;chr&gt; | Spacer &lt;chr&gt; | Barcode &lt;chr&gt; | Seq &lt;chr&gt; |\n",
       "|---|---|---|---|\n",
       "| M1  | CGATT | ATCACG | CGATTATCACG |\n",
       "| M2  | CGTAT | CGATGT | CGTATCGATGT |\n",
       "| M3  | GCTAA | TTAGGC | GCTAATTAGGC |\n",
       "| M4  | GCTTA | TGACCA | GCTTATGACCA |\n",
       "| M5  | CGATT | ACAGTG | CGATTACAGTG |\n",
       "| M6  | CGTAT | GCCAAT | CGTATGCCAAT |\n",
       "| M7  | CGTAT | CAGATC | CGTATCAGATC |\n",
       "| M8  | CGTAT | GATCAG | CGTATGATCAG |\n",
       "| M9  | CGTAT | AGTCAA | CGTATAGTCAA |\n",
       "| M10 | CGTAT | ACTGAT | CGTATACTGAT |\n",
       "\n"
      ],
      "text/plain": [
       "   ID  Spacer Barcode Seq        \n",
       "1  M1  CGATT  ATCACG  CGATTATCACG\n",
       "2  M2  CGTAT  CGATGT  CGTATCGATGT\n",
       "3  M3  GCTAA  TTAGGC  GCTAATTAGGC\n",
       "4  M4  GCTTA  TGACCA  GCTTATGACCA\n",
       "5  M5  CGATT  ACAGTG  CGATTACAGTG\n",
       "6  M6  CGTAT  GCCAAT  CGTATGCCAAT\n",
       "7  M7  CGTAT  CAGATC  CGTATCAGATC\n",
       "8  M8  CGTAT  GATCAG  CGTATGATCAG\n",
       "9  M9  CGTAT  AGTCAA  CGTATAGTCAA\n",
       "10 M10 CGTAT  ACTGAT  CGTATACTGAT"
      ]
     },
     "metadata": {},
     "output_type": "display_data"
    }
   ],
   "source": [
    "mito_barcodes <- read.csv(\"Data/mito_barcodes.csv\", as.is = TRUE)\n",
    "mito_barcodes\n",
    "mitoIDs <- mito_barcodes[, \"ID\"]"
   ]
  },
  {
   "cell_type": "code",
   "execution_count": 4,
   "metadata": {
    "vscode": {
     "languageId": "r"
    }
   },
   "outputs": [
    {
     "data": {
      "text/html": [
       "<table class=\"dataframe\">\n",
       "<caption>A data.frame: 12 × 15</caption>\n",
       "<thead>\n",
       "\t<tr><th scope=col>SNVID</th><th scope=col>Gene</th><th scope=col>Ref</th><th scope=col>Alt</th><th scope=col>Position</th><th scope=col>Range</th><th scope=col>Start</th><th scope=col>End</th><th scope=col>Length</th><th scope=col>Distance5End</th><th scope=col>Distance3End</th><th scope=col>ForwardSeq</th><th scope=col>ReverseSeq</th><th scope=col>ForwardLen</th><th scope=col>ReverseLen</th></tr>\n",
       "\t<tr><th scope=col>&lt;chr&gt;</th><th scope=col>&lt;chr&gt;</th><th scope=col>&lt;chr&gt;</th><th scope=col>&lt;chr&gt;</th><th scope=col>&lt;int&gt;</th><th scope=col>&lt;chr&gt;</th><th scope=col>&lt;int&gt;</th><th scope=col>&lt;int&gt;</th><th scope=col>&lt;int&gt;</th><th scope=col>&lt;int&gt;</th><th scope=col>&lt;int&gt;</th><th scope=col>&lt;chr&gt;</th><th scope=col>&lt;chr&gt;</th><th scope=col>&lt;int&gt;</th><th scope=col>&lt;int&gt;</th></tr>\n",
       "</thead>\n",
       "<tbody>\n",
       "\t<tr><td>SNV1 </td><td>mt-Nd3 </td><td>T</td><td>C</td><td> 9461</td><td>9350-9534  </td><td> 9350</td><td> 9534</td><td>185</td><td>111</td><td> 73</td><td>CTGACTTTTCCTATACGTCTCCA </td><td>GGGGGAGTCAGAATGCAACTA    </td><td>23</td><td>21</td></tr>\n",
       "\t<tr><td>SNV2 </td><td>mt-Nd5 </td><td>C</td><td>A</td><td>12913</td><td>12783-12973</td><td>12783</td><td>12973</td><td>191</td><td>130</td><td> 60</td><td>CATAGCCTGGCAGACGAACA    </td><td>ATTAGTAGGGCTCAGGCGTTG    </td><td>20</td><td>21</td></tr>\n",
       "\t<tr><td>SNV3 </td><td>mt-Co3 </td><td>G</td><td>A</td><td> 9027</td><td>8888-9093  </td><td> 8888</td><td> 9093</td><td>206</td><td>139</td><td> 66</td><td>TGCAGGATTCTTCTGAGCGT    </td><td>GGGCTTGATTTATGTGGTTTCGT  </td><td>20</td><td>23</td></tr>\n",
       "\t<tr><td>SNV4 </td><td>mt-Co1 </td><td>G</td><td>A</td><td> 6543</td><td>6409-6580  </td><td> 6409</td><td> 6580</td><td>172</td><td>134</td><td> 37</td><td>CATCCCTTGACATCGTGCTTC   </td><td>AATATGATGGCGAAGTGGGCT    </td><td>21</td><td>21</td></tr>\n",
       "\t<tr><td>SNV5 </td><td>mt-Tq  </td><td>T</td><td>C</td><td> 3816</td><td>3750-3892  </td><td> 3750</td><td> 3892</td><td>143</td><td> 66</td><td> 76</td><td>AGAGGTTCAAGCCCTCTTATTT  </td><td>CAACGTTTTCGGGGTATGGG     </td><td>22</td><td>20</td></tr>\n",
       "\t<tr><td>SNV6 </td><td>mt-Nd6 </td><td>C</td><td>T</td><td>13776</td><td>13701-13889</td><td>13701</td><td>13889</td><td>189</td><td> 75</td><td>113</td><td>ACCAATCTCCCAAACCATCAAG  </td><td>GGGGGATGTTGGTTGTGTTT     </td><td>22</td><td>20</td></tr>\n",
       "\t<tr><td>SNV7 </td><td>mt-Nd1 </td><td>G</td><td>T</td><td> 3079</td><td>2970-3156  </td><td> 2970</td><td> 3156</td><td>187</td><td>109</td><td> 77</td><td>GCACCTACCCTATCACTCACAC  </td><td>CGGCTCGTAAAGCTCCGAA      </td><td>22</td><td>19</td></tr>\n",
       "\t<tr><td>SNV8 </td><td>D-Loop </td><td>A</td><td>G</td><td>16029</td><td>16008-16184</td><td>16008</td><td>16184</td><td>177</td><td> 21</td><td>155</td><td>GTCCGCAAAACCCAATCACC    </td><td>TGATCAGGACATAGGGTTTGATAGT</td><td>20</td><td>25</td></tr>\n",
       "\t<tr><td>SNV9 </td><td>mt-Co2 </td><td>T</td><td>C</td><td> 7612</td><td>7540-7725  </td><td> 7540</td><td> 7725</td><td>186</td><td> 72</td><td>113</td><td>AGGCCGACTAAATCAAGCAA    </td><td>AGGTTAACGCTCTTAGCTTC     </td><td>20</td><td>20</td></tr>\n",
       "\t<tr><td>SNV10</td><td>mt-Rnr2</td><td>T</td><td>C</td><td> 2651</td><td>2591-2792  </td><td> 2591</td><td> 2792</td><td>202</td><td> 60</td><td>141</td><td>ACCTTACAAATAAGCGCTCTCAAC</td><td>TAGAATGGGGACGAGGAGTGT    </td><td>24</td><td>21</td></tr>\n",
       "\t<tr><td>SNV11</td><td>mt-Cytb</td><td>C</td><td>T</td><td>15191</td><td>15155-15330</td><td>15155</td><td>15330</td><td>176</td><td> 36</td><td>139</td><td>AATTGGGGGCCAACCAGTAG    </td><td>TTCAGGTTTACAAGACCAGAGT   </td><td>20</td><td>22</td></tr>\n",
       "\t<tr><td>SNV12</td><td>mt-Rnr2</td><td>T</td><td>A</td><td> 1317</td><td>1201-1350  </td><td> 1201</td><td> 1350</td><td>150</td><td>116</td><td> 33</td><td>ATAGAACTAGTACCGCAAGGGA  </td><td>GTAGCTCGTTTGGTTTCGGG     </td><td>22</td><td>20</td></tr>\n",
       "</tbody>\n",
       "</table>\n"
      ],
      "text/latex": [
       "A data.frame: 12 × 15\n",
       "\\begin{tabular}{lllllllllllllll}\n",
       " SNVID & Gene & Ref & Alt & Position & Range & Start & End & Length & Distance5End & Distance3End & ForwardSeq & ReverseSeq & ForwardLen & ReverseLen\\\\\n",
       " <chr> & <chr> & <chr> & <chr> & <int> & <chr> & <int> & <int> & <int> & <int> & <int> & <chr> & <chr> & <int> & <int>\\\\\n",
       "\\hline\n",
       "\t SNV1  & mt-Nd3  & T & C &  9461 & 9350-9534   &  9350 &  9534 & 185 & 111 &  73 & CTGACTTTTCCTATACGTCTCCA  & GGGGGAGTCAGAATGCAACTA     & 23 & 21\\\\\n",
       "\t SNV2  & mt-Nd5  & C & A & 12913 & 12783-12973 & 12783 & 12973 & 191 & 130 &  60 & CATAGCCTGGCAGACGAACA     & ATTAGTAGGGCTCAGGCGTTG     & 20 & 21\\\\\n",
       "\t SNV3  & mt-Co3  & G & A &  9027 & 8888-9093   &  8888 &  9093 & 206 & 139 &  66 & TGCAGGATTCTTCTGAGCGT     & GGGCTTGATTTATGTGGTTTCGT   & 20 & 23\\\\\n",
       "\t SNV4  & mt-Co1  & G & A &  6543 & 6409-6580   &  6409 &  6580 & 172 & 134 &  37 & CATCCCTTGACATCGTGCTTC    & AATATGATGGCGAAGTGGGCT     & 21 & 21\\\\\n",
       "\t SNV5  & mt-Tq   & T & C &  3816 & 3750-3892   &  3750 &  3892 & 143 &  66 &  76 & AGAGGTTCAAGCCCTCTTATTT   & CAACGTTTTCGGGGTATGGG      & 22 & 20\\\\\n",
       "\t SNV6  & mt-Nd6  & C & T & 13776 & 13701-13889 & 13701 & 13889 & 189 &  75 & 113 & ACCAATCTCCCAAACCATCAAG   & GGGGGATGTTGGTTGTGTTT      & 22 & 20\\\\\n",
       "\t SNV7  & mt-Nd1  & G & T &  3079 & 2970-3156   &  2970 &  3156 & 187 & 109 &  77 & GCACCTACCCTATCACTCACAC   & CGGCTCGTAAAGCTCCGAA       & 22 & 19\\\\\n",
       "\t SNV8  & D-Loop  & A & G & 16029 & 16008-16184 & 16008 & 16184 & 177 &  21 & 155 & GTCCGCAAAACCCAATCACC     & TGATCAGGACATAGGGTTTGATAGT & 20 & 25\\\\\n",
       "\t SNV9  & mt-Co2  & T & C &  7612 & 7540-7725   &  7540 &  7725 & 186 &  72 & 113 & AGGCCGACTAAATCAAGCAA     & AGGTTAACGCTCTTAGCTTC      & 20 & 20\\\\\n",
       "\t SNV10 & mt-Rnr2 & T & C &  2651 & 2591-2792   &  2591 &  2792 & 202 &  60 & 141 & ACCTTACAAATAAGCGCTCTCAAC & TAGAATGGGGACGAGGAGTGT     & 24 & 21\\\\\n",
       "\t SNV11 & mt-Cytb & C & T & 15191 & 15155-15330 & 15155 & 15330 & 176 &  36 & 139 & AATTGGGGGCCAACCAGTAG     & TTCAGGTTTACAAGACCAGAGT    & 20 & 22\\\\\n",
       "\t SNV12 & mt-Rnr2 & T & A &  1317 & 1201-1350   &  1201 &  1350 & 150 & 116 &  33 & ATAGAACTAGTACCGCAAGGGA   & GTAGCTCGTTTGGTTTCGGG      & 22 & 20\\\\\n",
       "\\end{tabular}\n"
      ],
      "text/markdown": [
       "\n",
       "A data.frame: 12 × 15\n",
       "\n",
       "| SNVID &lt;chr&gt; | Gene &lt;chr&gt; | Ref &lt;chr&gt; | Alt &lt;chr&gt; | Position &lt;int&gt; | Range &lt;chr&gt; | Start &lt;int&gt; | End &lt;int&gt; | Length &lt;int&gt; | Distance5End &lt;int&gt; | Distance3End &lt;int&gt; | ForwardSeq &lt;chr&gt; | ReverseSeq &lt;chr&gt; | ForwardLen &lt;int&gt; | ReverseLen &lt;int&gt; |\n",
       "|---|---|---|---|---|---|---|---|---|---|---|---|---|---|---|\n",
       "| SNV1  | mt-Nd3  | T | C |  9461 | 9350-9534   |  9350 |  9534 | 185 | 111 |  73 | CTGACTTTTCCTATACGTCTCCA  | GGGGGAGTCAGAATGCAACTA     | 23 | 21 |\n",
       "| SNV2  | mt-Nd5  | C | A | 12913 | 12783-12973 | 12783 | 12973 | 191 | 130 |  60 | CATAGCCTGGCAGACGAACA     | ATTAGTAGGGCTCAGGCGTTG     | 20 | 21 |\n",
       "| SNV3  | mt-Co3  | G | A |  9027 | 8888-9093   |  8888 |  9093 | 206 | 139 |  66 | TGCAGGATTCTTCTGAGCGT     | GGGCTTGATTTATGTGGTTTCGT   | 20 | 23 |\n",
       "| SNV4  | mt-Co1  | G | A |  6543 | 6409-6580   |  6409 |  6580 | 172 | 134 |  37 | CATCCCTTGACATCGTGCTTC    | AATATGATGGCGAAGTGGGCT     | 21 | 21 |\n",
       "| SNV5  | mt-Tq   | T | C |  3816 | 3750-3892   |  3750 |  3892 | 143 |  66 |  76 | AGAGGTTCAAGCCCTCTTATTT   | CAACGTTTTCGGGGTATGGG      | 22 | 20 |\n",
       "| SNV6  | mt-Nd6  | C | T | 13776 | 13701-13889 | 13701 | 13889 | 189 |  75 | 113 | ACCAATCTCCCAAACCATCAAG   | GGGGGATGTTGGTTGTGTTT      | 22 | 20 |\n",
       "| SNV7  | mt-Nd1  | G | T |  3079 | 2970-3156   |  2970 |  3156 | 187 | 109 |  77 | GCACCTACCCTATCACTCACAC   | CGGCTCGTAAAGCTCCGAA       | 22 | 19 |\n",
       "| SNV8  | D-Loop  | A | G | 16029 | 16008-16184 | 16008 | 16184 | 177 |  21 | 155 | GTCCGCAAAACCCAATCACC     | TGATCAGGACATAGGGTTTGATAGT | 20 | 25 |\n",
       "| SNV9  | mt-Co2  | T | C |  7612 | 7540-7725   |  7540 |  7725 | 186 |  72 | 113 | AGGCCGACTAAATCAAGCAA     | AGGTTAACGCTCTTAGCTTC      | 20 | 20 |\n",
       "| SNV10 | mt-Rnr2 | T | C |  2651 | 2591-2792   |  2591 |  2792 | 202 |  60 | 141 | ACCTTACAAATAAGCGCTCTCAAC | TAGAATGGGGACGAGGAGTGT     | 24 | 21 |\n",
       "| SNV11 | mt-Cytb | C | T | 15191 | 15155-15330 | 15155 | 15330 | 176 |  36 | 139 | AATTGGGGGCCAACCAGTAG     | TTCAGGTTTACAAGACCAGAGT    | 20 | 22 |\n",
       "| SNV12 | mt-Rnr2 | T | A |  1317 | 1201-1350   |  1201 |  1350 | 150 | 116 |  33 | ATAGAACTAGTACCGCAAGGGA   | GTAGCTCGTTTGGTTTCGGG      | 22 | 20 |\n",
       "\n"
      ],
      "text/plain": [
       "   SNVID Gene    Ref Alt Position Range       Start End   Length Distance5End\n",
       "1  SNV1  mt-Nd3  T   C    9461    9350-9534    9350  9534 185    111         \n",
       "2  SNV2  mt-Nd5  C   A   12913    12783-12973 12783 12973 191    130         \n",
       "3  SNV3  mt-Co3  G   A    9027    8888-9093    8888  9093 206    139         \n",
       "4  SNV4  mt-Co1  G   A    6543    6409-6580    6409  6580 172    134         \n",
       "5  SNV5  mt-Tq   T   C    3816    3750-3892    3750  3892 143     66         \n",
       "6  SNV6  mt-Nd6  C   T   13776    13701-13889 13701 13889 189     75         \n",
       "7  SNV7  mt-Nd1  G   T    3079    2970-3156    2970  3156 187    109         \n",
       "8  SNV8  D-Loop  A   G   16029    16008-16184 16008 16184 177     21         \n",
       "9  SNV9  mt-Co2  T   C    7612    7540-7725    7540  7725 186     72         \n",
       "10 SNV10 mt-Rnr2 T   C    2651    2591-2792    2591  2792 202     60         \n",
       "11 SNV11 mt-Cytb C   T   15191    15155-15330 15155 15330 176     36         \n",
       "12 SNV12 mt-Rnr2 T   A    1317    1201-1350    1201  1350 150    116         \n",
       "   Distance3End ForwardSeq               ReverseSeq                ForwardLen\n",
       "1   73          CTGACTTTTCCTATACGTCTCCA  GGGGGAGTCAGAATGCAACTA     23        \n",
       "2   60          CATAGCCTGGCAGACGAACA     ATTAGTAGGGCTCAGGCGTTG     20        \n",
       "3   66          TGCAGGATTCTTCTGAGCGT     GGGCTTGATTTATGTGGTTTCGT   20        \n",
       "4   37          CATCCCTTGACATCGTGCTTC    AATATGATGGCGAAGTGGGCT     21        \n",
       "5   76          AGAGGTTCAAGCCCTCTTATTT   CAACGTTTTCGGGGTATGGG      22        \n",
       "6  113          ACCAATCTCCCAAACCATCAAG   GGGGGATGTTGGTTGTGTTT      22        \n",
       "7   77          GCACCTACCCTATCACTCACAC   CGGCTCGTAAAGCTCCGAA       22        \n",
       "8  155          GTCCGCAAAACCCAATCACC     TGATCAGGACATAGGGTTTGATAGT 20        \n",
       "9  113          AGGCCGACTAAATCAAGCAA     AGGTTAACGCTCTTAGCTTC      20        \n",
       "10 141          ACCTTACAAATAAGCGCTCTCAAC TAGAATGGGGACGAGGAGTGT     24        \n",
       "11 139          AATTGGGGGCCAACCAGTAG     TTCAGGTTTACAAGACCAGAGT    20        \n",
       "12  33          ATAGAACTAGTACCGCAAGGGA   GTAGCTCGTTTGGTTTCGGG      22        \n",
       "   ReverseLen\n",
       "1  21        \n",
       "2  21        \n",
       "3  23        \n",
       "4  21        \n",
       "5  20        \n",
       "6  20        \n",
       "7  19        \n",
       "8  25        \n",
       "9  20        \n",
       "10 21        \n",
       "11 22        \n",
       "12 20        "
      ]
     },
     "metadata": {},
     "output_type": "display_data"
    }
   ],
   "source": [
    "snv_info <- read.csv(\"Data/snv_loci_v2.csv\", as.is = TRUE)\n",
    "snv_info"
   ]
  },
  {
   "cell_type": "code",
   "execution_count": 5,
   "metadata": {
    "vscode": {
     "languageId": "r"
    }
   },
   "outputs": [],
   "source": [
    "snvIDs <- snv_info[,\"SNVID\"]"
   ]
  },
  {
   "cell_type": "code",
   "execution_count": 6,
   "metadata": {
    "vscode": {
     "languageId": "r"
    }
   },
   "outputs": [
    {
     "name": "stdout",
     "output_type": "stream",
     "text": [
      " chr [1:16299] \"G\" \"T\" \"T\" \"A\" \"A\" \"T\" \"G\" \"T\" \"A\" \"G\" \"C\" \"T\" \"T\" \"A\" \"A\" ...\n"
     ]
    }
   ],
   "source": [
    "chrmbases <- readLines(\"Data/mm10.mito/chrM.fa\")[-1]\n",
    "chrmbases <- paste0(chrmbases, collapse = \"\")\n",
    "chrmbases <- strsplit(chrmbases, \"\")[[1]]\n",
    "nchrmbases <- length(chrmbases)\n",
    "str(chrmbases)"
   ]
  },
  {
   "cell_type": "code",
   "execution_count": 7,
   "metadata": {
    "vscode": {
     "languageId": "r"
    }
   },
   "outputs": [
    {
     "data": {
      "text/html": [
       "<table class=\"dataframe\">\n",
       "<caption>A data.table: 6 × 19</caption>\n",
       "<thead>\n",
       "\t<tr><th scope=col>LibraryID</th><th scope=col>ExptID</th><th scope=col>LibraryMitoID</th><th scope=col>IsolationRCADate</th><th scope=col>DIVDays</th><th scope=col>CellType</th><th scope=col>PlateID</th><th scope=col>CellID</th><th scope=col>CellUID</th><th scope=col>WellMitoBarcode</th><th scope=col>WellID</th><th scope=col>MitoID</th><th scope=col>HasMtDNA</th><th scope=col>HasPrimers</th><th scope=col>RCAID</th><th scope=col>MouseID</th><th scope=col>Enzyme</th><th scope=col>HasRCA</th><th scope=col>IsCtrl</th></tr>\n",
       "\t<tr><th scope=col>&lt;chr&gt;</th><th scope=col>&lt;int&gt;</th><th scope=col>&lt;chr&gt;</th><th scope=col>&lt;IDate&gt;</th><th scope=col>&lt;int&gt;</th><th scope=col>&lt;chr&gt;</th><th scope=col>&lt;int&gt;</th><th scope=col>&lt;int&gt;</th><th scope=col>&lt;chr&gt;</th><th scope=col>&lt;chr&gt;</th><th scope=col>&lt;chr&gt;</th><th scope=col>&lt;chr&gt;</th><th scope=col>&lt;chr&gt;</th><th scope=col>&lt;chr&gt;</th><th scope=col>&lt;chr&gt;</th><th scope=col>&lt;chr&gt;</th><th scope=col>&lt;chr&gt;</th><th scope=col>&lt;chr&gt;</th><th scope=col>&lt;chr&gt;</th></tr>\n",
       "</thead>\n",
       "<tbody>\n",
       "\t<tr><td>LB1R20P1B</td><td>733</td><td>LB1R20P1B_M7 </td><td>2020-08-14</td><td>3</td><td>Neuron</td><td>1</td><td>4</td><td>Mouse02_Neuron_4</td><td>B9--M7    </td><td>B9 </td><td>M7 </td><td>Y</td><td>Y</td><td>R20</td><td>Mouse02</td><td>None</td><td>Y</td><td>N</td></tr>\n",
       "\t<tr><td>LB1R20P1B</td><td>733</td><td>LB1R20P1B_M9 </td><td>2020-08-14</td><td>3</td><td>Neuron</td><td>1</td><td>4</td><td>Mouse02_Neuron_4</td><td>B11--M9   </td><td>B11</td><td>M9 </td><td>Y</td><td>Y</td><td>R20</td><td>Mouse02</td><td>None</td><td>Y</td><td>N</td></tr>\n",
       "\t<tr><td>LB1R20P1B</td><td>733</td><td>LB1R20P1B_M10</td><td>2020-08-14</td><td>3</td><td>Neuron</td><td>1</td><td>4</td><td>Mouse02_Neuron_4</td><td>B10--M10  </td><td>B10</td><td>M10</td><td>Y</td><td>Y</td><td>R20</td><td>Mouse02</td><td>None</td><td>Y</td><td>N</td></tr>\n",
       "\t<tr><td>L3R20R23B</td><td>733</td><td>L3R20R23B_M3 </td><td>2020-08-14</td><td>3</td><td>Neuron</td><td>1</td><td>6</td><td>Mouse02_Neuron_6</td><td>C1--M3/R20</td><td>C1 </td><td>M3 </td><td>Y</td><td>Y</td><td>R20</td><td>Mouse02</td><td>None</td><td>Y</td><td>N</td></tr>\n",
       "\t<tr><td>L3R20R23B</td><td>733</td><td>L3R20R23B_M4 </td><td>2020-08-14</td><td>3</td><td>Neuron</td><td>1</td><td>6</td><td>Mouse02_Neuron_6</td><td>C2--M4/R20</td><td>C2 </td><td>M4 </td><td>Y</td><td>Y</td><td>R20</td><td>Mouse02</td><td>None</td><td>Y</td><td>N</td></tr>\n",
       "\t<tr><td>L3R20R23B</td><td>733</td><td>L3R20R23B_M5 </td><td>2020-08-14</td><td>3</td><td>Neuron</td><td>1</td><td>6</td><td>Mouse02_Neuron_6</td><td>C3--M5/R20</td><td>C3 </td><td>M5 </td><td>Y</td><td>Y</td><td>R20</td><td>Mouse02</td><td>None</td><td>Y</td><td>N</td></tr>\n",
       "</tbody>\n",
       "</table>\n"
      ],
      "text/latex": [
       "A data.table: 6 × 19\n",
       "\\begin{tabular}{lllllllllllllllllll}\n",
       " LibraryID & ExptID & LibraryMitoID & IsolationRCADate & DIVDays & CellType & PlateID & CellID & CellUID & WellMitoBarcode & WellID & MitoID & HasMtDNA & HasPrimers & RCAID & MouseID & Enzyme & HasRCA & IsCtrl\\\\\n",
       " <chr> & <int> & <chr> & <IDate> & <int> & <chr> & <int> & <int> & <chr> & <chr> & <chr> & <chr> & <chr> & <chr> & <chr> & <chr> & <chr> & <chr> & <chr>\\\\\n",
       "\\hline\n",
       "\t LB1R20P1B & 733 & LB1R20P1B\\_M7  & 2020-08-14 & 3 & Neuron & 1 & 4 & Mouse02\\_Neuron\\_4 & B9--M7     & B9  & M7  & Y & Y & R20 & Mouse02 & None & Y & N\\\\\n",
       "\t LB1R20P1B & 733 & LB1R20P1B\\_M9  & 2020-08-14 & 3 & Neuron & 1 & 4 & Mouse02\\_Neuron\\_4 & B11--M9    & B11 & M9  & Y & Y & R20 & Mouse02 & None & Y & N\\\\\n",
       "\t LB1R20P1B & 733 & LB1R20P1B\\_M10 & 2020-08-14 & 3 & Neuron & 1 & 4 & Mouse02\\_Neuron\\_4 & B10--M10   & B10 & M10 & Y & Y & R20 & Mouse02 & None & Y & N\\\\\n",
       "\t L3R20R23B & 733 & L3R20R23B\\_M3  & 2020-08-14 & 3 & Neuron & 1 & 6 & Mouse02\\_Neuron\\_6 & C1--M3/R20 & C1  & M3  & Y & Y & R20 & Mouse02 & None & Y & N\\\\\n",
       "\t L3R20R23B & 733 & L3R20R23B\\_M4  & 2020-08-14 & 3 & Neuron & 1 & 6 & Mouse02\\_Neuron\\_6 & C2--M4/R20 & C2  & M4  & Y & Y & R20 & Mouse02 & None & Y & N\\\\\n",
       "\t L3R20R23B & 733 & L3R20R23B\\_M5  & 2020-08-14 & 3 & Neuron & 1 & 6 & Mouse02\\_Neuron\\_6 & C3--M5/R20 & C3  & M5  & Y & Y & R20 & Mouse02 & None & Y & N\\\\\n",
       "\\end{tabular}\n"
      ],
      "text/markdown": [
       "\n",
       "A data.table: 6 × 19\n",
       "\n",
       "| LibraryID &lt;chr&gt; | ExptID &lt;int&gt; | LibraryMitoID &lt;chr&gt; | IsolationRCADate &lt;IDate&gt; | DIVDays &lt;int&gt; | CellType &lt;chr&gt; | PlateID &lt;int&gt; | CellID &lt;int&gt; | CellUID &lt;chr&gt; | WellMitoBarcode &lt;chr&gt; | WellID &lt;chr&gt; | MitoID &lt;chr&gt; | HasMtDNA &lt;chr&gt; | HasPrimers &lt;chr&gt; | RCAID &lt;chr&gt; | MouseID &lt;chr&gt; | Enzyme &lt;chr&gt; | HasRCA &lt;chr&gt; | IsCtrl &lt;chr&gt; |\n",
       "|---|---|---|---|---|---|---|---|---|---|---|---|---|---|---|---|---|---|---|\n",
       "| LB1R20P1B | 733 | LB1R20P1B_M7  | 2020-08-14 | 3 | Neuron | 1 | 4 | Mouse02_Neuron_4 | B9--M7     | B9  | M7  | Y | Y | R20 | Mouse02 | None | Y | N |\n",
       "| LB1R20P1B | 733 | LB1R20P1B_M9  | 2020-08-14 | 3 | Neuron | 1 | 4 | Mouse02_Neuron_4 | B11--M9    | B11 | M9  | Y | Y | R20 | Mouse02 | None | Y | N |\n",
       "| LB1R20P1B | 733 | LB1R20P1B_M10 | 2020-08-14 | 3 | Neuron | 1 | 4 | Mouse02_Neuron_4 | B10--M10   | B10 | M10 | Y | Y | R20 | Mouse02 | None | Y | N |\n",
       "| L3R20R23B | 733 | L3R20R23B_M3  | 2020-08-14 | 3 | Neuron | 1 | 6 | Mouse02_Neuron_6 | C1--M3/R20 | C1  | M3  | Y | Y | R20 | Mouse02 | None | Y | N |\n",
       "| L3R20R23B | 733 | L3R20R23B_M4  | 2020-08-14 | 3 | Neuron | 1 | 6 | Mouse02_Neuron_6 | C2--M4/R20 | C2  | M4  | Y | Y | R20 | Mouse02 | None | Y | N |\n",
       "| L3R20R23B | 733 | L3R20R23B_M5  | 2020-08-14 | 3 | Neuron | 1 | 6 | Mouse02_Neuron_6 | C3--M5/R20 | C3  | M5  | Y | Y | R20 | Mouse02 | None | Y | N |\n",
       "\n"
      ],
      "text/plain": [
       "  LibraryID ExptID LibraryMitoID IsolationRCADate DIVDays CellType PlateID\n",
       "1 LB1R20P1B 733    LB1R20P1B_M7  2020-08-14       3       Neuron   1      \n",
       "2 LB1R20P1B 733    LB1R20P1B_M9  2020-08-14       3       Neuron   1      \n",
       "3 LB1R20P1B 733    LB1R20P1B_M10 2020-08-14       3       Neuron   1      \n",
       "4 L3R20R23B 733    L3R20R23B_M3  2020-08-14       3       Neuron   1      \n",
       "5 L3R20R23B 733    L3R20R23B_M4  2020-08-14       3       Neuron   1      \n",
       "6 L3R20R23B 733    L3R20R23B_M5  2020-08-14       3       Neuron   1      \n",
       "  CellID CellUID          WellMitoBarcode WellID MitoID HasMtDNA HasPrimers\n",
       "1 4      Mouse02_Neuron_4 B9--M7          B9     M7     Y        Y         \n",
       "2 4      Mouse02_Neuron_4 B11--M9         B11    M9     Y        Y         \n",
       "3 4      Mouse02_Neuron_4 B10--M10        B10    M10    Y        Y         \n",
       "4 6      Mouse02_Neuron_6 C1--M3/R20      C1     M3     Y        Y         \n",
       "5 6      Mouse02_Neuron_6 C2--M4/R20      C2     M4     Y        Y         \n",
       "6 6      Mouse02_Neuron_6 C3--M5/R20      C3     M5     Y        Y         \n",
       "  RCAID MouseID Enzyme HasRCA IsCtrl\n",
       "1 R20   Mouse02 None   Y      N     \n",
       "2 R20   Mouse02 None   Y      N     \n",
       "3 R20   Mouse02 None   Y      N     \n",
       "4 R20   Mouse02 None   Y      N     \n",
       "5 R20   Mouse02 None   Y      N     \n",
       "6 R20   Mouse02 None   Y      N     "
      ]
     },
     "metadata": {},
     "output_type": "display_data"
    }
   ],
   "source": [
    "MitoInfo <- fread(file = \"Report/metadata/MitoInfo.csv\")\n",
    "head(MitoInfo)"
   ]
  },
  {
   "cell_type": "markdown",
   "metadata": {
    "vscode": {
     "languageId": "r"
    }
   },
   "source": [
    "Gather all SNV tables"
   ]
  },
  {
   "cell_type": "code",
   "execution_count": 8,
   "metadata": {
    "vscode": {
     "languageId": "r"
    }
   },
   "outputs": [
    {
     "data": {
      "text/html": [
       "<style>\n",
       ".list-inline {list-style: none; margin:0; padding: 0}\n",
       ".list-inline>li {display: inline-block}\n",
       ".list-inline>li:not(:last-child)::after {content: \"\\00b7\"; padding: 0 .5ex}\n",
       "</style>\n",
       "<ol class=list-inline><li>1738811</li><li>13</li></ol>\n"
      ],
      "text/latex": [
       "\\begin{enumerate*}\n",
       "\\item 1738811\n",
       "\\item 13\n",
       "\\end{enumerate*}\n"
      ],
      "text/markdown": [
       "1. 1738811\n",
       "2. 13\n",
       "\n",
       "\n"
      ],
      "text/plain": [
       "[1] 1738811      13"
      ]
     },
     "metadata": {},
     "output_type": "display_data"
    }
   ],
   "source": [
    "basedifffreq_cutdemux_rerun_q30_unstranded <- read.csv(\"Report/SNVs/basedifffreq_cutdemux_rerun_sub500k_q30_unstranded.csv.gz\", as.is = TRUE, check.names = FALSE)\n",
    "dim(basedifffreq_cutdemux_rerun_q30_unstranded)"
   ]
  },
  {
   "cell_type": "code",
   "execution_count": 9,
   "metadata": {
    "vscode": {
     "languageId": "r"
    }
   },
   "outputs": [
    {
     "data": {
      "text/html": [
       "<style>\n",
       ".list-inline {list-style: none; margin:0; padding: 0}\n",
       ".list-inline>li {display: inline-block}\n",
       ".list-inline>li:not(:last-child)::after {content: \"\\00b7\"; padding: 0 .5ex}\n",
       "</style>\n",
       "<ol class=list-inline><li>436025</li><li>13</li></ol>\n"
      ],
      "text/latex": [
       "\\begin{enumerate*}\n",
       "\\item 436025\n",
       "\\item 13\n",
       "\\end{enumerate*}\n"
      ],
      "text/markdown": [
       "1. 436025\n",
       "2. 13\n",
       "\n",
       "\n"
      ],
      "text/plain": [
       "[1] 436025     13"
      ]
     },
     "metadata": {},
     "output_type": "display_data"
    }
   ],
   "source": [
    "basedifffreq_cutdemux_E749_q30_unstranded <- read.csv(\"Report/SNVs/basedifffreq_cutdemux_E749_sub500k_q30_unstranded.csv.gz\", as.is = TRUE, check.names = FALSE)\n",
    "dim(basedifffreq_cutdemux_E749_q30_unstranded)"
   ]
  },
  {
   "cell_type": "code",
   "execution_count": 10,
   "metadata": {
    "vscode": {
     "languageId": "r"
    }
   },
   "outputs": [
    {
     "data": {
      "text/html": [
       "<style>\n",
       ".list-inline {list-style: none; margin:0; padding: 0}\n",
       ".list-inline>li {display: inline-block}\n",
       ".list-inline>li:not(:last-child)::after {content: \"\\00b7\"; padding: 0 .5ex}\n",
       "</style>\n",
       "<ol class=list-inline><li>352826</li><li>13</li></ol>\n"
      ],
      "text/latex": [
       "\\begin{enumerate*}\n",
       "\\item 352826\n",
       "\\item 13\n",
       "\\end{enumerate*}\n"
      ],
      "text/markdown": [
       "1. 352826\n",
       "2. 13\n",
       "\n",
       "\n"
      ],
      "text/plain": [
       "[1] 352826     13"
      ]
     },
     "metadata": {},
     "output_type": "display_data"
    }
   ],
   "source": [
    "basedifffreq_cutdemux_E754_q30_unstranded <- read.csv(\"Report/SNVs/basedifffreq_cutdemux_E754_sub500k_q30_unstranded.csv.gz\", as.is = TRUE, check.names = FALSE)\n",
    "dim(basedifffreq_cutdemux_E754_q30_unstranded)"
   ]
  },
  {
   "cell_type": "code",
   "execution_count": 11,
   "metadata": {
    "vscode": {
     "languageId": "r"
    }
   },
   "outputs": [
    {
     "data": {
      "text/html": [
       "<style>\n",
       ".list-inline {list-style: none; margin:0; padding: 0}\n",
       ".list-inline>li {display: inline-block}\n",
       ".list-inline>li:not(:last-child)::after {content: \"\\00b7\"; padding: 0 .5ex}\n",
       "</style>\n",
       "<ol class=list-inline><li>160858</li><li>13</li></ol>\n"
      ],
      "text/latex": [
       "\\begin{enumerate*}\n",
       "\\item 160858\n",
       "\\item 13\n",
       "\\end{enumerate*}\n"
      ],
      "text/markdown": [
       "1. 160858\n",
       "2. 13\n",
       "\n",
       "\n"
      ],
      "text/plain": [
       "[1] 160858     13"
      ]
     },
     "metadata": {},
     "output_type": "display_data"
    }
   ],
   "source": [
    "basedifffreq_cutdemux_E757_q30_unstranded <- read.csv(\"Report/SNVs/basedifffreq_cutdemux_E757_sub500k_q30_unstranded.csv.gz\", as.is = TRUE, check.names = FALSE)\n",
    "dim(basedifffreq_cutdemux_E757_q30_unstranded)"
   ]
  },
  {
   "cell_type": "code",
   "execution_count": 12,
   "metadata": {
    "vscode": {
     "languageId": "r"
    }
   },
   "outputs": [
    {
     "data": {
      "text/html": [
       "<style>\n",
       ".list-inline {list-style: none; margin:0; padding: 0}\n",
       ".list-inline>li {display: inline-block}\n",
       ".list-inline>li:not(:last-child)::after {content: \"\\00b7\"; padding: 0 .5ex}\n",
       "</style>\n",
       "<ol class=list-inline><li>148146</li><li>13</li></ol>\n"
      ],
      "text/latex": [
       "\\begin{enumerate*}\n",
       "\\item 148146\n",
       "\\item 13\n",
       "\\end{enumerate*}\n"
      ],
      "text/markdown": [
       "1. 148146\n",
       "2. 13\n",
       "\n",
       "\n"
      ],
      "text/plain": [
       "[1] 148146     13"
      ]
     },
     "metadata": {},
     "output_type": "display_data"
    }
   ],
   "source": [
    "basedifffreq_cutdemux_E771_q30_unstranded <- read.csv(\"Report/SNVs/basedifffreq_cutdemux_E771_sub500k_q30_unstranded.csv.gz\", as.is = TRUE, check.names = FALSE)\n",
    "dim(basedifffreq_cutdemux_E771_q30_unstranded)"
   ]
  },
  {
   "cell_type": "code",
   "execution_count": 13,
   "metadata": {
    "vscode": {
     "languageId": "r"
    }
   },
   "outputs": [
    {
     "data": {
      "text/html": [
       "<style>\n",
       ".list-inline {list-style: none; margin:0; padding: 0}\n",
       ".list-inline>li {display: inline-block}\n",
       ".list-inline>li:not(:last-child)::after {content: \"\\00b7\"; padding: 0 .5ex}\n",
       "</style>\n",
       "<ol class=list-inline><li>313974</li><li>13</li></ol>\n"
      ],
      "text/latex": [
       "\\begin{enumerate*}\n",
       "\\item 313974\n",
       "\\item 13\n",
       "\\end{enumerate*}\n"
      ],
      "text/markdown": [
       "1. 313974\n",
       "2. 13\n",
       "\n",
       "\n"
      ],
      "text/plain": [
       "[1] 313974     13"
      ]
     },
     "metadata": {},
     "output_type": "display_data"
    }
   ],
   "source": [
    "basedifffreq_cutdemux_E777_q30_unstranded <- read.csv(\"Report/SNVs/basedifffreq_cutdemux_E777_sub500k_q30_unstranded.csv.gz\", as.is = TRUE, check.names = FALSE)\n",
    "dim(basedifffreq_cutdemux_E777_q30_unstranded)"
   ]
  },
  {
   "cell_type": "code",
   "execution_count": 14,
   "metadata": {
    "vscode": {
     "languageId": "r"
    }
   },
   "outputs": [
    {
     "data": {
      "text/html": [
       "<style>\n",
       ".list-inline {list-style: none; margin:0; padding: 0}\n",
       ".list-inline>li {display: inline-block}\n",
       ".list-inline>li:not(:last-child)::after {content: \"\\00b7\"; padding: 0 .5ex}\n",
       "</style>\n",
       "<ol class=list-inline><li>67242</li><li>13</li></ol>\n"
      ],
      "text/latex": [
       "\\begin{enumerate*}\n",
       "\\item 67242\n",
       "\\item 13\n",
       "\\end{enumerate*}\n"
      ],
      "text/markdown": [
       "1. 67242\n",
       "2. 13\n",
       "\n",
       "\n"
      ],
      "text/plain": [
       "[1] 67242    13"
      ]
     },
     "metadata": {},
     "output_type": "display_data"
    }
   ],
   "source": [
    "basedifffreq_cutdemux_E799_q30_unstranded <- read.csv(\"Report/SNVs/basedifffreq_cutdemux_E799_sub500k_q30_unstranded.csv.gz\", as.is = TRUE, check.names = FALSE)\n",
    "dim(basedifffreq_cutdemux_E799_q30_unstranded)"
   ]
  },
  {
   "cell_type": "code",
   "execution_count": 15,
   "metadata": {
    "vscode": {
     "languageId": "r"
    }
   },
   "outputs": [
    {
     "data": {
      "text/html": [
       "<style>\n",
       ".list-inline {list-style: none; margin:0; padding: 0}\n",
       ".list-inline>li {display: inline-block}\n",
       ".list-inline>li:not(:last-child)::after {content: \"\\00b7\"; padding: 0 .5ex}\n",
       "</style>\n",
       "<ol class=list-inline><li>3217882</li><li>14</li></ol>\n"
      ],
      "text/latex": [
       "\\begin{enumerate*}\n",
       "\\item 3217882\n",
       "\\item 14\n",
       "\\end{enumerate*}\n"
      ],
      "text/markdown": [
       "1. 3217882\n",
       "2. 14\n",
       "\n",
       "\n"
      ],
      "text/plain": [
       "[1] 3217882      14"
      ]
     },
     "metadata": {},
     "output_type": "display_data"
    }
   ],
   "source": [
    "basedifffreq_cutdemux_q30_unstranded <- rbind(\n",
    "    basedifffreq_cutdemux_rerun_q30_unstranded, \n",
    "    basedifffreq_cutdemux_E749_q30_unstranded, \n",
    "    basedifffreq_cutdemux_E754_q30_unstranded,\n",
    "    basedifffreq_cutdemux_E757_q30_unstranded,\n",
    "    basedifffreq_cutdemux_E771_q30_unstranded,\n",
    "    basedifffreq_cutdemux_E777_q30_unstranded,\n",
    "    basedifffreq_cutdemux_E799_q30_unstranded\n",
    ")\n",
    "setDT(basedifffreq_cutdemux_q30_unstranded)\n",
    "basedifffreq_cutdemux_q30_unstranded[, LibraryMitoID := paste0(LibraryID, \"_\", MitoID)]\n",
    "dim(basedifffreq_cutdemux_q30_unstranded)"
   ]
  },
  {
   "cell_type": "code",
   "execution_count": 16,
   "metadata": {
    "vscode": {
     "languageId": "r"
    }
   },
   "outputs": [],
   "source": [
    "setcolorder(basedifffreq_cutdemux_q30_unstranded, \"LibraryMitoID\")\n",
    "setnames(basedifffreq_cutdemux_q30_unstranded, \"D\", \"del\")"
   ]
  },
  {
   "cell_type": "markdown",
   "metadata": {},
   "source": [
    "Remove the old 34 mitos as well as those don't exist in the metadata"
   ]
  },
  {
   "cell_type": "code",
   "execution_count": 17,
   "metadata": {
    "vscode": {
     "languageId": "r"
    }
   },
   "outputs": [
    {
     "data": {
      "text/html": [
       "<style>\n",
       ".list-inline {list-style: none; margin:0; padding: 0}\n",
       ".list-inline>li {display: inline-block}\n",
       ".list-inline>li:not(:last-child)::after {content: \"\\00b7\"; padding: 0 .5ex}\n",
       "</style>\n",
       "<ol class=list-inline><li>3117733</li><li>14</li></ol>\n"
      ],
      "text/latex": [
       "\\begin{enumerate*}\n",
       "\\item 3117733\n",
       "\\item 14\n",
       "\\end{enumerate*}\n"
      ],
      "text/markdown": [
       "1. 3117733\n",
       "2. 14\n",
       "\n",
       "\n"
      ],
      "text/plain": [
       "[1] 3117733      14"
      ]
     },
     "metadata": {},
     "output_type": "display_data"
    }
   ],
   "source": [
    "basedifffreq_cutdemux_q30_unstranded <- basedifffreq_cutdemux_q30_unstranded[LibraryMitoID %in% MitoInfo[, LibraryMitoID]]\n",
    "dim(basedifffreq_cutdemux_q30_unstranded)"
   ]
  },
  {
   "cell_type": "code",
   "execution_count": 18,
   "metadata": {
    "vscode": {
     "languageId": "r"
    }
   },
   "outputs": [
    {
     "data": {
      "text/html": [
       "<style>\n",
       ".list-inline {list-style: none; margin:0; padding: 0}\n",
       ".list-inline>li {display: inline-block}\n",
       ".list-inline>li:not(:last-child)::after {content: \"\\00b7\"; padding: 0 .5ex}\n",
       "</style>\n",
       "<ol class=list-inline><li>3117733</li><li>29</li></ol>\n"
      ],
      "text/latex": [
       "\\begin{enumerate*}\n",
       "\\item 3117733\n",
       "\\item 29\n",
       "\\end{enumerate*}\n"
      ],
      "text/markdown": [
       "1. 3117733\n",
       "2. 29\n",
       "\n",
       "\n"
      ],
      "text/plain": [
       "[1] 3117733      29"
      ]
     },
     "metadata": {},
     "output_type": "display_data"
    }
   ],
   "source": [
    "basedifffreq_cutdemux_q30_unstranded <- MitoInfo[basedifffreq_cutdemux_q30_unstranded, on = \"LibraryMitoID\", nomatch = NULL]\n",
    "basedifffreq_cutdemux_q30_unstranded[, c(\"i.ExptID\", \"i.LibraryID\", \"i.MitoID\") := NULL]\n",
    "dim(basedifffreq_cutdemux_q30_unstranded)"
   ]
  },
  {
   "cell_type": "code",
   "execution_count": 19,
   "metadata": {
    "vscode": {
     "languageId": "r"
    }
   },
   "outputs": [
    {
     "data": {
      "text/html": [
       "<table class=\"dataframe\">\n",
       "<caption>A data.table: 6 × 29</caption>\n",
       "<thead>\n",
       "\t<tr><th scope=col>LibraryID</th><th scope=col>ExptID</th><th scope=col>LibraryMitoID</th><th scope=col>IsolationRCADate</th><th scope=col>DIVDays</th><th scope=col>CellType</th><th scope=col>PlateID</th><th scope=col>CellID</th><th scope=col>CellUID</th><th scope=col>WellMitoBarcode</th><th scope=col>⋯</th><th scope=col>SNVID</th><th scope=col>pos</th><th scope=col>ref</th><th scope=col>depth</th><th scope=col>=</th><th scope=col>A</th><th scope=col>C</th><th scope=col>G</th><th scope=col>T</th><th scope=col>del</th></tr>\n",
       "\t<tr><th scope=col>&lt;chr&gt;</th><th scope=col>&lt;int&gt;</th><th scope=col>&lt;chr&gt;</th><th scope=col>&lt;IDate&gt;</th><th scope=col>&lt;int&gt;</th><th scope=col>&lt;chr&gt;</th><th scope=col>&lt;int&gt;</th><th scope=col>&lt;int&gt;</th><th scope=col>&lt;chr&gt;</th><th scope=col>&lt;chr&gt;</th><th scope=col>⋯</th><th scope=col>&lt;chr&gt;</th><th scope=col>&lt;int&gt;</th><th scope=col>&lt;chr&gt;</th><th scope=col>&lt;dbl&gt;</th><th scope=col>&lt;int&gt;</th><th scope=col>&lt;int&gt;</th><th scope=col>&lt;int&gt;</th><th scope=col>&lt;int&gt;</th><th scope=col>&lt;int&gt;</th><th scope=col>&lt;int&gt;</th></tr>\n",
       "</thead>\n",
       "<tbody>\n",
       "\t<tr><td>L1R24P1C</td><td>730</td><td>L1R24P1C_M1</td><td>2020-09-04</td><td>3</td><td>Neuron</td><td>1</td><td>2</td><td>Mouse05_Neuron_2</td><td>B1--M1</td><td>⋯</td><td>SNV1</td><td>9350</td><td>C</td><td> 5431</td><td> 5431</td><td>0</td><td> 0</td><td>0</td><td>0</td><td>0</td></tr>\n",
       "\t<tr><td>L1R24P1C</td><td>730</td><td>L1R24P1C_M1</td><td>2020-09-04</td><td>3</td><td>Neuron</td><td>1</td><td>2</td><td>Mouse05_Neuron_2</td><td>B1--M1</td><td>⋯</td><td>SNV1</td><td>9351</td><td>T</td><td> 5572</td><td> 5572</td><td>0</td><td> 0</td><td>0</td><td>0</td><td>0</td></tr>\n",
       "\t<tr><td>L1R24P1C</td><td>730</td><td>L1R24P1C_M1</td><td>2020-09-04</td><td>3</td><td>Neuron</td><td>1</td><td>2</td><td>Mouse05_Neuron_2</td><td>B1--M1</td><td>⋯</td><td>SNV1</td><td>9352</td><td>G</td><td>19115</td><td>19115</td><td>0</td><td> 0</td><td>0</td><td>0</td><td>0</td></tr>\n",
       "\t<tr><td>L1R24P1C</td><td>730</td><td>L1R24P1C_M1</td><td>2020-09-04</td><td>3</td><td>Neuron</td><td>1</td><td>2</td><td>Mouse05_Neuron_2</td><td>B1--M1</td><td>⋯</td><td>SNV1</td><td>9353</td><td>A</td><td>16857</td><td>16846</td><td>0</td><td>10</td><td>0</td><td>1</td><td>0</td></tr>\n",
       "\t<tr><td>L1R24P1C</td><td>730</td><td>L1R24P1C_M1</td><td>2020-09-04</td><td>3</td><td>Neuron</td><td>1</td><td>2</td><td>Mouse05_Neuron_2</td><td>B1--M1</td><td>⋯</td><td>SNV1</td><td>9354</td><td>C</td><td>19213</td><td>19207</td><td>1</td><td> 0</td><td>0</td><td>5</td><td>0</td></tr>\n",
       "\t<tr><td>L1R24P1C</td><td>730</td><td>L1R24P1C_M1</td><td>2020-09-04</td><td>3</td><td>Neuron</td><td>1</td><td>2</td><td>Mouse05_Neuron_2</td><td>B1--M1</td><td>⋯</td><td>SNV1</td><td>9355</td><td>T</td><td>19324</td><td>19313</td><td>1</td><td> 1</td><td>0</td><td>0</td><td>9</td></tr>\n",
       "</tbody>\n",
       "</table>\n"
      ],
      "text/latex": [
       "A data.table: 6 × 29\n",
       "\\begin{tabular}{lllllllllllllllllllll}\n",
       " LibraryID & ExptID & LibraryMitoID & IsolationRCADate & DIVDays & CellType & PlateID & CellID & CellUID & WellMitoBarcode & ⋯ & SNVID & pos & ref & depth & = & A & C & G & T & del\\\\\n",
       " <chr> & <int> & <chr> & <IDate> & <int> & <chr> & <int> & <int> & <chr> & <chr> & ⋯ & <chr> & <int> & <chr> & <dbl> & <int> & <int> & <int> & <int> & <int> & <int>\\\\\n",
       "\\hline\n",
       "\t L1R24P1C & 730 & L1R24P1C\\_M1 & 2020-09-04 & 3 & Neuron & 1 & 2 & Mouse05\\_Neuron\\_2 & B1--M1 & ⋯ & SNV1 & 9350 & C &  5431 &  5431 & 0 &  0 & 0 & 0 & 0\\\\\n",
       "\t L1R24P1C & 730 & L1R24P1C\\_M1 & 2020-09-04 & 3 & Neuron & 1 & 2 & Mouse05\\_Neuron\\_2 & B1--M1 & ⋯ & SNV1 & 9351 & T &  5572 &  5572 & 0 &  0 & 0 & 0 & 0\\\\\n",
       "\t L1R24P1C & 730 & L1R24P1C\\_M1 & 2020-09-04 & 3 & Neuron & 1 & 2 & Mouse05\\_Neuron\\_2 & B1--M1 & ⋯ & SNV1 & 9352 & G & 19115 & 19115 & 0 &  0 & 0 & 0 & 0\\\\\n",
       "\t L1R24P1C & 730 & L1R24P1C\\_M1 & 2020-09-04 & 3 & Neuron & 1 & 2 & Mouse05\\_Neuron\\_2 & B1--M1 & ⋯ & SNV1 & 9353 & A & 16857 & 16846 & 0 & 10 & 0 & 1 & 0\\\\\n",
       "\t L1R24P1C & 730 & L1R24P1C\\_M1 & 2020-09-04 & 3 & Neuron & 1 & 2 & Mouse05\\_Neuron\\_2 & B1--M1 & ⋯ & SNV1 & 9354 & C & 19213 & 19207 & 1 &  0 & 0 & 5 & 0\\\\\n",
       "\t L1R24P1C & 730 & L1R24P1C\\_M1 & 2020-09-04 & 3 & Neuron & 1 & 2 & Mouse05\\_Neuron\\_2 & B1--M1 & ⋯ & SNV1 & 9355 & T & 19324 & 19313 & 1 &  1 & 0 & 0 & 9\\\\\n",
       "\\end{tabular}\n"
      ],
      "text/markdown": [
       "\n",
       "A data.table: 6 × 29\n",
       "\n",
       "| LibraryID &lt;chr&gt; | ExptID &lt;int&gt; | LibraryMitoID &lt;chr&gt; | IsolationRCADate &lt;IDate&gt; | DIVDays &lt;int&gt; | CellType &lt;chr&gt; | PlateID &lt;int&gt; | CellID &lt;int&gt; | CellUID &lt;chr&gt; | WellMitoBarcode &lt;chr&gt; | ⋯ ⋯ | SNVID &lt;chr&gt; | pos &lt;int&gt; | ref &lt;chr&gt; | depth &lt;dbl&gt; | = &lt;int&gt; | A &lt;int&gt; | C &lt;int&gt; | G &lt;int&gt; | T &lt;int&gt; | del &lt;int&gt; |\n",
       "|---|---|---|---|---|---|---|---|---|---|---|---|---|---|---|---|---|---|---|---|---|\n",
       "| L1R24P1C | 730 | L1R24P1C_M1 | 2020-09-04 | 3 | Neuron | 1 | 2 | Mouse05_Neuron_2 | B1--M1 | ⋯ | SNV1 | 9350 | C |  5431 |  5431 | 0 |  0 | 0 | 0 | 0 |\n",
       "| L1R24P1C | 730 | L1R24P1C_M1 | 2020-09-04 | 3 | Neuron | 1 | 2 | Mouse05_Neuron_2 | B1--M1 | ⋯ | SNV1 | 9351 | T |  5572 |  5572 | 0 |  0 | 0 | 0 | 0 |\n",
       "| L1R24P1C | 730 | L1R24P1C_M1 | 2020-09-04 | 3 | Neuron | 1 | 2 | Mouse05_Neuron_2 | B1--M1 | ⋯ | SNV1 | 9352 | G | 19115 | 19115 | 0 |  0 | 0 | 0 | 0 |\n",
       "| L1R24P1C | 730 | L1R24P1C_M1 | 2020-09-04 | 3 | Neuron | 1 | 2 | Mouse05_Neuron_2 | B1--M1 | ⋯ | SNV1 | 9353 | A | 16857 | 16846 | 0 | 10 | 0 | 1 | 0 |\n",
       "| L1R24P1C | 730 | L1R24P1C_M1 | 2020-09-04 | 3 | Neuron | 1 | 2 | Mouse05_Neuron_2 | B1--M1 | ⋯ | SNV1 | 9354 | C | 19213 | 19207 | 1 |  0 | 0 | 5 | 0 |\n",
       "| L1R24P1C | 730 | L1R24P1C_M1 | 2020-09-04 | 3 | Neuron | 1 | 2 | Mouse05_Neuron_2 | B1--M1 | ⋯ | SNV1 | 9355 | T | 19324 | 19313 | 1 |  1 | 0 | 0 | 9 |\n",
       "\n"
      ],
      "text/plain": [
       "  LibraryID ExptID LibraryMitoID IsolationRCADate DIVDays CellType PlateID\n",
       "1 L1R24P1C  730    L1R24P1C_M1   2020-09-04       3       Neuron   1      \n",
       "2 L1R24P1C  730    L1R24P1C_M1   2020-09-04       3       Neuron   1      \n",
       "3 L1R24P1C  730    L1R24P1C_M1   2020-09-04       3       Neuron   1      \n",
       "4 L1R24P1C  730    L1R24P1C_M1   2020-09-04       3       Neuron   1      \n",
       "5 L1R24P1C  730    L1R24P1C_M1   2020-09-04       3       Neuron   1      \n",
       "6 L1R24P1C  730    L1R24P1C_M1   2020-09-04       3       Neuron   1      \n",
       "  CellID CellUID          WellMitoBarcode ⋯ SNVID pos  ref depth =     A C  G T\n",
       "1 2      Mouse05_Neuron_2 B1--M1          ⋯ SNV1  9350 C    5431  5431 0  0 0 0\n",
       "2 2      Mouse05_Neuron_2 B1--M1          ⋯ SNV1  9351 T    5572  5572 0  0 0 0\n",
       "3 2      Mouse05_Neuron_2 B1--M1          ⋯ SNV1  9352 G   19115 19115 0  0 0 0\n",
       "4 2      Mouse05_Neuron_2 B1--M1          ⋯ SNV1  9353 A   16857 16846 0 10 0 1\n",
       "5 2      Mouse05_Neuron_2 B1--M1          ⋯ SNV1  9354 C   19213 19207 1  0 0 5\n",
       "6 2      Mouse05_Neuron_2 B1--M1          ⋯ SNV1  9355 T   19324 19313 1  1 0 0\n",
       "  del\n",
       "1 0  \n",
       "2 0  \n",
       "3 0  \n",
       "4 0  \n",
       "5 0  \n",
       "6 9  "
      ]
     },
     "metadata": {},
     "output_type": "display_data"
    }
   ],
   "source": [
    "head(basedifffreq_cutdemux_q30_unstranded)"
   ]
  },
  {
   "cell_type": "code",
   "execution_count": null,
   "metadata": {
    "vscode": {
     "languageId": "r"
    }
   },
   "outputs": [],
   "source": [
    "fwrite(basedifffreq_cutdemux_q30_unstranded, file = \"Report/SNVs/basedifffreq_cutdemux_sub500k_q30_unstranded.csv.gz\")"
   ]
  },
  {
   "cell_type": "markdown",
   "metadata": {},
   "source": [
    "Gather all insertion tables"
   ]
  },
  {
   "cell_type": "code",
   "execution_count": 21,
   "metadata": {
    "vscode": {
     "languageId": "r"
    }
   },
   "outputs": [
    {
     "data": {
      "text/html": [
       "<style>\n",
       ".list-inline {list-style: none; margin:0; padding: 0}\n",
       ".list-inline>li {display: inline-block}\n",
       ".list-inline>li:not(:last-child)::after {content: \"\\00b7\"; padding: 0 .5ex}\n",
       "</style>\n",
       "<ol class=list-inline><li>86094</li><li>10</li></ol>\n"
      ],
      "text/latex": [
       "\\begin{enumerate*}\n",
       "\\item 86094\n",
       "\\item 10\n",
       "\\end{enumerate*}\n"
      ],
      "text/markdown": [
       "1. 86094\n",
       "2. 10\n",
       "\n",
       "\n"
      ],
      "text/plain": [
       "[1] 86094    10"
      ]
     },
     "metadata": {},
     "output_type": "display_data"
    }
   ],
   "source": [
    "mpileups_ins_cutdemux_rerun <- read.csv(\"Report/SNVs/ins/mpileups_ins_cutdemux_rerun_sub500k.csv.gz\", as.is = TRUE)\n",
    "mpileups_ins_cutdemux_E749 <- read.csv(\"Report/SNVs/ins/mpileups_ins_cutdemux_E749_sub500k.csv.gz\", as.is = TRUE)\n",
    "mpileups_ins_cutdemux_E754 <- read.csv(\"Report/SNVs/ins/mpileups_ins_cutdemux_E754_sub500k.csv.gz\", as.is = TRUE)\n",
    "mpileups_ins_cutdemux_E757 <- read.csv(\"Report/SNVs/ins/mpileups_ins_cutdemux_E757_sub500k.csv.gz\", as.is = TRUE)\n",
    "mpileups_ins_cutdemux_E771 <- read.csv(\"Report/SNVs/ins/mpileups_ins_cutdemux_E771_sub500k.csv.gz\", as.is = TRUE)\n",
    "mpileups_ins_cutdemux_E777 <- read.csv(\"Report/SNVs/ins/mpileups_ins_cutdemux_E777_sub500k.csv.gz\", as.is = TRUE)\n",
    "mpileups_ins_cutdemux_E799 <- read.csv(\"Report/SNVs/ins/mpileups_ins_cutdemux_E799_sub500k.csv.gz\", as.is = TRUE)\n",
    "mpileups_ins_cutdemux <- rbind(mpileups_ins_cutdemux_rerun, \n",
    "                               mpileups_ins_cutdemux_E749, \n",
    "                               mpileups_ins_cutdemux_E754, \n",
    "                               mpileups_ins_cutdemux_E757,\n",
    "                               mpileups_ins_cutdemux_E771,\n",
    "                               mpileups_ins_cutdemux_E777,\n",
    "                               mpileups_ins_cutdemux_E799\n",
    ")\n",
    "setDT(mpileups_ins_cutdemux)\n",
    "dim(mpileups_ins_cutdemux)"
   ]
  },
  {
   "cell_type": "markdown",
   "metadata": {},
   "source": [
    "Remove the old 34 mitos as well as those don't exist in the metadata"
   ]
  },
  {
   "cell_type": "code",
   "execution_count": 22,
   "metadata": {
    "vscode": {
     "languageId": "r"
    }
   },
   "outputs": [
    {
     "data": {
      "text/html": [
       "<style>\n",
       ".list-inline {list-style: none; margin:0; padding: 0}\n",
       ".list-inline>li {display: inline-block}\n",
       ".list-inline>li:not(:last-child)::after {content: \"\\00b7\"; padding: 0 .5ex}\n",
       "</style>\n",
       "<ol class=list-inline><li>84603</li><li>10</li></ol>\n"
      ],
      "text/latex": [
       "\\begin{enumerate*}\n",
       "\\item 84603\n",
       "\\item 10\n",
       "\\end{enumerate*}\n"
      ],
      "text/markdown": [
       "1. 84603\n",
       "2. 10\n",
       "\n",
       "\n"
      ],
      "text/plain": [
       "[1] 84603    10"
      ]
     },
     "metadata": {},
     "output_type": "display_data"
    }
   ],
   "source": [
    "mpileups_ins_cutdemux <- mpileups_ins_cutdemux[paste0(LibraryID, \"_\", MitoID) %in% MitoInfo[, LibraryMitoID]]\n",
    "dim(mpileups_ins_cutdemux)"
   ]
  },
  {
   "cell_type": "code",
   "execution_count": 23,
   "metadata": {
    "vscode": {
     "languageId": "r"
    }
   },
   "outputs": [
    {
     "data": {
      "text/html": [
       "FALSE"
      ],
      "text/latex": [
       "FALSE"
      ],
      "text/markdown": [
       "FALSE"
      ],
      "text/plain": [
       "[1] FALSE"
      ]
     },
     "metadata": {},
     "output_type": "display_data"
    }
   ],
   "source": [
    "mpileups_ins_cutdemux[, LibraryMitoID := paste0(LibraryID, \"_\", MitoID)]\n",
    "mpileups_ins_cutdemux[, altperctot := altfreqtot / depth * 100]\n",
    "any(setdiff(mpileups_ins_cutdemux[, LibraryMitoID], MitoInfo[, LibraryMitoID]))"
   ]
  },
  {
   "cell_type": "code",
   "execution_count": 24,
   "metadata": {
    "vscode": {
     "languageId": "r"
    }
   },
   "outputs": [
    {
     "data": {
      "text/html": [
       "<style>\n",
       ".list-inline {list-style: none; margin:0; padding: 0}\n",
       ".list-inline>li {display: inline-block}\n",
       ".list-inline>li:not(:last-child)::after {content: \"\\00b7\"; padding: 0 .5ex}\n",
       "</style>\n",
       "<ol class=list-inline><li>84603</li><li>27</li></ol>\n"
      ],
      "text/latex": [
       "\\begin{enumerate*}\n",
       "\\item 84603\n",
       "\\item 27\n",
       "\\end{enumerate*}\n"
      ],
      "text/markdown": [
       "1. 84603\n",
       "2. 27\n",
       "\n",
       "\n"
      ],
      "text/plain": [
       "[1] 84603    27"
      ]
     },
     "metadata": {},
     "output_type": "display_data"
    }
   ],
   "source": [
    "mpileups_ins_cutdemux <- MitoInfo[mpileups_ins_cutdemux, on = \"LibraryMitoID\", nomatch = NULL]\n",
    "mpileups_ins_cutdemux[, c(\"i.ExptID\", \"i.LibraryID\", \"i.MitoID\") := NULL]\n",
    "dim(mpileups_ins_cutdemux)"
   ]
  },
  {
   "cell_type": "markdown",
   "metadata": {},
   "source": [
    "Add per-base mt-genome stats"
   ]
  },
  {
   "cell_type": "code",
   "execution_count": 25,
   "metadata": {
    "vscode": {
     "languageId": "r"
    }
   },
   "outputs": [],
   "source": [
    "chrmproperties <- fread(file = \"Report/artifact/chrmbases_properties.csv.gz\")\n",
    "setkey(chrmproperties, \"pos\")"
   ]
  },
  {
   "cell_type": "code",
   "execution_count": 26,
   "metadata": {
    "vscode": {
     "languageId": "r"
    }
   },
   "outputs": [],
   "source": [
    "mpileups_ins_cutdemux <- chrmproperties[mpileups_ins_cutdemux, on = \"pos\"]"
   ]
  },
  {
   "cell_type": "code",
   "execution_count": 27,
   "metadata": {
    "vscode": {
     "languageId": "r"
    }
   },
   "outputs": [],
   "source": [
    "mpileups_ins_cutdemux[, c(\"i.ref\", \"i.SNVID\") := NULL]"
   ]
  },
  {
   "cell_type": "code",
   "execution_count": 28,
   "metadata": {
    "vscode": {
     "languageId": "r"
    }
   },
   "outputs": [],
   "source": [
    "setcolorder(mpileups_ins_cutdemux, colnames(mpileups_ins_cutdemux)[c(16:34, 2, 1, 3, 4:15, 35:39)])"
   ]
  },
  {
   "cell_type": "code",
   "execution_count": 29,
   "metadata": {
    "vscode": {
     "languageId": "r"
    }
   },
   "outputs": [
    {
     "data": {
      "text/html": [
       "<style>\n",
       ".list-inline {list-style: none; margin:0; padding: 0}\n",
       ".list-inline>li {display: inline-block}\n",
       ".list-inline>li:not(:last-child)::after {content: \"\\00b7\"; padding: 0 .5ex}\n",
       "</style>\n",
       "<ol class=list-inline><li>'LibraryID'</li><li>'ExptID'</li><li>'LibraryMitoID'</li><li>'IsolationRCADate'</li><li>'DIVDays'</li><li>'CellType'</li><li>'PlateID'</li><li>'CellID'</li><li>'CellUID'</li><li>'WellMitoBarcode'</li><li>'WellID'</li><li>'MitoID'</li><li>'HasMtDNA'</li><li>'HasPrimers'</li><li>'RCAID'</li><li>'MouseID'</li><li>'Enzyme'</li><li>'HasRCA'</li><li>'IsCtrl'</li><li>'SNVID'</li><li>'pos'</li><li>'ref'</li><li>'is_softmasked'</li><li>'nhomopolymer'</li><li>'does_new_begin'</li><li>'does_old_end'</li><li>'basefrac_bin10_A'</li><li>'basefrac_bin10_C'</li><li>'basefrac_bin10_G'</li><li>'basefrac_bin10_T'</li><li>'is_in_range'</li><li>'is_in_primer'</li><li>'dist5'</li><li>'dist3'</li><li>'depth'</li><li>'alt'</li><li>'altfreq'</li><li>'altfreqtot'</li><li>'altperctot'</li></ol>\n"
      ],
      "text/latex": [
       "\\begin{enumerate*}\n",
       "\\item 'LibraryID'\n",
       "\\item 'ExptID'\n",
       "\\item 'LibraryMitoID'\n",
       "\\item 'IsolationRCADate'\n",
       "\\item 'DIVDays'\n",
       "\\item 'CellType'\n",
       "\\item 'PlateID'\n",
       "\\item 'CellID'\n",
       "\\item 'CellUID'\n",
       "\\item 'WellMitoBarcode'\n",
       "\\item 'WellID'\n",
       "\\item 'MitoID'\n",
       "\\item 'HasMtDNA'\n",
       "\\item 'HasPrimers'\n",
       "\\item 'RCAID'\n",
       "\\item 'MouseID'\n",
       "\\item 'Enzyme'\n",
       "\\item 'HasRCA'\n",
       "\\item 'IsCtrl'\n",
       "\\item 'SNVID'\n",
       "\\item 'pos'\n",
       "\\item 'ref'\n",
       "\\item 'is\\_softmasked'\n",
       "\\item 'nhomopolymer'\n",
       "\\item 'does\\_new\\_begin'\n",
       "\\item 'does\\_old\\_end'\n",
       "\\item 'basefrac\\_bin10\\_A'\n",
       "\\item 'basefrac\\_bin10\\_C'\n",
       "\\item 'basefrac\\_bin10\\_G'\n",
       "\\item 'basefrac\\_bin10\\_T'\n",
       "\\item 'is\\_in\\_range'\n",
       "\\item 'is\\_in\\_primer'\n",
       "\\item 'dist5'\n",
       "\\item 'dist3'\n",
       "\\item 'depth'\n",
       "\\item 'alt'\n",
       "\\item 'altfreq'\n",
       "\\item 'altfreqtot'\n",
       "\\item 'altperctot'\n",
       "\\end{enumerate*}\n"
      ],
      "text/markdown": [
       "1. 'LibraryID'\n",
       "2. 'ExptID'\n",
       "3. 'LibraryMitoID'\n",
       "4. 'IsolationRCADate'\n",
       "5. 'DIVDays'\n",
       "6. 'CellType'\n",
       "7. 'PlateID'\n",
       "8. 'CellID'\n",
       "9. 'CellUID'\n",
       "10. 'WellMitoBarcode'\n",
       "11. 'WellID'\n",
       "12. 'MitoID'\n",
       "13. 'HasMtDNA'\n",
       "14. 'HasPrimers'\n",
       "15. 'RCAID'\n",
       "16. 'MouseID'\n",
       "17. 'Enzyme'\n",
       "18. 'HasRCA'\n",
       "19. 'IsCtrl'\n",
       "20. 'SNVID'\n",
       "21. 'pos'\n",
       "22. 'ref'\n",
       "23. 'is_softmasked'\n",
       "24. 'nhomopolymer'\n",
       "25. 'does_new_begin'\n",
       "26. 'does_old_end'\n",
       "27. 'basefrac_bin10_A'\n",
       "28. 'basefrac_bin10_C'\n",
       "29. 'basefrac_bin10_G'\n",
       "30. 'basefrac_bin10_T'\n",
       "31. 'is_in_range'\n",
       "32. 'is_in_primer'\n",
       "33. 'dist5'\n",
       "34. 'dist3'\n",
       "35. 'depth'\n",
       "36. 'alt'\n",
       "37. 'altfreq'\n",
       "38. 'altfreqtot'\n",
       "39. 'altperctot'\n",
       "\n",
       "\n"
      ],
      "text/plain": [
       " [1] \"LibraryID\"        \"ExptID\"           \"LibraryMitoID\"    \"IsolationRCADate\"\n",
       " [5] \"DIVDays\"          \"CellType\"         \"PlateID\"          \"CellID\"          \n",
       " [9] \"CellUID\"          \"WellMitoBarcode\"  \"WellID\"           \"MitoID\"          \n",
       "[13] \"HasMtDNA\"         \"HasPrimers\"       \"RCAID\"            \"MouseID\"         \n",
       "[17] \"Enzyme\"           \"HasRCA\"           \"IsCtrl\"           \"SNVID\"           \n",
       "[21] \"pos\"              \"ref\"              \"is_softmasked\"    \"nhomopolymer\"    \n",
       "[25] \"does_new_begin\"   \"does_old_end\"     \"basefrac_bin10_A\" \"basefrac_bin10_C\"\n",
       "[29] \"basefrac_bin10_G\" \"basefrac_bin10_T\" \"is_in_range\"      \"is_in_primer\"    \n",
       "[33] \"dist5\"            \"dist3\"            \"depth\"            \"alt\"             \n",
       "[37] \"altfreq\"          \"altfreqtot\"       \"altperctot\"      "
      ]
     },
     "metadata": {},
     "output_type": "display_data"
    }
   ],
   "source": [
    "colnames(mpileups_ins_cutdemux)"
   ]
  },
  {
   "cell_type": "code",
   "execution_count": 30,
   "metadata": {
    "vscode": {
     "languageId": "r"
    }
   },
   "outputs": [
    {
     "data": {
      "text/html": [
       "<table class=\"dataframe\">\n",
       "<caption>A data.table: 6 × 39</caption>\n",
       "<thead>\n",
       "\t<tr><th scope=col>LibraryID</th><th scope=col>ExptID</th><th scope=col>LibraryMitoID</th><th scope=col>IsolationRCADate</th><th scope=col>DIVDays</th><th scope=col>CellType</th><th scope=col>PlateID</th><th scope=col>CellID</th><th scope=col>CellUID</th><th scope=col>WellMitoBarcode</th><th scope=col>⋯</th><th scope=col>basefrac_bin10_T</th><th scope=col>is_in_range</th><th scope=col>is_in_primer</th><th scope=col>dist5</th><th scope=col>dist3</th><th scope=col>depth</th><th scope=col>alt</th><th scope=col>altfreq</th><th scope=col>altfreqtot</th><th scope=col>altperctot</th></tr>\n",
       "\t<tr><th scope=col>&lt;chr&gt;</th><th scope=col>&lt;int&gt;</th><th scope=col>&lt;chr&gt;</th><th scope=col>&lt;IDate&gt;</th><th scope=col>&lt;int&gt;</th><th scope=col>&lt;chr&gt;</th><th scope=col>&lt;int&gt;</th><th scope=col>&lt;int&gt;</th><th scope=col>&lt;chr&gt;</th><th scope=col>&lt;chr&gt;</th><th scope=col>⋯</th><th scope=col>&lt;dbl&gt;</th><th scope=col>&lt;chr&gt;</th><th scope=col>&lt;chr&gt;</th><th scope=col>&lt;int&gt;</th><th scope=col>&lt;int&gt;</th><th scope=col>&lt;int&gt;</th><th scope=col>&lt;chr&gt;</th><th scope=col>&lt;chr&gt;</th><th scope=col>&lt;int&gt;</th><th scope=col>&lt;dbl&gt;</th></tr>\n",
       "</thead>\n",
       "<tbody>\n",
       "\t<tr><td>L1R24P1C</td><td>730</td><td>L1R24P1C_M1</td><td>2020-09-04</td><td>3</td><td>Neuron</td><td>1</td><td>2</td><td>Mouse05_Neuron_2</td><td>B1--M1</td><td>⋯</td><td>0.5454545</td><td>Y</td><td>Y</td><td> 9</td><td>175</td><td>20423</td><td>CC    </td><td>6  </td><td>6</td><td>0.029378642</td></tr>\n",
       "\t<tr><td>L1R24P1C</td><td>730</td><td>L1R24P1C_M1</td><td>2020-09-04</td><td>3</td><td>Neuron</td><td>1</td><td>2</td><td>Mouse05_Neuron_2</td><td>B1--M1</td><td>⋯</td><td>0.5454545</td><td>Y</td><td>Y</td><td>10</td><td>174</td><td>20424</td><td>CC    </td><td>2  </td><td>2</td><td>0.009792401</td></tr>\n",
       "\t<tr><td>L1R24P1C</td><td>730</td><td>L1R24P1C_M1</td><td>2020-09-04</td><td>3</td><td>Neuron</td><td>1</td><td>2</td><td>Mouse05_Neuron_2</td><td>B1--M1</td><td>⋯</td><td>0.4545455</td><td>Y</td><td>Y</td><td>11</td><td>173</td><td>20429</td><td>TCT,TT</td><td>1,2</td><td>3</td><td>0.014685007</td></tr>\n",
       "\t<tr><td>L1R24P1C</td><td>730</td><td>L1R24P1C_M1</td><td>2020-09-04</td><td>3</td><td>Neuron</td><td>1</td><td>2</td><td>Mouse05_Neuron_2</td><td>B1--M1</td><td>⋯</td><td>0.4545455</td><td>Y</td><td>Y</td><td>12</td><td>172</td><td>20432</td><td>AA,ATA</td><td>3,1</td><td>4</td><td>0.019577134</td></tr>\n",
       "\t<tr><td>L1R24P1C</td><td>730</td><td>L1R24P1C_M1</td><td>2020-09-04</td><td>3</td><td>Neuron</td><td>1</td><td>2</td><td>Mouse05_Neuron_2</td><td>B1--M1</td><td>⋯</td><td>0.3636364</td><td>Y</td><td>Y</td><td>13</td><td>171</td><td>20448</td><td>TA,TT </td><td>1,5</td><td>6</td><td>0.029342723</td></tr>\n",
       "\t<tr><td>L1R24P1C</td><td>730</td><td>L1R24P1C_M1</td><td>2020-09-04</td><td>3</td><td>Neuron</td><td>1</td><td>2</td><td>Mouse05_Neuron_2</td><td>B1--M1</td><td>⋯</td><td>0.3636364</td><td>Y</td><td>Y</td><td>14</td><td>170</td><td>20451</td><td>AA    </td><td>6  </td><td>6</td><td>0.029338419</td></tr>\n",
       "</tbody>\n",
       "</table>\n"
      ],
      "text/latex": [
       "A data.table: 6 × 39\n",
       "\\begin{tabular}{lllllllllllllllllllll}\n",
       " LibraryID & ExptID & LibraryMitoID & IsolationRCADate & DIVDays & CellType & PlateID & CellID & CellUID & WellMitoBarcode & ⋯ & basefrac\\_bin10\\_T & is\\_in\\_range & is\\_in\\_primer & dist5 & dist3 & depth & alt & altfreq & altfreqtot & altperctot\\\\\n",
       " <chr> & <int> & <chr> & <IDate> & <int> & <chr> & <int> & <int> & <chr> & <chr> & ⋯ & <dbl> & <chr> & <chr> & <int> & <int> & <int> & <chr> & <chr> & <int> & <dbl>\\\\\n",
       "\\hline\n",
       "\t L1R24P1C & 730 & L1R24P1C\\_M1 & 2020-09-04 & 3 & Neuron & 1 & 2 & Mouse05\\_Neuron\\_2 & B1--M1 & ⋯ & 0.5454545 & Y & Y &  9 & 175 & 20423 & CC     & 6   & 6 & 0.029378642\\\\\n",
       "\t L1R24P1C & 730 & L1R24P1C\\_M1 & 2020-09-04 & 3 & Neuron & 1 & 2 & Mouse05\\_Neuron\\_2 & B1--M1 & ⋯ & 0.5454545 & Y & Y & 10 & 174 & 20424 & CC     & 2   & 2 & 0.009792401\\\\\n",
       "\t L1R24P1C & 730 & L1R24P1C\\_M1 & 2020-09-04 & 3 & Neuron & 1 & 2 & Mouse05\\_Neuron\\_2 & B1--M1 & ⋯ & 0.4545455 & Y & Y & 11 & 173 & 20429 & TCT,TT & 1,2 & 3 & 0.014685007\\\\\n",
       "\t L1R24P1C & 730 & L1R24P1C\\_M1 & 2020-09-04 & 3 & Neuron & 1 & 2 & Mouse05\\_Neuron\\_2 & B1--M1 & ⋯ & 0.4545455 & Y & Y & 12 & 172 & 20432 & AA,ATA & 3,1 & 4 & 0.019577134\\\\\n",
       "\t L1R24P1C & 730 & L1R24P1C\\_M1 & 2020-09-04 & 3 & Neuron & 1 & 2 & Mouse05\\_Neuron\\_2 & B1--M1 & ⋯ & 0.3636364 & Y & Y & 13 & 171 & 20448 & TA,TT  & 1,5 & 6 & 0.029342723\\\\\n",
       "\t L1R24P1C & 730 & L1R24P1C\\_M1 & 2020-09-04 & 3 & Neuron & 1 & 2 & Mouse05\\_Neuron\\_2 & B1--M1 & ⋯ & 0.3636364 & Y & Y & 14 & 170 & 20451 & AA     & 6   & 6 & 0.029338419\\\\\n",
       "\\end{tabular}\n"
      ],
      "text/markdown": [
       "\n",
       "A data.table: 6 × 39\n",
       "\n",
       "| LibraryID &lt;chr&gt; | ExptID &lt;int&gt; | LibraryMitoID &lt;chr&gt; | IsolationRCADate &lt;IDate&gt; | DIVDays &lt;int&gt; | CellType &lt;chr&gt; | PlateID &lt;int&gt; | CellID &lt;int&gt; | CellUID &lt;chr&gt; | WellMitoBarcode &lt;chr&gt; | ⋯ ⋯ | basefrac_bin10_T &lt;dbl&gt; | is_in_range &lt;chr&gt; | is_in_primer &lt;chr&gt; | dist5 &lt;int&gt; | dist3 &lt;int&gt; | depth &lt;int&gt; | alt &lt;chr&gt; | altfreq &lt;chr&gt; | altfreqtot &lt;int&gt; | altperctot &lt;dbl&gt; |\n",
       "|---|---|---|---|---|---|---|---|---|---|---|---|---|---|---|---|---|---|---|---|---|\n",
       "| L1R24P1C | 730 | L1R24P1C_M1 | 2020-09-04 | 3 | Neuron | 1 | 2 | Mouse05_Neuron_2 | B1--M1 | ⋯ | 0.5454545 | Y | Y |  9 | 175 | 20423 | CC     | 6   | 6 | 0.029378642 |\n",
       "| L1R24P1C | 730 | L1R24P1C_M1 | 2020-09-04 | 3 | Neuron | 1 | 2 | Mouse05_Neuron_2 | B1--M1 | ⋯ | 0.5454545 | Y | Y | 10 | 174 | 20424 | CC     | 2   | 2 | 0.009792401 |\n",
       "| L1R24P1C | 730 | L1R24P1C_M1 | 2020-09-04 | 3 | Neuron | 1 | 2 | Mouse05_Neuron_2 | B1--M1 | ⋯ | 0.4545455 | Y | Y | 11 | 173 | 20429 | TCT,TT | 1,2 | 3 | 0.014685007 |\n",
       "| L1R24P1C | 730 | L1R24P1C_M1 | 2020-09-04 | 3 | Neuron | 1 | 2 | Mouse05_Neuron_2 | B1--M1 | ⋯ | 0.4545455 | Y | Y | 12 | 172 | 20432 | AA,ATA | 3,1 | 4 | 0.019577134 |\n",
       "| L1R24P1C | 730 | L1R24P1C_M1 | 2020-09-04 | 3 | Neuron | 1 | 2 | Mouse05_Neuron_2 | B1--M1 | ⋯ | 0.3636364 | Y | Y | 13 | 171 | 20448 | TA,TT  | 1,5 | 6 | 0.029342723 |\n",
       "| L1R24P1C | 730 | L1R24P1C_M1 | 2020-09-04 | 3 | Neuron | 1 | 2 | Mouse05_Neuron_2 | B1--M1 | ⋯ | 0.3636364 | Y | Y | 14 | 170 | 20451 | AA     | 6   | 6 | 0.029338419 |\n",
       "\n"
      ],
      "text/plain": [
       "  LibraryID ExptID LibraryMitoID IsolationRCADate DIVDays CellType PlateID\n",
       "1 L1R24P1C  730    L1R24P1C_M1   2020-09-04       3       Neuron   1      \n",
       "2 L1R24P1C  730    L1R24P1C_M1   2020-09-04       3       Neuron   1      \n",
       "3 L1R24P1C  730    L1R24P1C_M1   2020-09-04       3       Neuron   1      \n",
       "4 L1R24P1C  730    L1R24P1C_M1   2020-09-04       3       Neuron   1      \n",
       "5 L1R24P1C  730    L1R24P1C_M1   2020-09-04       3       Neuron   1      \n",
       "6 L1R24P1C  730    L1R24P1C_M1   2020-09-04       3       Neuron   1      \n",
       "  CellID CellUID          WellMitoBarcode ⋯ basefrac_bin10_T is_in_range\n",
       "1 2      Mouse05_Neuron_2 B1--M1          ⋯ 0.5454545        Y          \n",
       "2 2      Mouse05_Neuron_2 B1--M1          ⋯ 0.5454545        Y          \n",
       "3 2      Mouse05_Neuron_2 B1--M1          ⋯ 0.4545455        Y          \n",
       "4 2      Mouse05_Neuron_2 B1--M1          ⋯ 0.4545455        Y          \n",
       "5 2      Mouse05_Neuron_2 B1--M1          ⋯ 0.3636364        Y          \n",
       "6 2      Mouse05_Neuron_2 B1--M1          ⋯ 0.3636364        Y          \n",
       "  is_in_primer dist5 dist3 depth alt    altfreq altfreqtot altperctot \n",
       "1 Y             9    175   20423 CC     6       6          0.029378642\n",
       "2 Y            10    174   20424 CC     2       2          0.009792401\n",
       "3 Y            11    173   20429 TCT,TT 1,2     3          0.014685007\n",
       "4 Y            12    172   20432 AA,ATA 3,1     4          0.019577134\n",
       "5 Y            13    171   20448 TA,TT  1,5     6          0.029342723\n",
       "6 Y            14    170   20451 AA     6       6          0.029338419"
      ]
     },
     "metadata": {},
     "output_type": "display_data"
    }
   ],
   "source": [
    "head(mpileups_ins_cutdemux)"
   ]
  },
  {
   "cell_type": "code",
   "execution_count": null,
   "metadata": {
    "vscode": {
     "languageId": "r"
    }
   },
   "outputs": [],
   "source": [
    "fwrite(mpileups_ins_cutdemux, file = \"Report/SNVs/ins/mpileups_ins_cutdemux_sub500k.csv.gz\")"
   ]
  },
  {
   "cell_type": "code",
   "execution_count": 32,
   "metadata": {
    "vscode": {
     "languageId": "r"
    }
   },
   "outputs": [
    {
     "data": {
      "text/plain": [
       "R version 4.4.0 (2024-04-24)\n",
       "Platform: x86_64-pc-linux-gnu\n",
       "Running under: openSUSE Tumbleweed\n",
       "\n",
       "Matrix products: default\n",
       "BLAS:   /home/lenovo/Applications/R/4.4.0/lib64/R/lib/libRblas.so \n",
       "LAPACK: /home/lenovo/Applications/R/4.4.0/lib64/R/lib/libRlapack.so;  LAPACK version 3.12.0\n",
       "\n",
       "locale:\n",
       " [1] LC_CTYPE=en_US.UTF-8       LC_NUMERIC=C              \n",
       " [3] LC_TIME=en_US.UTF-8        LC_COLLATE=en_US.UTF-8    \n",
       " [5] LC_MONETARY=en_US.UTF-8    LC_MESSAGES=en_US.UTF-8   \n",
       " [7] LC_PAPER=en_US.UTF-8       LC_NAME=C                 \n",
       " [9] LC_ADDRESS=C               LC_TELEPHONE=C            \n",
       "[11] LC_MEASUREMENT=en_US.UTF-8 LC_IDENTIFICATION=C       \n",
       "\n",
       "time zone: America/New_York\n",
       "tzcode source: system (glibc)\n",
       "\n",
       "attached base packages:\n",
       "[1] stats     graphics  grDevices utils     datasets  methods   base     \n",
       "\n",
       "other attached packages:\n",
       "[1] data.table_1.16.2\n",
       "\n",
       "loaded via a namespace (and not attached):\n",
       " [1] digest_0.6.37     IRdisplay_1.1     utf8_1.2.4        base64enc_0.1-3  \n",
       " [5] fastmap_1.2.0     glue_1.8.0        R.utils_2.12.3    htmltools_0.5.8.1\n",
       " [9] repr_1.1.7        lifecycle_1.0.4   cli_3.6.3         fansi_1.0.6      \n",
       "[13] R.methodsS3_1.8.2 vctrs_0.6.5       pbdZMQ_0.3-13     compiler_4.4.0   \n",
       "[17] R.oo_1.26.0       tools_4.4.0       evaluate_1.0.1    pillar_1.9.0     \n",
       "[21] crayon_1.5.3      rlang_1.1.4       jsonlite_1.8.9    IRkernel_1.3.2   \n",
       "[25] uuid_1.2-1       "
      ]
     },
     "metadata": {},
     "output_type": "display_data"
    }
   ],
   "source": [
    "sessionInfo()"
   ]
  }
 ],
 "metadata": {
  "kernelspec": {
   "display_name": "R",
   "language": "R",
   "name": "ir"
  },
  "language_info": {
   "codemirror_mode": "r",
   "file_extension": ".r",
   "mimetype": "text/x-r-source",
   "name": "R",
   "pygments_lexer": "r",
   "version": "4.4.0"
  }
 },
 "nbformat": 4,
 "nbformat_minor": 2
}
