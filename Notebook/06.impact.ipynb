{
 "cells": [
  {
   "cell_type": "code",
   "execution_count": 1,
   "metadata": {
    "vscode": {
     "languageId": "r"
    }
   },
   "outputs": [],
   "source": [
    "setwd(\"..\")"
   ]
  },
  {
   "cell_type": "code",
   "execution_count": 2,
   "metadata": {
    "vscode": {
     "languageId": "r"
    }
   },
   "outputs": [],
   "source": [
    "source(\"Source/functions.R\")\n",
    "library(\"data.table\")\n",
    "library(\"ggplot2\")\n",
    "library(\"ggsignif\")"
   ]
  },
  {
   "cell_type": "code",
   "execution_count": 3,
   "metadata": {
    "vscode": {
     "languageId": "r"
    }
   },
   "outputs": [],
   "source": [
    "snv_info <- fread(\"Data/snv_loci_v2.csv\")\n",
    "snvIDs <- snv_info[, SNVID]\n",
    "mito_barcodes <- fread(\"Data/mito_barcodes.csv\")\n",
    "mitoIDs <- mito_barcodes[, ID] \n",
    "\n",
    "chrmbases_properties <- fread(\"Report/artifact/chrmbases_properties.csv.gz\")\n",
    "chrmbases <- chrmbases_properties[, ref]\n",
    "nchrmbases <- length(chrmbases)\n",
    "\n",
    "MitoInfo <- fread(\"Report/metadata/MitoInfo.csv\")\n",
    "MitoInfo[, ExptID := factor(ExptID)]\n",
    "MitoInfo[, MitoID := factor(MitoID, levels = mitoIDs)]\n",
    "MitoInfo[, CellID := factor(CellID)]\n",
    "\n",
    "CellInfo <- fread(\"Report/metadata/CellInfo.csv\")\n",
    "\n",
    "MouseInfo <- fread(\"Report/metadata/MouseInfo.csv\")"
   ]
  },
  {
   "cell_type": "code",
   "execution_count": 4,
   "metadata": {
    "vscode": {
     "languageId": "r"
    }
   },
   "outputs": [
    {
     "data": {
      "text/html": [
       "<table class=\"dataframe\">\n",
       "<caption>A data.table: 6 × 6</caption>\n",
       "<thead>\n",
       "\t<tr><th scope=col>chr</th><th scope=col>start</th><th scope=col>end</th><th scope=col>allele</th><th scope=col>strand</th><th scope=col>id</th></tr>\n",
       "\t<tr><th scope=col>&lt;chr&gt;</th><th scope=col>&lt;int&gt;</th><th scope=col>&lt;int&gt;</th><th scope=col>&lt;chr&gt;</th><th scope=col>&lt;chr&gt;</th><th scope=col>&lt;chr&gt;</th></tr>\n",
       "</thead>\n",
       "<tbody>\n",
       "\t<tr><td>MT</td><td>1224</td><td>1224</td><td>A/G</td><td>+</td><td>1224:A&gt;G</td></tr>\n",
       "\t<tr><td>MT</td><td>1224</td><td>1224</td><td>A/T</td><td>+</td><td>1224:A&gt;T</td></tr>\n",
       "\t<tr><td>MT</td><td>1225</td><td>1225</td><td>G/A</td><td>+</td><td>1225:G&gt;A</td></tr>\n",
       "\t<tr><td>MT</td><td>1226</td><td>1226</td><td>A/G</td><td>+</td><td>1226:A&gt;G</td></tr>\n",
       "\t<tr><td>MT</td><td>1228</td><td>1228</td><td>G/A</td><td>+</td><td>1228:G&gt;A</td></tr>\n",
       "\t<tr><td>MT</td><td>1228</td><td>1228</td><td>G/T</td><td>+</td><td>1228:G&gt;T</td></tr>\n",
       "</tbody>\n",
       "</table>\n"
      ],
      "text/latex": [
       "A data.table: 6 × 6\n",
       "\\begin{tabular}{llllll}\n",
       " chr & start & end & allele & strand & id\\\\\n",
       " <chr> & <int> & <int> & <chr> & <chr> & <chr>\\\\\n",
       "\\hline\n",
       "\t MT & 1224 & 1224 & A/G & + & 1224:A>G\\\\\n",
       "\t MT & 1224 & 1224 & A/T & + & 1224:A>T\\\\\n",
       "\t MT & 1225 & 1225 & G/A & + & 1225:G>A\\\\\n",
       "\t MT & 1226 & 1226 & A/G & + & 1226:A>G\\\\\n",
       "\t MT & 1228 & 1228 & G/A & + & 1228:G>A\\\\\n",
       "\t MT & 1228 & 1228 & G/T & + & 1228:G>T\\\\\n",
       "\\end{tabular}\n"
      ],
      "text/markdown": [
       "\n",
       "A data.table: 6 × 6\n",
       "\n",
       "| chr &lt;chr&gt; | start &lt;int&gt; | end &lt;int&gt; | allele &lt;chr&gt; | strand &lt;chr&gt; | id &lt;chr&gt; |\n",
       "|---|---|---|---|---|---|\n",
       "| MT | 1224 | 1224 | A/G | + | 1224:A&gt;G |\n",
       "| MT | 1224 | 1224 | A/T | + | 1224:A&gt;T |\n",
       "| MT | 1225 | 1225 | G/A | + | 1225:G&gt;A |\n",
       "| MT | 1226 | 1226 | A/G | + | 1226:A&gt;G |\n",
       "| MT | 1228 | 1228 | G/A | + | 1228:G&gt;A |\n",
       "| MT | 1228 | 1228 | G/T | + | 1228:G&gt;T |\n",
       "\n"
      ],
      "text/plain": [
       "  chr start end  allele strand id      \n",
       "1 MT  1224  1224 A/G    +      1224:A>G\n",
       "2 MT  1224  1224 A/T    +      1224:A>T\n",
       "3 MT  1225  1225 G/A    +      1225:G>A\n",
       "4 MT  1226  1226 A/G    +      1226:A>G\n",
       "5 MT  1228  1228 G/A    +      1228:G>A\n",
       "6 MT  1228  1228 G/T    +      1228:G>T"
      ]
     },
     "metadata": {},
     "output_type": "display_data"
    }
   ],
   "source": [
    "support_byposmut <- fread(\"Report/SNVs/filter/basediffperc_cutdemux_sub500k_q30_unstranded_highdepth_highaf_qcfltd_support_byposmut.csv\")\n",
    "posmuts <- support_byposmut[, posmut]\n",
    "noctrl_vars_start <- support_byposmut[, pos]\n",
    "noctrl_vars_end <- noctrl_vars_start\n",
    "\n",
    "noctrl_vars_vep <- data.table(\n",
    "    chr = rep(\"MT\", nrow(support_byposmut)),\n",
    "    start = noctrl_vars_start, \n",
    "    end = noctrl_vars_end, \n",
    "    allele = support_byposmut[, paste0(ref, '/', ifelse(alt == \"del\", '-', alt))], \n",
    "    strand = rep(\"+\", nrow(support_byposmut)), \n",
    "    id = support_byposmut[, posmut]\n",
    ")\n",
    "head(noctrl_vars_vep)"
   ]
  },
  {
   "cell_type": "code",
   "execution_count": null,
   "metadata": {
    "vscode": {
     "languageId": "r"
    }
   },
   "outputs": [],
   "source": [
    "fwrite(noctrl_vars_vep, file = \"Report/SNVs/impact/noctrl_vars.txt\", col.names = FALSE, sep = \"\\t\")"
   ]
  },
  {
   "cell_type": "markdown",
   "metadata": {},
   "source": [
    "### Convert the VEP output into data table"
   ]
  },
  {
   "cell_type": "code",
   "execution_count": 6,
   "metadata": {
    "vscode": {
     "languageId": "r"
    }
   },
   "outputs": [
    {
     "data": {
      "text/html": [
       "<table class=\"dataframe\">\n",
       "<caption>A data.table: 2 × 13</caption>\n",
       "<thead>\n",
       "\t<tr><th scope=col>Location</th><th scope=col>Allele</th><th scope=col>Gene</th><th scope=col>Feature</th><th scope=col>Feature_type</th><th scope=col>Consequence</th><th scope=col>cDNA_position</th><th scope=col>CDS_position</th><th scope=col>Protein_position</th><th scope=col>Amino_acids</th><th scope=col>Codons</th><th scope=col>Existing_variation</th><th scope=col>IMPACT</th></tr>\n",
       "\t<tr><th scope=col>&lt;chr&gt;</th><th scope=col>&lt;chr&gt;</th><th scope=col>&lt;chr&gt;</th><th scope=col>&lt;chr&gt;</th><th scope=col>&lt;chr&gt;</th><th scope=col>&lt;chr&gt;</th><th scope=col>&lt;chr&gt;</th><th scope=col>&lt;chr&gt;</th><th scope=col>&lt;chr&gt;</th><th scope=col>&lt;chr&gt;</th><th scope=col>&lt;chr&gt;</th><th scope=col>&lt;chr&gt;</th><th scope=col>&lt;chr&gt;</th></tr>\n",
       "</thead>\n",
       "<tbody>\n",
       "\t<tr><td>MT:9459</td><td>G</td><td>ENSMUSG00000064360</td><td>ENSMUST00000082411</td><td>Transcript</td><td>start_lost</td><td>1</td><td>1</td><td>1</td><td>M/V</td><td>Att/Gtt</td><td>-</td><td>HIGH</td></tr>\n",
       "\t<tr><td>MT:9461</td><td>C</td><td>ENSMUSG00000064360</td><td>ENSMUST00000082411</td><td>Transcript</td><td>start_lost</td><td>3</td><td>3</td><td>1</td><td>M/I</td><td>atT/atC</td><td>-</td><td>HIGH</td></tr>\n",
       "</tbody>\n",
       "</table>\n"
      ],
      "text/latex": [
       "A data.table: 2 × 13\n",
       "\\begin{tabular}{lllllllllllll}\n",
       " Location & Allele & Gene & Feature & Feature\\_type & Consequence & cDNA\\_position & CDS\\_position & Protein\\_position & Amino\\_acids & Codons & Existing\\_variation & IMPACT\\\\\n",
       " <chr> & <chr> & <chr> & <chr> & <chr> & <chr> & <chr> & <chr> & <chr> & <chr> & <chr> & <chr> & <chr>\\\\\n",
       "\\hline\n",
       "\t MT:9459 & G & ENSMUSG00000064360 & ENSMUST00000082411 & Transcript & start\\_lost & 1 & 1 & 1 & M/V & Att/Gtt & - & HIGH\\\\\n",
       "\t MT:9461 & C & ENSMUSG00000064360 & ENSMUST00000082411 & Transcript & start\\_lost & 3 & 3 & 1 & M/I & atT/atC & - & HIGH\\\\\n",
       "\\end{tabular}\n"
      ],
      "text/markdown": [
       "\n",
       "A data.table: 2 × 13\n",
       "\n",
       "| Location &lt;chr&gt; | Allele &lt;chr&gt; | Gene &lt;chr&gt; | Feature &lt;chr&gt; | Feature_type &lt;chr&gt; | Consequence &lt;chr&gt; | cDNA_position &lt;chr&gt; | CDS_position &lt;chr&gt; | Protein_position &lt;chr&gt; | Amino_acids &lt;chr&gt; | Codons &lt;chr&gt; | Existing_variation &lt;chr&gt; | IMPACT &lt;chr&gt; |\n",
       "|---|---|---|---|---|---|---|---|---|---|---|---|---|\n",
       "| MT:9459 | G | ENSMUSG00000064360 | ENSMUST00000082411 | Transcript | start_lost | 1 | 1 | 1 | M/V | Att/Gtt | - | HIGH |\n",
       "| MT:9461 | C | ENSMUSG00000064360 | ENSMUST00000082411 | Transcript | start_lost | 3 | 3 | 1 | M/I | atT/atC | - | HIGH |\n",
       "\n"
      ],
      "text/plain": [
       "  Location Allele Gene               Feature            Feature_type\n",
       "1 MT:9459  G      ENSMUSG00000064360 ENSMUST00000082411 Transcript  \n",
       "2 MT:9461  C      ENSMUSG00000064360 ENSMUST00000082411 Transcript  \n",
       "  Consequence cDNA_position CDS_position Protein_position Amino_acids Codons \n",
       "1 start_lost  1             1            1                M/V         Att/Gtt\n",
       "2 start_lost  3             3            1                M/I         atT/atC\n",
       "  Existing_variation IMPACT\n",
       "1 -                  HIGH  \n",
       "2 -                  HIGH  "
      ]
     },
     "metadata": {},
     "output_type": "display_data"
    }
   ],
   "source": [
    "vep <- fread(\"Report/SNVs/impact/noctrl_vep.txt\", skip = 85, header = TRUE, sep = \"\\t\")\n",
    "setnames(vep, \"#Uploaded_variation\", \"Uploaded_variation\")\n",
    "vep <- vep[Uploaded_variation %in% posmuts]\n",
    "notes <- vep[, list(lapply(strsplit(Extra, \";\"), function(x) { y <- strsplit(x, \"=\"); n <- sapply(y, '[', 1); m <- sapply(y, '[', 2); structure(m, names = n) }))][, V1]\n",
    "cnames <- Reduce(union, lapply(notes, names))\n",
    "values <- t(sapply(notes, function(kv) kv[cnames]))\n",
    "colnames(values) <- cnames\n",
    "vep[, Extra := NULL]\n",
    "vep <- data.table(vep, values)\n",
    "vep <- support_byposmut[vep, on = c(\"posmut\" = \"Uploaded_variation\")]\n",
    "vep[Consequence == \"start_lost\", Location:IMPACT]"
   ]
  },
  {
   "cell_type": "markdown",
   "metadata": {},
   "source": [
    "Note, VEP currently missed the alternative initial codon for mouse mito, see https://github.com/Ensembl/ensembl-vep/issues/1292.  \n",
    "As a result, 9461 should be synonymous SNV in fact. VEP mistakenly annotated it as nonsyn and high impact.  \n",
    "Let's manually correct it. "
   ]
  },
  {
   "cell_type": "code",
   "execution_count": 7,
   "metadata": {
    "vscode": {
     "languageId": "r"
    }
   },
   "outputs": [
    {
     "data": {
      "text/html": [
       "<table class=\"dataframe\">\n",
       "<caption>A data.table: 2 × 13</caption>\n",
       "<thead>\n",
       "\t<tr><th scope=col>Location</th><th scope=col>Allele</th><th scope=col>Gene</th><th scope=col>Feature</th><th scope=col>Feature_type</th><th scope=col>Consequence</th><th scope=col>cDNA_position</th><th scope=col>CDS_position</th><th scope=col>Protein_position</th><th scope=col>Amino_acids</th><th scope=col>Codons</th><th scope=col>Existing_variation</th><th scope=col>IMPACT</th></tr>\n",
       "\t<tr><th scope=col>&lt;chr&gt;</th><th scope=col>&lt;chr&gt;</th><th scope=col>&lt;chr&gt;</th><th scope=col>&lt;chr&gt;</th><th scope=col>&lt;chr&gt;</th><th scope=col>&lt;chr&gt;</th><th scope=col>&lt;chr&gt;</th><th scope=col>&lt;chr&gt;</th><th scope=col>&lt;chr&gt;</th><th scope=col>&lt;chr&gt;</th><th scope=col>&lt;chr&gt;</th><th scope=col>&lt;chr&gt;</th><th scope=col>&lt;chr&gt;</th></tr>\n",
       "</thead>\n",
       "<tbody>\n",
       "\t<tr><td>MT:9461</td><td>A</td><td>ENSMUSG00000064360</td><td>ENSMUST00000082411</td><td>Transcript</td><td>synonymous_variant</td><td>3</td><td>3</td><td>1</td><td>M  </td><td>atT/atA</td><td>-</td><td>LOW</td></tr>\n",
       "\t<tr><td>MT:9461</td><td>C</td><td>ENSMUSG00000064360</td><td>ENSMUST00000082411</td><td>Transcript</td><td>synonymous_variant</td><td>3</td><td>3</td><td>1</td><td>M/I</td><td>atT/atC</td><td>-</td><td>LOW</td></tr>\n",
       "</tbody>\n",
       "</table>\n"
      ],
      "text/latex": [
       "A data.table: 2 × 13\n",
       "\\begin{tabular}{lllllllllllll}\n",
       " Location & Allele & Gene & Feature & Feature\\_type & Consequence & cDNA\\_position & CDS\\_position & Protein\\_position & Amino\\_acids & Codons & Existing\\_variation & IMPACT\\\\\n",
       " <chr> & <chr> & <chr> & <chr> & <chr> & <chr> & <chr> & <chr> & <chr> & <chr> & <chr> & <chr> & <chr>\\\\\n",
       "\\hline\n",
       "\t MT:9461 & A & ENSMUSG00000064360 & ENSMUST00000082411 & Transcript & synonymous\\_variant & 3 & 3 & 1 & M   & atT/atA & - & LOW\\\\\n",
       "\t MT:9461 & C & ENSMUSG00000064360 & ENSMUST00000082411 & Transcript & synonymous\\_variant & 3 & 3 & 1 & M/I & atT/atC & - & LOW\\\\\n",
       "\\end{tabular}\n"
      ],
      "text/markdown": [
       "\n",
       "A data.table: 2 × 13\n",
       "\n",
       "| Location &lt;chr&gt; | Allele &lt;chr&gt; | Gene &lt;chr&gt; | Feature &lt;chr&gt; | Feature_type &lt;chr&gt; | Consequence &lt;chr&gt; | cDNA_position &lt;chr&gt; | CDS_position &lt;chr&gt; | Protein_position &lt;chr&gt; | Amino_acids &lt;chr&gt; | Codons &lt;chr&gt; | Existing_variation &lt;chr&gt; | IMPACT &lt;chr&gt; |\n",
       "|---|---|---|---|---|---|---|---|---|---|---|---|---|\n",
       "| MT:9461 | A | ENSMUSG00000064360 | ENSMUST00000082411 | Transcript | synonymous_variant | 3 | 3 | 1 | M   | atT/atA | - | LOW |\n",
       "| MT:9461 | C | ENSMUSG00000064360 | ENSMUST00000082411 | Transcript | synonymous_variant | 3 | 3 | 1 | M/I | atT/atC | - | LOW |\n",
       "\n"
      ],
      "text/plain": [
       "  Location Allele Gene               Feature            Feature_type\n",
       "1 MT:9461  A      ENSMUSG00000064360 ENSMUST00000082411 Transcript  \n",
       "2 MT:9461  C      ENSMUSG00000064360 ENSMUST00000082411 Transcript  \n",
       "  Consequence        cDNA_position CDS_position Protein_position Amino_acids\n",
       "1 synonymous_variant 3             3            1                M          \n",
       "2 synonymous_variant 3             3            1                M/I        \n",
       "  Codons  Existing_variation IMPACT\n",
       "1 atT/atA -                  LOW   \n",
       "2 atT/atC -                  LOW   "
      ]
     },
     "metadata": {},
     "output_type": "display_data"
    }
   ],
   "source": [
    "vep[Consequence == \"start_lost\" & posmut == \"9461:T>C\", c(\"Consequence\", \"IMPACT\") := list(\"synonymous_variant\", \"LOW\")]\n",
    "vep[pos == 9461 & Feature_type == \"Transcript\" & Consequence == \"synonymous_variant\", Location:IMPACT]"
   ]
  },
  {
   "cell_type": "code",
   "execution_count": null,
   "metadata": {
    "vscode": {
     "languageId": "r"
    }
   },
   "outputs": [],
   "source": [
    "fwrite(vep, file = \"Report/SNVs/impact/noctrl_vep.csv\")"
   ]
  },
  {
   "cell_type": "markdown",
   "metadata": {
    "vscode": {
     "languageId": "r"
    }
   },
   "source": [
    "Annotate and deduplicate SNVs"
   ]
  },
  {
   "cell_type": "code",
   "execution_count": 9,
   "metadata": {
    "vscode": {
     "languageId": "r"
    }
   },
   "outputs": [
    {
     "data": {
      "text/html": [
       "<table class=\"dataframe\">\n",
       "<caption>A data.table: 1 × 2</caption>\n",
       "<thead>\n",
       "\t<tr><th scope=col>V1</th><th scope=col>N</th></tr>\n",
       "\t<tr><th scope=col>&lt;int&gt;</th><th scope=col>&lt;int&gt;</th></tr>\n",
       "</thead>\n",
       "<tbody>\n",
       "\t<tr><td>189</td><td>189</td></tr>\n",
       "</tbody>\n",
       "</table>\n"
      ],
      "text/latex": [
       "A data.table: 1 × 2\n",
       "\\begin{tabular}{ll}\n",
       " V1 & N\\\\\n",
       " <int> & <int>\\\\\n",
       "\\hline\n",
       "\t 189 & 189\\\\\n",
       "\\end{tabular}\n"
      ],
      "text/markdown": [
       "\n",
       "A data.table: 1 × 2\n",
       "\n",
       "| V1 &lt;int&gt; | N &lt;int&gt; |\n",
       "|---|---|\n",
       "| 189 | 189 |\n",
       "\n"
      ],
      "text/plain": [
       "  V1  N  \n",
       "1 189 189"
      ]
     },
     "metadata": {},
     "output_type": "display_data"
    }
   ],
   "source": [
    "vep <- fread(file = \"Report/SNVs/impact/noctrl_vep.csv\")\n",
    "vep_synonymous <- vep[Feature_type == \"Transcript\" & Consequence == \"synonymous_variant\"]\n",
    "vep_synonymous[, list(uniqueN(posmut), .N)]"
   ]
  },
  {
   "cell_type": "code",
   "execution_count": 10,
   "metadata": {
    "vscode": {
     "languageId": "r"
    }
   },
   "outputs": [
    {
     "data": {
      "text/html": [
       "<table class=\"dataframe\">\n",
       "<caption>A data.table: 1 × 2</caption>\n",
       "<thead>\n",
       "\t<tr><th scope=col>V1</th><th scope=col>N</th></tr>\n",
       "\t<tr><th scope=col>&lt;int&gt;</th><th scope=col>&lt;int&gt;</th></tr>\n",
       "</thead>\n",
       "<tbody>\n",
       "\t<tr><td>440</td><td>440</td></tr>\n",
       "</tbody>\n",
       "</table>\n"
      ],
      "text/latex": [
       "A data.table: 1 × 2\n",
       "\\begin{tabular}{ll}\n",
       " V1 & N\\\\\n",
       " <int> & <int>\\\\\n",
       "\\hline\n",
       "\t 440 & 440\\\\\n",
       "\\end{tabular}\n"
      ],
      "text/markdown": [
       "\n",
       "A data.table: 1 × 2\n",
       "\n",
       "| V1 &lt;int&gt; | N &lt;int&gt; |\n",
       "|---|---|\n",
       "| 440 | 440 |\n",
       "\n"
      ],
      "text/plain": [
       "  V1  N  \n",
       "1 440 440"
      ]
     },
     "metadata": {},
     "output_type": "display_data"
    }
   ],
   "source": [
    "vep_nonsynonymous <- vep[Feature_type == \"Transcript\" & Consequence %in% c(\"frameshift_variant\", \"incomplete_terminal_codon_variant,coding_sequence_variant\", \"missense_variant\", \"start_lost\", \"stop_gained\")]\n",
    "vep_nonsynonymous[, list(uniqueN(posmut), .N)]"
   ]
  },
  {
   "cell_type": "code",
   "execution_count": 11,
   "metadata": {
    "vscode": {
     "languageId": "r"
    }
   },
   "outputs": [
    {
     "data": {
      "text/html": [
       "<table class=\"dataframe\">\n",
       "<caption>A data.table: 1 × 2</caption>\n",
       "<thead>\n",
       "\t<tr><th scope=col>V1</th><th scope=col>N</th></tr>\n",
       "\t<tr><th scope=col>&lt;int&gt;</th><th scope=col>&lt;int&gt;</th></tr>\n",
       "</thead>\n",
       "<tbody>\n",
       "\t<tr><td>161</td><td>162</td></tr>\n",
       "</tbody>\n",
       "</table>\n"
      ],
      "text/latex": [
       "A data.table: 1 × 2\n",
       "\\begin{tabular}{ll}\n",
       " V1 & N\\\\\n",
       " <int> & <int>\\\\\n",
       "\\hline\n",
       "\t 161 & 162\\\\\n",
       "\\end{tabular}\n"
      ],
      "text/markdown": [
       "\n",
       "A data.table: 1 × 2\n",
       "\n",
       "| V1 &lt;int&gt; | N &lt;int&gt; |\n",
       "|---|---|\n",
       "| 161 | 162 |\n",
       "\n"
      ],
      "text/plain": [
       "  V1  N  \n",
       "1 161 162"
      ]
     },
     "metadata": {},
     "output_type": "display_data"
    }
   ],
   "source": [
    "vep_tRNA <- vep[Feature_type == \"Transcript\" & Consequence == \"non_coding_transcript_exon_variant\" & BIOTYPE == \"Mt_tRNA\"]\n",
    "vep_tRNA[, list(uniqueN(posmut), .N)]"
   ]
  },
  {
   "cell_type": "code",
   "execution_count": 12,
   "metadata": {
    "vscode": {
     "languageId": "r"
    }
   },
   "outputs": [
    {
     "data": {
      "text/html": [
       "<table class=\"dataframe\">\n",
       "<caption>A data.table: 2 × 41</caption>\n",
       "<thead>\n",
       "\t<tr><th scope=col>posmut</th><th scope=col>SNVID</th><th scope=col>pos</th><th scope=col>mut</th><th scope=col>ref</th><th scope=col>alt</th><th scope=col>nmice</th><th scope=col>ncells</th><th scope=col>nmitos</th><th scope=col>Location</th><th scope=col>Allele</th><th scope=col>Gene</th><th scope=col>Feature</th><th scope=col>Feature_type</th><th scope=col>Consequence</th><th scope=col>cDNA_position</th><th scope=col>CDS_position</th><th scope=col>Protein_position</th><th scope=col>Amino_acids</th><th scope=col>Codons</th><th scope=col>Existing_variation</th><th scope=col>IMPACT</th><th scope=col>DISTANCE</th><th scope=col>STRAND</th><th scope=col>VARIANT_CLASS</th><th scope=col>SYMBOL</th><th scope=col>SYMBOL_SOURCE</th><th scope=col>BIOTYPE</th><th scope=col>CANONICAL</th><th scope=col>GENE_PHENO</th><th scope=col>EXON</th><th scope=col>HGVSc</th><th scope=col>APPRIS</th><th scope=col>ENSP</th><th scope=col>SWISSPROT</th><th scope=col>TREMBL</th><th scope=col>UNIPARC</th><th scope=col>SIFT</th><th scope=col>DOMAINS</th><th scope=col>HGVSp</th><th scope=col>HGVS_OFFSET</th></tr>\n",
       "\t<tr><th scope=col>&lt;chr&gt;</th><th scope=col>&lt;chr&gt;</th><th scope=col>&lt;int&gt;</th><th scope=col>&lt;chr&gt;</th><th scope=col>&lt;chr&gt;</th><th scope=col>&lt;chr&gt;</th><th scope=col>&lt;int&gt;</th><th scope=col>&lt;int&gt;</th><th scope=col>&lt;int&gt;</th><th scope=col>&lt;chr&gt;</th><th scope=col>&lt;chr&gt;</th><th scope=col>&lt;chr&gt;</th><th scope=col>&lt;chr&gt;</th><th scope=col>&lt;chr&gt;</th><th scope=col>&lt;chr&gt;</th><th scope=col>&lt;chr&gt;</th><th scope=col>&lt;chr&gt;</th><th scope=col>&lt;chr&gt;</th><th scope=col>&lt;chr&gt;</th><th scope=col>&lt;chr&gt;</th><th scope=col>&lt;chr&gt;</th><th scope=col>&lt;chr&gt;</th><th scope=col>&lt;int&gt;</th><th scope=col>&lt;int&gt;</th><th scope=col>&lt;chr&gt;</th><th scope=col>&lt;chr&gt;</th><th scope=col>&lt;chr&gt;</th><th scope=col>&lt;chr&gt;</th><th scope=col>&lt;chr&gt;</th><th scope=col>&lt;int&gt;</th><th scope=col>&lt;chr&gt;</th><th scope=col>&lt;chr&gt;</th><th scope=col>&lt;chr&gt;</th><th scope=col>&lt;chr&gt;</th><th scope=col>&lt;chr&gt;</th><th scope=col>&lt;chr&gt;</th><th scope=col>&lt;chr&gt;</th><th scope=col>&lt;chr&gt;</th><th scope=col>&lt;chr&gt;</th><th scope=col>&lt;chr&gt;</th><th scope=col>&lt;int&gt;</th></tr>\n",
       "</thead>\n",
       "<tbody>\n",
       "\t<tr><td>3772:C&gt;T</td><td>SNV5</td><td>3772</td><td>C&gt;T</td><td>C</td><td>T</td><td>1</td><td>1</td><td>1</td><td>MT:3772</td><td>T</td><td>ENSMUSG00000064342</td><td>ENSMUST00000082393</td><td>Transcript</td><td>non_coding_transcript_exon_variant</td><td>67</td><td>-</td><td>-</td><td>-</td><td>-</td><td>-</td><td>MODIFIER</td><td>NA</td><td> 1</td><td>SNV</td><td>mt-Ti</td><td>MGI</td><td>Mt_tRNA</td><td>YES</td><td>NA</td><td>1/1</td><td>ENSMUST00000082393.1:n.67C&gt;T</td><td></td><td></td><td></td><td></td><td></td><td></td><td></td><td></td><td>NA</td></tr>\n",
       "\t<tr><td>3772:C&gt;T</td><td>SNV5</td><td>3772</td><td>C&gt;T</td><td>C</td><td>T</td><td>1</td><td>1</td><td>1</td><td>MT:3772</td><td>T</td><td>ENSMUSG00000064343</td><td>ENSMUST00000082394</td><td>Transcript</td><td>non_coding_transcript_exon_variant</td><td>71</td><td>-</td><td>-</td><td>-</td><td>-</td><td>-</td><td>MODIFIER</td><td>NA</td><td>-1</td><td>SNV</td><td>mt-Tq</td><td>MGI</td><td>Mt_tRNA</td><td>YES</td><td>NA</td><td>1/1</td><td>ENSMUST00000082394.1:n.71G&gt;A</td><td></td><td></td><td></td><td></td><td></td><td></td><td></td><td></td><td>NA</td></tr>\n",
       "</tbody>\n",
       "</table>\n"
      ],
      "text/latex": [
       "A data.table: 2 × 41\n",
       "\\begin{tabular}{lllllllllllllllllllllllllllllllllllllllll}\n",
       " posmut & SNVID & pos & mut & ref & alt & nmice & ncells & nmitos & Location & Allele & Gene & Feature & Feature\\_type & Consequence & cDNA\\_position & CDS\\_position & Protein\\_position & Amino\\_acids & Codons & Existing\\_variation & IMPACT & DISTANCE & STRAND & VARIANT\\_CLASS & SYMBOL & SYMBOL\\_SOURCE & BIOTYPE & CANONICAL & GENE\\_PHENO & EXON & HGVSc & APPRIS & ENSP & SWISSPROT & TREMBL & UNIPARC & SIFT & DOMAINS & HGVSp & HGVS\\_OFFSET\\\\\n",
       " <chr> & <chr> & <int> & <chr> & <chr> & <chr> & <int> & <int> & <int> & <chr> & <chr> & <chr> & <chr> & <chr> & <chr> & <chr> & <chr> & <chr> & <chr> & <chr> & <chr> & <chr> & <int> & <int> & <chr> & <chr> & <chr> & <chr> & <chr> & <int> & <chr> & <chr> & <chr> & <chr> & <chr> & <chr> & <chr> & <chr> & <chr> & <chr> & <int>\\\\\n",
       "\\hline\n",
       "\t 3772:C>T & SNV5 & 3772 & C>T & C & T & 1 & 1 & 1 & MT:3772 & T & ENSMUSG00000064342 & ENSMUST00000082393 & Transcript & non\\_coding\\_transcript\\_exon\\_variant & 67 & - & - & - & - & - & MODIFIER & NA &  1 & SNV & mt-Ti & MGI & Mt\\_tRNA & YES & NA & 1/1 & ENSMUST00000082393.1:n.67C>T &  &  &  &  &  &  &  &  & NA\\\\\n",
       "\t 3772:C>T & SNV5 & 3772 & C>T & C & T & 1 & 1 & 1 & MT:3772 & T & ENSMUSG00000064343 & ENSMUST00000082394 & Transcript & non\\_coding\\_transcript\\_exon\\_variant & 71 & - & - & - & - & - & MODIFIER & NA & -1 & SNV & mt-Tq & MGI & Mt\\_tRNA & YES & NA & 1/1 & ENSMUST00000082394.1:n.71G>A &  &  &  &  &  &  &  &  & NA\\\\\n",
       "\\end{tabular}\n"
      ],
      "text/markdown": [
       "\n",
       "A data.table: 2 × 41\n",
       "\n",
       "| posmut &lt;chr&gt; | SNVID &lt;chr&gt; | pos &lt;int&gt; | mut &lt;chr&gt; | ref &lt;chr&gt; | alt &lt;chr&gt; | nmice &lt;int&gt; | ncells &lt;int&gt; | nmitos &lt;int&gt; | Location &lt;chr&gt; | Allele &lt;chr&gt; | Gene &lt;chr&gt; | Feature &lt;chr&gt; | Feature_type &lt;chr&gt; | Consequence &lt;chr&gt; | cDNA_position &lt;chr&gt; | CDS_position &lt;chr&gt; | Protein_position &lt;chr&gt; | Amino_acids &lt;chr&gt; | Codons &lt;chr&gt; | Existing_variation &lt;chr&gt; | IMPACT &lt;chr&gt; | DISTANCE &lt;int&gt; | STRAND &lt;int&gt; | VARIANT_CLASS &lt;chr&gt; | SYMBOL &lt;chr&gt; | SYMBOL_SOURCE &lt;chr&gt; | BIOTYPE &lt;chr&gt; | CANONICAL &lt;chr&gt; | GENE_PHENO &lt;int&gt; | EXON &lt;chr&gt; | HGVSc &lt;chr&gt; | APPRIS &lt;chr&gt; | ENSP &lt;chr&gt; | SWISSPROT &lt;chr&gt; | TREMBL &lt;chr&gt; | UNIPARC &lt;chr&gt; | SIFT &lt;chr&gt; | DOMAINS &lt;chr&gt; | HGVSp &lt;chr&gt; | HGVS_OFFSET &lt;int&gt; |\n",
       "|---|---|---|---|---|---|---|---|---|---|---|---|---|---|---|---|---|---|---|---|---|---|---|---|---|---|---|---|---|---|---|---|---|---|---|---|---|---|---|---|---|\n",
       "| 3772:C&gt;T | SNV5 | 3772 | C&gt;T | C | T | 1 | 1 | 1 | MT:3772 | T | ENSMUSG00000064342 | ENSMUST00000082393 | Transcript | non_coding_transcript_exon_variant | 67 | - | - | - | - | - | MODIFIER | NA |  1 | SNV | mt-Ti | MGI | Mt_tRNA | YES | NA | 1/1 | ENSMUST00000082393.1:n.67C&gt;T | <!----> | <!----> | <!----> | <!----> | <!----> | <!----> | <!----> | <!----> | NA |\n",
       "| 3772:C&gt;T | SNV5 | 3772 | C&gt;T | C | T | 1 | 1 | 1 | MT:3772 | T | ENSMUSG00000064343 | ENSMUST00000082394 | Transcript | non_coding_transcript_exon_variant | 71 | - | - | - | - | - | MODIFIER | NA | -1 | SNV | mt-Tq | MGI | Mt_tRNA | YES | NA | 1/1 | ENSMUST00000082394.1:n.71G&gt;A | <!----> | <!----> | <!----> | <!----> | <!----> | <!----> | <!----> | <!----> | NA |\n",
       "\n"
      ],
      "text/plain": [
       "  posmut   SNVID pos  mut ref alt nmice ncells nmitos Location Allele\n",
       "1 3772:C>T SNV5  3772 C>T C   T   1     1      1      MT:3772  T     \n",
       "2 3772:C>T SNV5  3772 C>T C   T   1     1      1      MT:3772  T     \n",
       "  Gene               Feature            Feature_type\n",
       "1 ENSMUSG00000064342 ENSMUST00000082393 Transcript  \n",
       "2 ENSMUSG00000064343 ENSMUST00000082394 Transcript  \n",
       "  Consequence                        cDNA_position CDS_position\n",
       "1 non_coding_transcript_exon_variant 67            -           \n",
       "2 non_coding_transcript_exon_variant 71            -           \n",
       "  Protein_position Amino_acids Codons Existing_variation IMPACT   DISTANCE\n",
       "1 -                -           -      -                  MODIFIER NA      \n",
       "2 -                -           -      -                  MODIFIER NA      \n",
       "  STRAND VARIANT_CLASS SYMBOL SYMBOL_SOURCE BIOTYPE CANONICAL GENE_PHENO EXON\n",
       "1  1     SNV           mt-Ti  MGI           Mt_tRNA YES       NA         1/1 \n",
       "2 -1     SNV           mt-Tq  MGI           Mt_tRNA YES       NA         1/1 \n",
       "  HGVSc                        APPRIS ENSP SWISSPROT TREMBL UNIPARC SIFT\n",
       "1 ENSMUST00000082393.1:n.67C>T                                          \n",
       "2 ENSMUST00000082394.1:n.71G>A                                          \n",
       "  DOMAINS HGVSp HGVS_OFFSET\n",
       "1               NA         \n",
       "2               NA         "
      ]
     },
     "metadata": {},
     "output_type": "display_data"
    }
   ],
   "source": [
    "options(repr.matrix.max.cols = 41)\n",
    "vep_tRNA[posmut == \"3772:C>T\"]"
   ]
  },
  {
   "cell_type": "markdown",
   "metadata": {},
   "source": [
    "Because they have almost equal impact, we decide to keep Ti only."
   ]
  },
  {
   "cell_type": "code",
   "execution_count": 13,
   "metadata": {
    "vscode": {
     "languageId": "r"
    }
   },
   "outputs": [],
   "source": [
    "vep_tRNA <- vep_tRNA[!duplicated(posmut)]"
   ]
  },
  {
   "cell_type": "code",
   "execution_count": 14,
   "metadata": {
    "vscode": {
     "languageId": "r"
    }
   },
   "outputs": [
    {
     "data": {
      "text/html": [
       "<table class=\"dataframe\">\n",
       "<caption>A data.table: 1 × 2</caption>\n",
       "<thead>\n",
       "\t<tr><th scope=col>V1</th><th scope=col>N</th></tr>\n",
       "\t<tr><th scope=col>&lt;int&gt;</th><th scope=col>&lt;int&gt;</th></tr>\n",
       "</thead>\n",
       "<tbody>\n",
       "\t<tr><td>147</td><td>147</td></tr>\n",
       "</tbody>\n",
       "</table>\n"
      ],
      "text/latex": [
       "A data.table: 1 × 2\n",
       "\\begin{tabular}{ll}\n",
       " V1 & N\\\\\n",
       " <int> & <int>\\\\\n",
       "\\hline\n",
       "\t 147 & 147\\\\\n",
       "\\end{tabular}\n"
      ],
      "text/markdown": [
       "\n",
       "A data.table: 1 × 2\n",
       "\n",
       "| V1 &lt;int&gt; | N &lt;int&gt; |\n",
       "|---|---|\n",
       "| 147 | 147 |\n",
       "\n"
      ],
      "text/plain": [
       "  V1  N  \n",
       "1 147 147"
      ]
     },
     "metadata": {},
     "output_type": "display_data"
    }
   ],
   "source": [
    "vep_rRNA <- vep[Feature_type == \"Transcript\" & Consequence == \"non_coding_transcript_exon_variant\" & BIOTYPE == \"Mt_rRNA\"]\n",
    "vep_rRNA[, list(uniqueN(posmut), .N)]"
   ]
  },
  {
   "cell_type": "code",
   "execution_count": 15,
   "metadata": {
    "vscode": {
     "languageId": "r"
    }
   },
   "outputs": [
    {
     "data": {
      "text/html": [
       "<table class=\"dataframe\">\n",
       "<caption>A data.table: 1 × 2</caption>\n",
       "<thead>\n",
       "\t<tr><th scope=col>V1</th><th scope=col>N</th></tr>\n",
       "\t<tr><th scope=col>&lt;int&gt;</th><th scope=col>&lt;int&gt;</th></tr>\n",
       "</thead>\n",
       "<tbody>\n",
       "\t<tr><td>93</td><td>93</td></tr>\n",
       "</tbody>\n",
       "</table>\n"
      ],
      "text/latex": [
       "A data.table: 1 × 2\n",
       "\\begin{tabular}{ll}\n",
       " V1 & N\\\\\n",
       " <int> & <int>\\\\\n",
       "\\hline\n",
       "\t 93 & 93\\\\\n",
       "\\end{tabular}\n"
      ],
      "text/markdown": [
       "\n",
       "A data.table: 1 × 2\n",
       "\n",
       "| V1 &lt;int&gt; | N &lt;int&gt; |\n",
       "|---|---|\n",
       "| 93 | 93 |\n",
       "\n"
      ],
      "text/plain": [
       "  V1 N \n",
       "1 93 93"
      ]
     },
     "metadata": {},
     "output_type": "display_data"
    }
   ],
   "source": [
    "vep_dloop <- vep[Feature_type == \"RegulatoryFeature\" & Consequence == \"regulatory_region_variant\" & pos > 15422][!posmut %in% Reduce(union, list(vep_nonsynonymous[, posmut], vep_synonymous[, posmut], vep_tRNA[, posmut], vep_rRNA[, posmut]))]\n",
    "vep_dloop[, list(uniqueN(posmut), .N)]"
   ]
  },
  {
   "cell_type": "code",
   "execution_count": 16,
   "metadata": {
    "vscode": {
     "languageId": "r"
    }
   },
   "outputs": [
    {
     "data": {
      "text/html": [
       "<table class=\"dataframe\">\n",
       "<caption>A data.table: 2 × 41</caption>\n",
       "<thead>\n",
       "\t<tr><th scope=col>posmut</th><th scope=col>SNVID</th><th scope=col>pos</th><th scope=col>mut</th><th scope=col>ref</th><th scope=col>alt</th><th scope=col>nmice</th><th scope=col>ncells</th><th scope=col>nmitos</th><th scope=col>Location</th><th scope=col>Allele</th><th scope=col>Gene</th><th scope=col>Feature</th><th scope=col>Feature_type</th><th scope=col>Consequence</th><th scope=col>cDNA_position</th><th scope=col>CDS_position</th><th scope=col>Protein_position</th><th scope=col>Amino_acids</th><th scope=col>Codons</th><th scope=col>Existing_variation</th><th scope=col>IMPACT</th><th scope=col>DISTANCE</th><th scope=col>STRAND</th><th scope=col>VARIANT_CLASS</th><th scope=col>SYMBOL</th><th scope=col>SYMBOL_SOURCE</th><th scope=col>BIOTYPE</th><th scope=col>CANONICAL</th><th scope=col>GENE_PHENO</th><th scope=col>EXON</th><th scope=col>HGVSc</th><th scope=col>APPRIS</th><th scope=col>ENSP</th><th scope=col>SWISSPROT</th><th scope=col>TREMBL</th><th scope=col>UNIPARC</th><th scope=col>SIFT</th><th scope=col>DOMAINS</th><th scope=col>HGVSp</th><th scope=col>HGVS_OFFSET</th></tr>\n",
       "\t<tr><th scope=col>&lt;chr&gt;</th><th scope=col>&lt;chr&gt;</th><th scope=col>&lt;int&gt;</th><th scope=col>&lt;chr&gt;</th><th scope=col>&lt;chr&gt;</th><th scope=col>&lt;chr&gt;</th><th scope=col>&lt;int&gt;</th><th scope=col>&lt;int&gt;</th><th scope=col>&lt;int&gt;</th><th scope=col>&lt;chr&gt;</th><th scope=col>&lt;chr&gt;</th><th scope=col>&lt;chr&gt;</th><th scope=col>&lt;chr&gt;</th><th scope=col>&lt;chr&gt;</th><th scope=col>&lt;chr&gt;</th><th scope=col>&lt;chr&gt;</th><th scope=col>&lt;chr&gt;</th><th scope=col>&lt;chr&gt;</th><th scope=col>&lt;chr&gt;</th><th scope=col>&lt;chr&gt;</th><th scope=col>&lt;chr&gt;</th><th scope=col>&lt;chr&gt;</th><th scope=col>&lt;int&gt;</th><th scope=col>&lt;int&gt;</th><th scope=col>&lt;chr&gt;</th><th scope=col>&lt;chr&gt;</th><th scope=col>&lt;chr&gt;</th><th scope=col>&lt;chr&gt;</th><th scope=col>&lt;chr&gt;</th><th scope=col>&lt;int&gt;</th><th scope=col>&lt;chr&gt;</th><th scope=col>&lt;chr&gt;</th><th scope=col>&lt;chr&gt;</th><th scope=col>&lt;chr&gt;</th><th scope=col>&lt;chr&gt;</th><th scope=col>&lt;chr&gt;</th><th scope=col>&lt;chr&gt;</th><th scope=col>&lt;chr&gt;</th><th scope=col>&lt;chr&gt;</th><th scope=col>&lt;chr&gt;</th><th scope=col>&lt;int&gt;</th></tr>\n",
       "</thead>\n",
       "<tbody>\n",
       "\t<tr><td>3843:A&gt;G</td><td>SNV5</td><td>3843</td><td>A&gt;G</td><td>A</td><td>G</td><td>2</td><td>2</td><td>2</td><td>MT:3843</td><td>G</td><td>-</td><td>ENSMUSR00000758872</td><td>RegulatoryFeature</td><td>regulatory_region_variant</td><td>-</td><td>-</td><td>-</td><td>-</td><td>-</td><td>-</td><td>MODIFIER</td><td>NA</td><td>NA</td><td>SNV</td><td></td><td></td><td>promoter_flanking_region</td><td></td><td>NA</td><td></td><td></td><td></td><td></td><td></td><td></td><td></td><td></td><td></td><td></td><td>NA</td></tr>\n",
       "\t<tr><td>3844:T&gt;C</td><td>SNV5</td><td>3844</td><td>T&gt;C</td><td>T</td><td>C</td><td>1</td><td>1</td><td>1</td><td>MT:3844</td><td>C</td><td>-</td><td>ENSMUSR00000758872</td><td>RegulatoryFeature</td><td>regulatory_region_variant</td><td>-</td><td>-</td><td>-</td><td>-</td><td>-</td><td>-</td><td>MODIFIER</td><td>NA</td><td>NA</td><td>SNV</td><td></td><td></td><td>promoter_flanking_region</td><td></td><td>NA</td><td></td><td></td><td></td><td></td><td></td><td></td><td></td><td></td><td></td><td></td><td>NA</td></tr>\n",
       "</tbody>\n",
       "</table>\n"
      ],
      "text/latex": [
       "A data.table: 2 × 41\n",
       "\\begin{tabular}{lllllllllllllllllllllllllllllllllllllllll}\n",
       " posmut & SNVID & pos & mut & ref & alt & nmice & ncells & nmitos & Location & Allele & Gene & Feature & Feature\\_type & Consequence & cDNA\\_position & CDS\\_position & Protein\\_position & Amino\\_acids & Codons & Existing\\_variation & IMPACT & DISTANCE & STRAND & VARIANT\\_CLASS & SYMBOL & SYMBOL\\_SOURCE & BIOTYPE & CANONICAL & GENE\\_PHENO & EXON & HGVSc & APPRIS & ENSP & SWISSPROT & TREMBL & UNIPARC & SIFT & DOMAINS & HGVSp & HGVS\\_OFFSET\\\\\n",
       " <chr> & <chr> & <int> & <chr> & <chr> & <chr> & <int> & <int> & <int> & <chr> & <chr> & <chr> & <chr> & <chr> & <chr> & <chr> & <chr> & <chr> & <chr> & <chr> & <chr> & <chr> & <int> & <int> & <chr> & <chr> & <chr> & <chr> & <chr> & <int> & <chr> & <chr> & <chr> & <chr> & <chr> & <chr> & <chr> & <chr> & <chr> & <chr> & <int>\\\\\n",
       "\\hline\n",
       "\t 3843:A>G & SNV5 & 3843 & A>G & A & G & 2 & 2 & 2 & MT:3843 & G & - & ENSMUSR00000758872 & RegulatoryFeature & regulatory\\_region\\_variant & - & - & - & - & - & - & MODIFIER & NA & NA & SNV &  &  & promoter\\_flanking\\_region &  & NA &  &  &  &  &  &  &  &  &  &  & NA\\\\\n",
       "\t 3844:T>C & SNV5 & 3844 & T>C & T & C & 1 & 1 & 1 & MT:3844 & C & - & ENSMUSR00000758872 & RegulatoryFeature & regulatory\\_region\\_variant & - & - & - & - & - & - & MODIFIER & NA & NA & SNV &  &  & promoter\\_flanking\\_region &  & NA &  &  &  &  &  &  &  &  &  &  & NA\\\\\n",
       "\\end{tabular}\n"
      ],
      "text/markdown": [
       "\n",
       "A data.table: 2 × 41\n",
       "\n",
       "| posmut &lt;chr&gt; | SNVID &lt;chr&gt; | pos &lt;int&gt; | mut &lt;chr&gt; | ref &lt;chr&gt; | alt &lt;chr&gt; | nmice &lt;int&gt; | ncells &lt;int&gt; | nmitos &lt;int&gt; | Location &lt;chr&gt; | Allele &lt;chr&gt; | Gene &lt;chr&gt; | Feature &lt;chr&gt; | Feature_type &lt;chr&gt; | Consequence &lt;chr&gt; | cDNA_position &lt;chr&gt; | CDS_position &lt;chr&gt; | Protein_position &lt;chr&gt; | Amino_acids &lt;chr&gt; | Codons &lt;chr&gt; | Existing_variation &lt;chr&gt; | IMPACT &lt;chr&gt; | DISTANCE &lt;int&gt; | STRAND &lt;int&gt; | VARIANT_CLASS &lt;chr&gt; | SYMBOL &lt;chr&gt; | SYMBOL_SOURCE &lt;chr&gt; | BIOTYPE &lt;chr&gt; | CANONICAL &lt;chr&gt; | GENE_PHENO &lt;int&gt; | EXON &lt;chr&gt; | HGVSc &lt;chr&gt; | APPRIS &lt;chr&gt; | ENSP &lt;chr&gt; | SWISSPROT &lt;chr&gt; | TREMBL &lt;chr&gt; | UNIPARC &lt;chr&gt; | SIFT &lt;chr&gt; | DOMAINS &lt;chr&gt; | HGVSp &lt;chr&gt; | HGVS_OFFSET &lt;int&gt; |\n",
       "|---|---|---|---|---|---|---|---|---|---|---|---|---|---|---|---|---|---|---|---|---|---|---|---|---|---|---|---|---|---|---|---|---|---|---|---|---|---|---|---|---|\n",
       "| 3843:A&gt;G | SNV5 | 3843 | A&gt;G | A | G | 2 | 2 | 2 | MT:3843 | G | - | ENSMUSR00000758872 | RegulatoryFeature | regulatory_region_variant | - | - | - | - | - | - | MODIFIER | NA | NA | SNV | <!----> | <!----> | promoter_flanking_region | <!----> | NA | <!----> | <!----> | <!----> | <!----> | <!----> | <!----> | <!----> | <!----> | <!----> | <!----> | NA |\n",
       "| 3844:T&gt;C | SNV5 | 3844 | T&gt;C | T | C | 1 | 1 | 1 | MT:3844 | C | - | ENSMUSR00000758872 | RegulatoryFeature | regulatory_region_variant | - | - | - | - | - | - | MODIFIER | NA | NA | SNV | <!----> | <!----> | promoter_flanking_region | <!----> | NA | <!----> | <!----> | <!----> | <!----> | <!----> | <!----> | <!----> | <!----> | <!----> | <!----> | NA |\n",
       "\n"
      ],
      "text/plain": [
       "  posmut   SNVID pos  mut ref alt nmice ncells nmitos Location Allele Gene\n",
       "1 3843:A>G SNV5  3843 A>G A   G   2     2      2      MT:3843  G      -   \n",
       "2 3844:T>C SNV5  3844 T>C T   C   1     1      1      MT:3844  C      -   \n",
       "  Feature            Feature_type      Consequence               cDNA_position\n",
       "1 ENSMUSR00000758872 RegulatoryFeature regulatory_region_variant -            \n",
       "2 ENSMUSR00000758872 RegulatoryFeature regulatory_region_variant -            \n",
       "  CDS_position Protein_position Amino_acids Codons Existing_variation IMPACT  \n",
       "1 -            -                -           -      -                  MODIFIER\n",
       "2 -            -                -           -      -                  MODIFIER\n",
       "  DISTANCE STRAND VARIANT_CLASS SYMBOL SYMBOL_SOURCE BIOTYPE                 \n",
       "1 NA       NA     SNV                                promoter_flanking_region\n",
       "2 NA       NA     SNV                                promoter_flanking_region\n",
       "  CANONICAL GENE_PHENO EXON HGVSc APPRIS ENSP SWISSPROT TREMBL UNIPARC SIFT\n",
       "1           NA                                                             \n",
       "2           NA                                                             \n",
       "  DOMAINS HGVSp HGVS_OFFSET\n",
       "1               NA         \n",
       "2               NA         "
      ]
     },
     "metadata": {},
     "output_type": "display_data"
    }
   ],
   "source": [
    "vep_intergenic <- vep[Feature_type == \"RegulatoryFeature\" & Consequence == \"regulatory_region_variant\" & BIOTYPE == \"promoter_flanking_region\"][!posmut %in% Reduce(union, list(vep_nonsynonymous[, posmut], vep_synonymous[, posmut], vep_tRNA[, posmut], vep_rRNA[, posmut], vep_dloop[, posmut]))]\n",
    "vep_intergenic"
   ]
  },
  {
   "cell_type": "code",
   "execution_count": 17,
   "metadata": {
    "vscode": {
     "languageId": "r"
    }
   },
   "outputs": [
    {
     "data": {
      "text/html": [
       "1032"
      ],
      "text/latex": [
       "1032"
      ],
      "text/markdown": [
       "1032"
      ],
      "text/plain": [
       "[1] 1032"
      ]
     },
     "metadata": {},
     "output_type": "display_data"
    }
   ],
   "source": [
    "vep_nonsynonymous[, class := \"nonsynonymous\"]\n",
    "vep_synonymous[, class := \"synonymous\"]\n",
    "vep_tRNA[, class := \"tRNA\"]\n",
    "vep_rRNA[, class := \"rRNA\"]\n",
    "vep_dloop[, class := \"D-loop\"]\n",
    "vep_intergenic[, class := \"intergenic\"]\n",
    "vep_nonsynonymous[, uniqueN(posmut)] + vep_synonymous[, uniqueN(posmut)] + vep_tRNA[, uniqueN(posmut)] + vep_rRNA[, uniqueN(posmut)] + vep_dloop[, uniqueN(posmut)] + vep_intergenic[, uniqueN(posmut)]"
   ]
  },
  {
   "cell_type": "code",
   "execution_count": 18,
   "metadata": {
    "vscode": {
     "languageId": "r"
    }
   },
   "outputs": [
    {
     "data": {
      "text/html": [
       "1032"
      ],
      "text/latex": [
       "1032"
      ],
      "text/markdown": [
       "1032"
      ],
      "text/plain": [
       "[1] 1032"
      ]
     },
     "metadata": {},
     "output_type": "display_data"
    }
   ],
   "source": [
    "vep_unique <- rbindlist(list(vep_nonsynonymous, vep_synonymous, vep_tRNA, vep_rRNA, vep_dloop, vep_intergenic))\n",
    "sum(vep_unique[, table(class)])"
   ]
  },
  {
   "cell_type": "code",
   "execution_count": null,
   "metadata": {
    "vscode": {
     "languageId": "r"
    }
   },
   "outputs": [],
   "source": [
    "fwrite(vep_unique, file = \"Report/SNVs/impact/noctrl_vep_unique.csv\")"
   ]
  },
  {
   "cell_type": "markdown",
   "metadata": {
    "vscode": {
     "languageId": "r"
    }
   },
   "source": [
    "SNV occurrence by predicted functional consequence"
   ]
  },
  {
   "cell_type": "code",
   "execution_count": 20,
   "metadata": {
    "vscode": {
     "languageId": "r"
    }
   },
   "outputs": [
    {
     "data": {
      "image/png": "[encoded data removed]",
      "text/plain": [
       "plot without title"
      ]
     },
     "metadata": {
      "image/png": {
       "height": 216,
       "width": 216
      }
     },
     "output_type": "display_data"
    },
    {
     "data": {
      "image/png": "[encoded data removed]",
      "text/plain": [
       "plot without title"
      ]
     },
     "metadata": {
      "image/png": {
       "height": 216,
       "width": 216
      }
     },
     "output_type": "display_data"
    },
    {
     "data": {
      "image/png": "[encoded data removed]",
      "text/plain": [
       "plot without title"
      ]
     },
     "metadata": {
      "image/png": {
       "height": 216,
       "width": 216
      }
     },
     "output_type": "display_data"
    }
   ],
   "source": [
    "noctrl_sift <- fread(\"Report/SNVs/impact/noctrl_impact_added_SIFT.tsv\")\n",
    "\n",
    "options(repr.plot.width = 6, repr.plot.height = 6, repr.plot.res = 72)\n",
    "ggplot(noctrl_sift[SIFT_confidence == \"high\"], aes(x = SIFT_prediction, y = `# mice`)) + geom_boxplot() + theme_classic(base_size = 16) + geom_signif(comparisons = list(c(\"tolerated\", \"deleterious\"))) + xlab(\"High-confidence SIFT prediction\") + ylab(\"Number of mice shared\")\n",
    "ggplot(noctrl_sift[SIFT_confidence == \"high\"], aes(x = SIFT_prediction, y = `# cells`)) + geom_boxplot() + theme_classic(base_size = 16) + geom_signif(comparisons = list(c(\"tolerated\", \"deleterious\"))) + xlab(\"High-confidence SIFT prediction\") + ylab(\"Number of cells shared\")\n",
    "ggplot(noctrl_sift[SIFT_confidence == \"high\"], aes(x = SIFT_prediction, y = `# mitos`)) + geom_boxplot() + theme_classic(base_size = 16) + geom_signif(comparisons = list(c(\"tolerated\", \"deleterious\"))) + xlab(\"High-confidence SIFT prediction\") + ylab(\"Number of mitos shared\")"
   ]
  },
  {
   "cell_type": "markdown",
   "metadata": {},
   "source": [
    "Poisson regression"
   ]
  },
  {
   "cell_type": "code",
   "execution_count": 21,
   "metadata": {
    "vscode": {
     "languageId": "r"
    }
   },
   "outputs": [
    {
     "data": {
      "text/plain": [
       "\n",
       "Call:\n",
       "glm(formula = `# mitos` ~ SIFT_prediction, family = poisson(link = \"log\"), \n",
       "    data = noctrl_sift[SIFT_confidence == \"high\"])\n",
       "\n",
       "Coefficients:\n",
       "                         Estimate Std. Error z value Pr(>|z|)    \n",
       "(Intercept)               1.23353    0.09853  12.519   <2e-16 ***\n",
       "SIFT_predictiontolerated  0.15276    0.12087   1.264    0.206    \n",
       "---\n",
       "Signif. codes:  0 ‘***’ 0.001 ‘**’ 0.01 ‘*’ 0.05 ‘.’ 0.1 ‘ ’ 1\n",
       "\n",
       "(Dispersion parameter for poisson family taken to be 1)\n",
       "\n",
       "    Null deviance: 497.74  on 80  degrees of freedom\n",
       "Residual deviance: 496.11  on 79  degrees of freedom\n",
       "AIC: 715.3\n",
       "\n",
       "Number of Fisher Scoring iterations: 6\n"
      ]
     },
     "metadata": {},
     "output_type": "display_data"
    }
   ],
   "source": [
    "summary(glm(`# mitos` ~ SIFT_prediction, data = noctrl_sift[SIFT_confidence == \"high\"], family = poisson(link = \"log\")))"
   ]
  },
  {
   "cell_type": "code",
   "execution_count": 22,
   "metadata": {
    "vscode": {
     "languageId": "r"
    }
   },
   "outputs": [
    {
     "data": {
      "text/plain": [
       "\n",
       "Call:\n",
       "glm(formula = `# cells` ~ SIFT_prediction, family = poisson(link = \"log\"), \n",
       "    data = noctrl_sift[SIFT_confidence == \"high\"])\n",
       "\n",
       "Coefficients:\n",
       "                         Estimate Std. Error z value Pr(>|z|)    \n",
       "(Intercept)               1.06471    0.10721   9.931   <2e-16 ***\n",
       "SIFT_predictiontolerated  0.07864    0.13320   0.590    0.555    \n",
       "---\n",
       "Signif. codes:  0 ‘***’ 0.001 ‘**’ 0.01 ‘*’ 0.05 ‘.’ 0.1 ‘ ’ 1\n",
       "\n",
       "(Dispersion parameter for poisson family taken to be 1)\n",
       "\n",
       "    Null deviance: 301.75  on 80  degrees of freedom\n",
       "Residual deviance: 301.40  on 79  degrees of freedom\n",
       "AIC: 514.81\n",
       "\n",
       "Number of Fisher Scoring iterations: 5\n"
      ]
     },
     "metadata": {},
     "output_type": "display_data"
    }
   ],
   "source": [
    "summary(glm(`# cells` ~ SIFT_prediction, data = noctrl_sift[SIFT_confidence == \"high\"], family = poisson(link = \"log\")))"
   ]
  },
  {
   "cell_type": "markdown",
   "metadata": {},
   "source": [
    "Among all SNVs, number of SNV sites per gene locus per number-of-mitos sharing"
   ]
  },
  {
   "cell_type": "code",
   "execution_count": 23,
   "metadata": {
    "vscode": {
     "languageId": "r"
    }
   },
   "outputs": [
    {
     "data": {
      "image/png": "[encoded data removed]",
      "text/plain": [
       "plot without title"
      ]
     },
     "metadata": {
      "image/png": {
       "height": 234,
       "width": 252
      }
     },
     "output_type": "display_data"
    },
    {
     "data": {
      "image/png": "[encoded data removed]",
      "text/plain": [
       "plot without title"
      ]
     },
     "metadata": {
      "image/png": {
       "height": 234,
       "width": 252
      }
     },
     "output_type": "display_data"
    },
    {
     "data": {
      "image/png": "[encoded data removed]",
      "text/plain": [
       "plot without title"
      ]
     },
     "metadata": {
      "image/png": {
       "height": 234,
       "width": 252
      }
     },
     "output_type": "display_data"
    }
   ],
   "source": [
    "vep <- fread(file = \"Report/SNVs/impact/noctrl_vep_unique.csv\")\n",
    "vep[, gene := ifelse(SYMBOL == \"\", class, SYMBOL)]\n",
    "options(repr.plot.width = 7, repr.plot.height = 6.5, repr.plot.res = 72)\n",
    "ggplot(vep[, .N, by = c(\"gene\", \"nmitos\")][order(nmitos)], aes(x = gene, y = N, fill = nmitos)) + geom_bar(stat = \"identity\") + scale_x_discrete(limits = vep[, .N, by = \"gene\"][order(-N), gene]) + theme_classic(base_size = 16) + theme(axis.text.x = element_text(angle = 45, vjust = 1, hjust = 1)) + xlab(\"\") + ylab(\"Number of SNVs\") + scale_fill_viridis_c(breaks = c(1, 10, 100, 1000), labels = c(1, 10, 100, 1000), trans = scales::log_trans()) + scale_y_continuous(breaks = seq(0, 150, by = 50))\n",
    "options(repr.plot.width = 7, repr.plot.height = 6.5, repr.plot.res = 72)\n",
    "ggplot(vep[, .N, by = c(\"gene\", \"ncells\")][order(ncells)], aes(x = gene, y = N, fill = ncells)) + geom_bar(stat = \"identity\") + scale_x_discrete(limits = vep[, .N, by = \"gene\"][order(-N), gene]) + theme_classic(base_size = 16) + theme(axis.text.x = element_text(angle = 45, vjust = 1, hjust = 1)) + xlab(\"\") + ylab(\"Number of SNVs\") + scale_fill_viridis_c(breaks = c(1, 10, 100, 1000), labels = c(1, 10, 100, 1000), trans = scales::log_trans())\n",
    "options(repr.plot.width = 7, repr.plot.height = 6.5, repr.plot.res = 72)\n",
    "ggplot(vep[, .N, by = c(\"gene\", \"nmice\")][order(nmice)], aes(x = gene, y = N, fill = nmice)) + geom_bar(stat = \"identity\") + scale_x_discrete(limits = vep[, .N, by = \"gene\"][order(-N), gene]) + theme_classic(base_size = 16) + theme(axis.text.x = element_text(angle = 45, vjust = 1, hjust = 1)) + xlab(\"\") + ylab(\"Number of SNVs\") + scale_fill_viridis_c(breaks = seq(1, 13, by = 2), labels = seq(1, 13, by = 2))"
   ]
  },
  {
   "cell_type": "markdown",
   "metadata": {},
   "source": [
    "Among all SNVs, how is the per-base SNV occurrence per region?"
   ]
  },
  {
   "cell_type": "code",
   "execution_count": 24,
   "metadata": {
    "vscode": {
     "languageId": "r"
    }
   },
   "outputs": [
    {
     "data": {
      "text/html": [
       "<table class=\"dataframe\">\n",
       "<caption>A data.table: 17 × 4</caption>\n",
       "<thead>\n",
       "\t<tr><th scope=col>gene</th><th scope=col>nbases_covered</th><th scope=col>npos</th><th scope=col>npos_perbase</th></tr>\n",
       "\t<tr><th scope=col>&lt;chr&gt;</th><th scope=col>&lt;int&gt;</th><th scope=col>&lt;int&gt;</th><th scope=col>&lt;dbl&gt;</th></tr>\n",
       "</thead>\n",
       "<tbody>\n",
       "\t<tr><td>mt-Nd1    </td><td>118</td><td> 74</td><td>0.6271186</td></tr>\n",
       "\t<tr><td>mt-Co1    </td><td>119</td><td> 64</td><td>0.5378151</td></tr>\n",
       "\t<tr><td>mt-Co2    </td><td>120</td><td> 64</td><td>0.5333333</td></tr>\n",
       "\t<tr><td>mt-Co3    </td><td>138</td><td> 91</td><td>0.6594203</td></tr>\n",
       "\t<tr><td>mt-Nd3    </td><td> 31</td><td> 22</td><td>0.7096774</td></tr>\n",
       "\t<tr><td>mt-Nd5    </td><td>120</td><td> 66</td><td>0.5500000</td></tr>\n",
       "\t<tr><td>mt-Nd6    </td><td>118</td><td> 98</td><td>0.8305085</td></tr>\n",
       "\t<tr><td>mt-Cytb   </td><td>114</td><td> 36</td><td>0.3157895</td></tr>\n",
       "\t<tr><td>mt-Tl1    </td><td> 55</td><td> 42</td><td>0.7636364</td></tr>\n",
       "\t<tr><td>mt-Ti     </td><td>  3</td><td>  1</td><td>0.3333333</td></tr>\n",
       "\t<tr><td>mt-Tq     </td><td> 71</td><td> 28</td><td>0.3943662</td></tr>\n",
       "\t<tr><td>mt-Tm     </td><td> 45</td><td> 12</td><td>0.2666667</td></tr>\n",
       "\t<tr><td>mt-Tg     </td><td> 68</td><td> 50</td><td>0.7352941</td></tr>\n",
       "\t<tr><td>mt-Tt     </td><td>  6</td><td>  1</td><td>0.1666667</td></tr>\n",
       "\t<tr><td>mt-Rnr2   </td><td>179</td><td>122</td><td>0.6815642</td></tr>\n",
       "\t<tr><td>D-loop    </td><td>120</td><td> 65</td><td>0.5416667</td></tr>\n",
       "\t<tr><td>intergenic</td><td>  2</td><td>  2</td><td>1.0000000</td></tr>\n",
       "</tbody>\n",
       "</table>\n"
      ],
      "text/latex": [
       "A data.table: 17 × 4\n",
       "\\begin{tabular}{llll}\n",
       " gene & nbases\\_covered & npos & npos\\_perbase\\\\\n",
       " <chr> & <int> & <int> & <dbl>\\\\\n",
       "\\hline\n",
       "\t mt-Nd1     & 118 &  74 & 0.6271186\\\\\n",
       "\t mt-Co1     & 119 &  64 & 0.5378151\\\\\n",
       "\t mt-Co2     & 120 &  64 & 0.5333333\\\\\n",
       "\t mt-Co3     & 138 &  91 & 0.6594203\\\\\n",
       "\t mt-Nd3     &  31 &  22 & 0.7096774\\\\\n",
       "\t mt-Nd5     & 120 &  66 & 0.5500000\\\\\n",
       "\t mt-Nd6     & 118 &  98 & 0.8305085\\\\\n",
       "\t mt-Cytb    & 114 &  36 & 0.3157895\\\\\n",
       "\t mt-Tl1     &  55 &  42 & 0.7636364\\\\\n",
       "\t mt-Ti      &   3 &   1 & 0.3333333\\\\\n",
       "\t mt-Tq      &  71 &  28 & 0.3943662\\\\\n",
       "\t mt-Tm      &  45 &  12 & 0.2666667\\\\\n",
       "\t mt-Tg      &  68 &  50 & 0.7352941\\\\\n",
       "\t mt-Tt      &   6 &   1 & 0.1666667\\\\\n",
       "\t mt-Rnr2    & 179 & 122 & 0.6815642\\\\\n",
       "\t D-loop     & 120 &  65 & 0.5416667\\\\\n",
       "\t intergenic &   2 &   2 & 1.0000000\\\\\n",
       "\\end{tabular}\n"
      ],
      "text/markdown": [
       "\n",
       "A data.table: 17 × 4\n",
       "\n",
       "| gene &lt;chr&gt; | nbases_covered &lt;int&gt; | npos &lt;int&gt; | npos_perbase &lt;dbl&gt; |\n",
       "|---|---|---|---|\n",
       "| mt-Nd1     | 118 |  74 | 0.6271186 |\n",
       "| mt-Co1     | 119 |  64 | 0.5378151 |\n",
       "| mt-Co2     | 120 |  64 | 0.5333333 |\n",
       "| mt-Co3     | 138 |  91 | 0.6594203 |\n",
       "| mt-Nd3     |  31 |  22 | 0.7096774 |\n",
       "| mt-Nd5     | 120 |  66 | 0.5500000 |\n",
       "| mt-Nd6     | 118 |  98 | 0.8305085 |\n",
       "| mt-Cytb    | 114 |  36 | 0.3157895 |\n",
       "| mt-Tl1     |  55 |  42 | 0.7636364 |\n",
       "| mt-Ti      |   3 |   1 | 0.3333333 |\n",
       "| mt-Tq      |  71 |  28 | 0.3943662 |\n",
       "| mt-Tm      |  45 |  12 | 0.2666667 |\n",
       "| mt-Tg      |  68 |  50 | 0.7352941 |\n",
       "| mt-Tt      |   6 |   1 | 0.1666667 |\n",
       "| mt-Rnr2    | 179 | 122 | 0.6815642 |\n",
       "| D-loop     | 120 |  65 | 0.5416667 |\n",
       "| intergenic |   2 |   2 | 1.0000000 |\n",
       "\n"
      ],
      "text/plain": [
       "   gene       nbases_covered npos npos_perbase\n",
       "1  mt-Nd1     118             74  0.6271186   \n",
       "2  mt-Co1     119             64  0.5378151   \n",
       "3  mt-Co2     120             64  0.5333333   \n",
       "4  mt-Co3     138             91  0.6594203   \n",
       "5  mt-Nd3      31             22  0.7096774   \n",
       "6  mt-Nd5     120             66  0.5500000   \n",
       "7  mt-Nd6     118             98  0.8305085   \n",
       "8  mt-Cytb    114             36  0.3157895   \n",
       "9  mt-Tl1      55             42  0.7636364   \n",
       "10 mt-Ti        3              1  0.3333333   \n",
       "11 mt-Tq       71             28  0.3943662   \n",
       "12 mt-Tm       45             12  0.2666667   \n",
       "13 mt-Tg       68             50  0.7352941   \n",
       "14 mt-Tt        6              1  0.1666667   \n",
       "15 mt-Rnr2    179            122  0.6815642   \n",
       "16 D-loop     120             65  0.5416667   \n",
       "17 intergenic   2              2  1.0000000   "
      ]
     },
     "metadata": {},
     "output_type": "display_data"
    }
   ],
   "source": [
    "vep <- fread(file = \"Report/SNVs/impact/noctrl_vep_unique.csv\")\n",
    "vep[, gene := ifelse(SYMBOL == \"\", class, SYMBOL)]\n",
    "chrmgenes <- fread(\"Report/artifact/chrmgenes.csv\")\n",
    "## get D-loop and intergenic info\n",
    "chrmgenes <- rbind(chrmgenes,\n",
    "    chrmbases_properties[is_in_range == \"Y\" & is_in_primer == \"N\" & SNVID == \"SNV8\", list(symbol = \"D-loop\", start = min(pos), end = max(pos), strand = \"*\", nbases_covered = .N)], \n",
    "    chrmbases_properties[pos %in% 3843:3844, list(symbol = \"intergenic\", start = min(pos), end = max(pos), strand = \"*\", nbases_covered = .N)]\n",
    ")\n",
    "npos_bygene <- vep[, list(npos = uniqueN(pos)), by = c(\"gene\")]\n",
    "npos_bygene <- chrmgenes[, c(\"symbol\", \"nbases_covered\")][npos_bygene, on = c(symbol = \"gene\")]\n",
    "npos_bygene[, npos_perbase := npos / nbases_covered]\n",
    "setnames(npos_bygene, \"symbol\", \"gene\")\n",
    "npos_bygene"
   ]
  },
  {
   "cell_type": "code",
   "execution_count": null,
   "metadata": {
    "vscode": {
     "languageId": "r"
    }
   },
   "outputs": [],
   "source": [
    "fwrite(npos_bygene[order(-npos_perbase)], file = \"Report/SNVs/impact/noctrl_vep_npos_bygene_perbase.csv\")"
   ]
  },
  {
   "cell_type": "code",
   "execution_count": 26,
   "metadata": {
    "vscode": {
     "languageId": "r"
    }
   },
   "outputs": [
    {
     "data": {
      "image/png": "[encoded data removed]",
      "text/plain": [
       "plot without title"
      ]
     },
     "metadata": {
      "image/png": {
       "height": 252,
       "width": 216
      }
     },
     "output_type": "display_data"
    }
   ],
   "source": [
    "options(repr.plot.width = 6, repr.plot.height = 7, repr.plot.res = 72)\n",
    "ggplot(npos_bygene, aes(x = gene, y = npos_perbase)) + geom_bar(stat = \"identity\") + scale_x_discrete(limits = npos_bygene[order(-npos_perbase), gene]) + theme_classic(base_size = 16) + theme(axis.text.x = element_text(angle = 45, vjust = 1, hjust = 1)) + xlab(\"\") + ylab(\"Number of SNV sites per-base\")"
   ]
  },
  {
   "cell_type": "markdown",
   "metadata": {},
   "source": [
    "Transition probability matrix for all SNVs"
   ]
  },
  {
   "cell_type": "code",
   "execution_count": 27,
   "metadata": {
    "vscode": {
     "languageId": "r"
    }
   },
   "outputs": [
    {
     "data": {
      "text/html": [
       "<table class=\"dataframe\">\n",
       "<caption>A data.table: 4 × 6</caption>\n",
       "<thead>\n",
       "\t<tr><th scope=col>ref</th><th scope=col>A</th><th scope=col>C</th><th scope=col>G</th><th scope=col>T</th><th scope=col>del</th></tr>\n",
       "\t<tr><th scope=col>&lt;chr&gt;</th><th scope=col>&lt;int&gt;</th><th scope=col>&lt;int&gt;</th><th scope=col>&lt;int&gt;</th><th scope=col>&lt;int&gt;</th><th scope=col>&lt;int&gt;</th></tr>\n",
       "</thead>\n",
       "<tbody>\n",
       "\t<tr><td>A</td><td>NA</td><td> 39</td><td>275</td><td> 28</td><td>11</td></tr>\n",
       "\t<tr><td>C</td><td>90</td><td> NA</td><td> 18</td><td>173</td><td> 5</td></tr>\n",
       "\t<tr><td>G</td><td>89</td><td> 11</td><td> NA</td><td> 41</td><td>NA</td></tr>\n",
       "\t<tr><td>T</td><td>24</td><td>204</td><td> 21</td><td> NA</td><td> 3</td></tr>\n",
       "</tbody>\n",
       "</table>\n"
      ],
      "text/latex": [
       "A data.table: 4 × 6\n",
       "\\begin{tabular}{llllll}\n",
       " ref & A & C & G & T & del\\\\\n",
       " <chr> & <int> & <int> & <int> & <int> & <int>\\\\\n",
       "\\hline\n",
       "\t A & NA &  39 & 275 &  28 & 11\\\\\n",
       "\t C & 90 &  NA &  18 & 173 &  5\\\\\n",
       "\t G & 89 &  11 &  NA &  41 & NA\\\\\n",
       "\t T & 24 & 204 &  21 &  NA &  3\\\\\n",
       "\\end{tabular}\n"
      ],
      "text/markdown": [
       "\n",
       "A data.table: 4 × 6\n",
       "\n",
       "| ref &lt;chr&gt; | A &lt;int&gt; | C &lt;int&gt; | G &lt;int&gt; | T &lt;int&gt; | del &lt;int&gt; |\n",
       "|---|---|---|---|---|---|\n",
       "| A | NA |  39 | 275 |  28 | 11 |\n",
       "| C | 90 |  NA |  18 | 173 |  5 |\n",
       "| G | 89 |  11 |  NA |  41 | NA |\n",
       "| T | 24 | 204 |  21 |  NA |  3 |\n",
       "\n"
      ],
      "text/plain": [
       "  ref A  C   G   T   del\n",
       "1 A   NA  39 275  28 11 \n",
       "2 C   90  NA  18 173  5 \n",
       "3 G   89  11  NA  41 NA \n",
       "4 T   24 204  21  NA  3 "
      ]
     },
     "metadata": {},
     "output_type": "display_data"
    }
   ],
   "source": [
    "support_byposmut <- fread(\"Report/SNVs/filter/basediffperc_cutdemux_sub500k_q30_unstranded_highdepth_highaf_qcfltd_support_byposmut.csv\")\n",
    "transmat <- dcast.data.table(support_byposmut[, .N, by = c(\"ref\", \"alt\")], ref ~ alt, value.var = \"N\")\n",
    "transmat"
   ]
  },
  {
   "cell_type": "markdown",
   "metadata": {},
   "source": [
    "Because of the deletions, the sum of ti and tv will be less than 1032."
   ]
  },
  {
   "cell_type": "code",
   "execution_count": 28,
   "metadata": {
    "vscode": {
     "languageId": "r"
    }
   },
   "outputs": [],
   "source": [
    "vep <- fread(file = \"Report/SNVs/impact/noctrl_vep_unique.csv\")\n",
    "vep_nonsynonymous <- vep[class == \"nonsynonymous\"]\n",
    "vep_synonymous <- vep[class  == \"synonymous\"]\n",
    "vep_tRNA <- vep[class == \"tRNA\"]\n",
    "vep_rRNA <- vep[class == \"rRNA\"]\n",
    "vep_dloop <- vep[class == \"D-loop\"]\n",
    "vep_intergenic <- vep[class == \"intergenic\"]\n",
    "\n",
    "vep_synonymous_posmut <- vep_synonymous[, unique(posmut)]\n",
    "vep_nonsynonymous_posmut <- vep_nonsynonymous[, unique(posmut)]\n",
    "vep_tRNA_posmut <- vep_tRNA[, unique(posmut)]\n",
    "vep_rRNA_posmut <- vep_rRNA[, unique(posmut)]\n",
    "vep_dloop_posmut <- vep_dloop[, unique(posmut)]\n",
    "vep_intergenic_posmut <- vep_intergenic[, unique(posmut)]\n",
    "\n",
    "transmat_nonsynonymous <- dcast.data.table(support_byposmut[posmut %in% vep_nonsynonymous_posmut, .N, by = c(\"ref\", \"alt\")], ref ~ alt, value.var = \"N\")\n",
    "transmat_synonymous <- dcast.data.table(support_byposmut[posmut %in% vep_synonymous_posmut, .N, by = c(\"ref\", \"alt\")], ref ~ alt, value.var = \"N\")\n",
    "transmat_tRNA <- dcast.data.table(support_byposmut[posmut %in% vep_tRNA_posmut, .N, by = c(\"ref\", \"alt\")], ref ~ alt, value.var = \"N\")\n",
    "transmat_rRNA <- dcast.data.table(support_byposmut[posmut %in% vep_rRNA_posmut, .N, by = c(\"ref\", \"alt\")], ref ~ alt, value.var = \"N\")\n",
    "transmat_dloop <- dcast.data.table(support_byposmut[posmut %in% vep_dloop_posmut, .N, by = c(\"ref\", \"alt\")], ref ~ alt, value.var = \"N\")\n",
    "transmat_intergenic <- dcast.data.table(support_byposmut[posmut %in% vep_intergenic_posmut, .N, by = c(\"ref\", \"alt\")], ref ~ alt, value.var = \"N\")"
   ]
  },
  {
   "cell_type": "code",
   "execution_count": null,
   "metadata": {
    "vscode": {
     "languageId": "r"
    }
   },
   "outputs": [],
   "source": [
    "Tools$write_xlsx(list(\n",
    "    all = transmat,\n",
    "    nonsynonymous = transmat_nonsynonymous, \n",
    "    synonymous = transmat_synonymous, \n",
    "    tRNA = transmat_tRNA, \n",
    "    rRNA = transmat_rRNA, \n",
    "    dloop= transmat_dloop, \n",
    "    intergenic = transmat_intergenic\n",
    "), file = \"Report/SNVs/impact/noctrl_transmat.xlsx\", row.names = FALSE)"
   ]
  },
  {
   "cell_type": "code",
   "execution_count": 30,
   "metadata": {
    "vscode": {
     "languageId": "r"
    }
   },
   "outputs": [
    {
     "data": {
      "image/png": "[encoded data removed]",
      "text/plain": [
       "plot without title"
      ]
     },
     "metadata": {
      "image/png": {
       "height": 216,
       "width": 252
      }
     },
     "output_type": "display_data"
    }
   ],
   "source": [
    "support_byposmut[, mut := factor(mut, levels = setdiff(paste0(rep(c(\"A\", \"C\", \"G\", \"T\"), each = 5), \">\", c(\"A\", \"C\", \"G\", \"T\", \"del\")), c(\"A>A\", \"C>C\", \"G>G\", \"T>T\")))]\n",
    "\n",
    "options(repr.plot.width = 7, repr.plot.height = 6, repr.plot.res = 72)\n",
    "colmap <- structure(c(RColorBrewer::brewer.pal(5, \"Set1\"), \"gray\"), names = c(\"D-loop\", \"rRNA\", \"tRNA\", \"synonymous\", \"nonsynonymous\", \"intergenic\"))[c(6, 1:5)]\n",
    "nsnvs_byclass <- melt.data.table(dcast.data.table(vep, mut ~ class, fun.aggregate = function(x) uniqueN(x), value.var = \"pos\"), id.vars = \"mut\", variable.name = \"class\", value.name = \"nsnvs\")\n",
    "nsnvs_byclass[, class := factor(class, levels = c(\"intergenic\", \"D-loop\", \"rRNA\", \"tRNA\", \"synonymous\", \"nonsynonymous\"))]\n",
    "ggplot(nsnvs_byclass, aes(x = mut, y = nsnvs, fill = class)) + geom_bar(stat = \"identity\") + theme_classic(16) + theme(axis.text.x = element_text(angle = 90, vjust = 0.5, hjust = 1)) + xlab(\"\") + ylab(\"Number of SNVs\") + scale_fill_manual(values = colmap) + scale_y_continuous(breaks = seq(0, 300, by = 50))"
   ]
  },
  {
   "cell_type": "code",
   "execution_count": 31,
   "metadata": {
    "vscode": {
     "languageId": "r"
    }
   },
   "outputs": [
    {
     "data": {
      "text/html": [
       "<table class=\"dataframe\">\n",
       "<caption>A data.table: 6 × 4</caption>\n",
       "<thead>\n",
       "\t<tr><th scope=col>class</th><th scope=col>ti</th><th scope=col>tv</th><th scope=col>r</th></tr>\n",
       "\t<tr><th scope=col>&lt;chr&gt;</th><th scope=col>&lt;dbl&gt;</th><th scope=col>&lt;dbl&gt;</th><th scope=col>&lt;dbl&gt;</th></tr>\n",
       "</thead>\n",
       "<tbody>\n",
       "\t<tr><td>all          </td><td>741</td><td>272</td><td> 2.724265</td></tr>\n",
       "\t<tr><td>nonsynonymous</td><td>285</td><td>143</td><td> 1.993007</td></tr>\n",
       "\t<tr><td>synonymous   </td><td>172</td><td> 17</td><td>10.117647</td></tr>\n",
       "\t<tr><td>tRNA         </td><td>127</td><td> 33</td><td> 3.848485</td></tr>\n",
       "\t<tr><td>rRNA         </td><td>108</td><td> 38</td><td> 2.842105</td></tr>\n",
       "\t<tr><td>dloop        </td><td> 47</td><td> 41</td><td> 1.146341</td></tr>\n",
       "</tbody>\n",
       "</table>\n"
      ],
      "text/latex": [
       "A data.table: 6 × 4\n",
       "\\begin{tabular}{llll}\n",
       " class & ti & tv & r\\\\\n",
       " <chr> & <dbl> & <dbl> & <dbl>\\\\\n",
       "\\hline\n",
       "\t all           & 741 & 272 &  2.724265\\\\\n",
       "\t nonsynonymous & 285 & 143 &  1.993007\\\\\n",
       "\t synonymous    & 172 &  17 & 10.117647\\\\\n",
       "\t tRNA          & 127 &  33 &  3.848485\\\\\n",
       "\t rRNA          & 108 &  38 &  2.842105\\\\\n",
       "\t dloop         &  47 &  41 &  1.146341\\\\\n",
       "\\end{tabular}\n"
      ],
      "text/markdown": [
       "\n",
       "A data.table: 6 × 4\n",
       "\n",
       "| class &lt;chr&gt; | ti &lt;dbl&gt; | tv &lt;dbl&gt; | r &lt;dbl&gt; |\n",
       "|---|---|---|---|\n",
       "| all           | 741 | 272 |  2.724265 |\n",
       "| nonsynonymous | 285 | 143 |  1.993007 |\n",
       "| synonymous    | 172 |  17 | 10.117647 |\n",
       "| tRNA          | 127 |  33 |  3.848485 |\n",
       "| rRNA          | 108 |  38 |  2.842105 |\n",
       "| dloop         |  47 |  41 |  1.146341 |\n",
       "\n"
      ],
      "text/plain": [
       "  class         ti  tv  r        \n",
       "1 all           741 272  2.724265\n",
       "2 nonsynonymous 285 143  1.993007\n",
       "3 synonymous    172  17 10.117647\n",
       "4 tRNA          127  33  3.848485\n",
       "5 rRNA          108  38  2.842105\n",
       "6 dloop          47  41  1.146341"
      ]
     },
     "metadata": {},
     "output_type": "display_data"
    }
   ],
   "source": [
    "noctrl_titv <- list(\n",
    "    all = Genetics$titv(Tools$dt2df(transmat)), \n",
    "    nonsynonymous = Genetics$titv(Tools$dt2df(transmat_nonsynonymous)),\n",
    "    synonymous = Genetics$titv(Tools$dt2df(transmat_synonymous)),\n",
    "    tRNA = Genetics$titv(Tools$dt2df(transmat_tRNA)),\n",
    "    rRNA = Genetics$titv(Tools$dt2df(transmat_rRNA)),\n",
    "    dloop = Genetics$titv(Tools$dt2df(transmat_dloop)), \n",
    "    intergenic = Genetics$titv(Tools$dt2df(transmat_intergenic))\n",
    ")\n",
    "noctrl_titv <- do.call(rbind, noctrl_titv)\n",
    "noctrl_titv <- data.table(class = rownames(noctrl_titv), noctrl_titv)\n",
    "head(noctrl_titv)"
   ]
  },
  {
   "cell_type": "code",
   "execution_count": null,
   "metadata": {
    "vscode": {
     "languageId": "r"
    }
   },
   "outputs": [],
   "source": [
    "fwrite(noctrl_titv, file = \"Report/SNVs/impact/noctrl_titv.csv\")"
   ]
  },
  {
   "cell_type": "markdown",
   "metadata": {},
   "source": [
    "Among inherited SNVs, how is the per-base mutation occurrence per region?"
   ]
  },
  {
   "cell_type": "code",
   "execution_count": 33,
   "metadata": {
    "vscode": {
     "languageId": "r"
    }
   },
   "outputs": [
    {
     "data": {
      "text/html": [
       "<table class=\"dataframe\">\n",
       "<caption>A data.table: 14 × 4</caption>\n",
       "<thead>\n",
       "\t<tr><th scope=col>gene</th><th scope=col>nbases_covered</th><th scope=col>npos</th><th scope=col>npos_perbase</th></tr>\n",
       "\t<tr><th scope=col>&lt;chr&gt;</th><th scope=col>&lt;int&gt;</th><th scope=col>&lt;int&gt;</th><th scope=col>&lt;dbl&gt;</th></tr>\n",
       "</thead>\n",
       "<tbody>\n",
       "\t<tr><td>mt-Nd1 </td><td>118</td><td>11</td><td>0.09322034</td></tr>\n",
       "\t<tr><td>mt-Co1 </td><td>119</td><td> 5</td><td>0.04201681</td></tr>\n",
       "\t<tr><td>mt-Co2 </td><td>120</td><td> 3</td><td>0.02500000</td></tr>\n",
       "\t<tr><td>mt-Co3 </td><td>138</td><td>19</td><td>0.13768116</td></tr>\n",
       "\t<tr><td>mt-Nd3 </td><td> 31</td><td> 6</td><td>0.19354839</td></tr>\n",
       "\t<tr><td>mt-Nd5 </td><td>120</td><td> 7</td><td>0.05833333</td></tr>\n",
       "\t<tr><td>mt-Nd6 </td><td>118</td><td>26</td><td>0.22033898</td></tr>\n",
       "\t<tr><td>mt-Cytb</td><td>114</td><td> 3</td><td>0.02631579</td></tr>\n",
       "\t<tr><td>mt-Tl1 </td><td> 55</td><td>10</td><td>0.18181818</td></tr>\n",
       "\t<tr><td>mt-Tq  </td><td> 71</td><td> 1</td><td>0.01408451</td></tr>\n",
       "\t<tr><td>mt-Tm  </td><td> 45</td><td> 1</td><td>0.02222222</td></tr>\n",
       "\t<tr><td>mt-Tg  </td><td> 68</td><td>16</td><td>0.23529412</td></tr>\n",
       "\t<tr><td>mt-Rnr2</td><td>179</td><td>17</td><td>0.09497207</td></tr>\n",
       "\t<tr><td>D-loop </td><td>120</td><td>27</td><td>0.22500000</td></tr>\n",
       "</tbody>\n",
       "</table>\n"
      ],
      "text/latex": [
       "A data.table: 14 × 4\n",
       "\\begin{tabular}{llll}\n",
       " gene & nbases\\_covered & npos & npos\\_perbase\\\\\n",
       " <chr> & <int> & <int> & <dbl>\\\\\n",
       "\\hline\n",
       "\t mt-Nd1  & 118 & 11 & 0.09322034\\\\\n",
       "\t mt-Co1  & 119 &  5 & 0.04201681\\\\\n",
       "\t mt-Co2  & 120 &  3 & 0.02500000\\\\\n",
       "\t mt-Co3  & 138 & 19 & 0.13768116\\\\\n",
       "\t mt-Nd3  &  31 &  6 & 0.19354839\\\\\n",
       "\t mt-Nd5  & 120 &  7 & 0.05833333\\\\\n",
       "\t mt-Nd6  & 118 & 26 & 0.22033898\\\\\n",
       "\t mt-Cytb & 114 &  3 & 0.02631579\\\\\n",
       "\t mt-Tl1  &  55 & 10 & 0.18181818\\\\\n",
       "\t mt-Tq   &  71 &  1 & 0.01408451\\\\\n",
       "\t mt-Tm   &  45 &  1 & 0.02222222\\\\\n",
       "\t mt-Tg   &  68 & 16 & 0.23529412\\\\\n",
       "\t mt-Rnr2 & 179 & 17 & 0.09497207\\\\\n",
       "\t D-loop  & 120 & 27 & 0.22500000\\\\\n",
       "\\end{tabular}\n"
      ],
      "text/markdown": [
       "\n",
       "A data.table: 14 × 4\n",
       "\n",
       "| gene &lt;chr&gt; | nbases_covered &lt;int&gt; | npos &lt;int&gt; | npos_perbase &lt;dbl&gt; |\n",
       "|---|---|---|---|\n",
       "| mt-Nd1  | 118 | 11 | 0.09322034 |\n",
       "| mt-Co1  | 119 |  5 | 0.04201681 |\n",
       "| mt-Co2  | 120 |  3 | 0.02500000 |\n",
       "| mt-Co3  | 138 | 19 | 0.13768116 |\n",
       "| mt-Nd3  |  31 |  6 | 0.19354839 |\n",
       "| mt-Nd5  | 120 |  7 | 0.05833333 |\n",
       "| mt-Nd6  | 118 | 26 | 0.22033898 |\n",
       "| mt-Cytb | 114 |  3 | 0.02631579 |\n",
       "| mt-Tl1  |  55 | 10 | 0.18181818 |\n",
       "| mt-Tq   |  71 |  1 | 0.01408451 |\n",
       "| mt-Tm   |  45 |  1 | 0.02222222 |\n",
       "| mt-Tg   |  68 | 16 | 0.23529412 |\n",
       "| mt-Rnr2 | 179 | 17 | 0.09497207 |\n",
       "| D-loop  | 120 | 27 | 0.22500000 |\n",
       "\n"
      ],
      "text/plain": [
       "   gene    nbases_covered npos npos_perbase\n",
       "1  mt-Nd1  118            11   0.09322034  \n",
       "2  mt-Co1  119             5   0.04201681  \n",
       "3  mt-Co2  120             3   0.02500000  \n",
       "4  mt-Co3  138            19   0.13768116  \n",
       "5  mt-Nd3   31             6   0.19354839  \n",
       "6  mt-Nd5  120             7   0.05833333  \n",
       "7  mt-Nd6  118            26   0.22033898  \n",
       "8  mt-Cytb 114             3   0.02631579  \n",
       "9  mt-Tl1   55            10   0.18181818  \n",
       "10 mt-Tq    71             1   0.01408451  \n",
       "11 mt-Tm    45             1   0.02222222  \n",
       "12 mt-Tg    68            16   0.23529412  \n",
       "13 mt-Rnr2 179            17   0.09497207  \n",
       "14 D-loop  120            27   0.22500000  "
      ]
     },
     "metadata": {},
     "output_type": "display_data"
    }
   ],
   "source": [
    "vep <- fread(file = \"Report/SNVs/impact/noctrl_vep_unique.csv\")\n",
    "vep[, gene := ifelse(SYMBOL == \"\", class, SYMBOL)]\n",
    "inherited_noctrl_vep <- vep[nmice >= 3]\n",
    "chrmgenes <- fread(\"Report/artifact/chrmgenes.csv\")\n",
    "## get D-loop and intergenic info\n",
    "chrmgenes <- rbind(chrmgenes,\n",
    "    chrmbases_properties[is_in_range == \"Y\" & is_in_primer == \"N\" & SNVID == \"SNV8\", list(symbol = \"D-loop\", start = min(pos), end = max(pos), strand = \"*\", nbases_covered = .N)], \n",
    "    chrmbases_properties[pos %in% 3843:3844, list(symbol = \"intergenic\", start = min(pos), end = max(pos), strand = \"*\", nbases_covered = .N)]\n",
    ")\n",
    "inherited_noctrl_npos_bygene <- inherited_noctrl_vep[, list(npos = uniqueN(pos)), by = c(\"gene\")]\n",
    "inherited_noctrl_npos_bygene <- chrmgenes[, c(\"symbol\", \"nbases_covered\")][inherited_noctrl_npos_bygene, on = c(symbol = \"gene\")]\n",
    "inherited_noctrl_npos_bygene[, npos_perbase := npos / nbases_covered]\n",
    "setnames(inherited_noctrl_npos_bygene, \"symbol\", \"gene\")\n",
    "inherited_noctrl_npos_bygene"
   ]
  },
  {
   "cell_type": "code",
   "execution_count": null,
   "metadata": {
    "vscode": {
     "languageId": "r"
    }
   },
   "outputs": [],
   "source": [
    "fwrite(inherited_noctrl_npos_bygene[order(-npos_perbase)], file = \"Report/SNVs/impact/inherited_noctrl_vep_npos_bygene_perbase.csv\")"
   ]
  },
  {
   "cell_type": "code",
   "execution_count": 35,
   "metadata": {
    "vscode": {
     "languageId": "r"
    }
   },
   "outputs": [
    {
     "data": {
      "image/png": "[encoded data removed]",
      "text/plain": [
       "plot without title"
      ]
     },
     "metadata": {
      "image/png": {
       "height": 252,
       "width": 216
      }
     },
     "output_type": "display_data"
    }
   ],
   "source": [
    "options(repr.plot.width = 6, repr.plot.height = 7, repr.plot.res = 72)\n",
    "ggplot(inherited_noctrl_npos_bygene, aes(x = gene, y = npos_perbase)) + geom_bar(stat = \"identity\") + scale_x_discrete(limits = inherited_noctrl_npos_bygene[order(-npos_perbase), gene]) + theme_classic(base_size = 16) + theme(axis.text.x = element_text(angle = 45, vjust = 1, hjust = 1)) + xlab(\"\") + ylab(\"Number of SNV sites per-base\")"
   ]
  },
  {
   "cell_type": "markdown",
   "metadata": {},
   "source": [
    "Among somatic SNVs, how is the per-base mutation occurrence per region?"
   ]
  },
  {
   "cell_type": "code",
   "execution_count": 36,
   "metadata": {
    "vscode": {
     "languageId": "r"
    }
   },
   "outputs": [
    {
     "data": {
      "text/html": [
       "<table class=\"dataframe\">\n",
       "<caption>A data.table: 17 × 4</caption>\n",
       "<thead>\n",
       "\t<tr><th scope=col>gene</th><th scope=col>nbases_covered</th><th scope=col>npos</th><th scope=col>npos_perbase</th></tr>\n",
       "\t<tr><th scope=col>&lt;chr&gt;</th><th scope=col>&lt;int&gt;</th><th scope=col>&lt;int&gt;</th><th scope=col>&lt;dbl&gt;</th></tr>\n",
       "</thead>\n",
       "<tbody>\n",
       "\t<tr><td>mt-Nd1    </td><td>118</td><td>45</td><td>0.3813559</td></tr>\n",
       "\t<tr><td>mt-Co1    </td><td>119</td><td>45</td><td>0.3781513</td></tr>\n",
       "\t<tr><td>mt-Co2    </td><td>120</td><td>48</td><td>0.4000000</td></tr>\n",
       "\t<tr><td>mt-Co3    </td><td>138</td><td>55</td><td>0.3985507</td></tr>\n",
       "\t<tr><td>mt-Nd3    </td><td> 31</td><td>12</td><td>0.3870968</td></tr>\n",
       "\t<tr><td>mt-Nd5    </td><td>120</td><td>51</td><td>0.4250000</td></tr>\n",
       "\t<tr><td>mt-Nd6    </td><td>118</td><td>57</td><td>0.4830508</td></tr>\n",
       "\t<tr><td>mt-Cytb   </td><td>114</td><td>28</td><td>0.2456140</td></tr>\n",
       "\t<tr><td>mt-Tl1    </td><td> 55</td><td>28</td><td>0.5090909</td></tr>\n",
       "\t<tr><td>mt-Ti     </td><td>  3</td><td> 1</td><td>0.3333333</td></tr>\n",
       "\t<tr><td>mt-Tq     </td><td> 71</td><td>24</td><td>0.3380282</td></tr>\n",
       "\t<tr><td>mt-Tm     </td><td> 45</td><td>11</td><td>0.2444444</td></tr>\n",
       "\t<tr><td>mt-Tg     </td><td> 68</td><td>27</td><td>0.3970588</td></tr>\n",
       "\t<tr><td>mt-Tt     </td><td>  6</td><td> 1</td><td>0.1666667</td></tr>\n",
       "\t<tr><td>mt-Rnr2   </td><td>179</td><td>82</td><td>0.4581006</td></tr>\n",
       "\t<tr><td>D-loop    </td><td>120</td><td>43</td><td>0.3583333</td></tr>\n",
       "\t<tr><td>intergenic</td><td>  2</td><td> 1</td><td>0.5000000</td></tr>\n",
       "</tbody>\n",
       "</table>\n"
      ],
      "text/latex": [
       "A data.table: 17 × 4\n",
       "\\begin{tabular}{llll}\n",
       " gene & nbases\\_covered & npos & npos\\_perbase\\\\\n",
       " <chr> & <int> & <int> & <dbl>\\\\\n",
       "\\hline\n",
       "\t mt-Nd1     & 118 & 45 & 0.3813559\\\\\n",
       "\t mt-Co1     & 119 & 45 & 0.3781513\\\\\n",
       "\t mt-Co2     & 120 & 48 & 0.4000000\\\\\n",
       "\t mt-Co3     & 138 & 55 & 0.3985507\\\\\n",
       "\t mt-Nd3     &  31 & 12 & 0.3870968\\\\\n",
       "\t mt-Nd5     & 120 & 51 & 0.4250000\\\\\n",
       "\t mt-Nd6     & 118 & 57 & 0.4830508\\\\\n",
       "\t mt-Cytb    & 114 & 28 & 0.2456140\\\\\n",
       "\t mt-Tl1     &  55 & 28 & 0.5090909\\\\\n",
       "\t mt-Ti      &   3 &  1 & 0.3333333\\\\\n",
       "\t mt-Tq      &  71 & 24 & 0.3380282\\\\\n",
       "\t mt-Tm      &  45 & 11 & 0.2444444\\\\\n",
       "\t mt-Tg      &  68 & 27 & 0.3970588\\\\\n",
       "\t mt-Tt      &   6 &  1 & 0.1666667\\\\\n",
       "\t mt-Rnr2    & 179 & 82 & 0.4581006\\\\\n",
       "\t D-loop     & 120 & 43 & 0.3583333\\\\\n",
       "\t intergenic &   2 &  1 & 0.5000000\\\\\n",
       "\\end{tabular}\n"
      ],
      "text/markdown": [
       "\n",
       "A data.table: 17 × 4\n",
       "\n",
       "| gene &lt;chr&gt; | nbases_covered &lt;int&gt; | npos &lt;int&gt; | npos_perbase &lt;dbl&gt; |\n",
       "|---|---|---|---|\n",
       "| mt-Nd1     | 118 | 45 | 0.3813559 |\n",
       "| mt-Co1     | 119 | 45 | 0.3781513 |\n",
       "| mt-Co2     | 120 | 48 | 0.4000000 |\n",
       "| mt-Co3     | 138 | 55 | 0.3985507 |\n",
       "| mt-Nd3     |  31 | 12 | 0.3870968 |\n",
       "| mt-Nd5     | 120 | 51 | 0.4250000 |\n",
       "| mt-Nd6     | 118 | 57 | 0.4830508 |\n",
       "| mt-Cytb    | 114 | 28 | 0.2456140 |\n",
       "| mt-Tl1     |  55 | 28 | 0.5090909 |\n",
       "| mt-Ti      |   3 |  1 | 0.3333333 |\n",
       "| mt-Tq      |  71 | 24 | 0.3380282 |\n",
       "| mt-Tm      |  45 | 11 | 0.2444444 |\n",
       "| mt-Tg      |  68 | 27 | 0.3970588 |\n",
       "| mt-Tt      |   6 |  1 | 0.1666667 |\n",
       "| mt-Rnr2    | 179 | 82 | 0.4581006 |\n",
       "| D-loop     | 120 | 43 | 0.3583333 |\n",
       "| intergenic |   2 |  1 | 0.5000000 |\n",
       "\n"
      ],
      "text/plain": [
       "   gene       nbases_covered npos npos_perbase\n",
       "1  mt-Nd1     118            45   0.3813559   \n",
       "2  mt-Co1     119            45   0.3781513   \n",
       "3  mt-Co2     120            48   0.4000000   \n",
       "4  mt-Co3     138            55   0.3985507   \n",
       "5  mt-Nd3      31            12   0.3870968   \n",
       "6  mt-Nd5     120            51   0.4250000   \n",
       "7  mt-Nd6     118            57   0.4830508   \n",
       "8  mt-Cytb    114            28   0.2456140   \n",
       "9  mt-Tl1      55            28   0.5090909   \n",
       "10 mt-Ti        3             1   0.3333333   \n",
       "11 mt-Tq       71            24   0.3380282   \n",
       "12 mt-Tm       45            11   0.2444444   \n",
       "13 mt-Tg       68            27   0.3970588   \n",
       "14 mt-Tt        6             1   0.1666667   \n",
       "15 mt-Rnr2    179            82   0.4581006   \n",
       "16 D-loop     120            43   0.3583333   \n",
       "17 intergenic   2             1   0.5000000   "
      ]
     },
     "metadata": {},
     "output_type": "display_data"
    }
   ],
   "source": [
    "vep <- fread(file = \"Report/SNVs/impact/noctrl_vep_unique.csv\")\n",
    "vep[, gene := ifelse(SYMBOL == \"\", class, SYMBOL)]\n",
    "somatic_noctrl_vep <- vep[nmice == 1]\n",
    "chrmgenes <- fread(\"Report/artifact/chrmgenes.csv\")\n",
    "## get D-loop and intergenic info\n",
    "chrmgenes <- rbind(chrmgenes,\n",
    "    chrmbases_properties[is_in_range == \"Y\" & is_in_primer == \"N\" & SNVID == \"SNV8\", list(symbol = \"D-loop\", start = min(pos), end = max(pos), strand = \"*\", nbases_covered = .N)], \n",
    "    chrmbases_properties[pos %in% 3843:3844, list(symbol = \"intergenic\", start = min(pos), end = max(pos), strand = \"*\", nbases_covered = .N)]\n",
    ")\n",
    "somatic_noctrl_npos_bygene <- somatic_noctrl_vep[, list(npos = uniqueN(pos)), by = c(\"gene\")]\n",
    "somatic_noctrl_npos_bygene <- chrmgenes[, c(\"symbol\", \"nbases_covered\")][somatic_noctrl_npos_bygene, on = c(symbol = \"gene\")]\n",
    "somatic_noctrl_npos_bygene[, npos_perbase := npos / nbases_covered]\n",
    "setnames(somatic_noctrl_npos_bygene, \"symbol\", \"gene\")\n",
    "somatic_noctrl_npos_bygene"
   ]
  },
  {
   "cell_type": "code",
   "execution_count": null,
   "metadata": {
    "vscode": {
     "languageId": "r"
    }
   },
   "outputs": [],
   "source": [
    "fwrite(somatic_noctrl_npos_bygene[order(-npos_perbase)], file = \"Report/SNVs/impact/somatic_noctrl_vep_npos_bygene_perbase.csv\")"
   ]
  },
  {
   "cell_type": "code",
   "execution_count": 38,
   "metadata": {
    "vscode": {
     "languageId": "r"
    }
   },
   "outputs": [
    {
     "data": {
      "image/png": "[encoded data removed]",
      "text/plain": [
       "plot without title"
      ]
     },
     "metadata": {
      "image/png": {
       "height": 252,
       "width": 216
      }
     },
     "output_type": "display_data"
    }
   ],
   "source": [
    "options(repr.plot.width = 6, repr.plot.height = 7, repr.plot.res = 72)\n",
    "ggplot(somatic_noctrl_npos_bygene, aes(x = gene, y = npos_perbase)) + geom_bar(stat = \"identity\") + scale_x_discrete(limits = somatic_noctrl_npos_bygene[order(-npos_perbase), gene]) + theme_classic(base_size = 16) + theme(axis.text.x = element_text(angle = 45, vjust = 1, hjust = 1)) + xlab(\"\") + ylab(\"Number of SNV sites per-base\")"
   ]
  },
  {
   "cell_type": "markdown",
   "metadata": {},
   "source": [
    "Transition probability matrix for inherited SNVs"
   ]
  },
  {
   "cell_type": "code",
   "execution_count": 39,
   "metadata": {
    "vscode": {
     "languageId": "r"
    }
   },
   "outputs": [],
   "source": [
    "support_byposmut <- fread(\"Report/SNVs/filter/basediffperc_cutdemux_sub500k_q30_unstranded_highdepth_highaf_qcfltd_support_byposmut.csv\")\n",
    "inherited_noctrl_transmat <- dcast.data.table(support_byposmut[nmice >= 3, .N, by = c(\"ref\", \"alt\")], ref ~ alt, value.var = \"N\")\n",
    "\n",
    "vep <- fread(file = \"Report/SNVs/impact/noctrl_vep_unique.csv\")\n",
    "inherited_noctrl_vep <- vep[nmice >= 3]\n",
    "inherited_noctrl_vep_nonsynonymous <- inherited_noctrl_vep[class == \"nonsynonymous\"]\n",
    "inherited_noctrl_vep_synonymous <- inherited_noctrl_vep[class  == \"synonymous\"]\n",
    "inherited_noctrl_vep_tRNA <- inherited_noctrl_vep[class == \"tRNA\"]\n",
    "inherited_noctrl_vep_rRNA <- inherited_noctrl_vep[class == \"rRNA\"]\n",
    "inherited_noctrl_vep_dloop <- inherited_noctrl_vep[class == \"D-loop\"]\n",
    "\n",
    "inherited_noctrl_vep_synonymous_posmut <- inherited_noctrl_vep_synonymous[, unique(posmut)]\n",
    "inherited_noctrl_vep_nonsynonymous_posmut <- inherited_noctrl_vep_nonsynonymous[, unique(posmut)]\n",
    "inherited_noctrl_vep_tRNA_posmut <- inherited_noctrl_vep_tRNA[, unique(posmut)]\n",
    "inherited_noctrl_vep_rRNA_posmut <- inherited_noctrl_vep_rRNA[, unique(posmut)]\n",
    "inherited_noctrl_vep_dloop_posmut <- inherited_noctrl_vep_dloop[, unique(posmut)]\n",
    "\n",
    "inherited_noctrl_transmat_nonsynonymous <- dcast.data.table(support_byposmut[posmut %in% inherited_noctrl_vep_nonsynonymous_posmut, .N, by = c(\"ref\", \"alt\")], ref ~ alt, value.var = \"N\")\n",
    "inherited_noctrl_transmat_synonymous <- dcast.data.table(support_byposmut[posmut %in% inherited_noctrl_vep_synonymous_posmut, .N, by = c(\"ref\", \"alt\")], ref ~ alt, value.var = \"N\")\n",
    "inherited_noctrl_transmat_tRNA <- dcast.data.table(support_byposmut[posmut %in% inherited_noctrl_vep_tRNA_posmut, .N, by = c(\"ref\", \"alt\")], ref ~ alt, value.var = \"N\")\n",
    "inherited_noctrl_transmat_rRNA <- dcast.data.table(support_byposmut[posmut %in% inherited_noctrl_vep_rRNA_posmut, .N, by = c(\"ref\", \"alt\")], ref ~ alt, value.var = \"N\")\n",
    "inherited_noctrl_transmat_dloop <- dcast.data.table(support_byposmut[posmut %in% inherited_noctrl_vep_dloop_posmut, .N, by = c(\"ref\", \"alt\")], ref ~ alt, value.var = \"N\")"
   ]
  },
  {
   "cell_type": "code",
   "execution_count": null,
   "metadata": {
    "vscode": {
     "languageId": "r"
    }
   },
   "outputs": [],
   "source": [
    "Tools$write_xlsx(list(\n",
    "    all = inherited_noctrl_transmat,\n",
    "    nonsynonymous = inherited_noctrl_transmat_nonsynonymous, \n",
    "    synonymous = inherited_noctrl_transmat_synonymous, \n",
    "    tRNA = inherited_noctrl_transmat_tRNA, \n",
    "    rRNA = inherited_noctrl_transmat_rRNA, \n",
    "    dloop= inherited_noctrl_transmat_dloop\n",
    "), file = \"Report/SNVs/impact/inherited_noctrl_transmat.xlsx\", row.names = FALSE)"
   ]
  },
  {
   "cell_type": "markdown",
   "metadata": {},
   "source": [
    "Ti/Tv for inherited SNVs"
   ]
  },
  {
   "cell_type": "code",
   "execution_count": 41,
   "metadata": {
    "vscode": {
     "languageId": "r"
    }
   },
   "outputs": [
    {
     "data": {
      "text/html": [
       "<table class=\"dataframe\">\n",
       "<caption>A data.table: 6 × 4</caption>\n",
       "<thead>\n",
       "\t<tr><th scope=col>class</th><th scope=col>ti</th><th scope=col>tv</th><th scope=col>r</th></tr>\n",
       "\t<tr><th scope=col>&lt;chr&gt;</th><th scope=col>&lt;dbl&gt;</th><th scope=col>&lt;dbl&gt;</th><th scope=col>&lt;dbl&gt;</th></tr>\n",
       "</thead>\n",
       "<tbody>\n",
       "\t<tr><td>all          </td><td>117</td><td>39</td><td> 3.0000000</td></tr>\n",
       "\t<tr><td>nonsynonymous</td><td> 44</td><td>14</td><td> 3.1428571</td></tr>\n",
       "\t<tr><td>synonymous   </td><td> 22</td><td> 2</td><td>11.0000000</td></tr>\n",
       "\t<tr><td>tRNA         </td><td> 26</td><td> 2</td><td>13.0000000</td></tr>\n",
       "\t<tr><td>rRNA         </td><td> 17</td><td> 0</td><td>       Inf</td></tr>\n",
       "\t<tr><td>dloop        </td><td>  8</td><td>21</td><td> 0.3809524</td></tr>\n",
       "</tbody>\n",
       "</table>\n"
      ],
      "text/latex": [
       "A data.table: 6 × 4\n",
       "\\begin{tabular}{llll}\n",
       " class & ti & tv & r\\\\\n",
       " <chr> & <dbl> & <dbl> & <dbl>\\\\\n",
       "\\hline\n",
       "\t all           & 117 & 39 &  3.0000000\\\\\n",
       "\t nonsynonymous &  44 & 14 &  3.1428571\\\\\n",
       "\t synonymous    &  22 &  2 & 11.0000000\\\\\n",
       "\t tRNA          &  26 &  2 & 13.0000000\\\\\n",
       "\t rRNA          &  17 &  0 &        Inf\\\\\n",
       "\t dloop         &   8 & 21 &  0.3809524\\\\\n",
       "\\end{tabular}\n"
      ],
      "text/markdown": [
       "\n",
       "A data.table: 6 × 4\n",
       "\n",
       "| class &lt;chr&gt; | ti &lt;dbl&gt; | tv &lt;dbl&gt; | r &lt;dbl&gt; |\n",
       "|---|---|---|---|\n",
       "| all           | 117 | 39 |  3.0000000 |\n",
       "| nonsynonymous |  44 | 14 |  3.1428571 |\n",
       "| synonymous    |  22 |  2 | 11.0000000 |\n",
       "| tRNA          |  26 |  2 | 13.0000000 |\n",
       "| rRNA          |  17 |  0 |        Inf |\n",
       "| dloop         |   8 | 21 |  0.3809524 |\n",
       "\n"
      ],
      "text/plain": [
       "  class         ti  tv r         \n",
       "1 all           117 39  3.0000000\n",
       "2 nonsynonymous  44 14  3.1428571\n",
       "3 synonymous     22  2 11.0000000\n",
       "4 tRNA           26  2 13.0000000\n",
       "5 rRNA           17  0        Inf\n",
       "6 dloop           8 21  0.3809524"
      ]
     },
     "metadata": {},
     "output_type": "display_data"
    }
   ],
   "source": [
    "inherited_noctrl_titv <- list(\n",
    "    all = Genetics$titv(Tools$dt2df(inherited_noctrl_transmat)), \n",
    "    nonsynonymous = Genetics$titv(Tools$dt2df(inherited_noctrl_transmat_nonsynonymous)),\n",
    "    synonymous = Genetics$titv(Tools$dt2df(inherited_noctrl_transmat_synonymous)),\n",
    "    tRNA = Genetics$titv(Tools$dt2df(inherited_noctrl_transmat_tRNA)),\n",
    "    rRNA = Genetics$titv(Tools$dt2df(inherited_noctrl_transmat_rRNA)),\n",
    "    dloop = Genetics$titv(Tools$dt2df(inherited_noctrl_transmat_dloop))\n",
    ")\n",
    "inherited_noctrl_titv <- do.call(rbind, inherited_noctrl_titv)\n",
    "inherited_noctrl_titv <- data.table(class = rownames(inherited_noctrl_titv), inherited_noctrl_titv)\n",
    "inherited_noctrl_titv"
   ]
  },
  {
   "cell_type": "code",
   "execution_count": null,
   "metadata": {
    "vscode": {
     "languageId": "r"
    }
   },
   "outputs": [],
   "source": [
    "fwrite(inherited_noctrl_titv, file = \"Report/SNVs/impact/inherited_noctrl_titv.csv\")"
   ]
  },
  {
   "cell_type": "code",
   "execution_count": 43,
   "metadata": {
    "vscode": {
     "languageId": "r"
    }
   },
   "outputs": [
    {
     "data": {
      "text/plain": [
       "gene\n",
       " D-loop  mt-Co1  mt-Co2  mt-Co3 mt-Cytb  mt-Nd1  mt-Nd3  mt-Nd5  mt-Nd6 mt-Rnr2 \n",
       "     32       5       3      19       3      11       6       7      30      17 \n",
       "  mt-Tg  mt-Tl1   mt-Tm   mt-Tq \n",
       "     16      10       1       1 "
      ]
     },
     "metadata": {},
     "output_type": "display_data"
    }
   ],
   "source": [
    "## Ti/Tv per gene\n",
    "vep <- fread(file = \"Report/SNVs/impact/noctrl_vep_unique.csv\")\n",
    "inherited_noctrl_vep <- vep[nmice >= 3]\n",
    "inherited_noctrl_vep[, gene := SYMBOL]\n",
    "inherited_noctrl_vep[, gene := ifelse(gene == \"\", class, gene)]\n",
    "inherited_noctrl_vep[, table(gene)]"
   ]
  },
  {
   "cell_type": "code",
   "execution_count": 44,
   "metadata": {
    "vscode": {
     "languageId": "r"
    }
   },
   "outputs": [
    {
     "data": {
      "text/html": [
       "<table class=\"dataframe\">\n",
       "<caption>A data.table: 14 × 4</caption>\n",
       "<thead>\n",
       "\t<tr><th scope=col>gene</th><th scope=col>ti</th><th scope=col>tv</th><th scope=col>r</th></tr>\n",
       "\t<tr><th scope=col>&lt;chr&gt;</th><th scope=col>&lt;dbl&gt;</th><th scope=col>&lt;dbl&gt;</th><th scope=col>&lt;dbl&gt;</th></tr>\n",
       "</thead>\n",
       "<tbody>\n",
       "\t<tr><td>D-loop </td><td> 8</td><td>21</td><td> 0.3809524</td></tr>\n",
       "\t<tr><td>mt-Co1 </td><td> 2</td><td> 3</td><td> 0.6666667</td></tr>\n",
       "\t<tr><td>mt-Co2 </td><td> 3</td><td> 0</td><td>       Inf</td></tr>\n",
       "\t<tr><td>mt-Co3 </td><td>16</td><td> 3</td><td> 5.3333333</td></tr>\n",
       "\t<tr><td>mt-Cytb</td><td> 3</td><td> 0</td><td>       Inf</td></tr>\n",
       "\t<tr><td>mt-Nd1 </td><td>10</td><td> 1</td><td>10.0000000</td></tr>\n",
       "\t<tr><td>mt-Nd3 </td><td> 6</td><td> 0</td><td>       Inf</td></tr>\n",
       "\t<tr><td>mt-Nd5 </td><td> 6</td><td> 1</td><td> 6.0000000</td></tr>\n",
       "\t<tr><td>mt-Nd6 </td><td>20</td><td> 8</td><td> 2.5000000</td></tr>\n",
       "\t<tr><td>mt-Rnr2</td><td>17</td><td> 0</td><td>       Inf</td></tr>\n",
       "\t<tr><td>mt-Tg  </td><td>14</td><td> 2</td><td> 7.0000000</td></tr>\n",
       "\t<tr><td>mt-Tl1 </td><td>10</td><td> 0</td><td>       Inf</td></tr>\n",
       "\t<tr><td>mt-Tm  </td><td> 1</td><td> 0</td><td>       Inf</td></tr>\n",
       "\t<tr><td>mt-Tq  </td><td> 1</td><td> 0</td><td>       Inf</td></tr>\n",
       "</tbody>\n",
       "</table>\n"
      ],
      "text/latex": [
       "A data.table: 14 × 4\n",
       "\\begin{tabular}{llll}\n",
       " gene & ti & tv & r\\\\\n",
       " <chr> & <dbl> & <dbl> & <dbl>\\\\\n",
       "\\hline\n",
       "\t D-loop  &  8 & 21 &  0.3809524\\\\\n",
       "\t mt-Co1  &  2 &  3 &  0.6666667\\\\\n",
       "\t mt-Co2  &  3 &  0 &        Inf\\\\\n",
       "\t mt-Co3  & 16 &  3 &  5.3333333\\\\\n",
       "\t mt-Cytb &  3 &  0 &        Inf\\\\\n",
       "\t mt-Nd1  & 10 &  1 & 10.0000000\\\\\n",
       "\t mt-Nd3  &  6 &  0 &        Inf\\\\\n",
       "\t mt-Nd5  &  6 &  1 &  6.0000000\\\\\n",
       "\t mt-Nd6  & 20 &  8 &  2.5000000\\\\\n",
       "\t mt-Rnr2 & 17 &  0 &        Inf\\\\\n",
       "\t mt-Tg   & 14 &  2 &  7.0000000\\\\\n",
       "\t mt-Tl1  & 10 &  0 &        Inf\\\\\n",
       "\t mt-Tm   &  1 &  0 &        Inf\\\\\n",
       "\t mt-Tq   &  1 &  0 &        Inf\\\\\n",
       "\\end{tabular}\n"
      ],
      "text/markdown": [
       "\n",
       "A data.table: 14 × 4\n",
       "\n",
       "| gene &lt;chr&gt; | ti &lt;dbl&gt; | tv &lt;dbl&gt; | r &lt;dbl&gt; |\n",
       "|---|---|---|---|\n",
       "| D-loop  |  8 | 21 |  0.3809524 |\n",
       "| mt-Co1  |  2 |  3 |  0.6666667 |\n",
       "| mt-Co2  |  3 |  0 |        Inf |\n",
       "| mt-Co3  | 16 |  3 |  5.3333333 |\n",
       "| mt-Cytb |  3 |  0 |        Inf |\n",
       "| mt-Nd1  | 10 |  1 | 10.0000000 |\n",
       "| mt-Nd3  |  6 |  0 |        Inf |\n",
       "| mt-Nd5  |  6 |  1 |  6.0000000 |\n",
       "| mt-Nd6  | 20 |  8 |  2.5000000 |\n",
       "| mt-Rnr2 | 17 |  0 |        Inf |\n",
       "| mt-Tg   | 14 |  2 |  7.0000000 |\n",
       "| mt-Tl1  | 10 |  0 |        Inf |\n",
       "| mt-Tm   |  1 |  0 |        Inf |\n",
       "| mt-Tq   |  1 |  0 |        Inf |\n",
       "\n"
      ],
      "text/plain": [
       "   gene    ti tv r         \n",
       "1  D-loop   8 21  0.3809524\n",
       "2  mt-Co1   2  3  0.6666667\n",
       "3  mt-Co2   3  0        Inf\n",
       "4  mt-Co3  16  3  5.3333333\n",
       "5  mt-Cytb  3  0        Inf\n",
       "6  mt-Nd1  10  1 10.0000000\n",
       "7  mt-Nd3   6  0        Inf\n",
       "8  mt-Nd5   6  1  6.0000000\n",
       "9  mt-Nd6  20  8  2.5000000\n",
       "10 mt-Rnr2 17  0        Inf\n",
       "11 mt-Tg   14  2  7.0000000\n",
       "12 mt-Tl1  10  0        Inf\n",
       "13 mt-Tm    1  0        Inf\n",
       "14 mt-Tq    1  0        Inf"
      ]
     },
     "metadata": {},
     "output_type": "display_data"
    }
   ],
   "source": [
    "inherited_noctrl_transmat_bygene <- sapply(inherited_noctrl_vep[, sort(unique(gene))], function(g) dcast.data.table(inherited_noctrl_vep[gene == g, .N, by = c(\"ref\", \"alt\")], ref ~ alt, value.var = \"N\"), simplify = FALSE)\n",
    "inherited_noctrl_titv_bygene <- t(sapply(inherited_noctrl_transmat_bygene, function(dt) Genetics$titv(Tools$dt2df(dt))))\n",
    "inherited_noctrl_titv_bygene <- data.table(gene = rownames(inherited_noctrl_titv_bygene), inherited_noctrl_titv_bygene)\n",
    "inherited_noctrl_titv_bygene"
   ]
  },
  {
   "cell_type": "code",
   "execution_count": null,
   "metadata": {
    "vscode": {
     "languageId": "r"
    }
   },
   "outputs": [],
   "source": [
    "fwrite(inherited_noctrl_titv_bygene, file = \"Report/SNVs/impact/inherited_noctrl_titv_bygene.csv\")"
   ]
  },
  {
   "cell_type": "markdown",
   "metadata": {},
   "source": [
    "Transition probability matrix for somatic SNVs"
   ]
  },
  {
   "cell_type": "code",
   "execution_count": 46,
   "metadata": {
    "vscode": {
     "languageId": "r"
    }
   },
   "outputs": [],
   "source": [
    "support_byposmut <- fread(\"Report/SNVs/filter/basediffperc_cutdemux_sub500k_q30_unstranded_highdepth_highaf_qcfltd_support_byposmut.csv\")\n",
    "somatic_noctrl_transmat <- dcast.data.table(support_byposmut[nmice == 1, .N, by = c(\"ref\", \"alt\")], ref ~ alt, value.var = \"N\")\n",
    "\n",
    "vep <- fread(file = \"Report/SNVs/impact/noctrl_vep_unique.csv\")\n",
    "somatic_noctrl_vep <- vep[nmice == 1]\n",
    "somatic_noctrl_vep_nonsynonymous <- somatic_noctrl_vep[class == \"nonsynonymous\"]\n",
    "somatic_noctrl_vep_synonymous <- somatic_noctrl_vep[class  == \"synonymous\"]\n",
    "somatic_noctrl_vep_tRNA <- somatic_noctrl_vep[class == \"tRNA\"]\n",
    "somatic_noctrl_vep_rRNA <- somatic_noctrl_vep[class == \"rRNA\"]\n",
    "somatic_noctrl_vep_dloop <- somatic_noctrl_vep[class == \"D-loop\"]\n",
    "somatic_noctrl_vep_intergenic <- somatic_noctrl_vep[class == \"intergenic\"]\n",
    "\n",
    "somatic_noctrl_vep_synonymous_posmut <- somatic_noctrl_vep_synonymous[, unique(posmut)]\n",
    "somatic_noctrl_vep_nonsynonymous_posmut <- somatic_noctrl_vep_nonsynonymous[, unique(posmut)]\n",
    "somatic_noctrl_vep_tRNA_posmut <- somatic_noctrl_vep_tRNA[, unique(posmut)]\n",
    "somatic_noctrl_vep_rRNA_posmut <- somatic_noctrl_vep_rRNA[, unique(posmut)]\n",
    "somatic_noctrl_vep_dloop_posmut <- somatic_noctrl_vep_dloop[, unique(posmut)]\n",
    "somatic_noctrl_vep_intergenic_posmut <- somatic_noctrl_vep_intergenic[, unique(posmut)]\n",
    "\n",
    "somatic_noctrl_transmat_nonsynonymous <- dcast.data.table(support_byposmut[posmut %in% somatic_noctrl_vep_nonsynonymous_posmut, .N, by = c(\"ref\", \"alt\")], ref ~ alt, value.var = \"N\")\n",
    "somatic_noctrl_transmat_synonymous <- dcast.data.table(support_byposmut[posmut %in% somatic_noctrl_vep_synonymous_posmut, .N, by = c(\"ref\", \"alt\")], ref ~ alt, value.var = \"N\")\n",
    "somatic_noctrl_transmat_tRNA <- dcast.data.table(support_byposmut[posmut %in% somatic_noctrl_vep_tRNA_posmut, .N, by = c(\"ref\", \"alt\")], ref ~ alt, value.var = \"N\")\n",
    "somatic_noctrl_transmat_rRNA <- dcast.data.table(support_byposmut[posmut %in% somatic_noctrl_vep_rRNA_posmut, .N, by = c(\"ref\", \"alt\")], ref ~ alt, value.var = \"N\")\n",
    "somatic_noctrl_transmat_dloop <- dcast.data.table(support_byposmut[posmut %in% somatic_noctrl_vep_dloop_posmut, .N, by = c(\"ref\", \"alt\")], ref ~ alt, value.var = \"N\")\n",
    "somatic_noctrl_transmat_intergenic <- dcast.data.table(support_byposmut[posmut %in% somatic_noctrl_vep_intergenic_posmut, .N, by = c(\"ref\", \"alt\")], ref ~ alt, value.var = \"N\")"
   ]
  },
  {
   "cell_type": "code",
   "execution_count": null,
   "metadata": {
    "vscode": {
     "languageId": "r"
    }
   },
   "outputs": [],
   "source": [
    "Tools$write_xlsx(list(\n",
    "    all = somatic_noctrl_transmat,\n",
    "    nonsynonymous = somatic_noctrl_transmat_nonsynonymous, \n",
    "    synonymous = somatic_noctrl_transmat_synonymous, \n",
    "    tRNA = somatic_noctrl_transmat_tRNA, \n",
    "    rRNA = somatic_noctrl_transmat_rRNA, \n",
    "    dloop = somatic_noctrl_transmat_dloop,\n",
    "    intergenic = somatic_noctrl_transmat_intergenic\n",
    "), file = \"Report/SNVs/impact/somatic_noctrl_transmat.xlsx\", row.names = FALSE)"
   ]
  },
  {
   "cell_type": "markdown",
   "metadata": {},
   "source": [
    "Ti/Tv for somatic SNVs"
   ]
  },
  {
   "cell_type": "code",
   "execution_count": 48,
   "metadata": {
    "vscode": {
     "languageId": "r"
    }
   },
   "outputs": [
    {
     "data": {
      "text/html": [
       "<table class=\"dataframe\">\n",
       "<caption>A data.table: 7 × 4</caption>\n",
       "<thead>\n",
       "\t<tr><th scope=col>class</th><th scope=col>ti</th><th scope=col>tv</th><th scope=col>r</th></tr>\n",
       "\t<tr><th scope=col>&lt;chr&gt;</th><th scope=col>&lt;dbl&gt;</th><th scope=col>&lt;dbl&gt;</th><th scope=col>&lt;dbl&gt;</th></tr>\n",
       "</thead>\n",
       "<tbody>\n",
       "\t<tr><td>all          </td><td>425</td><td>196</td><td>2.168367</td></tr>\n",
       "\t<tr><td>nonsynonymous</td><td>161</td><td>104</td><td>1.548077</td></tr>\n",
       "\t<tr><td>synonymous   </td><td>101</td><td> 14</td><td>7.214286</td></tr>\n",
       "\t<tr><td>tRNA         </td><td> 74</td><td> 28</td><td>2.642857</td></tr>\n",
       "\t<tr><td>rRNA         </td><td> 57</td><td> 34</td><td>1.676471</td></tr>\n",
       "\t<tr><td>dloop        </td><td> 31</td><td> 16</td><td>1.937500</td></tr>\n",
       "\t<tr><td>intergenic   </td><td>  1</td><td>  0</td><td>     Inf</td></tr>\n",
       "</tbody>\n",
       "</table>\n"
      ],
      "text/latex": [
       "A data.table: 7 × 4\n",
       "\\begin{tabular}{llll}\n",
       " class & ti & tv & r\\\\\n",
       " <chr> & <dbl> & <dbl> & <dbl>\\\\\n",
       "\\hline\n",
       "\t all           & 425 & 196 & 2.168367\\\\\n",
       "\t nonsynonymous & 161 & 104 & 1.548077\\\\\n",
       "\t synonymous    & 101 &  14 & 7.214286\\\\\n",
       "\t tRNA          &  74 &  28 & 2.642857\\\\\n",
       "\t rRNA          &  57 &  34 & 1.676471\\\\\n",
       "\t dloop         &  31 &  16 & 1.937500\\\\\n",
       "\t intergenic    &   1 &   0 &      Inf\\\\\n",
       "\\end{tabular}\n"
      ],
      "text/markdown": [
       "\n",
       "A data.table: 7 × 4\n",
       "\n",
       "| class &lt;chr&gt; | ti &lt;dbl&gt; | tv &lt;dbl&gt; | r &lt;dbl&gt; |\n",
       "|---|---|---|---|\n",
       "| all           | 425 | 196 | 2.168367 |\n",
       "| nonsynonymous | 161 | 104 | 1.548077 |\n",
       "| synonymous    | 101 |  14 | 7.214286 |\n",
       "| tRNA          |  74 |  28 | 2.642857 |\n",
       "| rRNA          |  57 |  34 | 1.676471 |\n",
       "| dloop         |  31 |  16 | 1.937500 |\n",
       "| intergenic    |   1 |   0 |      Inf |\n",
       "\n"
      ],
      "text/plain": [
       "  class         ti  tv  r       \n",
       "1 all           425 196 2.168367\n",
       "2 nonsynonymous 161 104 1.548077\n",
       "3 synonymous    101  14 7.214286\n",
       "4 tRNA           74  28 2.642857\n",
       "5 rRNA           57  34 1.676471\n",
       "6 dloop          31  16 1.937500\n",
       "7 intergenic      1   0      Inf"
      ]
     },
     "metadata": {},
     "output_type": "display_data"
    }
   ],
   "source": [
    "somatic_noctrl_titv <- list(\n",
    "    all = Genetics$titv(Tools$dt2df(somatic_noctrl_transmat)), \n",
    "    nonsynonymous = Genetics$titv(Tools$dt2df(somatic_noctrl_transmat_nonsynonymous)),\n",
    "    synonymous = Genetics$titv(Tools$dt2df(somatic_noctrl_transmat_synonymous)),\n",
    "    tRNA = Genetics$titv(Tools$dt2df(somatic_noctrl_transmat_tRNA)),\n",
    "    rRNA = Genetics$titv(Tools$dt2df(somatic_noctrl_transmat_rRNA)),\n",
    "    dloop = Genetics$titv(Tools$dt2df(somatic_noctrl_transmat_dloop)), \n",
    "    intergenic = Genetics$titv(Tools$dt2df(somatic_noctrl_transmat_intergenic)) \n",
    ")\n",
    "somatic_noctrl_titv <- do.call(rbind, somatic_noctrl_titv)\n",
    "somatic_noctrl_titv <- data.table(class = rownames(somatic_noctrl_titv), somatic_noctrl_titv)\n",
    "somatic_noctrl_titv"
   ]
  },
  {
   "cell_type": "code",
   "execution_count": null,
   "metadata": {
    "vscode": {
     "languageId": "r"
    }
   },
   "outputs": [],
   "source": [
    "fwrite(somatic_noctrl_titv, file = \"Report/SNVs/impact/somatic_noctrl_titv.csv\")"
   ]
  },
  {
   "cell_type": "markdown",
   "metadata": {},
   "source": [
    "Ti/Tv per gene"
   ]
  },
  {
   "cell_type": "code",
   "execution_count": null,
   "metadata": {
    "vscode": {
     "languageId": "r"
    }
   },
   "outputs": [
    {
     "data": {
      "text/plain": [
       "gene\n",
       "    D-loop intergenic     mt-Co1     mt-Co2     mt-Co3    mt-Cytb     mt-Nd1 \n",
       "        49          1         49         58         64         31         50 \n",
       "    mt-Nd3     mt-Nd5     mt-Nd6    mt-Rnr2      mt-Tg      mt-Ti     mt-Tl1 \n",
       "        14         54         68         92         32          1         30 \n",
       "     mt-Tm      mt-Tq      mt-Tt \n",
       "        11         27          1 "
      ]
     },
     "metadata": {},
     "output_type": "display_data"
    }
   ],
   "source": [
    "vep <- fread(file = \"Report/SNVs/impact/noctrl_vep_unique.csv\")\n",
    "somatic_noctrl_vep <- vep[nmice == 1]\n",
    "somatic_noctrl_vep[, gene := SYMBOL]\n",
    "somatic_noctrl_vep[, gene := ifelse(gene == \"\", class, gene)]\n",
    "somatic_noctrl_vep[, table(gene)]"
   ]
  },
  {
   "cell_type": "code",
   "execution_count": 51,
   "metadata": {
    "vscode": {
     "languageId": "r"
    }
   },
   "outputs": [
    {
     "data": {
      "text/html": [
       "<table class=\"dataframe\">\n",
       "<caption>A data.table: 17 × 4</caption>\n",
       "<thead>\n",
       "\t<tr><th scope=col>gene</th><th scope=col>ti</th><th scope=col>tv</th><th scope=col>r</th></tr>\n",
       "\t<tr><th scope=col>&lt;chr&gt;</th><th scope=col>&lt;dbl&gt;</th><th scope=col>&lt;dbl&gt;</th><th scope=col>&lt;dbl&gt;</th></tr>\n",
       "</thead>\n",
       "<tbody>\n",
       "\t<tr><td>D-loop    </td><td>31</td><td>16</td><td>1.937500</td></tr>\n",
       "\t<tr><td>intergenic</td><td> 1</td><td> 0</td><td>     Inf</td></tr>\n",
       "\t<tr><td>mt-Co1    </td><td>35</td><td>11</td><td>3.181818</td></tr>\n",
       "\t<tr><td>mt-Co2    </td><td>36</td><td>20</td><td>1.800000</td></tr>\n",
       "\t<tr><td>mt-Co3    </td><td>41</td><td>22</td><td>1.863636</td></tr>\n",
       "\t<tr><td>mt-Cytb   </td><td>20</td><td>10</td><td>2.000000</td></tr>\n",
       "\t<tr><td>mt-Nd1    </td><td>41</td><td> 9</td><td>4.555556</td></tr>\n",
       "\t<tr><td>mt-Nd3    </td><td> 7</td><td> 7</td><td>1.000000</td></tr>\n",
       "\t<tr><td>mt-Nd5    </td><td>39</td><td>15</td><td>2.600000</td></tr>\n",
       "\t<tr><td>mt-Nd6    </td><td>43</td><td>24</td><td>1.791667</td></tr>\n",
       "\t<tr><td>mt-Rnr2   </td><td>57</td><td>34</td><td>1.676471</td></tr>\n",
       "\t<tr><td>mt-Tg     </td><td>23</td><td> 9</td><td>2.555556</td></tr>\n",
       "\t<tr><td>mt-Ti     </td><td> 1</td><td> 0</td><td>     Inf</td></tr>\n",
       "\t<tr><td>mt-Tl1    </td><td>21</td><td> 9</td><td>2.333333</td></tr>\n",
       "\t<tr><td>mt-Tm     </td><td> 6</td><td> 5</td><td>1.200000</td></tr>\n",
       "\t<tr><td>mt-Tq     </td><td>22</td><td> 5</td><td>4.400000</td></tr>\n",
       "\t<tr><td>mt-Tt     </td><td> 1</td><td> 0</td><td>     Inf</td></tr>\n",
       "</tbody>\n",
       "</table>\n"
      ],
      "text/latex": [
       "A data.table: 17 × 4\n",
       "\\begin{tabular}{llll}\n",
       " gene & ti & tv & r\\\\\n",
       " <chr> & <dbl> & <dbl> & <dbl>\\\\\n",
       "\\hline\n",
       "\t D-loop     & 31 & 16 & 1.937500\\\\\n",
       "\t intergenic &  1 &  0 &      Inf\\\\\n",
       "\t mt-Co1     & 35 & 11 & 3.181818\\\\\n",
       "\t mt-Co2     & 36 & 20 & 1.800000\\\\\n",
       "\t mt-Co3     & 41 & 22 & 1.863636\\\\\n",
       "\t mt-Cytb    & 20 & 10 & 2.000000\\\\\n",
       "\t mt-Nd1     & 41 &  9 & 4.555556\\\\\n",
       "\t mt-Nd3     &  7 &  7 & 1.000000\\\\\n",
       "\t mt-Nd5     & 39 & 15 & 2.600000\\\\\n",
       "\t mt-Nd6     & 43 & 24 & 1.791667\\\\\n",
       "\t mt-Rnr2    & 57 & 34 & 1.676471\\\\\n",
       "\t mt-Tg      & 23 &  9 & 2.555556\\\\\n",
       "\t mt-Ti      &  1 &  0 &      Inf\\\\\n",
       "\t mt-Tl1     & 21 &  9 & 2.333333\\\\\n",
       "\t mt-Tm      &  6 &  5 & 1.200000\\\\\n",
       "\t mt-Tq      & 22 &  5 & 4.400000\\\\\n",
       "\t mt-Tt      &  1 &  0 &      Inf\\\\\n",
       "\\end{tabular}\n"
      ],
      "text/markdown": [
       "\n",
       "A data.table: 17 × 4\n",
       "\n",
       "| gene &lt;chr&gt; | ti &lt;dbl&gt; | tv &lt;dbl&gt; | r &lt;dbl&gt; |\n",
       "|---|---|---|---|\n",
       "| D-loop     | 31 | 16 | 1.937500 |\n",
       "| intergenic |  1 |  0 |      Inf |\n",
       "| mt-Co1     | 35 | 11 | 3.181818 |\n",
       "| mt-Co2     | 36 | 20 | 1.800000 |\n",
       "| mt-Co3     | 41 | 22 | 1.863636 |\n",
       "| mt-Cytb    | 20 | 10 | 2.000000 |\n",
       "| mt-Nd1     | 41 |  9 | 4.555556 |\n",
       "| mt-Nd3     |  7 |  7 | 1.000000 |\n",
       "| mt-Nd5     | 39 | 15 | 2.600000 |\n",
       "| mt-Nd6     | 43 | 24 | 1.791667 |\n",
       "| mt-Rnr2    | 57 | 34 | 1.676471 |\n",
       "| mt-Tg      | 23 |  9 | 2.555556 |\n",
       "| mt-Ti      |  1 |  0 |      Inf |\n",
       "| mt-Tl1     | 21 |  9 | 2.333333 |\n",
       "| mt-Tm      |  6 |  5 | 1.200000 |\n",
       "| mt-Tq      | 22 |  5 | 4.400000 |\n",
       "| mt-Tt      |  1 |  0 |      Inf |\n",
       "\n"
      ],
      "text/plain": [
       "   gene       ti tv r       \n",
       "1  D-loop     31 16 1.937500\n",
       "2  intergenic  1  0      Inf\n",
       "3  mt-Co1     35 11 3.181818\n",
       "4  mt-Co2     36 20 1.800000\n",
       "5  mt-Co3     41 22 1.863636\n",
       "6  mt-Cytb    20 10 2.000000\n",
       "7  mt-Nd1     41  9 4.555556\n",
       "8  mt-Nd3      7  7 1.000000\n",
       "9  mt-Nd5     39 15 2.600000\n",
       "10 mt-Nd6     43 24 1.791667\n",
       "11 mt-Rnr2    57 34 1.676471\n",
       "12 mt-Tg      23  9 2.555556\n",
       "13 mt-Ti       1  0      Inf\n",
       "14 mt-Tl1     21  9 2.333333\n",
       "15 mt-Tm       6  5 1.200000\n",
       "16 mt-Tq      22  5 4.400000\n",
       "17 mt-Tt       1  0      Inf"
      ]
     },
     "metadata": {},
     "output_type": "display_data"
    }
   ],
   "source": [
    "somatic_noctrl_transmat_bygene <- sapply(somatic_noctrl_vep[, sort(unique(gene))], function(g) dcast.data.table(somatic_noctrl_vep[gene == g, .N, by = c(\"ref\", \"alt\")], ref ~ alt, value.var = \"N\"), simplify = FALSE)\n",
    "somatic_noctrl_titv_bygene <- t(sapply(somatic_noctrl_transmat_bygene, function(dt) Genetics$titv(Tools$dt2df(dt))))\n",
    "somatic_noctrl_titv_bygene <- data.table(gene = rownames(somatic_noctrl_titv_bygene), somatic_noctrl_titv_bygene)\n",
    "somatic_noctrl_titv_bygene"
   ]
  },
  {
   "cell_type": "code",
   "execution_count": null,
   "metadata": {
    "vscode": {
     "languageId": "r"
    }
   },
   "outputs": [],
   "source": [
    "fwrite(somatic_noctrl_titv_bygene, file = \"Report/SNVs/impact/somatic_noctrl_titv_bygene.csv\")"
   ]
  },
  {
   "cell_type": "markdown",
   "metadata": {},
   "source": [
    "Somatic vs. inherited SNVs"
   ]
  },
  {
   "cell_type": "code",
   "execution_count": 53,
   "metadata": {
    "vscode": {
     "languageId": "r"
    }
   },
   "outputs": [],
   "source": [
    "somatic_noctrl_nsnvs_bygene <- somatic_noctrl_vep[, list(nsnvs = .N, origin = \"somatic\"), by = c(\"gene\")]\n",
    "somatic_noctrl_nsnvs_bygene[, psnvs := nsnvs / sum(nsnvs) * 100]\n",
    "inherited_noctrl_nsnvs_bygene <- inherited_noctrl_vep[, list(nsnvs = .N, origin = \"inherited\"), by = c(\"gene\")]\n",
    "inherited_noctrl_nsnvs_bygene[, psnvs := nsnvs / sum(nsnvs) * 100]\n",
    "comparison_noctrl_nsnvs_bygene <- rbind(somatic_noctrl_nsnvs_bygene, inherited_noctrl_nsnvs_bygene)\n",
    "comparison_noctrl_nsnvs_bygene[, origin := factor(origin, levels = c(\"somatic\", \"inherited\"))]"
   ]
  },
  {
   "cell_type": "code",
   "execution_count": 54,
   "metadata": {
    "vscode": {
     "languageId": "r"
    }
   },
   "outputs": [
    {
     "data": {
      "image/png": "[encoded data removed]",
      "text/plain": [
       "plot without title"
      ]
     },
     "metadata": {
      "image/png": {
       "height": 216,
       "width": 252
      }
     },
     "output_type": "display_data"
    }
   ],
   "source": [
    "options(repr.plot.width = 7, repr.plot.height = 6, repr.plot.res = 72)\n",
    "ggplot(comparison_noctrl_nsnvs_bygene, aes(x = gene, fill = origin, y = psnvs)) + geom_bar(stat = \"identity\", position = position_dodge2(preserve = \"single\")) + scale_x_discrete(limits = c(inherited_noctrl_nsnvs_bygene[order(-psnvs), gene], setdiff(somatic_noctrl_nsnvs_bygene[, gene], inherited_noctrl_nsnvs_bygene[, gene]))) + theme_classic(base_size = 16) + theme(axis.text.x = element_text(angle = 45, vjust = 1, hjust = 1)) + xlab(\"\") + ylab(\"% of SNVs from either origin\") + scale_fill_brewer(palette = \"Set1\")"
   ]
  },
  {
   "cell_type": "markdown",
   "metadata": {},
   "source": [
    "SNV rate: expected SNV sites per gene, observed SNV sites per gene for somatic and for inherited SNVs"
   ]
  },
  {
   "cell_type": "code",
   "execution_count": 55,
   "metadata": {
    "vscode": {
     "languageId": "r"
    }
   },
   "outputs": [],
   "source": [
    "somatic_noctrl_npos_bygene[, npos_expected := somatic_noctrl_npos_bygene[, sum(npos)] * nbases_covered / sum(nbases_covered)]\n",
    "inherited_noctrl_npos_bygene[, npos_expected := inherited_noctrl_npos_bygene[, sum(npos)] * nbases_covered / sum(nbases_covered)]\n",
    "somatic_noctrl_npos_bygene[, ratio := npos / npos_expected]\n",
    "inherited_noctrl_npos_bygene[, ratio := npos / npos_expected]\n",
    "somatic_noctrl_npos_bygene[, origin := \"somatic\"]\n",
    "inherited_noctrl_npos_bygene[, origin := \"inherited\"]\n",
    "comparison_noctrl_npos_bygene <- rbind(somatic_noctrl_npos_bygene, inherited_noctrl_npos_bygene)"
   ]
  },
  {
   "cell_type": "code",
   "execution_count": 56,
   "metadata": {
    "vscode": {
     "languageId": "r"
    }
   },
   "outputs": [
    {
     "data": {
      "image/png": "[encoded data removed]",
      "text/plain": [
       "plot without title"
      ]
     },
     "metadata": {
      "image/png": {
       "height": 216,
       "width": 252
      }
     },
     "output_type": "display_data"
    }
   ],
   "source": [
    "options(repr.plot.width = 7, repr.plot.height = 6, repr.plot.res = 72)\n",
    "ggplot(comparison_noctrl_npos_bygene, aes(x = gene, y = log2(ratio), fill = origin)) + geom_bar(stat = \"identity\", position = position_dodge2(preserve = \"single\")) + scale_x_discrete(limits = c(inherited_noctrl_npos_bygene[order(-ratio), gene], setdiff(somatic_noctrl_npos_bygene[, gene], inherited_noctrl_npos_bygene[, gene])[c(3, 1, 2)])) + theme_classic(base_size = 16) + theme(axis.text.x = element_text(angle = 45, vjust = 1, hjust = 1)) + xlab(\"\") + ylab(\"normalized mutation rate (log2)\") + scale_fill_brewer(palette = \"Set1\")"
   ]
  },
  {
   "cell_type": "markdown",
   "metadata": {},
   "source": [
    "SNV rate by functional class (coding vs noncoding) for inherited vs somatic SNVs"
   ]
  },
  {
   "cell_type": "code",
   "execution_count": 57,
   "metadata": {
    "vscode": {
     "languageId": "r"
    }
   },
   "outputs": [],
   "source": [
    "comparison_noctrl_npos_bygene <- fread(file = \"Report/SNVs/impact/comparison_noctrl_npos_bygene.csv\")\n",
    "comparison_noctrl_npos_byclass <- rbind(\n",
    "    comparison_noctrl_npos_bygene[origin == \"inherited\" & gene %like% \"Atp|Nd|Co|Cytb\", list(origin = \"inherited\", class = \"coding\", nbases_covered = sum(nbases_covered), npos = sum(npos))], \n",
    "    comparison_noctrl_npos_bygene[origin == \"inherited\" & ! gene %like% \"Atp|Nd|Co|Cytb\", list(origin = \"inherited\", class = \"noncoding\", nbases_covered = sum(nbases_covered), npos = sum(npos))], \n",
    "    comparison_noctrl_npos_bygene[origin == \"somatic\" & gene %like% \"Atp|Nd|Co|Cytb\", list(origin = \"somatic\", class = \"coding\", nbases_covered = sum(nbases_covered), npos = sum(npos))], \n",
    "    comparison_noctrl_npos_bygene[origin == \"somatic\" & ! gene %like% \"Atp|Nd|Co|Cytb\", list(origin = \"somatic\", class = \"noncoding\", nbases_covered = sum(nbases_covered), npos = sum(npos))]\n",
    ")"
   ]
  },
  {
   "cell_type": "code",
   "execution_count": 58,
   "metadata": {
    "vscode": {
     "languageId": "r"
    }
   },
   "outputs": [
    {
     "data": {
      "image/png": "[encoded data removed]",
      "text/plain": [
       "plot without title"
      ]
     },
     "metadata": {
      "image/png": {
       "height": 216,
       "width": 162
      }
     },
     "output_type": "display_data"
    }
   ],
   "source": [
    "options(repr.plot.width = 4.5, repr.plot.height = 6, repr.plot.res = 72)\n",
    "ggplot(comparison_noctrl_npos_byclass, aes(x = origin, y = npos / nbases_covered, fill = class)) + geom_bar(stat = \"identity\", position = \"dodge\") + theme_classic(16) + xlab(\"\") + ylab(\"Number of SNV site per base\") + scale_fill_brewer(palette = \"Set1\")"
   ]
  },
  {
   "cell_type": "code",
   "execution_count": 59,
   "metadata": {
    "vscode": {
     "languageId": "r"
    }
   },
   "outputs": [
    {
     "data": {
      "text/plain": [
       "\n",
       "\tFisher's Exact Test for Count Data\n",
       "\n",
       "data:  as.matrix(comparison_noctrl_npos_byclass[origin == \"inherited\", list(nbases_covered, npos)])\n",
       "p-value = 0.02842\n",
       "alternative hypothesis: true odds ratio is not equal to 1\n",
       "95 percent confidence interval:\n",
       " 1.033391 2.083782\n",
       "sample estimates:\n",
       "odds ratio \n",
       "  1.468354 \n"
      ]
     },
     "metadata": {},
     "output_type": "display_data"
    }
   ],
   "source": [
    "fisher.test(as.matrix(comparison_noctrl_npos_byclass[origin == \"inherited\", list(nbases_covered, npos)]))"
   ]
  },
  {
   "cell_type": "code",
   "execution_count": 60,
   "metadata": {
    "vscode": {
     "languageId": "r"
    }
   },
   "outputs": [
    {
     "data": {
      "text/plain": [
       "\n",
       "\tFisher's Exact Test for Count Data\n",
       "\n",
       "data:  as.matrix(comparison_noctrl_npos_byclass[origin == \"somatic\", list(nbases_covered, npos)])\n",
       "p-value = 0.8377\n",
       "alternative hypothesis: true odds ratio is not equal to 1\n",
       "95 percent confidence interval:\n",
       " 0.8317907 1.2553468\n",
       "sample estimates:\n",
       "odds ratio \n",
       "  1.022407 \n"
      ]
     },
     "metadata": {},
     "output_type": "display_data"
    }
   ],
   "source": [
    "fisher.test(as.matrix(comparison_noctrl_npos_byclass[origin == \"somatic\", list(nbases_covered, npos)]))"
   ]
  },
  {
   "cell_type": "markdown",
   "metadata": {},
   "source": [
    "ti/tv comparison for inherited vs somatic SNVs"
   ]
  },
  {
   "cell_type": "code",
   "execution_count": 61,
   "metadata": {
    "vscode": {
     "languageId": "r"
    }
   },
   "outputs": [
    {
     "data": {
      "text/html": [
       "<table class=\"dataframe\">\n",
       "<caption>A data.table: 13 × 5</caption>\n",
       "<thead>\n",
       "\t<tr><th scope=col>class</th><th scope=col>ti</th><th scope=col>tv</th><th scope=col>r</th><th scope=col>origin</th></tr>\n",
       "\t<tr><th scope=col>&lt;chr&gt;</th><th scope=col>&lt;int&gt;</th><th scope=col>&lt;int&gt;</th><th scope=col>&lt;dbl&gt;</th><th scope=col>&lt;chr&gt;</th></tr>\n",
       "</thead>\n",
       "<tbody>\n",
       "\t<tr><td>average   </td><td>117</td><td> 39</td><td> 3.0000000</td><td>inherited</td></tr>\n",
       "\t<tr><td>nonsyn    </td><td> 44</td><td> 14</td><td> 3.1428571</td><td>inherited</td></tr>\n",
       "\t<tr><td>syn       </td><td> 22</td><td>  2</td><td>11.0000000</td><td>inherited</td></tr>\n",
       "\t<tr><td>tRNA      </td><td> 26</td><td>  2</td><td>13.0000000</td><td>inherited</td></tr>\n",
       "\t<tr><td>rRNA      </td><td> 17</td><td>  0</td><td>       Inf</td><td>inherited</td></tr>\n",
       "\t<tr><td>D-loop    </td><td>  8</td><td> 21</td><td> 0.3809524</td><td>inherited</td></tr>\n",
       "\t<tr><td>average   </td><td>425</td><td>196</td><td> 2.1683673</td><td>somatic  </td></tr>\n",
       "\t<tr><td>nonsyn    </td><td>161</td><td>104</td><td> 1.5480769</td><td>somatic  </td></tr>\n",
       "\t<tr><td>syn       </td><td>101</td><td> 14</td><td> 7.2142857</td><td>somatic  </td></tr>\n",
       "\t<tr><td>tRNA      </td><td> 74</td><td> 28</td><td> 2.6428571</td><td>somatic  </td></tr>\n",
       "\t<tr><td>rRNA      </td><td> 57</td><td> 34</td><td> 1.6764706</td><td>somatic  </td></tr>\n",
       "\t<tr><td>D-loop    </td><td> 31</td><td> 16</td><td> 1.9375000</td><td>somatic  </td></tr>\n",
       "\t<tr><td>intergenic</td><td>  1</td><td>  0</td><td>       Inf</td><td>somatic  </td></tr>\n",
       "</tbody>\n",
       "</table>\n"
      ],
      "text/latex": [
       "A data.table: 13 × 5\n",
       "\\begin{tabular}{lllll}\n",
       " class & ti & tv & r & origin\\\\\n",
       " <chr> & <int> & <int> & <dbl> & <chr>\\\\\n",
       "\\hline\n",
       "\t average    & 117 &  39 &  3.0000000 & inherited\\\\\n",
       "\t nonsyn     &  44 &  14 &  3.1428571 & inherited\\\\\n",
       "\t syn        &  22 &   2 & 11.0000000 & inherited\\\\\n",
       "\t tRNA       &  26 &   2 & 13.0000000 & inherited\\\\\n",
       "\t rRNA       &  17 &   0 &        Inf & inherited\\\\\n",
       "\t D-loop     &   8 &  21 &  0.3809524 & inherited\\\\\n",
       "\t average    & 425 & 196 &  2.1683673 & somatic  \\\\\n",
       "\t nonsyn     & 161 & 104 &  1.5480769 & somatic  \\\\\n",
       "\t syn        & 101 &  14 &  7.2142857 & somatic  \\\\\n",
       "\t tRNA       &  74 &  28 &  2.6428571 & somatic  \\\\\n",
       "\t rRNA       &  57 &  34 &  1.6764706 & somatic  \\\\\n",
       "\t D-loop     &  31 &  16 &  1.9375000 & somatic  \\\\\n",
       "\t intergenic &   1 &   0 &        Inf & somatic  \\\\\n",
       "\\end{tabular}\n"
      ],
      "text/markdown": [
       "\n",
       "A data.table: 13 × 5\n",
       "\n",
       "| class &lt;chr&gt; | ti &lt;int&gt; | tv &lt;int&gt; | r &lt;dbl&gt; | origin &lt;chr&gt; |\n",
       "|---|---|---|---|---|\n",
       "| average    | 117 |  39 |  3.0000000 | inherited |\n",
       "| nonsyn     |  44 |  14 |  3.1428571 | inherited |\n",
       "| syn        |  22 |   2 | 11.0000000 | inherited |\n",
       "| tRNA       |  26 |   2 | 13.0000000 | inherited |\n",
       "| rRNA       |  17 |   0 |        Inf | inherited |\n",
       "| D-loop     |   8 |  21 |  0.3809524 | inherited |\n",
       "| average    | 425 | 196 |  2.1683673 | somatic   |\n",
       "| nonsyn     | 161 | 104 |  1.5480769 | somatic   |\n",
       "| syn        | 101 |  14 |  7.2142857 | somatic   |\n",
       "| tRNA       |  74 |  28 |  2.6428571 | somatic   |\n",
       "| rRNA       |  57 |  34 |  1.6764706 | somatic   |\n",
       "| D-loop     |  31 |  16 |  1.9375000 | somatic   |\n",
       "| intergenic |   1 |   0 |        Inf | somatic   |\n",
       "\n"
      ],
      "text/plain": [
       "   class      ti  tv  r          origin   \n",
       "1  average    117  39  3.0000000 inherited\n",
       "2  nonsyn      44  14  3.1428571 inherited\n",
       "3  syn         22   2 11.0000000 inherited\n",
       "4  tRNA        26   2 13.0000000 inherited\n",
       "5  rRNA        17   0        Inf inherited\n",
       "6  D-loop       8  21  0.3809524 inherited\n",
       "7  average    425 196  2.1683673 somatic  \n",
       "8  nonsyn     161 104  1.5480769 somatic  \n",
       "9  syn        101  14  7.2142857 somatic  \n",
       "10 tRNA        74  28  2.6428571 somatic  \n",
       "11 rRNA        57  34  1.6764706 somatic  \n",
       "12 D-loop      31  16  1.9375000 somatic  \n",
       "13 intergenic   1   0        Inf somatic  "
      ]
     },
     "metadata": {},
     "output_type": "display_data"
    }
   ],
   "source": [
    "inherited_noctrl_titv <- fread(file = \"Report/SNVs/impact/inherited_noctrl_titv.csv\")\n",
    "somatic_noctrl_titv <- fread(file = \"Report/SNVs/impact/somatic_noctrl_titv.csv\")\n",
    "inherited_noctrl_titv[, origin := \"inherited\"]\n",
    "somatic_noctrl_titv[, origin := \"somatic\"]\n",
    "comparison_noctrl_titv <- rbind(inherited_noctrl_titv, somatic_noctrl_titv)\n",
    "comparison_noctrl_titv[class == \"all\", class := \"average\"]\n",
    "comparison_noctrl_titv[class == \"synonymous\", class := \"syn\"]\n",
    "comparison_noctrl_titv[class == \"nonsynonymous\", class := \"nonsyn\"]\n",
    "comparison_noctrl_titv[class == \"dloop\", class := \"D-loop\"]\n",
    "comparison_noctrl_titv"
   ]
  },
  {
   "cell_type": "code",
   "execution_count": null,
   "metadata": {
    "vscode": {
     "languageId": "r"
    }
   },
   "outputs": [],
   "source": [
    "fwrite(comparison_noctrl_titv, file = \"Report/SNVs/impact/comparison_noctrl_titv.csv\")"
   ]
  },
  {
   "cell_type": "code",
   "execution_count": 63,
   "metadata": {
    "vscode": {
     "languageId": "r"
    }
   },
   "outputs": [
    {
     "data": {
      "image/png": "[encoded data removed]",
      "text/plain": [
       "plot without title"
      ]
     },
     "metadata": {
      "image/png": {
       "height": 216,
       "width": 252
      }
     },
     "output_type": "display_data"
    }
   ],
   "source": [
    "options(repr.plot.width = 7, repr.plot.height = 6, repr.plot.res = 72)\n",
    "ggplot(comparison_noctrl_titv, aes(x = class, fill = origin, y = r)) + geom_bar(stat = \"identity\", position = position_dodge2(preserve = \"single\")) + scale_x_discrete(limits = c(comparison_noctrl_titv[origin == \"inherited\"][order(-r), class], \"intergenic\")) + theme_classic(base_size = 16)  + xlab(\"\") + ylab(\"Ti/Tv\") + scale_fill_brewer(palette = \"Set1\") + scale_y_continuous(breaks = seq(0, 12, by = 2)) ## + theme(axis.text.x = element_text(angle = 45, vjust = 1, hjust = 1))"
   ]
  },
  {
   "cell_type": "code",
   "execution_count": 64,
   "metadata": {
    "vscode": {
     "languageId": "r"
    }
   },
   "outputs": [
    {
     "data": {
      "text/html": [
       "<table class=\"dataframe\">\n",
       "<caption>A data.table: 31 × 5</caption>\n",
       "<thead>\n",
       "\t<tr><th scope=col>gene</th><th scope=col>ti</th><th scope=col>tv</th><th scope=col>r</th><th scope=col>origin</th></tr>\n",
       "\t<tr><th scope=col>&lt;chr&gt;</th><th scope=col>&lt;dbl&gt;</th><th scope=col>&lt;dbl&gt;</th><th scope=col>&lt;dbl&gt;</th><th scope=col>&lt;chr&gt;</th></tr>\n",
       "</thead>\n",
       "<tbody>\n",
       "\t<tr><td>D-loop    </td><td> 8</td><td>21</td><td> 0.3809524</td><td>inherited</td></tr>\n",
       "\t<tr><td>mt-Co1    </td><td> 2</td><td> 3</td><td> 0.6666667</td><td>inherited</td></tr>\n",
       "\t<tr><td>mt-Co2    </td><td> 3</td><td> 0</td><td>       Inf</td><td>inherited</td></tr>\n",
       "\t<tr><td>mt-Co3    </td><td>16</td><td> 3</td><td> 5.3333333</td><td>inherited</td></tr>\n",
       "\t<tr><td>mt-Cytb   </td><td> 3</td><td> 0</td><td>       Inf</td><td>inherited</td></tr>\n",
       "\t<tr><td>mt-Nd1    </td><td>10</td><td> 1</td><td>10.0000000</td><td>inherited</td></tr>\n",
       "\t<tr><td>mt-Nd3    </td><td> 6</td><td> 0</td><td>       Inf</td><td>inherited</td></tr>\n",
       "\t<tr><td>mt-Nd5    </td><td> 6</td><td> 1</td><td> 6.0000000</td><td>inherited</td></tr>\n",
       "\t<tr><td>mt-Nd6    </td><td>20</td><td> 8</td><td> 2.5000000</td><td>inherited</td></tr>\n",
       "\t<tr><td>mt-Rnr2   </td><td>17</td><td> 0</td><td>       Inf</td><td>inherited</td></tr>\n",
       "\t<tr><td>mt-Tg     </td><td>14</td><td> 2</td><td> 7.0000000</td><td>inherited</td></tr>\n",
       "\t<tr><td>mt-Tl1    </td><td>10</td><td> 0</td><td>       Inf</td><td>inherited</td></tr>\n",
       "\t<tr><td>mt-Tm     </td><td> 1</td><td> 0</td><td>       Inf</td><td>inherited</td></tr>\n",
       "\t<tr><td>mt-Tq     </td><td> 1</td><td> 0</td><td>       Inf</td><td>inherited</td></tr>\n",
       "\t<tr><td>D-loop    </td><td>31</td><td>16</td><td> 1.9375000</td><td>somatic  </td></tr>\n",
       "\t<tr><td>intergenic</td><td> 1</td><td> 0</td><td>       Inf</td><td>somatic  </td></tr>\n",
       "\t<tr><td>mt-Co1    </td><td>35</td><td>11</td><td> 3.1818182</td><td>somatic  </td></tr>\n",
       "\t<tr><td>mt-Co2    </td><td>36</td><td>20</td><td> 1.8000000</td><td>somatic  </td></tr>\n",
       "\t<tr><td>mt-Co3    </td><td>41</td><td>22</td><td> 1.8636364</td><td>somatic  </td></tr>\n",
       "\t<tr><td>mt-Cytb   </td><td>20</td><td>10</td><td> 2.0000000</td><td>somatic  </td></tr>\n",
       "\t<tr><td>mt-Nd1    </td><td>41</td><td> 9</td><td> 4.5555556</td><td>somatic  </td></tr>\n",
       "\t<tr><td>mt-Nd3    </td><td> 7</td><td> 7</td><td> 1.0000000</td><td>somatic  </td></tr>\n",
       "\t<tr><td>mt-Nd5    </td><td>39</td><td>15</td><td> 2.6000000</td><td>somatic  </td></tr>\n",
       "\t<tr><td>mt-Nd6    </td><td>43</td><td>24</td><td> 1.7916667</td><td>somatic  </td></tr>\n",
       "\t<tr><td>mt-Rnr2   </td><td>57</td><td>34</td><td> 1.6764706</td><td>somatic  </td></tr>\n",
       "\t<tr><td>mt-Tg     </td><td>23</td><td> 9</td><td> 2.5555556</td><td>somatic  </td></tr>\n",
       "\t<tr><td>mt-Ti     </td><td> 1</td><td> 0</td><td>       Inf</td><td>somatic  </td></tr>\n",
       "\t<tr><td>mt-Tl1    </td><td>21</td><td> 9</td><td> 2.3333333</td><td>somatic  </td></tr>\n",
       "\t<tr><td>mt-Tm     </td><td> 6</td><td> 5</td><td> 1.2000000</td><td>somatic  </td></tr>\n",
       "\t<tr><td>mt-Tq     </td><td>22</td><td> 5</td><td> 4.4000000</td><td>somatic  </td></tr>\n",
       "\t<tr><td>mt-Tt     </td><td> 1</td><td> 0</td><td>       Inf</td><td>somatic  </td></tr>\n",
       "</tbody>\n",
       "</table>\n"
      ],
      "text/latex": [
       "A data.table: 31 × 5\n",
       "\\begin{tabular}{lllll}\n",
       " gene & ti & tv & r & origin\\\\\n",
       " <chr> & <dbl> & <dbl> & <dbl> & <chr>\\\\\n",
       "\\hline\n",
       "\t D-loop     &  8 & 21 &  0.3809524 & inherited\\\\\n",
       "\t mt-Co1     &  2 &  3 &  0.6666667 & inherited\\\\\n",
       "\t mt-Co2     &  3 &  0 &        Inf & inherited\\\\\n",
       "\t mt-Co3     & 16 &  3 &  5.3333333 & inherited\\\\\n",
       "\t mt-Cytb    &  3 &  0 &        Inf & inherited\\\\\n",
       "\t mt-Nd1     & 10 &  1 & 10.0000000 & inherited\\\\\n",
       "\t mt-Nd3     &  6 &  0 &        Inf & inherited\\\\\n",
       "\t mt-Nd5     &  6 &  1 &  6.0000000 & inherited\\\\\n",
       "\t mt-Nd6     & 20 &  8 &  2.5000000 & inherited\\\\\n",
       "\t mt-Rnr2    & 17 &  0 &        Inf & inherited\\\\\n",
       "\t mt-Tg      & 14 &  2 &  7.0000000 & inherited\\\\\n",
       "\t mt-Tl1     & 10 &  0 &        Inf & inherited\\\\\n",
       "\t mt-Tm      &  1 &  0 &        Inf & inherited\\\\\n",
       "\t mt-Tq      &  1 &  0 &        Inf & inherited\\\\\n",
       "\t D-loop     & 31 & 16 &  1.9375000 & somatic  \\\\\n",
       "\t intergenic &  1 &  0 &        Inf & somatic  \\\\\n",
       "\t mt-Co1     & 35 & 11 &  3.1818182 & somatic  \\\\\n",
       "\t mt-Co2     & 36 & 20 &  1.8000000 & somatic  \\\\\n",
       "\t mt-Co3     & 41 & 22 &  1.8636364 & somatic  \\\\\n",
       "\t mt-Cytb    & 20 & 10 &  2.0000000 & somatic  \\\\\n",
       "\t mt-Nd1     & 41 &  9 &  4.5555556 & somatic  \\\\\n",
       "\t mt-Nd3     &  7 &  7 &  1.0000000 & somatic  \\\\\n",
       "\t mt-Nd5     & 39 & 15 &  2.6000000 & somatic  \\\\\n",
       "\t mt-Nd6     & 43 & 24 &  1.7916667 & somatic  \\\\\n",
       "\t mt-Rnr2    & 57 & 34 &  1.6764706 & somatic  \\\\\n",
       "\t mt-Tg      & 23 &  9 &  2.5555556 & somatic  \\\\\n",
       "\t mt-Ti      &  1 &  0 &        Inf & somatic  \\\\\n",
       "\t mt-Tl1     & 21 &  9 &  2.3333333 & somatic  \\\\\n",
       "\t mt-Tm      &  6 &  5 &  1.2000000 & somatic  \\\\\n",
       "\t mt-Tq      & 22 &  5 &  4.4000000 & somatic  \\\\\n",
       "\t mt-Tt      &  1 &  0 &        Inf & somatic  \\\\\n",
       "\\end{tabular}\n"
      ],
      "text/markdown": [
       "\n",
       "A data.table: 31 × 5\n",
       "\n",
       "| gene &lt;chr&gt; | ti &lt;dbl&gt; | tv &lt;dbl&gt; | r &lt;dbl&gt; | origin &lt;chr&gt; |\n",
       "|---|---|---|---|---|\n",
       "| D-loop     |  8 | 21 |  0.3809524 | inherited |\n",
       "| mt-Co1     |  2 |  3 |  0.6666667 | inherited |\n",
       "| mt-Co2     |  3 |  0 |        Inf | inherited |\n",
       "| mt-Co3     | 16 |  3 |  5.3333333 | inherited |\n",
       "| mt-Cytb    |  3 |  0 |        Inf | inherited |\n",
       "| mt-Nd1     | 10 |  1 | 10.0000000 | inherited |\n",
       "| mt-Nd3     |  6 |  0 |        Inf | inherited |\n",
       "| mt-Nd5     |  6 |  1 |  6.0000000 | inherited |\n",
       "| mt-Nd6     | 20 |  8 |  2.5000000 | inherited |\n",
       "| mt-Rnr2    | 17 |  0 |        Inf | inherited |\n",
       "| mt-Tg      | 14 |  2 |  7.0000000 | inherited |\n",
       "| mt-Tl1     | 10 |  0 |        Inf | inherited |\n",
       "| mt-Tm      |  1 |  0 |        Inf | inherited |\n",
       "| mt-Tq      |  1 |  0 |        Inf | inherited |\n",
       "| D-loop     | 31 | 16 |  1.9375000 | somatic   |\n",
       "| intergenic |  1 |  0 |        Inf | somatic   |\n",
       "| mt-Co1     | 35 | 11 |  3.1818182 | somatic   |\n",
       "| mt-Co2     | 36 | 20 |  1.8000000 | somatic   |\n",
       "| mt-Co3     | 41 | 22 |  1.8636364 | somatic   |\n",
       "| mt-Cytb    | 20 | 10 |  2.0000000 | somatic   |\n",
       "| mt-Nd1     | 41 |  9 |  4.5555556 | somatic   |\n",
       "| mt-Nd3     |  7 |  7 |  1.0000000 | somatic   |\n",
       "| mt-Nd5     | 39 | 15 |  2.6000000 | somatic   |\n",
       "| mt-Nd6     | 43 | 24 |  1.7916667 | somatic   |\n",
       "| mt-Rnr2    | 57 | 34 |  1.6764706 | somatic   |\n",
       "| mt-Tg      | 23 |  9 |  2.5555556 | somatic   |\n",
       "| mt-Ti      |  1 |  0 |        Inf | somatic   |\n",
       "| mt-Tl1     | 21 |  9 |  2.3333333 | somatic   |\n",
       "| mt-Tm      |  6 |  5 |  1.2000000 | somatic   |\n",
       "| mt-Tq      | 22 |  5 |  4.4000000 | somatic   |\n",
       "| mt-Tt      |  1 |  0 |        Inf | somatic   |\n",
       "\n"
      ],
      "text/plain": [
       "   gene       ti tv r          origin   \n",
       "1  D-loop      8 21  0.3809524 inherited\n",
       "2  mt-Co1      2  3  0.6666667 inherited\n",
       "3  mt-Co2      3  0        Inf inherited\n",
       "4  mt-Co3     16  3  5.3333333 inherited\n",
       "5  mt-Cytb     3  0        Inf inherited\n",
       "6  mt-Nd1     10  1 10.0000000 inherited\n",
       "7  mt-Nd3      6  0        Inf inherited\n",
       "8  mt-Nd5      6  1  6.0000000 inherited\n",
       "9  mt-Nd6     20  8  2.5000000 inherited\n",
       "10 mt-Rnr2    17  0        Inf inherited\n",
       "11 mt-Tg      14  2  7.0000000 inherited\n",
       "12 mt-Tl1     10  0        Inf inherited\n",
       "13 mt-Tm       1  0        Inf inherited\n",
       "14 mt-Tq       1  0        Inf inherited\n",
       "15 D-loop     31 16  1.9375000 somatic  \n",
       "16 intergenic  1  0        Inf somatic  \n",
       "17 mt-Co1     35 11  3.1818182 somatic  \n",
       "18 mt-Co2     36 20  1.8000000 somatic  \n",
       "19 mt-Co3     41 22  1.8636364 somatic  \n",
       "20 mt-Cytb    20 10  2.0000000 somatic  \n",
       "21 mt-Nd1     41  9  4.5555556 somatic  \n",
       "22 mt-Nd3      7  7  1.0000000 somatic  \n",
       "23 mt-Nd5     39 15  2.6000000 somatic  \n",
       "24 mt-Nd6     43 24  1.7916667 somatic  \n",
       "25 mt-Rnr2    57 34  1.6764706 somatic  \n",
       "26 mt-Tg      23  9  2.5555556 somatic  \n",
       "27 mt-Ti       1  0        Inf somatic  \n",
       "28 mt-Tl1     21  9  2.3333333 somatic  \n",
       "29 mt-Tm       6  5  1.2000000 somatic  \n",
       "30 mt-Tq      22  5  4.4000000 somatic  \n",
       "31 mt-Tt       1  0        Inf somatic  "
      ]
     },
     "metadata": {},
     "output_type": "display_data"
    }
   ],
   "source": [
    "nherited_noctrl_titv_bygene <- fread(file = \"Report/SNVs/impact/inherited_noctrl_titv_bygene.csv\")\n",
    "somatic_noctrl_titv_bygene <- fread(file = \"Report/SNVs/impact/somatic_noctrl_titv_bygene.csv\")\n",
    "inherited_noctrl_titv_bygene[, origin := \"inherited\"]\n",
    "somatic_noctrl_titv_bygene[, origin := \"somatic\"]\n",
    "comparison_noctrl_titv_bygene <- rbind(inherited_noctrl_titv_bygene, somatic_noctrl_titv_bygene)\n",
    "comparison_noctrl_titv_bygene"
   ]
  },
  {
   "cell_type": "code",
   "execution_count": null,
   "metadata": {
    "vscode": {
     "languageId": "r"
    }
   },
   "outputs": [],
   "source": [
    "fwrite(comparison_noctrl_titv_bygene, file = \"Report/SNVs/impact/comparison_noctrl_titv_bygene.csv\")"
   ]
  },
  {
   "cell_type": "code",
   "execution_count": 66,
   "metadata": {
    "vscode": {
     "languageId": "r"
    }
   },
   "outputs": [
    {
     "name": "stderr",
     "output_type": "stream",
     "text": [
      "Warning message:\n",
      "“\u001b[1m\u001b[22mRemoved 3 rows containing missing values or values outside the scale range\n",
      "(`geom_bar()`).”\n"
     ]
    },
    {
     "data": {
      "image/png": "[encoded data removed]",
      "text/plain": [
       "plot without title"
      ]
     },
     "metadata": {
      "image/png": {
       "height": 216,
       "width": 252
      }
     },
     "output_type": "display_data"
    }
   ],
   "source": [
    "options(repr.plot.width = 7, repr.plot.height = 6, repr.plot.res = 72)\n",
    "ggplot(comparison_noctrl_titv_bygene, aes(x = gene, fill = origin, y = r)) + geom_bar(stat = \"identity\", position = position_dodge2(preserve = \"single\")) + scale_x_discrete(limits = setdiff(unique(c(comparison_noctrl_titv_bygene[origin == \"inherited\"][order(-r), gene], comparison_noctrl_titv_bygene[origin == \"somatic\"][order(r), gene])), c(\"D-loop\", \"intergenic\"))) + theme_classic(base_size = 16)  + xlab(\"\") + ylab(\"Ti/Tv\") + scale_fill_brewer(palette = \"Set1\") + theme(axis.text.x = element_text(angle = 45, vjust = 1, hjust = 1)) + scale_y_continuous(breaks = seq(0, 12, by = 2))\n"
   ]
  },
  {
   "cell_type": "markdown",
   "metadata": {},
   "source": [
    "Ti/Tv by functional class (coding vs noncoding) for inherited vs somatic SNVs"
   ]
  },
  {
   "cell_type": "code",
   "execution_count": 67,
   "metadata": {
    "vscode": {
     "languageId": "r"
    }
   },
   "outputs": [
    {
     "data": {
      "text/html": [
       "<table class=\"dataframe\">\n",
       "<caption>A data.table: 4 × 5</caption>\n",
       "<thead>\n",
       "\t<tr><th scope=col>origin</th><th scope=col>class</th><th scope=col>ti</th><th scope=col>tv</th><th scope=col>r</th></tr>\n",
       "\t<tr><th scope=col>&lt;chr&gt;</th><th scope=col>&lt;chr&gt;</th><th scope=col>&lt;int&gt;</th><th scope=col>&lt;int&gt;</th><th scope=col>&lt;dbl&gt;</th></tr>\n",
       "</thead>\n",
       "<tbody>\n",
       "\t<tr><td>inherited</td><td>coding   </td><td> 66</td><td> 16</td><td>4.125000</td></tr>\n",
       "\t<tr><td>inherited</td><td>noncoding</td><td> 51</td><td> 23</td><td>2.217391</td></tr>\n",
       "\t<tr><td>somatic  </td><td>coding   </td><td>262</td><td>118</td><td>2.220339</td></tr>\n",
       "\t<tr><td>somatic  </td><td>noncoding</td><td>163</td><td> 78</td><td>2.089744</td></tr>\n",
       "</tbody>\n",
       "</table>\n"
      ],
      "text/latex": [
       "A data.table: 4 × 5\n",
       "\\begin{tabular}{lllll}\n",
       " origin & class & ti & tv & r\\\\\n",
       " <chr> & <chr> & <int> & <int> & <dbl>\\\\\n",
       "\\hline\n",
       "\t inherited & coding    &  66 &  16 & 4.125000\\\\\n",
       "\t inherited & noncoding &  51 &  23 & 2.217391\\\\\n",
       "\t somatic   & coding    & 262 & 118 & 2.220339\\\\\n",
       "\t somatic   & noncoding & 163 &  78 & 2.089744\\\\\n",
       "\\end{tabular}\n"
      ],
      "text/markdown": [
       "\n",
       "A data.table: 4 × 5\n",
       "\n",
       "| origin &lt;chr&gt; | class &lt;chr&gt; | ti &lt;int&gt; | tv &lt;int&gt; | r &lt;dbl&gt; |\n",
       "|---|---|---|---|---|\n",
       "| inherited | coding    |  66 |  16 | 4.125000 |\n",
       "| inherited | noncoding |  51 |  23 | 2.217391 |\n",
       "| somatic   | coding    | 262 | 118 | 2.220339 |\n",
       "| somatic   | noncoding | 163 |  78 | 2.089744 |\n",
       "\n"
      ],
      "text/plain": [
       "  origin    class     ti  tv  r       \n",
       "1 inherited coding     66  16 4.125000\n",
       "2 inherited noncoding  51  23 2.217391\n",
       "3 somatic   coding    262 118 2.220339\n",
       "4 somatic   noncoding 163  78 2.089744"
      ]
     },
     "metadata": {},
     "output_type": "display_data"
    }
   ],
   "source": [
    "comparison_noctrl_titv <- fread(file = \"Report/SNVs/impact/comparison_noctrl_titv.csv\")\n",
    "comparison_noctrl_titv_byclass <- rbind(\n",
    "    comparison_noctrl_titv[class != \"average\" & origin == \"inherited\" & class %in% c(\"nonsyn\", \"syn\"), list(origin = \"inherited\", class = \"coding\", ti = sum(ti), tv = sum(tv), r = sum(ti)/sum(tv))], \n",
    "    comparison_noctrl_titv[class != \"average\" & origin == \"inherited\" & !class %in% c(\"nonsyn\", \"syn\"), list(origin = \"inherited\", class = \"noncoding\", ti = sum(ti), tv = sum(tv), r = sum(ti)/sum(tv))], \n",
    "    comparison_noctrl_titv[class != \"average\" & origin == \"somatic\" & class %in% c(\"nonsyn\", \"syn\"), list(origin = \"somatic\", class = \"coding\", ti = sum(ti), tv = sum(tv), r = sum(ti)/sum(tv))], \n",
    "    comparison_noctrl_titv[class != \"average\" & origin == \"somatic\" & !class %in% c(\"nonsyn\", \"syn\"), list(origin = \"somatic\", class = \"noncoding\", ti = sum(ti), tv = sum(tv), r = sum(ti)/sum(tv))]\n",
    ")\n",
    "comparison_noctrl_titv_byclass"
   ]
  },
  {
   "cell_type": "code",
   "execution_count": null,
   "metadata": {
    "vscode": {
     "languageId": "r"
    }
   },
   "outputs": [
    {
     "data": {
      "image/png": "[encoded data removed]",
      "text/plain": [
       "plot without title"
      ]
     },
     "metadata": {
      "image/png": {
       "height": 216,
       "width": 162
      }
     },
     "output_type": "display_data"
    }
   ],
   "source": [
    "options(repr.plot.width = 4.5, repr.plot.height = 6, repr.plot.res = 72)\n",
    "ggplot(comparison_noctrl_titv_byclass, aes(x = origin, fill = class, y = r)) + geom_bar(stat = \"identity\", position = \"dodge\") + theme_classic(base_size = 16)  + xlab(\"\") + ylab(\"Ti/Tv\") + scale_fill_brewer(palette = \"Set1\")"
   ]
  },
  {
   "cell_type": "code",
   "execution_count": 69,
   "metadata": {
    "vscode": {
     "languageId": "r"
    }
   },
   "outputs": [
    {
     "data": {
      "text/plain": [
       "\n",
       "\tFisher's Exact Test for Count Data\n",
       "\n",
       "data:  as.matrix(comparison_noctrl_titv_byclass[origin == \"inherited\", list(ti, tv)])\n",
       "p-value = 0.1006\n",
       "alternative hypothesis: true odds ratio is not equal to 1\n",
       "95 percent confidence interval:\n",
       " 0.8390188 4.1757872\n",
       "sample estimates:\n",
       "odds ratio \n",
       "  1.852849 \n"
      ]
     },
     "metadata": {},
     "output_type": "display_data"
    }
   ],
   "source": [
    "fisher.test(as.matrix(comparison_noctrl_titv_byclass[origin == \"inherited\", list(ti, tv)]))"
   ]
  },
  {
   "cell_type": "code",
   "execution_count": 70,
   "metadata": {
    "vscode": {
     "languageId": "r"
    }
   },
   "outputs": [
    {
     "data": {
      "text/plain": [
       "\n",
       "\tFisher's Exact Test for Count Data\n",
       "\n",
       "data:  as.matrix(comparison_noctrl_titv_byclass[origin == \"somatic\", list(ti, tv)])\n",
       "p-value = 0.7905\n",
       "alternative hypothesis: true odds ratio is not equal to 1\n",
       "95 percent confidence interval:\n",
       " 0.7390601 1.5233002\n",
       "sample estimates:\n",
       "odds ratio \n",
       "  1.062389 \n"
      ]
     },
     "metadata": {},
     "output_type": "display_data"
    }
   ],
   "source": [
    "fisher.test(as.matrix(comparison_noctrl_titv_byclass[origin == \"somatic\", list(ti, tv)]))"
   ]
  },
  {
   "cell_type": "code",
   "execution_count": 71,
   "metadata": {
    "vscode": {
     "languageId": "r"
    }
   },
   "outputs": [
    {
     "data": {
      "text/html": [
       "0.0150482176619308"
      ],
      "text/latex": [
       "0.0150482176619308"
      ],
      "text/markdown": [
       "0.0150482176619308"
      ],
      "text/plain": [
       "[1] 0.01504822"
      ]
     },
     "metadata": {},
     "output_type": "display_data"
    }
   ],
   "source": [
    "pchisq(-2 * (log(0.01) + log(1-0.79)), df = 4, lower.tail = FALSE)"
   ]
  },
  {
   "cell_type": "markdown",
   "metadata": {
    "vscode": {
     "languageId": "r"
    }
   },
   "source": [
    "How about the 2017 dataset?"
   ]
  },
  {
   "cell_type": "code",
   "execution_count": 72,
   "metadata": {
    "vscode": {
     "languageId": "r"
    }
   },
   "outputs": [
    {
     "data": {
      "text/html": [
       "<table class=\"dataframe\">\n",
       "<caption>A data.table: 4 × 5</caption>\n",
       "<thead>\n",
       "\t<tr><th scope=col>ref</th><th scope=col>A</th><th scope=col>C</th><th scope=col>G</th><th scope=col>T</th></tr>\n",
       "\t<tr><th scope=col>&lt;chr&gt;</th><th scope=col>&lt;int&gt;</th><th scope=col>&lt;int&gt;</th><th scope=col>&lt;int&gt;</th><th scope=col>&lt;int&gt;</th></tr>\n",
       "</thead>\n",
       "<tbody>\n",
       "\t<tr><td>A</td><td>NA</td><td> 4</td><td>66</td><td> 7</td></tr>\n",
       "\t<tr><td>C</td><td>16</td><td>NA</td><td> 1</td><td>71</td></tr>\n",
       "\t<tr><td>G</td><td>38</td><td> 1</td><td>NA</td><td> 8</td></tr>\n",
       "\t<tr><td>T</td><td> 5</td><td>67</td><td> 1</td><td>NA</td></tr>\n",
       "</tbody>\n",
       "</table>\n"
      ],
      "text/latex": [
       "A data.table: 4 × 5\n",
       "\\begin{tabular}{lllll}\n",
       " ref & A & C & G & T\\\\\n",
       " <chr> & <int> & <int> & <int> & <int>\\\\\n",
       "\\hline\n",
       "\t A & NA &  4 & 66 &  7\\\\\n",
       "\t C & 16 & NA &  1 & 71\\\\\n",
       "\t G & 38 &  1 & NA &  8\\\\\n",
       "\t T &  5 & 67 &  1 & NA\\\\\n",
       "\\end{tabular}\n"
      ],
      "text/markdown": [
       "\n",
       "A data.table: 4 × 5\n",
       "\n",
       "| ref &lt;chr&gt; | A &lt;int&gt; | C &lt;int&gt; | G &lt;int&gt; | T &lt;int&gt; |\n",
       "|---|---|---|---|---|\n",
       "| A | NA |  4 | 66 |  7 |\n",
       "| C | 16 | NA |  1 | 71 |\n",
       "| G | 38 |  1 | NA |  8 |\n",
       "| T |  5 | 67 |  1 | NA |\n",
       "\n"
      ],
      "text/plain": [
       "  ref A  C  G  T \n",
       "1 A   NA  4 66  7\n",
       "2 C   16 NA  1 71\n",
       "3 G   38  1 NA  8\n",
       "4 T    5 67  1 NA"
      ]
     },
     "metadata": {},
     "output_type": "display_data"
    }
   ],
   "source": [
    "Morris2017_altperc_bymito_byposmut <- fread(file = \"Report/Morris2017/common_altperc_bymito_byposmut.csv\")\n",
    "Morris2017_common_posmut <- data.table(posmut = names(Morris2017_altperc_bymito_byposmut)[-c(1:10)])\n",
    "Morris2017_common_posmut[, pos := as.integer(sapply(strsplit(posmut, \":\"), \"[\", 1))]\n",
    "Morris2017_common_posmut[, ref := sapply(strsplit(sapply(strsplit(posmut, \":\"), \"[\", 2), \">\"), \"[\", 1)]\n",
    "Morris2017_common_posmut[, alt := sapply(strsplit(sapply(strsplit(posmut, \":\"), \"[\", 2), \">\"), \"[\", 2)]\n",
    "fwrite(Morris2017_common_posmut, file = \"Report/SNVs/impact/Morris2017_common_posmut.csv\")\n",
    "Morris2017_common_transmat <- dcast.data.table(Morris2017_common_posmut[, .N, by = c(\"ref\", \"alt\")], ref ~ alt, value.var = \"N\")\n",
    "setkey(Morris2017_common_transmat, ref)\n",
    "Morris2017_common_transmat"
   ]
  },
  {
   "cell_type": "code",
   "execution_count": null,
   "metadata": {
    "vscode": {
     "languageId": "r"
    }
   },
   "outputs": [],
   "source": [
    "fwrite(Morris2017_common_transmat, file = \"Report/SNVs/impact/Morris2017_common_transmat.csv\")"
   ]
  },
  {
   "cell_type": "code",
   "execution_count": 74,
   "metadata": {
    "vscode": {
     "languageId": "r"
    }
   },
   "outputs": [
    {
     "data": {
      "text/html": [
       "<style>\n",
       ".dl-inline {width: auto; margin:0; padding: 0}\n",
       ".dl-inline>dt, .dl-inline>dd {float: none; width: auto; display: inline-block}\n",
       ".dl-inline>dt::after {content: \":\\0020\"; padding-right: .5ex}\n",
       ".dl-inline>dt:not(:first-of-type) {padding-left: .5ex}\n",
       "</style><dl class=dl-inline><dt>ti</dt><dd>242</dd><dt>tv</dt><dd>43</dd><dt>r</dt><dd>5.62790697674419</dd></dl>\n"
      ],
      "text/latex": [
       "\\begin{description*}\n",
       "\\item[ti] 242\n",
       "\\item[tv] 43\n",
       "\\item[r] 5.62790697674419\n",
       "\\end{description*}\n"
      ],
      "text/markdown": [
       "ti\n",
       ":   242tv\n",
       ":   43r\n",
       ":   5.62790697674419\n",
       "\n"
      ],
      "text/plain": [
       "        ti         tv          r \n",
       "242.000000  43.000000   5.627907 "
      ]
     },
     "metadata": {},
     "output_type": "display_data"
    }
   ],
   "source": [
    "Morris2017_common_titv <- Genetics$titv(Tools$dt2df(Morris2017_common_transmat))\n",
    "Morris2017_common_titv"
   ]
  },
  {
   "cell_type": "code",
   "execution_count": null,
   "metadata": {
    "vscode": {
     "languageId": "r"
    }
   },
   "outputs": [],
   "source": [
    "fwrite(t(Morris2017_common_titv), file = \"Report/SNVs/impact/Morris2017_common_titv.csv\")"
   ]
  },
  {
   "cell_type": "code",
   "execution_count": 76,
   "metadata": {
    "vscode": {
     "languageId": "r"
    }
   },
   "outputs": [
    {
     "data": {
      "image/png": "[encoded data removed]",
      "text/plain": [
       "Plot with title “Morris2017”"
      ]
     },
     "metadata": {
      "image/png": {
       "height": 216,
       "width": 252
      }
     },
     "output_type": "display_data"
    }
   ],
   "source": [
    "Morris2017_common_posmut[, mut := paste0(ref, \">\", alt)]\n",
    "Morris2017_common_posmut[, mut := factor(mut, levels = paste0(rep(c(\"A\", \"C\", \"G\", \"T\"), each = 5), \">\", c(\"A\", \"C\", \"G\", \"T\", \"del\")))]\n",
    "\n",
    "options(repr.plot.width = 7, repr.plot.height = 6, repr.plot.res = 72)\n",
    "par(ps = 16, las = 1, lend = 2, ljoin = 1, bty = \"L\", mfrow = c(1, 1), mar = c(4, 4, 1.5, 0), oma = c(0, 0, 0, 0), mgp = c(2.5, 1, 0), cex.axis = 1)\n",
    "invisible(x <- Morris2017_common_posmut[, barplot(table(mut), ylab = \"Number of SNVs\", col = \"#595959\", border = NA, main = \"Morris2017\", names.arg = FALSE)])\n",
    "text(x = x, y = par()$usr[3], lab = Morris2017_common_posmut[, names(table(mut))], srt = 90, xpd = TRUE, adj = 1)"
   ]
  },
  {
   "cell_type": "code",
   "execution_count": 77,
   "metadata": {
    "vscode": {
     "languageId": "r"
    }
   },
   "outputs": [
    {
     "data": {
      "text/plain": [
       "R version 4.4.0 (2024-04-24)\n",
       "Platform: x86_64-pc-linux-gnu\n",
       "Running under: openSUSE Tumbleweed\n",
       "\n",
       "Matrix products: default\n",
       "BLAS:   /home/lenovo/Applications/R/4.4.0/lib64/R/lib/libRblas.so \n",
       "LAPACK: /home/lenovo/Applications/R/4.4.0/lib64/R/lib/libRlapack.so;  LAPACK version 3.12.0\n",
       "\n",
       "locale:\n",
       " [1] LC_CTYPE=en_US.UTF-8       LC_NUMERIC=C              \n",
       " [3] LC_TIME=en_US.UTF-8        LC_COLLATE=en_US.UTF-8    \n",
       " [5] LC_MONETARY=en_US.UTF-8    LC_MESSAGES=en_US.UTF-8   \n",
       " [7] LC_PAPER=en_US.UTF-8       LC_NAME=C                 \n",
       " [9] LC_ADDRESS=C               LC_TELEPHONE=C            \n",
       "[11] LC_MEASUREMENT=en_US.UTF-8 LC_IDENTIFICATION=C       \n",
       "\n",
       "time zone: America/New_York\n",
       "tzcode source: system (glibc)\n",
       "\n",
       "attached base packages:\n",
       "[1] stats     graphics  grDevices utils     datasets  methods   base     \n",
       "\n",
       "other attached packages:\n",
       "[1] ggsignif_0.6.4    ggplot2_3.5.1     data.table_1.16.2\n",
       "\n",
       "loaded via a namespace (and not attached):\n",
       " [1] utf8_1.2.4         generics_0.1.3     digest_0.6.37      magrittr_2.0.3    \n",
       " [5] evaluate_1.0.1     grid_4.4.0         RColorBrewer_1.1-3 pbdZMQ_0.3-13     \n",
       " [9] fastmap_1.2.0      R.oo_1.26.0        jsonlite_1.8.9     R.utils_2.12.3    \n",
       "[13] fansi_1.0.6        viridisLite_0.4.2  scales_1.3.0       cli_3.6.3         \n",
       "[17] rlang_1.1.4        crayon_1.5.3       R.methodsS3_1.8.2  munsell_0.5.1     \n",
       "[21] base64enc_0.1-3    withr_3.0.1        repr_1.1.7         tools_4.4.0       \n",
       "[25] uuid_1.2-1         dplyr_1.1.4        colorspace_2.1-1   IRdisplay_1.1     \n",
       "[29] vctrs_0.6.5        R6_2.5.1           lifecycle_1.0.4    pkgconfig_2.0.3   \n",
       "[33] pillar_1.9.0       gtable_0.3.5       glue_1.8.0         tibble_3.2.1      \n",
       "[37] tidyselect_1.2.1   IRkernel_1.3.2     farver_2.1.2       htmltools_0.5.8.1 \n",
       "[41] labeling_0.4.3     compiler_4.4.0    "
      ]
     },
     "metadata": {},
     "output_type": "display_data"
    }
   ],
   "source": [
    "sessionInfo()"
   ]
  }
 ],
 "metadata": {
  "kernelspec": {
   "display_name": "R",
   "language": "R",
   "name": "ir"
  },
  "language_info": {
   "codemirror_mode": "r",
   "file_extension": ".r",
   "mimetype": "text/x-r-source",
   "name": "R",
   "pygments_lexer": "r",
   "version": "4.4.0"
  }
 },
 "nbformat": 4,
 "nbformat_minor": 2
}
