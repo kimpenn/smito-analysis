{
 "cells": [
  {
   "cell_type": "code",
   "execution_count": 1,
   "metadata": {
    "vscode": {
     "languageId": "r"
    }
   },
   "outputs": [],
   "source": [
    "setwd(\"..\")"
   ]
  },
  {
   "cell_type": "code",
   "execution_count": 2,
   "metadata": {
    "vscode": {
     "languageId": "r"
    }
   },
   "outputs": [
    {
     "name": "stderr",
     "output_type": "stream",
     "text": [
      "Loading required package: grid\n",
      "\n",
      "Loading required package: futile.logger\n",
      "\n",
      "\n",
      "Attaching package: ‘ape’\n",
      "\n",
      "\n",
      "The following object is masked from ‘package:VennDiagram’:\n",
      "\n",
      "    rotate\n",
      "\n",
      "\n"
     ]
    }
   ],
   "source": [
    "source(\"Source/functions.R\")\n",
    "library(\"data.table\")\n",
    "library(\"VennDiagram\")\n",
    "library(\"ggplot2\")\n",
    "library(\"pheatmap\")\n",
    "library(\"ape\")"
   ]
  },
  {
   "cell_type": "code",
   "execution_count": 3,
   "metadata": {
    "vscode": {
     "languageId": "r"
    }
   },
   "outputs": [],
   "source": [
    "chrmproperties <- fread(file = \"Report/artifact/chrmbases_properties.csv.gz\")\n",
    "support_byposmut <- fread(file = \"Report/SNVs/filter/basediffperc_cutdemux_sub500k_q30_unstranded_highdepth_highaf_qcfltd_support_byposmut.csv\")\n",
    "support_bypos <- fread(\"Report/SNVs/filter/basediffperc_cutdemux_sub500k_q30_unstranded_highdepth_highaf_qcfltd_support_bypos.csv\")\n",
    "smito_pos <- support_byposmut[, unique(pos)]"
   ]
  },
  {
   "cell_type": "code",
   "execution_count": 4,
   "metadata": {
    "vscode": {
     "languageId": "r"
    }
   },
   "outputs": [
    {
     "data": {
      "text/html": [
       "16315"
      ],
      "text/latex": [
       "16315"
      ],
      "text/markdown": [
       "16315"
      ],
      "text/plain": [
       "[1] 16315"
      ]
     },
     "metadata": {},
     "output_type": "display_data"
    }
   ],
   "source": [
    "strains_mclust <- read.csv(\"Report/strains/clustalo-17strains_str.tsv\", sep = \"\\t\", header = FALSE, as.is = TRUE)\n",
    "bases <- lapply(strains_mclust[, 2], function(x) strsplit(x, \"\")[[1]])\n",
    "unique(lengths(bases))"
   ]
  },
  {
   "cell_type": "code",
   "execution_count": 5,
   "metadata": {
    "vscode": {
     "languageId": "r"
    }
   },
   "outputs": [
    {
     "data": {
      "text/html": [
       "<table class=\"dataframe\">\n",
       "<caption>A data.frame: 6 × 19</caption>\n",
       "<thead>\n",
       "\t<tr><th></th><th scope=col>pos_C57BL_6J</th><th scope=col>129S1/SvImJ</th><th scope=col>AKR/J</th><th scope=col>A/J</th><th scope=col>BALB/cJ</th><th scope=col>C3H/HeJ</th><th scope=col>C57BL/6NJ</th><th scope=col>CAST/EiJ</th><th scope=col>CBA/J</th><th scope=col>DBA/2J</th><th scope=col>FVB/NJ</th><th scope=col>LP/J</th><th scope=col>NOD/ShiLtJ</th><th scope=col>NZO/HiLtJ</th><th scope=col>PWK/PhJ</th><th scope=col>SPRET/EiJ</th><th scope=col>WSB/EiJ</th><th scope=col>C57BL/6J</th><th scope=col>alignment</th></tr>\n",
       "\t<tr><th></th><th scope=col>&lt;dbl&gt;</th><th scope=col>&lt;chr&gt;</th><th scope=col>&lt;chr&gt;</th><th scope=col>&lt;chr&gt;</th><th scope=col>&lt;chr&gt;</th><th scope=col>&lt;chr&gt;</th><th scope=col>&lt;chr&gt;</th><th scope=col>&lt;chr&gt;</th><th scope=col>&lt;chr&gt;</th><th scope=col>&lt;chr&gt;</th><th scope=col>&lt;chr&gt;</th><th scope=col>&lt;chr&gt;</th><th scope=col>&lt;chr&gt;</th><th scope=col>&lt;chr&gt;</th><th scope=col>&lt;chr&gt;</th><th scope=col>&lt;chr&gt;</th><th scope=col>&lt;chr&gt;</th><th scope=col>&lt;chr&gt;</th><th scope=col>&lt;chr&gt;</th></tr>\n",
       "</thead>\n",
       "<tbody>\n",
       "\t<tr><th scope=row>1</th><td>1</td><td>G</td><td>G</td><td>G</td><td>G</td><td>G</td><td>G</td><td>G</td><td>G</td><td>G</td><td>G</td><td>G</td><td>G</td><td>G</td><td>G</td><td>G</td><td>G</td><td>G</td><td>*</td></tr>\n",
       "\t<tr><th scope=row>2</th><td>2</td><td>T</td><td>T</td><td>T</td><td>T</td><td>T</td><td>T</td><td>T</td><td>T</td><td>T</td><td>T</td><td>T</td><td>T</td><td>T</td><td>T</td><td>T</td><td>T</td><td>T</td><td>*</td></tr>\n",
       "\t<tr><th scope=row>3</th><td>3</td><td>T</td><td>T</td><td>T</td><td>T</td><td>T</td><td>T</td><td>T</td><td>T</td><td>T</td><td>T</td><td>T</td><td>T</td><td>T</td><td>T</td><td>T</td><td>T</td><td>T</td><td>*</td></tr>\n",
       "\t<tr><th scope=row>4</th><td>4</td><td>A</td><td>A</td><td>A</td><td>A</td><td>A</td><td>A</td><td>A</td><td>A</td><td>A</td><td>A</td><td>A</td><td>A</td><td>A</td><td>A</td><td>A</td><td>A</td><td>A</td><td>*</td></tr>\n",
       "\t<tr><th scope=row>5</th><td>5</td><td>A</td><td>A</td><td>A</td><td>A</td><td>A</td><td>A</td><td>A</td><td>A</td><td>A</td><td>A</td><td>A</td><td>A</td><td>A</td><td>A</td><td>A</td><td>A</td><td>A</td><td>*</td></tr>\n",
       "\t<tr><th scope=row>6</th><td>6</td><td>T</td><td>T</td><td>T</td><td>T</td><td>T</td><td>T</td><td>T</td><td>T</td><td>T</td><td>T</td><td>T</td><td>T</td><td>T</td><td>T</td><td>T</td><td>T</td><td>T</td><td>*</td></tr>\n",
       "</tbody>\n",
       "</table>\n"
      ],
      "text/latex": [
       "A data.frame: 6 × 19\n",
       "\\begin{tabular}{r|lllllllllllllllllll}\n",
       "  & pos\\_C57BL\\_6J & 129S1/SvImJ & AKR/J & A/J & BALB/cJ & C3H/HeJ & C57BL/6NJ & CAST/EiJ & CBA/J & DBA/2J & FVB/NJ & LP/J & NOD/ShiLtJ & NZO/HiLtJ & PWK/PhJ & SPRET/EiJ & WSB/EiJ & C57BL/6J & alignment\\\\\n",
       "  & <dbl> & <chr> & <chr> & <chr> & <chr> & <chr> & <chr> & <chr> & <chr> & <chr> & <chr> & <chr> & <chr> & <chr> & <chr> & <chr> & <chr> & <chr> & <chr>\\\\\n",
       "\\hline\n",
       "\t1 & 1 & G & G & G & G & G & G & G & G & G & G & G & G & G & G & G & G & G & *\\\\\n",
       "\t2 & 2 & T & T & T & T & T & T & T & T & T & T & T & T & T & T & T & T & T & *\\\\\n",
       "\t3 & 3 & T & T & T & T & T & T & T & T & T & T & T & T & T & T & T & T & T & *\\\\\n",
       "\t4 & 4 & A & A & A & A & A & A & A & A & A & A & A & A & A & A & A & A & A & *\\\\\n",
       "\t5 & 5 & A & A & A & A & A & A & A & A & A & A & A & A & A & A & A & A & A & *\\\\\n",
       "\t6 & 6 & T & T & T & T & T & T & T & T & T & T & T & T & T & T & T & T & T & *\\\\\n",
       "\\end{tabular}\n"
      ],
      "text/markdown": [
       "\n",
       "A data.frame: 6 × 19\n",
       "\n",
       "| <!--/--> | pos_C57BL_6J &lt;dbl&gt; | 129S1/SvImJ &lt;chr&gt; | AKR/J &lt;chr&gt; | A/J &lt;chr&gt; | BALB/cJ &lt;chr&gt; | C3H/HeJ &lt;chr&gt; | C57BL/6NJ &lt;chr&gt; | CAST/EiJ &lt;chr&gt; | CBA/J &lt;chr&gt; | DBA/2J &lt;chr&gt; | FVB/NJ &lt;chr&gt; | LP/J &lt;chr&gt; | NOD/ShiLtJ &lt;chr&gt; | NZO/HiLtJ &lt;chr&gt; | PWK/PhJ &lt;chr&gt; | SPRET/EiJ &lt;chr&gt; | WSB/EiJ &lt;chr&gt; | C57BL/6J &lt;chr&gt; | alignment &lt;chr&gt; |\n",
       "|---|---|---|---|---|---|---|---|---|---|---|---|---|---|---|---|---|---|---|---|\n",
       "| 1 | 1 | G | G | G | G | G | G | G | G | G | G | G | G | G | G | G | G | G | * |\n",
       "| 2 | 2 | T | T | T | T | T | T | T | T | T | T | T | T | T | T | T | T | T | * |\n",
       "| 3 | 3 | T | T | T | T | T | T | T | T | T | T | T | T | T | T | T | T | T | * |\n",
       "| 4 | 4 | A | A | A | A | A | A | A | A | A | A | A | A | A | A | A | A | A | * |\n",
       "| 5 | 5 | A | A | A | A | A | A | A | A | A | A | A | A | A | A | A | A | A | * |\n",
       "| 6 | 6 | T | T | T | T | T | T | T | T | T | T | T | T | T | T | T | T | T | * |\n",
       "\n"
      ],
      "text/plain": [
       "  pos_C57BL_6J 129S1/SvImJ AKR/J A/J BALB/cJ C3H/HeJ C57BL/6NJ CAST/EiJ CBA/J\n",
       "1 1            G           G     G   G       G       G         G        G    \n",
       "2 2            T           T     T   T       T       T         T        T    \n",
       "3 3            T           T     T   T       T       T         T        T    \n",
       "4 4            A           A     A   A       A       A         A        A    \n",
       "5 5            A           A     A   A       A       A         A        A    \n",
       "6 6            T           T     T   T       T       T         T        T    \n",
       "  DBA/2J FVB/NJ LP/J NOD/ShiLtJ NZO/HiLtJ PWK/PhJ SPRET/EiJ WSB/EiJ C57BL/6J\n",
       "1 G      G      G    G          G         G       G         G       G       \n",
       "2 T      T      T    T          T         T       T         T       T       \n",
       "3 T      T      T    T          T         T       T         T       T       \n",
       "4 A      A      A    A          A         A       A         A       A       \n",
       "5 A      A      A    A          A         A       A         A       A       \n",
       "6 T      T      T    T          T         T       T         T       T       \n",
       "  alignment\n",
       "1 *        \n",
       "2 *        \n",
       "3 *        \n",
       "4 *        \n",
       "5 *        \n",
       "6 *        "
      ]
     },
     "metadata": {},
     "output_type": "display_data"
    }
   ],
   "source": [
    "bases <- do.call(cbind, bases)\n",
    "strains <- strains_mclust[, 1]\n",
    "colnames(bases) <- strains\n",
    "pos_C57BL_6J <- cumsum(ifelse(bases[, which(strains == \"C57BL/6J\")] == \"-\", 0, 1))\n",
    "strains_mclust <- data.frame(pos_C57BL_6J = pos_C57BL_6J, bases, stringsAsFactors = FALSE, check.names = FALSE)\n",
    "head(strains_mclust)"
   ]
  },
  {
   "cell_type": "code",
   "execution_count": null,
   "metadata": {
    "vscode": {
     "languageId": "r"
    }
   },
   "outputs": [],
   "source": [
    "fwrite(strains_mclust, file = \"Report/strains/clustalo-17strains_base.csv\")"
   ]
  },
  {
   "cell_type": "markdown",
   "metadata": {
    "vscode": {
     "languageId": "r"
    }
   },
   "source": [
    "## Make a fan tree"
   ]
  },
  {
   "cell_type": "code",
   "execution_count": 7,
   "metadata": {
    "vscode": {
     "languageId": "r"
    }
   },
   "outputs": [
    {
     "data": {
      "image/png": "[encoded data removed]",
      "text/plain": [
       "plot without title"
      ]
     },
     "metadata": {
      "image/png": {
       "height": 252,
       "width": 252
      }
     },
     "output_type": "display_data"
    }
   ],
   "source": [
    "tree_17strains <- ape::read.tree(\"Report/strains/clustalo-17strains.ph\")\n",
    "options(repr.plot.width = 7, repr.plot.height = 7, repr.plot.res = 72)\n",
    "par(ps = 16, lend = 2, ljoin = 1, bty = \"L\", mfrow = c(1, 1), mar = c(2.5, 2.5, 1, 0), oma = c(0, 0, 0, 0), mgp = c(1.5, 0.5, 0))\n",
    "plot.phylo(tree_17strains, type = \"fan\", use.edge.length = FALSE)"
   ]
  },
  {
   "cell_type": "markdown",
   "metadata": {
    "vscode": {
     "languageId": "r"
    }
   },
   "source": [
    "## SMITO-evo site overlap"
   ]
  },
  {
   "cell_type": "code",
   "execution_count": 8,
   "metadata": {
    "vscode": {
     "languageId": "r"
    }
   },
   "outputs": [
    {
     "data": {
      "image/png": "[encoded data removed]",
      "text/plain": [
       "plot without title"
      ]
     },
     "metadata": {
      "image/png": {
       "height": 216,
       "width": 216
      }
     },
     "output_type": "display_data"
    }
   ],
   "source": [
    "strains_mclust <- fread(file = \"Report/strains/clustalo-17strains_base.csv\")\n",
    "setDT(strains_mclust)\n",
    "setkey(strains_mclust, pos_C57BL_6J)\n",
    "strains_mclust_varonly <- subset(strains_mclust, alignment != \"*\" & `C57BL/6J` != \"-\")\n",
    "strains_mclust_varonly <- strains_mclust_varonly[, -c(\"alignment\")]\n",
    "\n",
    "options(repr.plot.width = 6, repr.plot.height = 6, repr.plot.res = 72)\n",
    "fig <- venn.diagram(list(SMITO = smito_pos, `all_17strains_inrange` = intersect(chrmproperties[is_in_range == \"Y\" & is_in_primer == \"N\", pos], strains_mclust_varonly[, unique(pos_C57BL_6J)])), filename = NULL, main.fontfamily = \"sans\", sub.fontfamily = \"sans\", cat.fontfamily = \"sans\", hyper.test = TRUE, total.population = length(chrmproperties[is_in_range == \"Y\" & is_in_primer == \"N\", pos]), lower.tail = FALSE, main.cex = 1.5, cat.cex = 1, fill = c(\"#984EA3\", \"#FFFFE0\"), cex = c(1, 1, 1) * 1.5, alpha = 0.5, lwd = 1)\n",
    "grid.draw(fig)"
   ]
  },
  {
   "cell_type": "markdown",
   "metadata": {},
   "source": [
    "### When SMITO is stratified by the number of mice sharing the SNV"
   ]
  },
  {
   "cell_type": "code",
   "execution_count": 9,
   "metadata": {
    "vscode": {
     "languageId": "r"
    }
   },
   "outputs": [
    {
     "data": {
      "text/html": [
       "<table class=\"dataframe\">\n",
       "<caption>A data.table: 6 × 8</caption>\n",
       "<thead>\n",
       "\t<tr><th scope=col>nmice</th><th scope=col>smito</th><th scope=col>17strains</th><th scope=col>overlap</th><th scope=col>frac_smito</th><th scope=col>frac_17strains</th><th scope=col>oddsratio</th><th scope=col>pval</th></tr>\n",
       "\t<tr><th scope=col>&lt;int&gt;</th><th scope=col>&lt;int&gt;</th><th scope=col>&lt;int&gt;</th><th scope=col>&lt;int&gt;</th><th scope=col>&lt;dbl&gt;</th><th scope=col>&lt;dbl&gt;</th><th scope=col>&lt;dbl&gt;</th><th scope=col>&lt;dbl&gt;</th></tr>\n",
       "</thead>\n",
       "<tbody>\n",
       "\t<tr><td>1</td><td>838</td><td>128</td><td>89</td><td>0.10620525</td><td>0.08988764</td><td>1.1815334</td><td>0.003390242</td></tr>\n",
       "\t<tr><td>2</td><td>366</td><td>128</td><td>32</td><td>0.08743169</td><td>0.08988764</td><td>0.9726776</td><td>0.528080498</td></tr>\n",
       "\t<tr><td>3</td><td>152</td><td>128</td><td>14</td><td>0.09210526</td><td>0.08988764</td><td>1.0246711</td><td>0.389254067</td></tr>\n",
       "\t<tr><td>4</td><td> 72</td><td>128</td><td> 8</td><td>0.11111111</td><td>0.08988764</td><td>1.2361111</td><td>0.191247734</td></tr>\n",
       "\t<tr><td>5</td><td> 46</td><td>128</td><td> 6</td><td>0.13043478</td><td>0.08988764</td><td>1.4510870</td><td>0.111734141</td></tr>\n",
       "\t<tr><td>6</td><td> 29</td><td>128</td><td> 4</td><td>0.13793103</td><td>0.08988764</td><td>1.5344828</td><td>0.111832241</td></tr>\n",
       "</tbody>\n",
       "</table>\n"
      ],
      "text/latex": [
       "A data.table: 6 × 8\n",
       "\\begin{tabular}{llllllll}\n",
       " nmice & smito & 17strains & overlap & frac\\_smito & frac\\_17strains & oddsratio & pval\\\\\n",
       " <int> & <int> & <int> & <int> & <dbl> & <dbl> & <dbl> & <dbl>\\\\\n",
       "\\hline\n",
       "\t 1 & 838 & 128 & 89 & 0.10620525 & 0.08988764 & 1.1815334 & 0.003390242\\\\\n",
       "\t 2 & 366 & 128 & 32 & 0.08743169 & 0.08988764 & 0.9726776 & 0.528080498\\\\\n",
       "\t 3 & 152 & 128 & 14 & 0.09210526 & 0.08988764 & 1.0246711 & 0.389254067\\\\\n",
       "\t 4 &  72 & 128 &  8 & 0.11111111 & 0.08988764 & 1.2361111 & 0.191247734\\\\\n",
       "\t 5 &  46 & 128 &  6 & 0.13043478 & 0.08988764 & 1.4510870 & 0.111734141\\\\\n",
       "\t 6 &  29 & 128 &  4 & 0.13793103 & 0.08988764 & 1.5344828 & 0.111832241\\\\\n",
       "\\end{tabular}\n"
      ],
      "text/markdown": [
       "\n",
       "A data.table: 6 × 8\n",
       "\n",
       "| nmice &lt;int&gt; | smito &lt;int&gt; | 17strains &lt;int&gt; | overlap &lt;int&gt; | frac_smito &lt;dbl&gt; | frac_17strains &lt;dbl&gt; | oddsratio &lt;dbl&gt; | pval &lt;dbl&gt; |\n",
       "|---|---|---|---|---|---|---|---|\n",
       "| 1 | 838 | 128 | 89 | 0.10620525 | 0.08988764 | 1.1815334 | 0.003390242 |\n",
       "| 2 | 366 | 128 | 32 | 0.08743169 | 0.08988764 | 0.9726776 | 0.528080498 |\n",
       "| 3 | 152 | 128 | 14 | 0.09210526 | 0.08988764 | 1.0246711 | 0.389254067 |\n",
       "| 4 |  72 | 128 |  8 | 0.11111111 | 0.08988764 | 1.2361111 | 0.191247734 |\n",
       "| 5 |  46 | 128 |  6 | 0.13043478 | 0.08988764 | 1.4510870 | 0.111734141 |\n",
       "| 6 |  29 | 128 |  4 | 0.13793103 | 0.08988764 | 1.5344828 | 0.111832241 |\n",
       "\n"
      ],
      "text/plain": [
       "  nmice smito 17strains overlap frac_smito frac_17strains oddsratio pval       \n",
       "1 1     838   128       89      0.10620525 0.08988764     1.1815334 0.003390242\n",
       "2 2     366   128       32      0.08743169 0.08988764     0.9726776 0.528080498\n",
       "3 3     152   128       14      0.09210526 0.08988764     1.0246711 0.389254067\n",
       "4 4      72   128        8      0.11111111 0.08988764     1.2361111 0.191247734\n",
       "5 5      46   128        6      0.13043478 0.08988764     1.4510870 0.111734141\n",
       "6 6      29   128        4      0.13793103 0.08988764     1.5344828 0.111832241"
      ]
     },
     "metadata": {},
     "output_type": "display_data"
    }
   ],
   "source": [
    "smito_strains_x <- sapply(1:13, function(x) support_byposmut[nmice >= x, length(intersect(unique(pos), intersect(chrmproperties[is_in_range == \"Y\" & is_in_primer == \"N\", pos], strains_mclust_varonly[, unique(pos_C57BL_6J)])))])\n",
    "smito_strains_k <- sapply(1:13, function(x) support_byposmut[nmice >= x, uniqueN(pos)])\n",
    "smito_strains_m <- uniqueN(intersect(chrmproperties[is_in_range == \"Y\" & is_in_primer == \"N\", pos], strains_mclust_varonly[, unique(pos_C57BL_6J)]))\n",
    "smito_strains_n <- chrmproperties[is_in_range == \"Y\" & is_in_primer == \"N\", .N] - smito_strains_m\n",
    "smito_strains_pval <- phyper(q = smito_strains_x, k = smito_strains_k, n = rep(smito_strains_n, 13), m = rep(smito_strains_m, 13), lower.tail = FALSE)\n",
    "smito_strains_obs <- smito_strains_x / smito_strains_k\n",
    "smito_strains_bkg <- smito_strains_m / chrmproperties[is_in_range == \"Y\" & is_in_primer == \"N\", .N]\n",
    "smito_strains_oddsratio <- smito_strains_obs / smito_strains_bkg\n",
    "\n",
    "smito_strains_overlap <- data.table(\n",
    "    nmice = 1:13, smito = smito_strains_k, `17strains` = smito_strains_m, \n",
    "    overlap = smito_strains_x, \n",
    "    frac_smito = smito_strains_obs, \n",
    "    frac_17strains = smito_strains_bkg, \n",
    "    oddsratio = smito_strains_oddsratio,\n",
    "    pval = smito_strains_pval\n",
    ")\n",
    "head(smito_strains_overlap)"
   ]
  },
  {
   "cell_type": "code",
   "execution_count": null,
   "metadata": {
    "vscode": {
     "languageId": "r"
    }
   },
   "outputs": [],
   "source": [
    "fwrite(smito_strains_overlap, file = \"Report/strains/smito_17strains-inrange_overlap.csv\")"
   ]
  },
  {
   "cell_type": "code",
   "execution_count": 11,
   "metadata": {
    "vscode": {
     "languageId": "r"
    }
   },
   "outputs": [
    {
     "data": {
      "image/png": "[encoded data removed]",
      "text/plain": [
       "plot without title"
      ]
     },
     "metadata": {
      "image/png": {
       "height": 216,
       "width": 216
      }
     },
     "output_type": "display_data"
    }
   ],
   "source": [
    "options(repr.plot.width = 6, repr.plot.height = 6, repr.plot.res = 72)\n",
    "par(ps = 16, lend = 2, ljoin = 1, bty = \"L\", mfrow = c(1, 1), mar = c(2.5, 2.5, 1, 2.5), oma = c(0, 0, 0, 0), mgp = c(1.5, 0.5, 0))\n",
    "x <- barplot(smito_strains_overlap[, oddsratio], names.arg = 1:13, border = FALSE)\n",
    "lines(x = x, y = smito_strains_overlap[, pval * max(oddsratio)/max(pval)])\n",
    "points(x = x, y = smito_strains_overlap[, pval * max(oddsratio)/max(pval)])\n",
    "axis(side = 4, at = seq(0, smito_strains_overlap[, 0.6 * max(oddsratio) / max(pval)], length.out = 4), labels = seq(0, 0.6, by = 0.2))\n",
    "title(ylab = \"overlap odds ratio\")\n",
    "mtext(\"hypergeometric p-value\", side = 4, line = 1.5)\n",
    "mtext(\"# mice\", side = 1, line = 1.5)"
   ]
  },
  {
   "cell_type": "markdown",
   "metadata": {},
   "source": [
    "### Test whether (1) the major alleles, (2) the top minor alleles from SMITO match the population data"
   ]
  },
  {
   "cell_type": "code",
   "execution_count": 12,
   "metadata": {
    "vscode": {
     "languageId": "r"
    }
   },
   "outputs": [
    {
     "data": {
      "text/html": [
       "<table class=\"dataframe\">\n",
       "<caption>A data.table: 6 × 32</caption>\n",
       "<thead>\n",
       "\t<tr><th scope=col>pos</th><th scope=col>SNVID</th><th scope=col>ref</th><th scope=col>is_softmasked</th><th scope=col>nhomopolymer</th><th scope=col>does_new_begin</th><th scope=col>does_old_end</th><th scope=col>basefrac_bin10_A</th><th scope=col>basefrac_bin10_C</th><th scope=col>basefrac_bin10_G</th><th scope=col>⋯</th><th scope=col>smito_del</th><th scope=col>evo_A</th><th scope=col>evo_C</th><th scope=col>evo_G</th><th scope=col>evo_T</th><th scope=col>evo_del</th><th scope=col>smito_major</th><th scope=col>evo_major</th><th scope=col>smito_topminor</th><th scope=col>evo_topminor</th></tr>\n",
       "\t<tr><th scope=col>&lt;int&gt;</th><th scope=col>&lt;chr&gt;</th><th scope=col>&lt;chr&gt;</th><th scope=col>&lt;chr&gt;</th><th scope=col>&lt;int&gt;</th><th scope=col>&lt;int&gt;</th><th scope=col>&lt;int&gt;</th><th scope=col>&lt;dbl&gt;</th><th scope=col>&lt;dbl&gt;</th><th scope=col>&lt;dbl&gt;</th><th scope=col>⋯</th><th scope=col>&lt;dbl&gt;</th><th scope=col>&lt;dbl&gt;</th><th scope=col>&lt;dbl&gt;</th><th scope=col>&lt;dbl&gt;</th><th scope=col>&lt;dbl&gt;</th><th scope=col>&lt;dbl&gt;</th><th scope=col>&lt;chr&gt;</th><th scope=col>&lt;chr&gt;</th><th scope=col>&lt;chr&gt;</th><th scope=col>&lt;chr&gt;</th></tr>\n",
       "</thead>\n",
       "<tbody>\n",
       "\t<tr><td>1235</td><td>SNV12</td><td>T</td><td>N</td><td>1</td><td>1</td><td>1</td><td>0.5454545</td><td>0.09090909</td><td>0.09090909</td><td>⋯</td><td>0.0000000</td><td> 0.00000</td><td> 5.882353</td><td> 0.00000</td><td>94.117647</td><td>0.000000</td><td>T</td><td>T</td><td>G</td><td>C  </td></tr>\n",
       "\t<tr><td>1248</td><td>SNV12</td><td>G</td><td>N</td><td>1</td><td>1</td><td>1</td><td>0.6363636</td><td>0.09090909</td><td>0.18181818</td><td>⋯</td><td>0.0000000</td><td>17.64706</td><td> 0.000000</td><td>82.35294</td><td> 0.000000</td><td>0.000000</td><td>G</td><td>G</td><td>T</td><td>A  </td></tr>\n",
       "\t<tr><td>1251</td><td>SNV12</td><td>C</td><td>N</td><td>1</td><td>1</td><td>1</td><td>0.6363636</td><td>0.18181818</td><td>0.18181818</td><td>⋯</td><td>0.0000000</td><td> 0.00000</td><td>94.117647</td><td> 0.00000</td><td> 5.882353</td><td>0.000000</td><td>C</td><td>C</td><td>T</td><td>T  </td></tr>\n",
       "\t<tr><td>2615</td><td>SNV10</td><td>T</td><td>N</td><td>2</td><td>1</td><td>0</td><td>0.3636364</td><td>0.18181818</td><td>0.00000000</td><td>⋯</td><td>0.0000000</td><td> 0.00000</td><td> 5.882353</td><td> 0.00000</td><td>94.117647</td><td>0.000000</td><td>T</td><td>T</td><td>C</td><td>C  </td></tr>\n",
       "\t<tr><td>2628</td><td>SNV10</td><td>A</td><td>N</td><td>4</td><td>1</td><td>0</td><td>0.5454545</td><td>0.09090909</td><td>0.09090909</td><td>⋯</td><td>0.4929577</td><td>94.11765</td><td> 0.000000</td><td> 0.00000</td><td> 0.000000</td><td>5.882353</td><td>A</td><td>A</td><td>G</td><td>del</td></tr>\n",
       "\t<tr><td>2635</td><td>SNV10</td><td>A</td><td>N</td><td>3</td><td>1</td><td>0</td><td>0.6363636</td><td>0.09090909</td><td>0.00000000</td><td>⋯</td><td>0.0000000</td><td>94.11765</td><td> 0.000000</td><td> 0.00000</td><td> 5.882353</td><td>0.000000</td><td>A</td><td>A</td><td>G</td><td>T  </td></tr>\n",
       "</tbody>\n",
       "</table>\n"
      ],
      "text/latex": [
       "A data.table: 6 × 32\n",
       "\\begin{tabular}{lllllllllllllllllllll}\n",
       " pos & SNVID & ref & is\\_softmasked & nhomopolymer & does\\_new\\_begin & does\\_old\\_end & basefrac\\_bin10\\_A & basefrac\\_bin10\\_C & basefrac\\_bin10\\_G & ⋯ & smito\\_del & evo\\_A & evo\\_C & evo\\_G & evo\\_T & evo\\_del & smito\\_major & evo\\_major & smito\\_topminor & evo\\_topminor\\\\\n",
       " <int> & <chr> & <chr> & <chr> & <int> & <int> & <int> & <dbl> & <dbl> & <dbl> & ⋯ & <dbl> & <dbl> & <dbl> & <dbl> & <dbl> & <dbl> & <chr> & <chr> & <chr> & <chr>\\\\\n",
       "\\hline\n",
       "\t 1235 & SNV12 & T & N & 1 & 1 & 1 & 0.5454545 & 0.09090909 & 0.09090909 & ⋯ & 0.0000000 &  0.00000 &  5.882353 &  0.00000 & 94.117647 & 0.000000 & T & T & G & C  \\\\\n",
       "\t 1248 & SNV12 & G & N & 1 & 1 & 1 & 0.6363636 & 0.09090909 & 0.18181818 & ⋯ & 0.0000000 & 17.64706 &  0.000000 & 82.35294 &  0.000000 & 0.000000 & G & G & T & A  \\\\\n",
       "\t 1251 & SNV12 & C & N & 1 & 1 & 1 & 0.6363636 & 0.18181818 & 0.18181818 & ⋯ & 0.0000000 &  0.00000 & 94.117647 &  0.00000 &  5.882353 & 0.000000 & C & C & T & T  \\\\\n",
       "\t 2615 & SNV10 & T & N & 2 & 1 & 0 & 0.3636364 & 0.18181818 & 0.00000000 & ⋯ & 0.0000000 &  0.00000 &  5.882353 &  0.00000 & 94.117647 & 0.000000 & T & T & C & C  \\\\\n",
       "\t 2628 & SNV10 & A & N & 4 & 1 & 0 & 0.5454545 & 0.09090909 & 0.09090909 & ⋯ & 0.4929577 & 94.11765 &  0.000000 &  0.00000 &  0.000000 & 5.882353 & A & A & G & del\\\\\n",
       "\t 2635 & SNV10 & A & N & 3 & 1 & 0 & 0.6363636 & 0.09090909 & 0.00000000 & ⋯ & 0.0000000 & 94.11765 &  0.000000 &  0.00000 &  5.882353 & 0.000000 & A & A & G & T  \\\\\n",
       "\\end{tabular}\n"
      ],
      "text/markdown": [
       "\n",
       "A data.table: 6 × 32\n",
       "\n",
       "| pos &lt;int&gt; | SNVID &lt;chr&gt; | ref &lt;chr&gt; | is_softmasked &lt;chr&gt; | nhomopolymer &lt;int&gt; | does_new_begin &lt;int&gt; | does_old_end &lt;int&gt; | basefrac_bin10_A &lt;dbl&gt; | basefrac_bin10_C &lt;dbl&gt; | basefrac_bin10_G &lt;dbl&gt; | ⋯ ⋯ | smito_del &lt;dbl&gt; | evo_A &lt;dbl&gt; | evo_C &lt;dbl&gt; | evo_G &lt;dbl&gt; | evo_T &lt;dbl&gt; | evo_del &lt;dbl&gt; | smito_major &lt;chr&gt; | evo_major &lt;chr&gt; | smito_topminor &lt;chr&gt; | evo_topminor &lt;chr&gt; |\n",
       "|---|---|---|---|---|---|---|---|---|---|---|---|---|---|---|---|---|---|---|---|---|\n",
       "| 1235 | SNV12 | T | N | 1 | 1 | 1 | 0.5454545 | 0.09090909 | 0.09090909 | ⋯ | 0.0000000 |  0.00000 |  5.882353 |  0.00000 | 94.117647 | 0.000000 | T | T | G | C   |\n",
       "| 1248 | SNV12 | G | N | 1 | 1 | 1 | 0.6363636 | 0.09090909 | 0.18181818 | ⋯ | 0.0000000 | 17.64706 |  0.000000 | 82.35294 |  0.000000 | 0.000000 | G | G | T | A   |\n",
       "| 1251 | SNV12 | C | N | 1 | 1 | 1 | 0.6363636 | 0.18181818 | 0.18181818 | ⋯ | 0.0000000 |  0.00000 | 94.117647 |  0.00000 |  5.882353 | 0.000000 | C | C | T | T   |\n",
       "| 2615 | SNV10 | T | N | 2 | 1 | 0 | 0.3636364 | 0.18181818 | 0.00000000 | ⋯ | 0.0000000 |  0.00000 |  5.882353 |  0.00000 | 94.117647 | 0.000000 | T | T | C | C   |\n",
       "| 2628 | SNV10 | A | N | 4 | 1 | 0 | 0.5454545 | 0.09090909 | 0.09090909 | ⋯ | 0.4929577 | 94.11765 |  0.000000 |  0.00000 |  0.000000 | 5.882353 | A | A | G | del |\n",
       "| 2635 | SNV10 | A | N | 3 | 1 | 0 | 0.6363636 | 0.09090909 | 0.00000000 | ⋯ | 0.0000000 | 94.11765 |  0.000000 |  0.00000 |  5.882353 | 0.000000 | A | A | G | T   |\n",
       "\n"
      ],
      "text/plain": [
       "  pos  SNVID ref is_softmasked nhomopolymer does_new_begin does_old_end\n",
       "1 1235 SNV12 T   N             1            1              1           \n",
       "2 1248 SNV12 G   N             1            1              1           \n",
       "3 1251 SNV12 C   N             1            1              1           \n",
       "4 2615 SNV10 T   N             2            1              0           \n",
       "5 2628 SNV10 A   N             4            1              0           \n",
       "6 2635 SNV10 A   N             3            1              0           \n",
       "  basefrac_bin10_A basefrac_bin10_C basefrac_bin10_G ⋯ smito_del evo_A   \n",
       "1 0.5454545        0.09090909       0.09090909       ⋯ 0.0000000  0.00000\n",
       "2 0.6363636        0.09090909       0.18181818       ⋯ 0.0000000 17.64706\n",
       "3 0.6363636        0.18181818       0.18181818       ⋯ 0.0000000  0.00000\n",
       "4 0.3636364        0.18181818       0.00000000       ⋯ 0.0000000  0.00000\n",
       "5 0.5454545        0.09090909       0.09090909       ⋯ 0.4929577 94.11765\n",
       "6 0.6363636        0.09090909       0.00000000       ⋯ 0.0000000 94.11765\n",
       "  evo_C     evo_G    evo_T     evo_del  smito_major evo_major smito_topminor\n",
       "1  5.882353  0.00000 94.117647 0.000000 T           T         G             \n",
       "2  0.000000 82.35294  0.000000 0.000000 G           G         T             \n",
       "3 94.117647  0.00000  5.882353 0.000000 C           C         T             \n",
       "4  5.882353  0.00000 94.117647 0.000000 T           T         C             \n",
       "5  0.000000  0.00000  0.000000 5.882353 A           A         G             \n",
       "6  0.000000  0.00000  5.882353 0.000000 A           A         G             \n",
       "  evo_topminor\n",
       "1 C           \n",
       "2 A           \n",
       "3 T           \n",
       "4 C           \n",
       "5 del         \n",
       "6 T           "
      ]
     },
     "metadata": {},
     "output_type": "display_data"
    }
   ],
   "source": [
    "highdepth_highaf <- fread(\"Report/SNVs/filter/basediffperc_cutdemux_sub500k_q30_unstranded_highdepth_highaf_qcfltd.csv.gz\")\n",
    "highdepth_highaf_noctrl_17strains <- highdepth_highaf[IsCtrl == \"N\" & pos %in% strains_mclust_varonly[, unique(pos_C57BL_6J)]]\n",
    "highdepth_highaf_noctrl_17strains <- strains_mclust_varonly[highdepth_highaf_noctrl_17strains, on = c(\"pos_C57BL_6J\" = \"pos\")]\n",
    "setnames(highdepth_highaf_noctrl_17strains, \"pos_C57BL_6J\", \"pos\")\n",
    "\n",
    "highdepth_highaf_noctrl_17strains[ref == \"A\", A := `=`]\n",
    "highdepth_highaf_noctrl_17strains[ref == \"C\", C := `=`]\n",
    "highdepth_highaf_noctrl_17strains[ref == \"G\", G := `=`]\n",
    "highdepth_highaf_noctrl_17strains[ref == \"T\", T := `=`]\n",
    "\n",
    "smito_avgaf <- highdepth_highaf_noctrl_17strains[, { X <- colSums(t(sapply(1:nrow(.SD), function(x) { unlist(.SD[x, 1]) * unlist(.SD[x, -1]) }))); as.list(100 * X / sum(X)) }, keyby = \"pos\", .SDcols = c(\"depth\", \"A\", \"C\", \"G\", \"T\", \"del\")]\n",
    "smito_avgaf <- support_bypos[smito_avgaf, on = \"pos\"]\n",
    "\n",
    "evo17strains <- strains_mclust_varonly[pos_C57BL_6J %in% highdepth_highaf_noctrl_17strains[, pos]]\n",
    "setnames(evo17strains, \"pos_C57BL_6J\", \"pos\")\n",
    "\n",
    "evo17strains_avgaf <- evo17strains[, as.list(table(factor(.SD, levels = c(\"A\", \"C\", \"G\", \"T\", \"-\"))) / 17 * 100), keyby = \"pos\"]\n",
    "setnames(evo17strains_avgaf, \"-\", \"del\")\n",
    "\n",
    "smito_evo17strains_avgaf <- merge.data.table(smito_avgaf, evo17strains_avgaf, by.x = \"pos\", by.y = \"pos\")\n",
    "setnames(smito_evo17strains_avgaf, \n",
    "    c(\"A.x\", \"C.x\", \"G.x\", \"T.x\", \"del.x\", \"A.y\", \"C.y\", \"G.y\", \"T.y\", \"del.y\"), \n",
    "    c(\"smito_A\", \"smito_C\", \"smito_G\", \"smito_T\", \"smito_del\", \"evo_A\", \"evo_C\", \"evo_G\", \"evo_T\", \"evo_del\")\n",
    ")\n",
    "\n",
    "smito_evo17strains_avgaf <- chrmproperties[smito_evo17strains_avgaf[, -\"SNVID\"], on = \"pos\"]\n",
    "\n",
    "smito_major <- smito_evo17strains_avgaf[, apply(.SD, 1, function(x) c(\"A\", \"C\", \"G\", \"T\", \"del\")[which.max(x)]), .SD = c(\"smito_A\", \"smito_C\", \"smito_G\", \"smito_T\", \"smito_del\")]\n",
    "evo17strains_major <- smito_evo17strains_avgaf[, apply(.SD, 1, function(x) c(\"A\", \"C\", \"G\", \"T\", \"del\")[which.max(x)]), .SD = c(\"evo_A\", \"evo_C\", \"evo_G\", \"evo_T\", \"evo_del\")]\n",
    "smito_topminor <- smito_evo17strains_avgaf[, apply(.SD, 1, function(x) { z <- c(\"A\", \"C\", \"G\", \"T\", \"del\"); y <- match(x[1], z); i <- which.max(x[-1][-y]); z[-y][i] }), .SDcols = c(\"ref\", \"smito_A\", \"smito_C\", \"smito_G\", \"smito_T\", \"smito_del\")]\n",
    "evo17strains_topminor <- smito_evo17strains_avgaf[, apply(.SD, 1, function(x) { z <- c(\"A\", \"C\", \"G\", \"T\", \"del\"); y <- match(x[1], z); i <- which.max(x[-1][-y]); z[-y][i] }), .SDcols = c(\"ref\", \"evo_A\", \"evo_C\", \"evo_G\", \"evo_T\", \"evo_del\")]\n",
    "smito_evo17strains_avgaf[, smito_major := smito_major]\n",
    "smito_evo17strains_avgaf[, evo_major := evo17strains_major]\n",
    "smito_evo17strains_avgaf[, smito_topminor := smito_topminor]\n",
    "smito_evo17strains_avgaf[, evo_topminor := evo17strains_topminor]\n",
    "head(smito_evo17strains_avgaf)"
   ]
  },
  {
   "cell_type": "code",
   "execution_count": null,
   "metadata": {
    "vscode": {
     "languageId": "r"
    }
   },
   "outputs": [],
   "source": [
    "fwrite(smito_evo17strains_avgaf, file = \"Report/strains/smito_17strains_avgaf.csv\")"
   ]
  },
  {
   "cell_type": "code",
   "execution_count": 14,
   "metadata": {
    "vscode": {
     "languageId": "r"
    }
   },
   "outputs": [
    {
     "data": {
      "text/plain": [
       "R version 4.4.0 (2024-04-24)\n",
       "Platform: x86_64-pc-linux-gnu\n",
       "Running under: openSUSE Tumbleweed\n",
       "\n",
       "Matrix products: default\n",
       "BLAS:   /home/lenovo/Applications/R/4.4.0/lib64/R/lib/libRblas.so \n",
       "LAPACK: /home/lenovo/Applications/R/4.4.0/lib64/R/lib/libRlapack.so;  LAPACK version 3.12.0\n",
       "\n",
       "locale:\n",
       " [1] LC_CTYPE=en_US.UTF-8       LC_NUMERIC=C              \n",
       " [3] LC_TIME=en_US.UTF-8        LC_COLLATE=en_US.UTF-8    \n",
       " [5] LC_MONETARY=en_US.UTF-8    LC_MESSAGES=en_US.UTF-8   \n",
       " [7] LC_PAPER=en_US.UTF-8       LC_NAME=C                 \n",
       " [9] LC_ADDRESS=C               LC_TELEPHONE=C            \n",
       "[11] LC_MEASUREMENT=en_US.UTF-8 LC_IDENTIFICATION=C       \n",
       "\n",
       "time zone: America/New_York\n",
       "tzcode source: system (glibc)\n",
       "\n",
       "attached base packages:\n",
       "[1] grid      stats     graphics  grDevices utils     datasets  methods  \n",
       "[8] base     \n",
       "\n",
       "other attached packages:\n",
       "[1] ape_5.8             pheatmap_1.0.12     ggplot2_3.5.1      \n",
       "[4] VennDiagram_1.7.3   futile.logger_1.4.3 data.table_1.16.2  \n",
       "\n",
       "loaded via a namespace (and not attached):\n",
       " [1] gtable_0.3.5         jsonlite_1.8.9       dplyr_1.1.4         \n",
       " [4] compiler_4.4.0       crayon_1.5.3         Rcpp_1.0.13         \n",
       " [7] tidyselect_1.2.1     IRdisplay_1.1        parallel_4.4.0      \n",
       "[10] scales_1.3.0         uuid_1.2-1           fastmap_1.2.0       \n",
       "[13] IRkernel_1.3.2       lattice_0.22-6       R6_2.5.1            \n",
       "[16] generics_0.1.3       tibble_3.2.1         munsell_0.5.1       \n",
       "[19] pillar_1.9.0         RColorBrewer_1.1-3   R.utils_2.12.3      \n",
       "[22] rlang_1.1.4          utf8_1.2.4           repr_1.1.7          \n",
       "[25] cli_3.6.3            withr_3.0.1          magrittr_2.0.3      \n",
       "[28] formatR_1.14         futile.options_1.0.1 digest_0.6.37       \n",
       "[31] base64enc_0.1-3      nlme_3.1-164         pbdZMQ_0.3-13       \n",
       "[34] lifecycle_1.0.4      R.oo_1.26.0          R.methodsS3_1.8.2   \n",
       "[37] vctrs_0.6.5          evaluate_1.0.1       glue_1.8.0          \n",
       "[40] lambda.r_1.2.4       fansi_1.0.6          colorspace_2.1-1    \n",
       "[43] tools_4.4.0          pkgconfig_2.0.3      htmltools_0.5.8.1   "
      ]
     },
     "metadata": {},
     "output_type": "display_data"
    }
   ],
   "source": [
    "sessionInfo()"
   ]
  }
 ],
 "metadata": {
  "kernelspec": {
   "display_name": "R",
   "language": "R",
   "name": "ir"
  },
  "language_info": {
   "codemirror_mode": "r",
   "file_extension": ".r",
   "mimetype": "text/x-r-source",
   "name": "R",
   "pygments_lexer": "r",
   "version": "4.4.0"
  }
 },
 "nbformat": 4,
 "nbformat_minor": 2
}
