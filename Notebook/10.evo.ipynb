{
 "cells": [
  {
   "cell_type": "code",
   "execution_count": 1,
   "metadata": {
    "vscode": {
     "languageId": "r"
    }
   },
   "outputs": [],
   "source": [
    "setwd(\"..\")"
   ]
  },
  {
   "cell_type": "code",
   "execution_count": 2,
   "metadata": {
    "vscode": {
     "languageId": "r"
    }
   },
   "outputs": [],
   "source": [
    "source(\"Source/functions.R\")\n",
    "library(\"data.table\")\n",
    "library(\"ggplot2\")"
   ]
  },
  {
   "cell_type": "code",
   "execution_count": 3,
   "metadata": {
    "vscode": {
     "languageId": "r"
    }
   },
   "outputs": [
    {
     "data": {
      "text/html": [
       "<table class=\"dataframe\">\n",
       "<caption>A data.table: 13 × 5</caption>\n",
       "<thead>\n",
       "\t<tr><th scope=col>symbol</th><th scope=col>start</th><th scope=col>end</th><th scope=col>strand</th><th scope=col>nbases_covered</th></tr>\n",
       "\t<tr><th scope=col>&lt;chr&gt;</th><th scope=col>&lt;int&gt;</th><th scope=col>&lt;int&gt;</th><th scope=col>&lt;chr&gt;</th><th scope=col>&lt;int&gt;</th></tr>\n",
       "</thead>\n",
       "<tbody>\n",
       "\t<tr><td>mt-Nd1 </td><td> 2751</td><td> 3707</td><td>+</td><td>118</td></tr>\n",
       "\t<tr><td>mt-Nd2 </td><td> 3914</td><td> 4951</td><td>+</td><td>  0</td></tr>\n",
       "\t<tr><td>mt-Co1 </td><td> 5328</td><td> 6872</td><td>+</td><td>119</td></tr>\n",
       "\t<tr><td>mt-Co2 </td><td> 7013</td><td> 7696</td><td>+</td><td>120</td></tr>\n",
       "\t<tr><td>mt-Atp8</td><td> 7766</td><td> 7969</td><td>+</td><td>  0</td></tr>\n",
       "\t<tr><td>mt-Atp6</td><td> 7927</td><td> 8607</td><td>+</td><td>  0</td></tr>\n",
       "\t<tr><td>mt-Co3 </td><td> 8607</td><td> 9390</td><td>+</td><td>138</td></tr>\n",
       "\t<tr><td>mt-Nd3 </td><td> 9459</td><td> 9806</td><td>+</td><td> 31</td></tr>\n",
       "\t<tr><td>mt-Nd4l</td><td> 9877</td><td>10173</td><td>+</td><td>  0</td></tr>\n",
       "\t<tr><td>mt-Nd4 </td><td>10167</td><td>11544</td><td>+</td><td>  0</td></tr>\n",
       "\t<tr><td>mt-Nd5 </td><td>11742</td><td>13565</td><td>+</td><td>120</td></tr>\n",
       "\t<tr><td>mt-Nd6 </td><td>13552</td><td>14070</td><td>-</td><td>118</td></tr>\n",
       "\t<tr><td>mt-Cytb</td><td>14145</td><td>15288</td><td>+</td><td>114</td></tr>\n",
       "</tbody>\n",
       "</table>\n"
      ],
      "text/latex": [
       "A data.table: 13 × 5\n",
       "\\begin{tabular}{lllll}\n",
       " symbol & start & end & strand & nbases\\_covered\\\\\n",
       " <chr> & <int> & <int> & <chr> & <int>\\\\\n",
       "\\hline\n",
       "\t mt-Nd1  &  2751 &  3707 & + & 118\\\\\n",
       "\t mt-Nd2  &  3914 &  4951 & + &   0\\\\\n",
       "\t mt-Co1  &  5328 &  6872 & + & 119\\\\\n",
       "\t mt-Co2  &  7013 &  7696 & + & 120\\\\\n",
       "\t mt-Atp8 &  7766 &  7969 & + &   0\\\\\n",
       "\t mt-Atp6 &  7927 &  8607 & + &   0\\\\\n",
       "\t mt-Co3  &  8607 &  9390 & + & 138\\\\\n",
       "\t mt-Nd3  &  9459 &  9806 & + &  31\\\\\n",
       "\t mt-Nd4l &  9877 & 10173 & + &   0\\\\\n",
       "\t mt-Nd4  & 10167 & 11544 & + &   0\\\\\n",
       "\t mt-Nd5  & 11742 & 13565 & + & 120\\\\\n",
       "\t mt-Nd6  & 13552 & 14070 & - & 118\\\\\n",
       "\t mt-Cytb & 14145 & 15288 & + & 114\\\\\n",
       "\\end{tabular}\n"
      ],
      "text/markdown": [
       "\n",
       "A data.table: 13 × 5\n",
       "\n",
       "| symbol &lt;chr&gt; | start &lt;int&gt; | end &lt;int&gt; | strand &lt;chr&gt; | nbases_covered &lt;int&gt; |\n",
       "|---|---|---|---|---|\n",
       "| mt-Nd1  |  2751 |  3707 | + | 118 |\n",
       "| mt-Nd2  |  3914 |  4951 | + |   0 |\n",
       "| mt-Co1  |  5328 |  6872 | + | 119 |\n",
       "| mt-Co2  |  7013 |  7696 | + | 120 |\n",
       "| mt-Atp8 |  7766 |  7969 | + |   0 |\n",
       "| mt-Atp6 |  7927 |  8607 | + |   0 |\n",
       "| mt-Co3  |  8607 |  9390 | + | 138 |\n",
       "| mt-Nd3  |  9459 |  9806 | + |  31 |\n",
       "| mt-Nd4l |  9877 | 10173 | + |   0 |\n",
       "| mt-Nd4  | 10167 | 11544 | + |   0 |\n",
       "| mt-Nd5  | 11742 | 13565 | + | 120 |\n",
       "| mt-Nd6  | 13552 | 14070 | - | 118 |\n",
       "| mt-Cytb | 14145 | 15288 | + | 114 |\n",
       "\n"
      ],
      "text/plain": [
       "   symbol  start end   strand nbases_covered\n",
       "1  mt-Nd1   2751  3707 +      118           \n",
       "2  mt-Nd2   3914  4951 +        0           \n",
       "3  mt-Co1   5328  6872 +      119           \n",
       "4  mt-Co2   7013  7696 +      120           \n",
       "5  mt-Atp8  7766  7969 +        0           \n",
       "6  mt-Atp6  7927  8607 +        0           \n",
       "7  mt-Co3   8607  9390 +      138           \n",
       "8  mt-Nd3   9459  9806 +       31           \n",
       "9  mt-Nd4l  9877 10173 +        0           \n",
       "10 mt-Nd4  10167 11544 +        0           \n",
       "11 mt-Nd5  11742 13565 +      120           \n",
       "12 mt-Nd6  13552 14070 -      118           \n",
       "13 mt-Cytb 14145 15288 +      114           "
      ]
     },
     "metadata": {},
     "output_type": "display_data"
    }
   ],
   "source": [
    "chrmbases_properties <- fread(\"Report/artifact/chrmbases_properties.csv.gz\")\n",
    "\n",
    "chrmgenes <- fread(\"Report/artifact/chrmgenes.csv\")\n",
    "chrmgenes <- rbind(chrmgenes,\n",
    "    chrmbases_properties[is_in_range == \"Y\" & is_in_primer == \"N\" & SNVID == \"SNV8\", list(symbol = \"D-loop\", start = min(pos), end = max(pos), strand = \"*\", nbases_covered = .N)], \n",
    "    chrmbases_properties[pos %in% 3843:3844, list(symbol = \"intergenic\", start = min(pos), end = max(pos), strand = \"*\", nbases_covered = .N)]\n",
    ")\n",
    "chrmgenes[c(6, 10, 16, 19, 21, 22, 23, 25, 27, 28, 32, 33, 35)]"
   ]
  },
  {
   "cell_type": "code",
   "execution_count": 4,
   "metadata": {
    "vscode": {
     "languageId": "r"
    }
   },
   "outputs": [],
   "source": [
    "chrmgenes_cds <- chrmgenes[c(6, 10, 16, 19, 21, 22, 23, 25, 27, 28, 32, 33, 35), ]\n",
    "chrmbases_properties[, is_cds := ifelse(sapply(pos, function(p) { any(sapply(1:chrmgenes_cds[,.N], function(x) { b <- chrmgenes_cds[x]; p >= b[, start] & p <= b[, end] })) }), \"Y\", \"N\")]\n",
    "chrmbases_properties[, proteins := sapply(pos, function(p) { x <- sapply(1:chrmgenes_cds[,.N], function(x) { b <- chrmgenes_cds[x]; ifelse(p >= b[, start] & p <= b[, end], b[, symbol], \"\") }); x <- x[x!=\"\"]; paste0(x, collapse = \",\") })]"
   ]
  },
  {
   "cell_type": "code",
   "execution_count": 5,
   "metadata": {
    "vscode": {
     "languageId": "r"
    }
   },
   "outputs": [],
   "source": [
    "chrmbases_assayed <- chrmbases_properties[is_in_range == \"Y\" & is_in_primer == \"N\"]"
   ]
  },
  {
   "cell_type": "markdown",
   "metadata": {},
   "source": [
    "Genus level data"
   ]
  },
  {
   "cell_type": "code",
   "execution_count": null,
   "metadata": {
    "vscode": {
     "languageId": "r"
    }
   },
   "outputs": [],
   "source": [
    "genus_mclust <- fread(file = \"Report/genus/clustalo-mm10_rn6_base.csv\")\n",
    "names(genus_mclust)[1] <- \"pos\"\n",
    "names(genus_mclust)[2] <- \"ref\"\n",
    "setkey(genus_mclust, pos)\n",
    "genus_mclust_varonly <- subset(genus_mclust, alignment != \"*\" & ref != \"-\")\n",
    "genus_mclust_varonly <- genus_mclust_varonly[, -c(\"alignment\")]\n",
    "fwrite(genus_mclust_varonly, file = \"Report/evo/genus_mclust_varonly.csv\")"
   ]
  },
  {
   "cell_type": "markdown",
   "metadata": {},
   "source": [
    "Species level data"
   ]
  },
  {
   "cell_type": "code",
   "execution_count": null,
   "metadata": {
    "vscode": {
     "languageId": "r"
    }
   },
   "outputs": [],
   "source": [
    "species_mclust <- fread(file = \"Report/species/clustalo-8species_base.csv\")\n",
    "names(species_mclust)[1] <- \"pos\"\n",
    "names(species_mclust)[which(names(species_mclust) == \"Mus_musculus\")] <- \"ref\"\n",
    "setkey(species_mclust, pos)\n",
    "setcolorder(species_mclust, c(1, 9, 2:8, 10))\n",
    "species_mclust_varonly <- subset(species_mclust, alignment != \"*\" & ref != \"-\")\n",
    "species_mclust_varonly <- species_mclust_varonly[, -c(\"alignment\")]\n",
    "fwrite(species_mclust_varonly, file = \"Report/evo/species_mclust_varonly.csv\")"
   ]
  },
  {
   "cell_type": "markdown",
   "metadata": {},
   "source": [
    "Subspecies (strain) level data"
   ]
  },
  {
   "cell_type": "code",
   "execution_count": null,
   "metadata": {
    "vscode": {
     "languageId": "r"
    }
   },
   "outputs": [],
   "source": [
    "strains_mclust <- fread(file = \"Report/strains/clustalo-17strains_base.csv\")\n",
    "names(strains_mclust)[1] <- \"pos\"\n",
    "names(strains_mclust)[which(names(strains_mclust) == \"C57BL/6J\")] <- \"ref\"\n",
    "setkey(strains_mclust, pos)\n",
    "setcolorder(strains_mclust, c(1, 18, 2:17, 19))\n",
    "strains_mclust_varonly <- subset(strains_mclust, alignment != \"*\" & ref != \"-\")\n",
    "strains_mclust_varonly <- strains_mclust_varonly[, -c(\"alignment\")]\n",
    "fwrite(strains_mclust_varonly, file = \"Report/evo/strains_mclust_varonly.csv\")"
   ]
  },
  {
   "cell_type": "markdown",
   "metadata": {},
   "source": [
    "Population level data"
   ]
  },
  {
   "cell_type": "code",
   "execution_count": null,
   "metadata": {
    "vscode": {
     "languageId": "r"
    }
   },
   "outputs": [],
   "source": [
    "castdom_mclust <- fread(file = \"Report/population/clustalo-castaneus_domesticus_base.csv\")\n",
    "names(castdom_mclust)[1] <- \"pos\"\n",
    "names(castdom_mclust)[which(names(castdom_mclust) == \"C57BL/6J\")] <- \"ref\"\n",
    "setkey(castdom_mclust, pos)\n",
    "setcolorder(castdom_mclust, c(1, 31, 2:30, 32))\n",
    "castdom_mclust_varonly <- subset(castdom_mclust, alignment != \"*\" & ref != \"-\")\n",
    "castdom_mclust_varonly <- castdom_mclust_varonly[, -c(\"alignment\")]\n",
    "\n",
    "X_cast <- data.table(t(castdom_mclust_varonly[, castaneus_TW3:castaneus_KM][, apply(.SD, 1, function(x) table(factor(x, levels = c(\"A\", \"C\", \"G\", \"T\", \"-\"))))]))\n",
    "X_dom <- data.table(t(castdom_mclust_varonly[, domesticus_Ker_Gui05:domesticus_HB_4242][, apply(.SD, 1, function(x) table(factor(x, levels = c(\"A\", \"C\", \"G\", \"T\", \"-\"))))]))\n",
    "X_castdom <- data.table(X_cast, X_dom)\n",
    "kcast <- X_castdom[, 1:5][, apply(.SD, 1, function(x) any(x == 9))]\n",
    "kdom <- X_castdom[, 6:10][, apply(.SD, 1, function(x) any(x == 20))]\n",
    "castdom_div_pos <- X_castdom[, castdom_mclust_varonly[kcast & kdom, pos]]\n",
    "castdom_poly_pos <- X_castdom[, castdom_mclust_varonly[xor(kcast, kdom), pos]]\n",
    "\n",
    "castdom_mclust_varonly[, type := \"\"]\n",
    "castdom_mclust_varonly[pos %in% castdom_div_pos, type := \"div\"]\n",
    "castdom_mclust_varonly[pos %in% castdom_poly_pos, type := \"poly\"]\n",
    "fwrite(castdom_mclust_varonly, file = \"Report/evo/population_mclust_varonly.csv\")"
   ]
  },
  {
   "cell_type": "markdown",
   "metadata": {},
   "source": [
    "Ti/Tv in genus, species, strains and population data"
   ]
  },
  {
   "cell_type": "markdown",
   "metadata": {},
   "source": [
    "Genus level Ti/Tv"
   ]
  },
  {
   "cell_type": "code",
   "execution_count": 10,
   "metadata": {
    "vscode": {
     "languageId": "r"
    }
   },
   "outputs": [
    {
     "data": {
      "text/html": [
       "<table class=\"dataframe\">\n",
       "<caption>A matrix: 7 × 3 of type dbl</caption>\n",
       "<thead>\n",
       "\t<tr><th></th><th scope=col>ti</th><th scope=col>tv</th><th scope=col>r</th></tr>\n",
       "</thead>\n",
       "<tbody>\n",
       "\t<tr><th scope=row>nonsynonymous</th><td> 240</td><td> 318</td><td>0.7547170</td></tr>\n",
       "\t<tr><th scope=row>synonymous</th><td> 947</td><td> 658</td><td>1.4392097</td></tr>\n",
       "\t<tr><th scope=row>tRNA</th><td>  78</td><td>  59</td><td>1.3220339</td></tr>\n",
       "\t<tr><th scope=row>rRNA</th><td> 153</td><td> 137</td><td>1.1167883</td></tr>\n",
       "\t<tr><th scope=row>D-loop</th><td>  73</td><td> 136</td><td>0.5367647</td></tr>\n",
       "\t<tr><th scope=row>intergenic</th><td>   8</td><td>   8</td><td>1.0000000</td></tr>\n",
       "\t<tr><th scope=row>average</th><td>1499</td><td>1316</td><td>1.1390578</td></tr>\n",
       "</tbody>\n",
       "</table>\n"
      ],
      "text/latex": [
       "A matrix: 7 × 3 of type dbl\n",
       "\\begin{tabular}{r|lll}\n",
       "  & ti & tv & r\\\\\n",
       "\\hline\n",
       "\tnonsynonymous &  240 &  318 & 0.7547170\\\\\n",
       "\tsynonymous &  947 &  658 & 1.4392097\\\\\n",
       "\ttRNA &   78 &   59 & 1.3220339\\\\\n",
       "\trRNA &  153 &  137 & 1.1167883\\\\\n",
       "\tD-loop &   73 &  136 & 0.5367647\\\\\n",
       "\tintergenic &    8 &    8 & 1.0000000\\\\\n",
       "\taverage & 1499 & 1316 & 1.1390578\\\\\n",
       "\\end{tabular}\n"
      ],
      "text/markdown": [
       "\n",
       "A matrix: 7 × 3 of type dbl\n",
       "\n",
       "| <!--/--> | ti | tv | r |\n",
       "|---|---|---|---|\n",
       "| nonsynonymous |  240 |  318 | 0.7547170 |\n",
       "| synonymous |  947 |  658 | 1.4392097 |\n",
       "| tRNA |   78 |   59 | 1.3220339 |\n",
       "| rRNA |  153 |  137 | 1.1167883 |\n",
       "| D-loop |   73 |  136 | 0.5367647 |\n",
       "| intergenic |    8 |    8 | 1.0000000 |\n",
       "| average | 1499 | 1316 | 1.1390578 |\n",
       "\n"
      ],
      "text/plain": [
       "              ti   tv   r        \n",
       "nonsynonymous  240  318 0.7547170\n",
       "synonymous     947  658 1.4392097\n",
       "tRNA            78   59 1.3220339\n",
       "rRNA           153  137 1.1167883\n",
       "D-loop          73  136 0.5367647\n",
       "intergenic       8    8 1.0000000\n",
       "average       1499 1316 1.1390578"
      ]
     },
     "metadata": {},
     "output_type": "display_data"
    }
   ],
   "source": [
    "everymuts_vep_unique <- fread(\"Report/SNVs/impact/everymuts_vep_unique.csv.gz\")\n",
    "classes <- c(\"nonsynonymous\", \"synonymous\", \"tRNA\", \"rRNA\", \"D-loop\", \"intergenic\")\n",
    "\n",
    "genus_basediff <- copy(genus_mclust_varonly)\n",
    "genus_basediff[, alt := toupper(Rattus_norvegicus)]\n",
    "genus_basediff[, alt := sub('-', \"del\", alt)]\n",
    "genus_basediff[, ref := toupper(ref)]\n",
    "genus_basediff[, mut := paste0(ref, '>', alt)]\n",
    "genus_basediff[, posmut := paste0(pos, ':', mut)]\n",
    "genus_basediff <- genus_basediff[!duplicated(posmut)]\n",
    "genus_basediff <- everymuts_vep_unique[, c(\"posmut\", \"class\")][genus_basediff, on = \"posmut\"]\n",
    "genus_transmuts_byclass <- sapply(classes, function(cl) dcast.data.table(genus_basediff[class == cl, .N, by = c(\"ref\", \"alt\")], ref ~ alt, value.var = \"N\"), simplify = FALSE)\n",
    "genus_titv_byclass <- t(sapply(genus_transmuts_byclass, function(X) Genetics$titv(Tools$dt2df(X))))\n",
    "genus_transmuts <- dcast.data.table(genus_basediff[, .N, by = c(\"ref\", \"alt\")], ref ~ alt, value.var = \"N\")\n",
    "genus_titv_byclass <- rbind(genus_titv_byclass, Genetics$titv(Tools$dt2df(genus_transmuts)))\n",
    "rownames(genus_titv_byclass) <- c(classes, \"average\")\n",
    "genus_titv_byclass"
   ]
  },
  {
   "cell_type": "code",
   "execution_count": null,
   "metadata": {
    "vscode": {
     "languageId": "r"
    }
   },
   "outputs": [],
   "source": [
    "write.csv(genus_titv_byclass, file = \"Report/evo/genus_titv_byclass.csv\")"
   ]
  },
  {
   "cell_type": "code",
   "execution_count": 12,
   "metadata": {
    "vscode": {
     "languageId": "r"
    }
   },
   "outputs": [
    {
     "data": {
      "text/html": [
       "<table class=\"dataframe\">\n",
       "<caption>A matrix: 7 × 3 of type dbl</caption>\n",
       "<thead>\n",
       "\t<tr><th></th><th scope=col>ti</th><th scope=col>tv</th><th scope=col>r</th></tr>\n",
       "</thead>\n",
       "<tbody>\n",
       "\t<tr><th scope=row>nonsynonymous</th><td> 22</td><td> 31</td><td>0.7096774</td></tr>\n",
       "\t<tr><th scope=row>synonymous</th><td> 82</td><td> 43</td><td>1.9069767</td></tr>\n",
       "\t<tr><th scope=row>tRNA</th><td> 11</td><td>  6</td><td>1.8333333</td></tr>\n",
       "\t<tr><th scope=row>rRNA</th><td> 14</td><td> 14</td><td>1.0000000</td></tr>\n",
       "\t<tr><th scope=row>D-loop</th><td> 12</td><td> 22</td><td>0.5454545</td></tr>\n",
       "\t<tr><th scope=row>intergenic</th><td> NA</td><td> NA</td><td>       NA</td></tr>\n",
       "\t<tr><th scope=row>average</th><td>141</td><td>116</td><td>1.2155172</td></tr>\n",
       "</tbody>\n",
       "</table>\n"
      ],
      "text/latex": [
       "A matrix: 7 × 3 of type dbl\n",
       "\\begin{tabular}{r|lll}\n",
       "  & ti & tv & r\\\\\n",
       "\\hline\n",
       "\tnonsynonymous &  22 &  31 & 0.7096774\\\\\n",
       "\tsynonymous &  82 &  43 & 1.9069767\\\\\n",
       "\ttRNA &  11 &   6 & 1.8333333\\\\\n",
       "\trRNA &  14 &  14 & 1.0000000\\\\\n",
       "\tD-loop &  12 &  22 & 0.5454545\\\\\n",
       "\tintergenic &  NA &  NA &        NA\\\\\n",
       "\taverage & 141 & 116 & 1.2155172\\\\\n",
       "\\end{tabular}\n"
      ],
      "text/markdown": [
       "\n",
       "A matrix: 7 × 3 of type dbl\n",
       "\n",
       "| <!--/--> | ti | tv | r |\n",
       "|---|---|---|---|\n",
       "| nonsynonymous |  22 |  31 | 0.7096774 |\n",
       "| synonymous |  82 |  43 | 1.9069767 |\n",
       "| tRNA |  11 |   6 | 1.8333333 |\n",
       "| rRNA |  14 |  14 | 1.0000000 |\n",
       "| D-loop |  12 |  22 | 0.5454545 |\n",
       "| intergenic |  NA |  NA |        NA |\n",
       "| average | 141 | 116 | 1.2155172 |\n",
       "\n"
      ],
      "text/plain": [
       "              ti  tv  r        \n",
       "nonsynonymous  22  31 0.7096774\n",
       "synonymous     82  43 1.9069767\n",
       "tRNA           11   6 1.8333333\n",
       "rRNA           14  14 1.0000000\n",
       "D-loop         12  22 0.5454545\n",
       "intergenic     NA  NA        NA\n",
       "average       141 116 1.2155172"
      ]
     },
     "metadata": {},
     "output_type": "display_data"
    }
   ],
   "source": [
    "genus_basediff_assayed <- everymuts_vep_unique[, c(\"posmut\", \"class\")][genus_basediff[pos %in% chrmbases_assayed[, pos]], on = \"posmut\"]\n",
    "genus_transmuts_byclass_assayed <- sapply(classes[classes %in% unique(genus_basediff_assayed[, class])], function(cl) dcast.data.table(genus_basediff_assayed[class == cl, .N, by = c(\"ref\", \"alt\")], ref ~ alt, value.var = \"N\"), simplify = FALSE)\n",
    "genus_titv_byclass_assayed <- t(sapply(genus_transmuts_byclass_assayed, function(X) Genetics$titv(Tools$dt2df(X))))\n",
    "genus_titv_byclass_assayed <- as.data.frame(genus_titv_byclass_assayed)[classes, ]\n",
    "rownames(genus_titv_byclass_assayed) <- classes\n",
    "genus_titv_byclass_assayed <- as.matrix(genus_titv_byclass_assayed)\n",
    "genus_transmuts_assayed <- dcast.data.table(genus_basediff_assayed[, .N, by = c(\"ref\", \"alt\")], ref ~ alt, value.var = \"N\")\n",
    "genus_titv_byclass_assayed <- rbind(genus_titv_byclass_assayed, Genetics$titv(Tools$dt2df(genus_transmuts_assayed)))\n",
    "rownames(genus_titv_byclass_assayed) <- c(classes, \"average\")\n",
    "genus_titv_byclass_assayed"
   ]
  },
  {
   "cell_type": "code",
   "execution_count": null,
   "metadata": {
    "vscode": {
     "languageId": "r"
    }
   },
   "outputs": [],
   "source": [
    "write.csv(genus_titv_byclass_assayed, file = \"Report/evo/genus_titv_byclass_assayed.csv\")"
   ]
  },
  {
   "cell_type": "markdown",
   "metadata": {},
   "source": [
    "Species level Ti/Tv"
   ]
  },
  {
   "cell_type": "code",
   "execution_count": 14,
   "metadata": {
    "vscode": {
     "languageId": "r"
    }
   },
   "outputs": [
    {
     "data": {
      "text/html": [
       "<table class=\"dataframe\">\n",
       "<caption>A matrix: 7 × 3 of type dbl</caption>\n",
       "<thead>\n",
       "\t<tr><th></th><th scope=col>ti</th><th scope=col>tv</th><th scope=col>r</th></tr>\n",
       "</thead>\n",
       "<tbody>\n",
       "\t<tr><th scope=row>nonsynonymous</th><td> 356</td><td> 305</td><td>1.1672131</td></tr>\n",
       "\t<tr><th scope=row>synonymous</th><td>2372</td><td> 965</td><td>2.4580311</td></tr>\n",
       "\t<tr><th scope=row>tRNA</th><td> 122</td><td>  63</td><td>1.9365079</td></tr>\n",
       "\t<tr><th scope=row>rRNA</th><td> 273</td><td> 203</td><td>1.3448276</td></tr>\n",
       "\t<tr><th scope=row>D-loop</th><td> 148</td><td> 198</td><td>0.7474747</td></tr>\n",
       "\t<tr><th scope=row>intergenic</th><td>  11</td><td>   7</td><td>1.5714286</td></tr>\n",
       "\t<tr><th scope=row>average</th><td>3282</td><td>1741</td><td>1.8851235</td></tr>\n",
       "</tbody>\n",
       "</table>\n"
      ],
      "text/latex": [
       "A matrix: 7 × 3 of type dbl\n",
       "\\begin{tabular}{r|lll}\n",
       "  & ti & tv & r\\\\\n",
       "\\hline\n",
       "\tnonsynonymous &  356 &  305 & 1.1672131\\\\\n",
       "\tsynonymous & 2372 &  965 & 2.4580311\\\\\n",
       "\ttRNA &  122 &   63 & 1.9365079\\\\\n",
       "\trRNA &  273 &  203 & 1.3448276\\\\\n",
       "\tD-loop &  148 &  198 & 0.7474747\\\\\n",
       "\tintergenic &   11 &    7 & 1.5714286\\\\\n",
       "\taverage & 3282 & 1741 & 1.8851235\\\\\n",
       "\\end{tabular}\n"
      ],
      "text/markdown": [
       "\n",
       "A matrix: 7 × 3 of type dbl\n",
       "\n",
       "| <!--/--> | ti | tv | r |\n",
       "|---|---|---|---|\n",
       "| nonsynonymous |  356 |  305 | 1.1672131 |\n",
       "| synonymous | 2372 |  965 | 2.4580311 |\n",
       "| tRNA |  122 |   63 | 1.9365079 |\n",
       "| rRNA |  273 |  203 | 1.3448276 |\n",
       "| D-loop |  148 |  198 | 0.7474747 |\n",
       "| intergenic |   11 |    7 | 1.5714286 |\n",
       "| average | 3282 | 1741 | 1.8851235 |\n",
       "\n"
      ],
      "text/plain": [
       "              ti   tv   r        \n",
       "nonsynonymous  356  305 1.1672131\n",
       "synonymous    2372  965 2.4580311\n",
       "tRNA           122   63 1.9365079\n",
       "rRNA           273  203 1.3448276\n",
       "D-loop         148  198 0.7474747\n",
       "intergenic      11    7 1.5714286\n",
       "average       3282 1741 1.8851235"
      ]
     },
     "metadata": {},
     "output_type": "display_data"
    }
   ],
   "source": [
    "species_basediff <- copy(species_mclust_varonly)\n",
    "species_basediff <- species_basediff[, apply(.SD, 1, function(x) paste(x[1], \">\", x[-1], sep = \"\")), by = \"pos\"]\n",
    "names(species_basediff)[2] <- \"mut\"\n",
    "species_basediff[, mut := toupper(mut)]\n",
    "species_basediff[, mut := sub('-', \"del\", mut)]\n",
    "species_basediff[, ref := sapply(strsplit(mut, '>'), '[', 1)]\n",
    "species_basediff[, alt := sapply(strsplit(mut, '>'), '[', 2)]\n",
    "species_basediff <- species_basediff[ref != alt]\n",
    "species_basediff[, posmut := paste0(pos, ':', mut)]\n",
    "species_basediff <- species_basediff[!duplicated(posmut)]\n",
    "species_basediff <- everymuts_vep_unique[, c(\"posmut\", \"class\")][species_basediff, on = \"posmut\"]\n",
    "species_transmuts_byclass <- sapply(classes, function(cl) dcast.data.table(species_basediff[class == cl, .N, by = c(\"ref\", \"alt\")], ref ~ alt, value.var = \"N\"), simplify = FALSE)\n",
    "species_titv_byclass <- t(sapply(species_transmuts_byclass, function(X) Genetics$titv(Tools$dt2df(X))))\n",
    "species_transmuts <- dcast.data.table(species_basediff[, .N, by = c(\"ref\", \"alt\")], ref ~ alt, value.var = \"N\")\n",
    "species_titv_byclass <- rbind(species_titv_byclass, Genetics$titv(Tools$dt2df(species_transmuts)))\n",
    "rownames(species_titv_byclass) <- c(classes, \"average\")\n",
    "species_titv_byclass"
   ]
  },
  {
   "cell_type": "code",
   "execution_count": null,
   "metadata": {
    "vscode": {
     "languageId": "r"
    }
   },
   "outputs": [],
   "source": [
    "write.csv(species_titv_byclass, file = \"Report/evo/species_titv_byclass.csv\")"
   ]
  },
  {
   "cell_type": "code",
   "execution_count": 16,
   "metadata": {
    "vscode": {
     "languageId": "r"
    }
   },
   "outputs": [
    {
     "data": {
      "text/html": [
       "<table class=\"dataframe\">\n",
       "<caption>A matrix: 7 × 3 of type dbl</caption>\n",
       "<thead>\n",
       "\t<tr><th></th><th scope=col>ti</th><th scope=col>tv</th><th scope=col>r</th></tr>\n",
       "</thead>\n",
       "<tbody>\n",
       "\t<tr><th scope=row>nonsynonymous</th><td> 39</td><td> 31</td><td>1.2580645</td></tr>\n",
       "\t<tr><th scope=row>synonymous</th><td>174</td><td> 70</td><td>2.4857143</td></tr>\n",
       "\t<tr><th scope=row>tRNA</th><td> 19</td><td> 10</td><td>1.9000000</td></tr>\n",
       "\t<tr><th scope=row>rRNA</th><td> 22</td><td> 20</td><td>1.1000000</td></tr>\n",
       "\t<tr><th scope=row>D-loop</th><td> 29</td><td> 31</td><td>0.9354839</td></tr>\n",
       "\t<tr><th scope=row>intergenic</th><td>  0</td><td>  1</td><td>0.0000000</td></tr>\n",
       "\t<tr><th scope=row>average</th><td>283</td><td>163</td><td>1.7361963</td></tr>\n",
       "</tbody>\n",
       "</table>\n"
      ],
      "text/latex": [
       "A matrix: 7 × 3 of type dbl\n",
       "\\begin{tabular}{r|lll}\n",
       "  & ti & tv & r\\\\\n",
       "\\hline\n",
       "\tnonsynonymous &  39 &  31 & 1.2580645\\\\\n",
       "\tsynonymous & 174 &  70 & 2.4857143\\\\\n",
       "\ttRNA &  19 &  10 & 1.9000000\\\\\n",
       "\trRNA &  22 &  20 & 1.1000000\\\\\n",
       "\tD-loop &  29 &  31 & 0.9354839\\\\\n",
       "\tintergenic &   0 &   1 & 0.0000000\\\\\n",
       "\taverage & 283 & 163 & 1.7361963\\\\\n",
       "\\end{tabular}\n"
      ],
      "text/markdown": [
       "\n",
       "A matrix: 7 × 3 of type dbl\n",
       "\n",
       "| <!--/--> | ti | tv | r |\n",
       "|---|---|---|---|\n",
       "| nonsynonymous |  39 |  31 | 1.2580645 |\n",
       "| synonymous | 174 |  70 | 2.4857143 |\n",
       "| tRNA |  19 |  10 | 1.9000000 |\n",
       "| rRNA |  22 |  20 | 1.1000000 |\n",
       "| D-loop |  29 |  31 | 0.9354839 |\n",
       "| intergenic |   0 |   1 | 0.0000000 |\n",
       "| average | 283 | 163 | 1.7361963 |\n",
       "\n"
      ],
      "text/plain": [
       "              ti  tv  r        \n",
       "nonsynonymous  39  31 1.2580645\n",
       "synonymous    174  70 2.4857143\n",
       "tRNA           19  10 1.9000000\n",
       "rRNA           22  20 1.1000000\n",
       "D-loop         29  31 0.9354839\n",
       "intergenic      0   1 0.0000000\n",
       "average       283 163 1.7361963"
      ]
     },
     "metadata": {},
     "output_type": "display_data"
    }
   ],
   "source": [
    "species_basediff_assayed <- everymuts_vep_unique[, c(\"posmut\", \"class\")][species_basediff[pos %in% chrmbases_assayed[, pos]], on = \"posmut\"]\n",
    "species_transmuts_byclass_assayed <- sapply(classes[classes %in% unique(species_basediff_assayed[, class])], function(cl) dcast.data.table(species_basediff_assayed[class == cl, .N, by = c(\"ref\", \"alt\")], ref ~ alt, value.var = \"N\"), simplify = FALSE)\n",
    "species_titv_byclass_assayed <- t(sapply(species_transmuts_byclass_assayed, function(X) Genetics$titv(Tools$dt2df(X))))\n",
    "species_titv_byclass_assayed <- as.data.frame(species_titv_byclass_assayed)[classes, ]\n",
    "rownames(species_titv_byclass_assayed) <- classes\n",
    "species_titv_byclass_assayed <- as.matrix(species_titv_byclass_assayed)\n",
    "species_transmuts_assayed <- dcast.data.table(species_basediff_assayed[, .N, by = c(\"ref\", \"alt\")], ref ~ alt, value.var = \"N\")\n",
    "species_titv_byclass_assayed <- rbind(species_titv_byclass_assayed, Genetics$titv(Tools$dt2df(species_transmuts_assayed)))\n",
    "rownames(species_titv_byclass_assayed) <- c(classes, \"average\")\n",
    "species_titv_byclass_assayed"
   ]
  },
  {
   "cell_type": "code",
   "execution_count": null,
   "metadata": {
    "vscode": {
     "languageId": "r"
    }
   },
   "outputs": [],
   "source": [
    "write.csv(species_titv_byclass_assayed, file = \"Report/evo/species_titv_byclass_assayed.csv\")"
   ]
  },
  {
   "cell_type": "markdown",
   "metadata": {},
   "source": [
    "Strain level Ti/Tv"
   ]
  },
  {
   "cell_type": "code",
   "execution_count": 18,
   "metadata": {
    "vscode": {
     "languageId": "r"
    }
   },
   "outputs": [
    {
     "data": {
      "text/html": [
       "<table class=\"dataframe\">\n",
       "<caption>A matrix: 7 × 3 of type dbl</caption>\n",
       "<thead>\n",
       "\t<tr><th></th><th scope=col>ti</th><th scope=col>tv</th><th scope=col>r</th></tr>\n",
       "</thead>\n",
       "<tbody>\n",
       "\t<tr><th scope=row>nonsynonymous</th><td> 100</td><td> 38</td><td>2.631579</td></tr>\n",
       "\t<tr><th scope=row>synonymous</th><td> 951</td><td>154</td><td>6.175325</td></tr>\n",
       "\t<tr><th scope=row>tRNA</th><td>  50</td><td> 15</td><td>3.333333</td></tr>\n",
       "\t<tr><th scope=row>rRNA</th><td>  85</td><td> 19</td><td>4.473684</td></tr>\n",
       "\t<tr><th scope=row>D-loop</th><td>  57</td><td> 41</td><td>1.390244</td></tr>\n",
       "\t<tr><th scope=row>intergenic</th><td>   5</td><td>  2</td><td>2.500000</td></tr>\n",
       "\t<tr><th scope=row>average</th><td>1248</td><td>269</td><td>4.639405</td></tr>\n",
       "</tbody>\n",
       "</table>\n"
      ],
      "text/latex": [
       "A matrix: 7 × 3 of type dbl\n",
       "\\begin{tabular}{r|lll}\n",
       "  & ti & tv & r\\\\\n",
       "\\hline\n",
       "\tnonsynonymous &  100 &  38 & 2.631579\\\\\n",
       "\tsynonymous &  951 & 154 & 6.175325\\\\\n",
       "\ttRNA &   50 &  15 & 3.333333\\\\\n",
       "\trRNA &   85 &  19 & 4.473684\\\\\n",
       "\tD-loop &   57 &  41 & 1.390244\\\\\n",
       "\tintergenic &    5 &   2 & 2.500000\\\\\n",
       "\taverage & 1248 & 269 & 4.639405\\\\\n",
       "\\end{tabular}\n"
      ],
      "text/markdown": [
       "\n",
       "A matrix: 7 × 3 of type dbl\n",
       "\n",
       "| <!--/--> | ti | tv | r |\n",
       "|---|---|---|---|\n",
       "| nonsynonymous |  100 |  38 | 2.631579 |\n",
       "| synonymous |  951 | 154 | 6.175325 |\n",
       "| tRNA |   50 |  15 | 3.333333 |\n",
       "| rRNA |   85 |  19 | 4.473684 |\n",
       "| D-loop |   57 |  41 | 1.390244 |\n",
       "| intergenic |    5 |   2 | 2.500000 |\n",
       "| average | 1248 | 269 | 4.639405 |\n",
       "\n"
      ],
      "text/plain": [
       "              ti   tv  r       \n",
       "nonsynonymous  100  38 2.631579\n",
       "synonymous     951 154 6.175325\n",
       "tRNA            50  15 3.333333\n",
       "rRNA            85  19 4.473684\n",
       "D-loop          57  41 1.390244\n",
       "intergenic       5   2 2.500000\n",
       "average       1248 269 4.639405"
      ]
     },
     "metadata": {},
     "output_type": "display_data"
    }
   ],
   "source": [
    "strains_basediff <- copy(strains_mclust_varonly)\n",
    "strains_basediff <- strains_basediff[, apply(.SD, 1, function(x) paste(x[1], \">\", x[-1], sep = \"\")), by = \"pos\"]\n",
    "names(strains_basediff)[2] <- \"mut\"\n",
    "strains_basediff[, mut := toupper(mut)]\n",
    "strains_basediff[, mut := sub('-', \"del\", mut)]\n",
    "strains_basediff[, ref := sapply(strsplit(mut, '>'), '[', 1)]\n",
    "strains_basediff[, alt := sapply(strsplit(mut, '>'), '[', 2)]\n",
    "strains_basediff <- strains_basediff[ref != alt]\n",
    "strains_basediff[, posmut := paste0(pos, ':', mut)]\n",
    "strains_basediff <- strains_basediff[!duplicated(posmut)]\n",
    "strains_basediff <- everymuts_vep_unique[, c(\"posmut\", \"class\")][strains_basediff, on = \"posmut\"]\n",
    "strains_transmuts_byclass <- sapply(classes[classes %in% unique(strains_basediff[, class])], function(cl) dcast.data.table(strains_basediff[class == cl, .N, by = c(\"ref\", \"alt\")], ref ~ alt, value.var = \"N\"), simplify = FALSE)\n",
    "strains_titv_byclass <- t(sapply(strains_transmuts_byclass, function(X) Genetics$titv(Tools$dt2df(X))))\n",
    "strains_titv_byclass <- as.data.frame(strains_titv_byclass)[classes, ]\n",
    "rownames(strains_titv_byclass) <- classes\n",
    "strains_titv_byclass <- as.matrix(strains_titv_byclass)\n",
    "strains_transmuts <- dcast.data.table(strains_basediff[, .N, by = c(\"ref\", \"alt\")], ref ~ alt, value.var = \"N\")\n",
    "strains_titv_byclass <- rbind(strains_titv_byclass, Genetics$titv(Tools$dt2df(strains_transmuts)))\n",
    "rownames(strains_titv_byclass) <- c(classes, \"average\")\n",
    "strains_titv_byclass"
   ]
  },
  {
   "cell_type": "code",
   "execution_count": null,
   "metadata": {
    "vscode": {
     "languageId": "r"
    }
   },
   "outputs": [],
   "source": [
    "write.csv(strains_titv_byclass, file = \"Report/evo/strains_titv_byclass.csv\")"
   ]
  },
  {
   "cell_type": "code",
   "execution_count": 20,
   "metadata": {
    "vscode": {
     "languageId": "r"
    }
   },
   "outputs": [
    {
     "data": {
      "text/html": [
       "<table class=\"dataframe\">\n",
       "<caption>A matrix: 7 × 3 of type dbl</caption>\n",
       "<thead>\n",
       "\t<tr><th></th><th scope=col>ti</th><th scope=col>tv</th><th scope=col>r</th></tr>\n",
       "</thead>\n",
       "<tbody>\n",
       "\t<tr><th scope=row>nonsynonymous</th><td> 14</td><td> 4</td><td> 3.5</td></tr>\n",
       "\t<tr><th scope=row>synonymous</th><td> 65</td><td>10</td><td> 6.5</td></tr>\n",
       "\t<tr><th scope=row>tRNA</th><td>  8</td><td> 1</td><td> 8.0</td></tr>\n",
       "\t<tr><th scope=row>rRNA</th><td> 11</td><td> 1</td><td>11.0</td></tr>\n",
       "\t<tr><th scope=row>D-loop</th><td>  7</td><td> 5</td><td> 1.4</td></tr>\n",
       "\t<tr><th scope=row>intergenic</th><td> NA</td><td>NA</td><td>  NA</td></tr>\n",
       "\t<tr><th scope=row>average</th><td>105</td><td>21</td><td> 5.0</td></tr>\n",
       "</tbody>\n",
       "</table>\n"
      ],
      "text/latex": [
       "A matrix: 7 × 3 of type dbl\n",
       "\\begin{tabular}{r|lll}\n",
       "  & ti & tv & r\\\\\n",
       "\\hline\n",
       "\tnonsynonymous &  14 &  4 &  3.5\\\\\n",
       "\tsynonymous &  65 & 10 &  6.5\\\\\n",
       "\ttRNA &   8 &  1 &  8.0\\\\\n",
       "\trRNA &  11 &  1 & 11.0\\\\\n",
       "\tD-loop &   7 &  5 &  1.4\\\\\n",
       "\tintergenic &  NA & NA &   NA\\\\\n",
       "\taverage & 105 & 21 &  5.0\\\\\n",
       "\\end{tabular}\n"
      ],
      "text/markdown": [
       "\n",
       "A matrix: 7 × 3 of type dbl\n",
       "\n",
       "| <!--/--> | ti | tv | r |\n",
       "|---|---|---|---|\n",
       "| nonsynonymous |  14 |  4 |  3.5 |\n",
       "| synonymous |  65 | 10 |  6.5 |\n",
       "| tRNA |   8 |  1 |  8.0 |\n",
       "| rRNA |  11 |  1 | 11.0 |\n",
       "| D-loop |   7 |  5 |  1.4 |\n",
       "| intergenic |  NA | NA |   NA |\n",
       "| average | 105 | 21 |  5.0 |\n",
       "\n"
      ],
      "text/plain": [
       "              ti  tv r   \n",
       "nonsynonymous  14  4  3.5\n",
       "synonymous     65 10  6.5\n",
       "tRNA            8  1  8.0\n",
       "rRNA           11  1 11.0\n",
       "D-loop          7  5  1.4\n",
       "intergenic     NA NA   NA\n",
       "average       105 21  5.0"
      ]
     },
     "metadata": {},
     "output_type": "display_data"
    }
   ],
   "source": [
    "strains_basediff_assayed <- everymuts_vep_unique[, c(\"posmut\", \"class\")][strains_basediff[pos %in% chrmbases_assayed[, pos]], on = \"posmut\"]\n",
    "strains_transmuts_byclass_assayed <- sapply(classes[classes %in% unique(strains_basediff_assayed[, class])], function(cl) dcast.data.table(strains_basediff_assayed[class == cl, .N, by = c(\"ref\", \"alt\")], ref ~ alt, value.var = \"N\"), simplify = FALSE)\n",
    "strains_titv_byclass_assayed <- t(sapply(strains_transmuts_byclass_assayed, function(X) Genetics$titv(Tools$dt2df(X))))\n",
    "strains_titv_byclass_assayed <- as.data.frame(strains_titv_byclass_assayed)[classes, ]\n",
    "rownames(strains_titv_byclass_assayed) <- classes\n",
    "strains_titv_byclass_assayed <- as.matrix(strains_titv_byclass_assayed)\n",
    "strains_transmuts_assayed <- dcast.data.table(strains_basediff_assayed[, .N, by = c(\"ref\", \"alt\")], ref ~ alt, value.var = \"N\")\n",
    "strains_titv_byclass_assayed <- rbind(strains_titv_byclass_assayed, Genetics$titv(Tools$dt2df(strains_transmuts_assayed)))\n",
    "rownames(strains_titv_byclass_assayed) <- c(classes, \"average\")\n",
    "strains_titv_byclass_assayed"
   ]
  },
  {
   "cell_type": "code",
   "execution_count": null,
   "metadata": {
    "vscode": {
     "languageId": "r"
    }
   },
   "outputs": [],
   "source": [
    "write.csv(strains_titv_byclass_assayed, file = \"Report/evo/strains_titv_byclass_assayed.csv\")"
   ]
  },
  {
   "cell_type": "markdown",
   "metadata": {},
   "source": [
    "Population level Ti/Tv"
   ]
  },
  {
   "cell_type": "code",
   "execution_count": 22,
   "metadata": {
    "vscode": {
     "languageId": "r"
    }
   },
   "outputs": [
    {
     "data": {
      "text/html": [
       "<table class=\"dataframe\">\n",
       "<caption>A matrix: 7 × 3 of type dbl</caption>\n",
       "<thead>\n",
       "\t<tr><th></th><th scope=col>ti</th><th scope=col>tv</th><th scope=col>r</th></tr>\n",
       "</thead>\n",
       "<tbody>\n",
       "\t<tr><th scope=row>nonsynonymous</th><td> 58</td><td> 39</td><td> 1.487179</td></tr>\n",
       "\t<tr><th scope=row>synonymous</th><td>411</td><td> 41</td><td>10.024390</td></tr>\n",
       "\t<tr><th scope=row>tRNA</th><td> 37</td><td>  8</td><td> 4.625000</td></tr>\n",
       "\t<tr><th scope=row>rRNA</th><td> 37</td><td> 12</td><td> 3.083333</td></tr>\n",
       "\t<tr><th scope=row>D-loop</th><td> 46</td><td> 25</td><td> 1.840000</td></tr>\n",
       "\t<tr><th scope=row>intergenic</th><td>  4</td><td>  3</td><td> 1.333333</td></tr>\n",
       "\t<tr><th scope=row>average</th><td>593</td><td>128</td><td> 4.632812</td></tr>\n",
       "</tbody>\n",
       "</table>\n"
      ],
      "text/latex": [
       "A matrix: 7 × 3 of type dbl\n",
       "\\begin{tabular}{r|lll}\n",
       "  & ti & tv & r\\\\\n",
       "\\hline\n",
       "\tnonsynonymous &  58 &  39 &  1.487179\\\\\n",
       "\tsynonymous & 411 &  41 & 10.024390\\\\\n",
       "\ttRNA &  37 &   8 &  4.625000\\\\\n",
       "\trRNA &  37 &  12 &  3.083333\\\\\n",
       "\tD-loop &  46 &  25 &  1.840000\\\\\n",
       "\tintergenic &   4 &   3 &  1.333333\\\\\n",
       "\taverage & 593 & 128 &  4.632812\\\\\n",
       "\\end{tabular}\n"
      ],
      "text/markdown": [
       "\n",
       "A matrix: 7 × 3 of type dbl\n",
       "\n",
       "| <!--/--> | ti | tv | r |\n",
       "|---|---|---|---|\n",
       "| nonsynonymous |  58 |  39 |  1.487179 |\n",
       "| synonymous | 411 |  41 | 10.024390 |\n",
       "| tRNA |  37 |   8 |  4.625000 |\n",
       "| rRNA |  37 |  12 |  3.083333 |\n",
       "| D-loop |  46 |  25 |  1.840000 |\n",
       "| intergenic |   4 |   3 |  1.333333 |\n",
       "| average | 593 | 128 |  4.632812 |\n",
       "\n"
      ],
      "text/plain": [
       "              ti  tv  r        \n",
       "nonsynonymous  58  39  1.487179\n",
       "synonymous    411  41 10.024390\n",
       "tRNA           37   8  4.625000\n",
       "rRNA           37  12  3.083333\n",
       "D-loop         46  25  1.840000\n",
       "intergenic      4   3  1.333333\n",
       "average       593 128  4.632812"
      ]
     },
     "metadata": {},
     "output_type": "display_data"
    }
   ],
   "source": [
    "castdom_basediff <- copy(castdom_mclust_varonly)\n",
    "castdom_basediff <- castdom_basediff[, apply(.SD, 1, function(x) paste(x[1], \">\", x[-1], sep = \"\")), by = \"pos\"]\n",
    "names(castdom_basediff)[2] <- \"mut\"\n",
    "castdom_basediff[, mut := toupper(mut)]\n",
    "castdom_basediff[, mut := sub('-', \"del\", mut)]\n",
    "castdom_basediff[, ref := sapply(strsplit(mut, '>'), '[', 1)]\n",
    "castdom_basediff[, alt := sapply(strsplit(mut, '>'), '[', 2)]\n",
    "castdom_basediff <- castdom_basediff[ref != alt]\n",
    "castdom_basediff[, posmut := paste0(pos, ':', mut)]\n",
    "castdom_basediff <- castdom_basediff[!duplicated(posmut)]\n",
    "castdom_basediff <- everymuts_vep_unique[, c(\"posmut\", \"class\")][castdom_basediff, on = \"posmut\"]\n",
    "castdom_transmuts_byclass <- sapply(classes, function(cl) dcast.data.table(castdom_basediff[class == cl, .N, by = c(\"ref\", \"alt\")], ref ~ alt, value.var = \"N\"), simplify = FALSE)\n",
    "castdom_titv_byclass <- t(sapply(castdom_transmuts_byclass, function(X) Genetics$titv(Tools$dt2df(X))))\n",
    "castdom_transmuts <- dcast.data.table(castdom_basediff[, .N, by = c(\"ref\", \"alt\")], ref ~ alt, value.var = \"N\")\n",
    "castdom_titv_byclass <- rbind(castdom_titv_byclass, Genetics$titv(Tools$dt2df(castdom_transmuts)))\n",
    "rownames(castdom_titv_byclass) <- c(classes, \"average\")\n",
    "castdom_titv_byclass"
   ]
  },
  {
   "cell_type": "code",
   "execution_count": null,
   "metadata": {
    "vscode": {
     "languageId": "r"
    }
   },
   "outputs": [],
   "source": [
    "write.csv(castdom_titv_byclass, file = \"Report/evo/population_titv_byclass.csv\")"
   ]
  },
  {
   "cell_type": "code",
   "execution_count": 24,
   "metadata": {
    "vscode": {
     "languageId": "r"
    }
   },
   "outputs": [
    {
     "data": {
      "text/html": [
       "<table class=\"dataframe\">\n",
       "<caption>A matrix: 7 × 3 of type dbl</caption>\n",
       "<thead>\n",
       "\t<tr><th></th><th scope=col>ti</th><th scope=col>tv</th><th scope=col>r</th></tr>\n",
       "</thead>\n",
       "<tbody>\n",
       "\t<tr><th scope=row>nonsynonymous</th><td> 4</td><td> 3</td><td> 1.333333</td></tr>\n",
       "\t<tr><th scope=row>synonymous</th><td>36</td><td> 2</td><td>18.000000</td></tr>\n",
       "\t<tr><th scope=row>tRNA</th><td> 3</td><td> 0</td><td>      Inf</td></tr>\n",
       "\t<tr><th scope=row>rRNA</th><td> 2</td><td> 0</td><td>      Inf</td></tr>\n",
       "\t<tr><th scope=row>D-loop</th><td> 7</td><td> 4</td><td> 1.750000</td></tr>\n",
       "\t<tr><th scope=row>intergenic</th><td>NA</td><td>NA</td><td>       NA</td></tr>\n",
       "\t<tr><th scope=row>average</th><td>52</td><td> 9</td><td> 5.777778</td></tr>\n",
       "</tbody>\n",
       "</table>\n"
      ],
      "text/latex": [
       "A matrix: 7 × 3 of type dbl\n",
       "\\begin{tabular}{r|lll}\n",
       "  & ti & tv & r\\\\\n",
       "\\hline\n",
       "\tnonsynonymous &  4 &  3 &  1.333333\\\\\n",
       "\tsynonymous & 36 &  2 & 18.000000\\\\\n",
       "\ttRNA &  3 &  0 &       Inf\\\\\n",
       "\trRNA &  2 &  0 &       Inf\\\\\n",
       "\tD-loop &  7 &  4 &  1.750000\\\\\n",
       "\tintergenic & NA & NA &        NA\\\\\n",
       "\taverage & 52 &  9 &  5.777778\\\\\n",
       "\\end{tabular}\n"
      ],
      "text/markdown": [
       "\n",
       "A matrix: 7 × 3 of type dbl\n",
       "\n",
       "| <!--/--> | ti | tv | r |\n",
       "|---|---|---|---|\n",
       "| nonsynonymous |  4 |  3 |  1.333333 |\n",
       "| synonymous | 36 |  2 | 18.000000 |\n",
       "| tRNA |  3 |  0 |       Inf |\n",
       "| rRNA |  2 |  0 |       Inf |\n",
       "| D-loop |  7 |  4 |  1.750000 |\n",
       "| intergenic | NA | NA |        NA |\n",
       "| average | 52 |  9 |  5.777778 |\n",
       "\n"
      ],
      "text/plain": [
       "              ti tv r        \n",
       "nonsynonymous  4  3  1.333333\n",
       "synonymous    36  2 18.000000\n",
       "tRNA           3  0       Inf\n",
       "rRNA           2  0       Inf\n",
       "D-loop         7  4  1.750000\n",
       "intergenic    NA NA        NA\n",
       "average       52  9  5.777778"
      ]
     },
     "metadata": {},
     "output_type": "display_data"
    }
   ],
   "source": [
    "castdom_basediff_assayed <- everymuts_vep_unique[, c(\"posmut\", \"class\")][castdom_basediff[pos %in% chrmbases_assayed[, pos]], on = \"posmut\"]\n",
    "castdom_transmuts_byclass_assayed <- sapply(classes[classes %in% unique(castdom_basediff_assayed[, class])], function(cl) dcast.data.table(castdom_basediff_assayed[class == cl, .N, by = c(\"ref\", \"alt\")], ref ~ alt, value.var = \"N\"), simplify = FALSE)\n",
    "castdom_titv_byclass_assayed <- t(sapply(castdom_transmuts_byclass_assayed, function(X) Genetics$titv(Tools$dt2df(X))))\n",
    "castdom_titv_byclass_assayed <- as.data.frame(castdom_titv_byclass_assayed)[classes, ]\n",
    "rownames(castdom_titv_byclass_assayed) <- classes\n",
    "castdom_titv_byclass_assayed <- as.matrix(castdom_titv_byclass_assayed)\n",
    "castdom_transmuts_assayed <- dcast.data.table(castdom_basediff_assayed[, .N, by = c(\"ref\", \"alt\")], ref ~ alt, value.var = \"N\")\n",
    "castdom_titv_byclass_assayed <- rbind(castdom_titv_byclass_assayed, Genetics$titv(Tools$dt2df(castdom_transmuts_assayed)))\n",
    "rownames(castdom_titv_byclass_assayed) <- c(classes, \"average\")\n",
    "castdom_titv_byclass_assayed"
   ]
  },
  {
   "cell_type": "code",
   "execution_count": null,
   "metadata": {
    "vscode": {
     "languageId": "r"
    }
   },
   "outputs": [],
   "source": [
    "write.csv(castdom_titv_byclass_assayed, file = \"Report/evo/population_titv_byclass_assayed.csv\")"
   ]
  },
  {
   "cell_type": "markdown",
   "metadata": {},
   "source": [
    "Ti/Tv summary"
   ]
  },
  {
   "cell_type": "markdown",
   "metadata": {},
   "source": [
    "Whole mt-genome"
   ]
  },
  {
   "cell_type": "code",
   "execution_count": 26,
   "metadata": {
    "vscode": {
     "languageId": "r"
    }
   },
   "outputs": [],
   "source": [
    "genus_titv_byclass_dt <- data.table(data = \"genera\", class = rownames(genus_titv_byclass), genus_titv_byclass)\n",
    "species_titv_byclass_dt <- data.table(data = \"species\", class = rownames(species_titv_byclass), species_titv_byclass)\n",
    "strains_titv_byclass_dt <- data.table(data = \"strains\", class = rownames(strains_titv_byclass), strains_titv_byclass)\n",
    "populations_titv_byclass_dt <- data.table(data = \"population\", class = rownames(castdom_titv_byclass), castdom_titv_byclass)\n",
    "evo_titv_byclass <- rbindlist(list(genus_titv_byclass_dt, species_titv_byclass_dt, strains_titv_byclass_dt, populations_titv_byclass_dt))\n",
    "evo_titv_byclass[, data := factor(data, levels = c(\"genera\", \"species\", \"strains\", \"population\"))]"
   ]
  },
  {
   "cell_type": "code",
   "execution_count": 27,
   "metadata": {
    "vscode": {
     "languageId": "r"
    }
   },
   "outputs": [
    {
     "data": {
      "image/png": "[encoded data removed]",
      "text/plain": [
       "plot without title"
      ]
     },
     "metadata": {
      "image/png": {
       "height": 216,
       "width": 252
      }
     },
     "output_type": "display_data"
    }
   ],
   "source": [
    "options(repr.plot.width = 7, repr.plot.height = 6, repr.plot.res = 72)\n",
    "ggplot(evo_titv_byclass[class != \"intergenic\"], aes(x = class, fill = data, y = r)) + geom_bar(stat = \"identity\", position = position_dodge2(preserve = \"single\")) + scale_x_discrete(limits = c(\"rRNA\", \"tRNA\", \"synonymous\", \"nonsynonymous\", \"average\", \"D-loop\"), labels = c(rRNA = \"rRNA\", tRNA = \"tRNA\", synonymous = \"syn\", nonsynonymous = \"nonsyn\", average = \"average\", \"D-loop\" = \"D-loop\")) + theme_classic(base_size = 18) + theme(axis.text.x = element_text(angle = 45, vjust = 1, hjust = 1)) + xlab(\"\") + ylab(\"Ti/Tv\") + scale_fill_brewer(palette = \"Set1\") + scale_y_continuous()"
   ]
  },
  {
   "cell_type": "markdown",
   "metadata": {},
   "source": [
    "SMITO covered"
   ]
  },
  {
   "cell_type": "code",
   "execution_count": 28,
   "metadata": {
    "vscode": {
     "languageId": "r"
    }
   },
   "outputs": [],
   "source": [
    "genus_titv_byclass_assayed_dt <- data.table(data = \"genera\", class = rownames(genus_titv_byclass_assayed), genus_titv_byclass_assayed)\n",
    "species_titv_byclass_assayed_dt <- data.table(data = \"species\", class = rownames(species_titv_byclass_assayed), species_titv_byclass_assayed)\n",
    "strains_titv_byclass_assayed_dt <- data.table(data = \"strains\", class = rownames(strains_titv_byclass_assayed), strains_titv_byclass_assayed)\n",
    "populations_titv_byclass_assayed_dt <- data.table(data = \"population\", class = rownames(castdom_titv_byclass_assayed), castdom_titv_byclass_assayed)\n",
    "evo_titv_byclass_assayed <- rbindlist(list(genus_titv_byclass_assayed_dt, species_titv_byclass_assayed_dt, strains_titv_byclass_assayed_dt, populations_titv_byclass_assayed_dt))\n",
    "evo_titv_byclass_assayed[, data := factor(data, levels = c(\"genera\", \"species\", \"strains\", \"population\", \"SMITO\"))]"
   ]
  },
  {
   "cell_type": "code",
   "execution_count": 29,
   "metadata": {
    "vscode": {
     "languageId": "r"
    }
   },
   "outputs": [
    {
     "data": {
      "image/png": "[encoded data removed]",
      "text/plain": [
       "plot without title"
      ]
     },
     "metadata": {
      "image/png": {
       "height": 216,
       "width": 252
      }
     },
     "output_type": "display_data"
    }
   ],
   "source": [
    "options(repr.plot.width = 7, repr.plot.height = 6, repr.plot.res = 72)\n",
    "ggplot(evo_titv_byclass_assayed[class != \"intergenic\"], aes(x = class, fill = data, y = r)) + geom_bar(stat = \"identity\", position = position_dodge2(preserve = \"single\")) + scale_x_discrete(limits = c(\"rRNA\", \"tRNA\", \"synonymous\", \"nonsynonymous\", \"average\", \"D-loop\"), labels = c(rRNA = \"rRNA\", tRNA = \"tRNA\", synonymous = \"syn\", nonsynonymous = \"nonsyn\", average = \"average\", \"D-loop\" = \"D-loop\")) + theme_classic(base_size = 18) + theme(axis.text.x = element_text(angle = 45, vjust = 1, hjust = 1)) + xlab(\"\") + ylab(\"Ti/Tv\") + scale_fill_brewer(palette = \"Set1\") + scale_y_continuous()"
   ]
  },
  {
   "cell_type": "markdown",
   "metadata": {},
   "source": [
    "Check the codon table"
   ]
  },
  {
   "cell_type": "code",
   "execution_count": 30,
   "metadata": {
    "vscode": {
     "languageId": "r"
    }
   },
   "outputs": [
    {
     "data": {
      "text/plain": [
       "codon\n",
       " AAA  AAC  AAG  AAT  ACA  ACC  ACG  ACT  AGC  AGT  ATA  ATC  ATG  ATT  CAA  CAC \n",
       "1210 1285   24  708 1873 1021   69  697  420  168 2589 1668  344 2791  930  756 \n",
       " CAG  CAT  CCA  CCC  CCG  CCT  CGA  CGC  CGG  CGT  CTA  CTC  CTG  CTT  GAA  GAC \n",
       "  36  407 1551  405   24  357  411  216   36   96 3177  765  324 1044  951  516 \n",
       " GAG  GAT  GCA  GCC  GCG  GCT  GGA  GGC  GGG  GGT  GTA  GTC  GTG  GTT    T  TAA \n",
       " 131  361 1152  985   84  564 1308  468  348  420  888  396  132  600   12   76 \n",
       " TAC  TAG  TAT  TCA  TCC  TCG  TCT  TGA  TGC  TGG  TGT  TTA  TTC  TTG  TTT \n",
       " 720   24  779 1752  564   48  504 1151  205   84  120 1546 1585  178 1298 "
      ]
     },
     "metadata": {},
     "output_type": "display_data"
    }
   ],
   "source": [
    "everymuts_vep <- fread(file = \"Report/SNVs/impact/everymuts_vep_unique.csv.gz\")\n",
    "everymuts_vep_synonymous <- everymuts_vep[Feature_type == \"Transcript\" & Consequence == \"synonymous_variant\"]\n",
    "everymuts_vep_nonsynonymous <- everymuts_vep[Feature_type == \"Transcript\" & Consequence %in% \n",
    "    c(\"frameshift_variant\", \n",
    "      \"frameshift_variant,start_lost\", \n",
    "      \"frameshift_variant,stop_lost\", \n",
    "      \"incomplete_terminal_codon_variant,coding_sequence_variant\", \n",
    "      \"missense_variant\", \n",
    "      \"protein_altering_variant,incomplete_terminal_codon_variant\", \n",
    "      \"start_lost\", \n",
    "      \"stop_gained\", \n",
    "      \"stop_gained,start_lost\", \n",
    "      \"stop_lost\", \n",
    "      \"stop_retained_variant\")]\n",
    "everymuts_vep_synonymous[, class := \"synonymous\"]\n",
    "everymuts_vep_nonsynonymous[, class := \"nonsynonymous\"]\n",
    "everymuts_vep_cds <- rbind(everymuts_vep_synonymous, everymuts_vep_nonsynonymous)\n",
    "everymuts_vep_codons <- everymuts_vep_cds[, list(symbol = SYMBOL, codon = sapply(strsplit(Codons, \"/\"), function(x) toupper(x[1]))), by = c(\"pos\", \"STRAND\", \"CDS_position\")]\n",
    "everymuts_vep_codons[, table(codon)]"
   ]
  },
  {
   "cell_type": "code",
   "execution_count": 31,
   "metadata": {
    "vscode": {
     "languageId": "r"
    }
   },
   "outputs": [
    {
     "data": {
      "text/html": [
       "<table class=\"dataframe\">\n",
       "<caption>A data.table: 12 × 5</caption>\n",
       "<thead>\n",
       "\t<tr><th scope=col>pos</th><th scope=col>STRAND</th><th scope=col>CDS_position</th><th scope=col>symbol</th><th scope=col>codon</th></tr>\n",
       "\t<tr><th scope=col>&lt;int&gt;</th><th scope=col>&lt;int&gt;</th><th scope=col>&lt;chr&gt;</th><th scope=col>&lt;chr&gt;</th><th scope=col>&lt;chr&gt;</th></tr>\n",
       "</thead>\n",
       "<tbody>\n",
       "\t<tr><td> 9390</td><td>1</td><td>784 </td><td>mt-Co3 </td><td>T</td></tr>\n",
       "\t<tr><td> 9390</td><td>1</td><td>784 </td><td>mt-Co3 </td><td>T</td></tr>\n",
       "\t<tr><td> 9390</td><td>1</td><td>784 </td><td>mt-Co3 </td><td>T</td></tr>\n",
       "\t<tr><td> 9390</td><td>1</td><td>784 </td><td>mt-Co3 </td><td>T</td></tr>\n",
       "\t<tr><td>11544</td><td>1</td><td>1378</td><td>mt-Nd4 </td><td>T</td></tr>\n",
       "\t<tr><td>11544</td><td>1</td><td>1378</td><td>mt-Nd4 </td><td>T</td></tr>\n",
       "\t<tr><td>11544</td><td>1</td><td>1378</td><td>mt-Nd4 </td><td>T</td></tr>\n",
       "\t<tr><td>11544</td><td>1</td><td>1378</td><td>mt-Nd4 </td><td>T</td></tr>\n",
       "\t<tr><td>15288</td><td>1</td><td>1144</td><td>mt-Cytb</td><td>T</td></tr>\n",
       "\t<tr><td>15288</td><td>1</td><td>1144</td><td>mt-Cytb</td><td>T</td></tr>\n",
       "\t<tr><td>15288</td><td>1</td><td>1144</td><td>mt-Cytb</td><td>T</td></tr>\n",
       "\t<tr><td>15288</td><td>1</td><td>1144</td><td>mt-Cytb</td><td>T</td></tr>\n",
       "</tbody>\n",
       "</table>\n"
      ],
      "text/latex": [
       "A data.table: 12 × 5\n",
       "\\begin{tabular}{lllll}\n",
       " pos & STRAND & CDS\\_position & symbol & codon\\\\\n",
       " <int> & <int> & <chr> & <chr> & <chr>\\\\\n",
       "\\hline\n",
       "\t  9390 & 1 & 784  & mt-Co3  & T\\\\\n",
       "\t  9390 & 1 & 784  & mt-Co3  & T\\\\\n",
       "\t  9390 & 1 & 784  & mt-Co3  & T\\\\\n",
       "\t  9390 & 1 & 784  & mt-Co3  & T\\\\\n",
       "\t 11544 & 1 & 1378 & mt-Nd4  & T\\\\\n",
       "\t 11544 & 1 & 1378 & mt-Nd4  & T\\\\\n",
       "\t 11544 & 1 & 1378 & mt-Nd4  & T\\\\\n",
       "\t 11544 & 1 & 1378 & mt-Nd4  & T\\\\\n",
       "\t 15288 & 1 & 1144 & mt-Cytb & T\\\\\n",
       "\t 15288 & 1 & 1144 & mt-Cytb & T\\\\\n",
       "\t 15288 & 1 & 1144 & mt-Cytb & T\\\\\n",
       "\t 15288 & 1 & 1144 & mt-Cytb & T\\\\\n",
       "\\end{tabular}\n"
      ],
      "text/markdown": [
       "\n",
       "A data.table: 12 × 5\n",
       "\n",
       "| pos &lt;int&gt; | STRAND &lt;int&gt; | CDS_position &lt;chr&gt; | symbol &lt;chr&gt; | codon &lt;chr&gt; |\n",
       "|---|---|---|---|---|\n",
       "|  9390 | 1 | 784  | mt-Co3  | T |\n",
       "|  9390 | 1 | 784  | mt-Co3  | T |\n",
       "|  9390 | 1 | 784  | mt-Co3  | T |\n",
       "|  9390 | 1 | 784  | mt-Co3  | T |\n",
       "| 11544 | 1 | 1378 | mt-Nd4  | T |\n",
       "| 11544 | 1 | 1378 | mt-Nd4  | T |\n",
       "| 11544 | 1 | 1378 | mt-Nd4  | T |\n",
       "| 11544 | 1 | 1378 | mt-Nd4  | T |\n",
       "| 15288 | 1 | 1144 | mt-Cytb | T |\n",
       "| 15288 | 1 | 1144 | mt-Cytb | T |\n",
       "| 15288 | 1 | 1144 | mt-Cytb | T |\n",
       "| 15288 | 1 | 1144 | mt-Cytb | T |\n",
       "\n"
      ],
      "text/plain": [
       "   pos   STRAND CDS_position symbol  codon\n",
       "1   9390 1      784          mt-Co3  T    \n",
       "2   9390 1      784          mt-Co3  T    \n",
       "3   9390 1      784          mt-Co3  T    \n",
       "4   9390 1      784          mt-Co3  T    \n",
       "5  11544 1      1378         mt-Nd4  T    \n",
       "6  11544 1      1378         mt-Nd4  T    \n",
       "7  11544 1      1378         mt-Nd4  T    \n",
       "8  11544 1      1378         mt-Nd4  T    \n",
       "9  15288 1      1144         mt-Cytb T    \n",
       "10 15288 1      1144         mt-Cytb T    \n",
       "11 15288 1      1144         mt-Cytb T    \n",
       "12 15288 1      1144         mt-Cytb T    "
      ]
     },
     "metadata": {},
     "output_type": "display_data"
    }
   ],
   "source": [
    "everymuts_vep_codons[codon == \"T\"]"
   ]
  },
  {
   "cell_type": "markdown",
   "metadata": {
    "vscode": {
     "languageId": "r"
    }
   },
   "source": [
    "mt-Co3, mt-Nd4, mt-Cytb have the stop codon TAA by polyadenylation. "
   ]
  },
  {
   "cell_type": "code",
   "execution_count": 32,
   "metadata": {
    "vscode": {
     "languageId": "r"
    }
   },
   "outputs": [],
   "source": [
    "everymuts_vep_codons[codon == \"T\", codon:=\"TAA\"]\n",
    "everymuts_vep_codons <- unique(everymuts_vep_codons)\n",
    "everymuts_vep_codons[, strand := ifelse(STRAND == 1, \"+\", ifelse(STRAND == -1, \"-\", \"\"))]\n",
    "everymuts_vep_codons[, STRAND := NULL]"
   ]
  },
  {
   "cell_type": "markdown",
   "metadata": {},
   "source": [
    "MK test on the population data"
   ]
  },
  {
   "cell_type": "code",
   "execution_count": 33,
   "metadata": {
    "vscode": {
     "languageId": "r"
    }
   },
   "outputs": [
    {
     "data": {
      "text/html": [
       "<table class=\"dataframe\">\n",
       "<caption>A data.table: 6 × 43</caption>\n",
       "<thead>\n",
       "\t<tr><th scope=col>pos</th><th scope=col>CDS_position</th><th scope=col>codon_index</th><th scope=col>symbol</th><th scope=col>strand</th><th scope=col>ref</th><th scope=col>castaneus_TW3</th><th scope=col>castaneus_PX</th><th scope=col>castaneus_CAST/EiJ</th><th scope=col>castaneus_TW2</th><th scope=col>⋯</th><th scope=col>domesticus_BG_4235</th><th scope=col>domesticus_HB_4242</th><th scope=col>type</th><th scope=col>Codon</th><th scope=col>AA</th><th scope=col>S</th><th scope=col>N</th><th scope=col>Pos1</th><th scope=col>Pos2</th><th scope=col>Pos3</th></tr>\n",
       "\t<tr><th scope=col>&lt;int&gt;</th><th scope=col>&lt;int&gt;</th><th scope=col>&lt;dbl&gt;</th><th scope=col>&lt;chr&gt;</th><th scope=col>&lt;chr&gt;</th><th scope=col>&lt;chr&gt;</th><th scope=col>&lt;chr&gt;</th><th scope=col>&lt;chr&gt;</th><th scope=col>&lt;chr&gt;</th><th scope=col>&lt;chr&gt;</th><th scope=col>⋯</th><th scope=col>&lt;chr&gt;</th><th scope=col>&lt;chr&gt;</th><th scope=col>&lt;chr&gt;</th><th scope=col>&lt;chr&gt;</th><th scope=col>&lt;chr&gt;</th><th scope=col>&lt;dbl&gt;</th><th scope=col>&lt;dbl&gt;</th><th scope=col>&lt;int&gt;</th><th scope=col>&lt;int&gt;</th><th scope=col>&lt;int&gt;</th></tr>\n",
       "</thead>\n",
       "<tbody>\n",
       "\t<tr><td> 51</td><td>NA</td><td>NA</td><td>NA</td><td>NA</td><td>A</td><td>-</td><td>A</td><td>A</td><td>-</td><td>⋯</td><td>A</td><td>A</td><td>poly</td><td>NA</td><td>NA</td><td>NA</td><td>NA</td><td>NA</td><td>NA</td><td>NA</td></tr>\n",
       "\t<tr><td> 55</td><td>NA</td><td>NA</td><td>NA</td><td>NA</td><td>G</td><td>T</td><td>T</td><td>T</td><td>T</td><td>⋯</td><td>A</td><td>T</td><td>poly</td><td>NA</td><td>NA</td><td>NA</td><td>NA</td><td>NA</td><td>NA</td><td>NA</td></tr>\n",
       "\t<tr><td>131</td><td>NA</td><td>NA</td><td>NA</td><td>NA</td><td>G</td><td>A</td><td>G</td><td>G</td><td>A</td><td>⋯</td><td>G</td><td>G</td><td>poly</td><td>NA</td><td>NA</td><td>NA</td><td>NA</td><td>NA</td><td>NA</td><td>NA</td></tr>\n",
       "\t<tr><td>165</td><td>NA</td><td>NA</td><td>NA</td><td>NA</td><td>A</td><td>C</td><td>C</td><td>C</td><td>C</td><td>⋯</td><td>A</td><td>A</td><td>div </td><td>NA</td><td>NA</td><td>NA</td><td>NA</td><td>NA</td><td>NA</td><td>NA</td></tr>\n",
       "\t<tr><td>201</td><td>NA</td><td>NA</td><td>NA</td><td>NA</td><td>T</td><td>C</td><td>T</td><td>T</td><td>C</td><td>⋯</td><td>T</td><td>T</td><td>poly</td><td>NA</td><td>NA</td><td>NA</td><td>NA</td><td>NA</td><td>NA</td><td>NA</td></tr>\n",
       "\t<tr><td>233</td><td>NA</td><td>NA</td><td>NA</td><td>NA</td><td>A</td><td>A</td><td>A</td><td>A</td><td>A</td><td>⋯</td><td>A</td><td>T</td><td>poly</td><td>NA</td><td>NA</td><td>NA</td><td>NA</td><td>NA</td><td>NA</td><td>NA</td></tr>\n",
       "</tbody>\n",
       "</table>\n"
      ],
      "text/latex": [
       "A data.table: 6 × 43\n",
       "\\begin{tabular}{lllllllllllllllllllll}\n",
       " pos & CDS\\_position & codon\\_index & symbol & strand & ref & castaneus\\_TW3 & castaneus\\_PX & castaneus\\_CAST/EiJ & castaneus\\_TW2 & ⋯ & domesticus\\_BG\\_4235 & domesticus\\_HB\\_4242 & type & Codon & AA & S & N & Pos1 & Pos2 & Pos3\\\\\n",
       " <int> & <int> & <dbl> & <chr> & <chr> & <chr> & <chr> & <chr> & <chr> & <chr> & ⋯ & <chr> & <chr> & <chr> & <chr> & <chr> & <dbl> & <dbl> & <int> & <int> & <int>\\\\\n",
       "\\hline\n",
       "\t  51 & NA & NA & NA & NA & A & - & A & A & - & ⋯ & A & A & poly & NA & NA & NA & NA & NA & NA & NA\\\\\n",
       "\t  55 & NA & NA & NA & NA & G & T & T & T & T & ⋯ & A & T & poly & NA & NA & NA & NA & NA & NA & NA\\\\\n",
       "\t 131 & NA & NA & NA & NA & G & A & G & G & A & ⋯ & G & G & poly & NA & NA & NA & NA & NA & NA & NA\\\\\n",
       "\t 165 & NA & NA & NA & NA & A & C & C & C & C & ⋯ & A & A & div  & NA & NA & NA & NA & NA & NA & NA\\\\\n",
       "\t 201 & NA & NA & NA & NA & T & C & T & T & C & ⋯ & T & T & poly & NA & NA & NA & NA & NA & NA & NA\\\\\n",
       "\t 233 & NA & NA & NA & NA & A & A & A & A & A & ⋯ & A & T & poly & NA & NA & NA & NA & NA & NA & NA\\\\\n",
       "\\end{tabular}\n"
      ],
      "text/markdown": [
       "\n",
       "A data.table: 6 × 43\n",
       "\n",
       "| pos &lt;int&gt; | CDS_position &lt;int&gt; | codon_index &lt;dbl&gt; | symbol &lt;chr&gt; | strand &lt;chr&gt; | ref &lt;chr&gt; | castaneus_TW3 &lt;chr&gt; | castaneus_PX &lt;chr&gt; | castaneus_CAST/EiJ &lt;chr&gt; | castaneus_TW2 &lt;chr&gt; | ⋯ ⋯ | domesticus_BG_4235 &lt;chr&gt; | domesticus_HB_4242 &lt;chr&gt; | type &lt;chr&gt; | Codon &lt;chr&gt; | AA &lt;chr&gt; | S &lt;dbl&gt; | N &lt;dbl&gt; | Pos1 &lt;int&gt; | Pos2 &lt;int&gt; | Pos3 &lt;int&gt; |\n",
       "|---|---|---|---|---|---|---|---|---|---|---|---|---|---|---|---|---|---|---|---|---|\n",
       "|  51 | NA | NA | NA | NA | A | - | A | A | - | ⋯ | A | A | poly | NA | NA | NA | NA | NA | NA | NA |\n",
       "|  55 | NA | NA | NA | NA | G | T | T | T | T | ⋯ | A | T | poly | NA | NA | NA | NA | NA | NA | NA |\n",
       "| 131 | NA | NA | NA | NA | G | A | G | G | A | ⋯ | G | G | poly | NA | NA | NA | NA | NA | NA | NA |\n",
       "| 165 | NA | NA | NA | NA | A | C | C | C | C | ⋯ | A | A | div  | NA | NA | NA | NA | NA | NA | NA |\n",
       "| 201 | NA | NA | NA | NA | T | C | T | T | C | ⋯ | T | T | poly | NA | NA | NA | NA | NA | NA | NA |\n",
       "| 233 | NA | NA | NA | NA | A | A | A | A | A | ⋯ | A | T | poly | NA | NA | NA | NA | NA | NA | NA |\n",
       "\n"
      ],
      "text/plain": [
       "  pos CDS_position codon_index symbol strand ref castaneus_TW3 castaneus_PX\n",
       "1  51 NA           NA          NA     NA     A   -             A           \n",
       "2  55 NA           NA          NA     NA     G   T             T           \n",
       "3 131 NA           NA          NA     NA     G   A             G           \n",
       "4 165 NA           NA          NA     NA     A   C             C           \n",
       "5 201 NA           NA          NA     NA     T   C             T           \n",
       "6 233 NA           NA          NA     NA     A   A             A           \n",
       "  castaneus_CAST/EiJ castaneus_TW2 ⋯ domesticus_BG_4235 domesticus_HB_4242 type\n",
       "1 A                  -             ⋯ A                  A                  poly\n",
       "2 T                  T             ⋯ A                  T                  poly\n",
       "3 G                  A             ⋯ G                  G                  poly\n",
       "4 C                  C             ⋯ A                  A                  div \n",
       "5 T                  C             ⋯ T                  T                  poly\n",
       "6 A                  A             ⋯ A                  T                  poly\n",
       "  Codon AA S  N  Pos1 Pos2 Pos3\n",
       "1 NA    NA NA NA NA   NA   NA  \n",
       "2 NA    NA NA NA NA   NA   NA  \n",
       "3 NA    NA NA NA NA   NA   NA  \n",
       "4 NA    NA NA NA NA   NA   NA  \n",
       "5 NA    NA NA NA NA   NA   NA  \n",
       "6 NA    NA NA NA NA   NA   NA  "
      ]
     },
     "metadata": {},
     "output_type": "display_data"
    }
   ],
   "source": [
    "vertmtcodon <- fread(file = \"Report/evo/vertmtcodon.csv\")\n",
    "\n",
    "castdom_mclust_varonly <- vertmtcodon[castdom_mclust_varonly, on = \"pos\"]\n",
    "setcolorder(castdom_mclust_varonly, c(8:42, 1:7))\n",
    "\n",
    "castdom_mclust_varonly[, CDS_position:= as.integer(CDS_position)]\n",
    "castdom_mclust_varonly[, codon_index := round((CDS_position+1)/3)]\n",
    "\n",
    "setcolorder(castdom_mclust_varonly, c(1:2, 43, 3:42))\n",
    "head(castdom_mclust_varonly)"
   ]
  },
  {
   "cell_type": "code",
   "execution_count": null,
   "metadata": {
    "vscode": {
     "languageId": "r"
    }
   },
   "outputs": [],
   "source": [
    "fwrite(castdom_mclust_varonly, file = \"Report/evo/population_mclust_varonly.csv\")"
   ]
  },
  {
   "cell_type": "code",
   "execution_count": 35,
   "metadata": {
    "vscode": {
     "languageId": "r"
    }
   },
   "outputs": [
    {
     "data": {
      "text/html": [
       "<table class=\"dataframe\">\n",
       "<caption>A data.table: 6 × 8</caption>\n",
       "<thead>\n",
       "\t<tr><th scope=col>symbol</th><th scope=col>strand</th><th scope=col>codon_index</th><th scope=col>sites</th><th scope=col>types</th><th scope=col>AA</th><th scope=col>syn</th><th scope=col>nonsyn</th></tr>\n",
       "\t<tr><th scope=col>&lt;chr&gt;</th><th scope=col>&lt;chr&gt;</th><th scope=col>&lt;dbl&gt;</th><th scope=col>&lt;chr&gt;</th><th scope=col>&lt;chr&gt;</th><th scope=col>&lt;chr&gt;</th><th scope=col>&lt;dbl&gt;</th><th scope=col>&lt;dbl&gt;</th></tr>\n",
       "</thead>\n",
       "<tbody>\n",
       "\t<tr><td>mt-Nd1</td><td>+</td><td> 6</td><td>2766</td><td>poly</td><td>I</td><td>0.3333333</td><td>2.666667</td></tr>\n",
       "\t<tr><td>mt-Nd1</td><td>+</td><td>11</td><td>2781</td><td>poly</td><td>V</td><td>1.0000000</td><td>2.000000</td></tr>\n",
       "\t<tr><td>mt-Nd1</td><td>+</td><td>12</td><td>2786</td><td>div </td><td>P</td><td>1.0000000</td><td>2.000000</td></tr>\n",
       "\t<tr><td>mt-Nd1</td><td>+</td><td>30</td><td>2839</td><td>poly</td><td>Y</td><td>1.0000000</td><td>2.000000</td></tr>\n",
       "\t<tr><td>mt-Nd1</td><td>+</td><td>39</td><td>2865</td><td>poly</td><td>I</td><td>0.3333333</td><td>2.666667</td></tr>\n",
       "\t<tr><td>mt-Nd1</td><td>+</td><td>40</td><td>2870</td><td>div </td><td>V</td><td>1.0000000</td><td>2.000000</td></tr>\n",
       "</tbody>\n",
       "</table>\n"
      ],
      "text/latex": [
       "A data.table: 6 × 8\n",
       "\\begin{tabular}{llllllll}\n",
       " symbol & strand & codon\\_index & sites & types & AA & syn & nonsyn\\\\\n",
       " <chr> & <chr> & <dbl> & <chr> & <chr> & <chr> & <dbl> & <dbl>\\\\\n",
       "\\hline\n",
       "\t mt-Nd1 & + &  6 & 2766 & poly & I & 0.3333333 & 2.666667\\\\\n",
       "\t mt-Nd1 & + & 11 & 2781 & poly & V & 1.0000000 & 2.000000\\\\\n",
       "\t mt-Nd1 & + & 12 & 2786 & div  & P & 1.0000000 & 2.000000\\\\\n",
       "\t mt-Nd1 & + & 30 & 2839 & poly & Y & 1.0000000 & 2.000000\\\\\n",
       "\t mt-Nd1 & + & 39 & 2865 & poly & I & 0.3333333 & 2.666667\\\\\n",
       "\t mt-Nd1 & + & 40 & 2870 & div  & V & 1.0000000 & 2.000000\\\\\n",
       "\\end{tabular}\n"
      ],
      "text/markdown": [
       "\n",
       "A data.table: 6 × 8\n",
       "\n",
       "| symbol &lt;chr&gt; | strand &lt;chr&gt; | codon_index &lt;dbl&gt; | sites &lt;chr&gt; | types &lt;chr&gt; | AA &lt;chr&gt; | syn &lt;dbl&gt; | nonsyn &lt;dbl&gt; |\n",
       "|---|---|---|---|---|---|---|---|\n",
       "| mt-Nd1 | + |  6 | 2766 | poly | I | 0.3333333 | 2.666667 |\n",
       "| mt-Nd1 | + | 11 | 2781 | poly | V | 1.0000000 | 2.000000 |\n",
       "| mt-Nd1 | + | 12 | 2786 | div  | P | 1.0000000 | 2.000000 |\n",
       "| mt-Nd1 | + | 30 | 2839 | poly | Y | 1.0000000 | 2.000000 |\n",
       "| mt-Nd1 | + | 39 | 2865 | poly | I | 0.3333333 | 2.666667 |\n",
       "| mt-Nd1 | + | 40 | 2870 | div  | V | 1.0000000 | 2.000000 |\n",
       "\n"
      ],
      "text/plain": [
       "  symbol strand codon_index sites types AA syn       nonsyn  \n",
       "1 mt-Nd1 +       6          2766  poly  I  0.3333333 2.666667\n",
       "2 mt-Nd1 +      11          2781  poly  V  1.0000000 2.000000\n",
       "3 mt-Nd1 +      12          2786  div   P  1.0000000 2.000000\n",
       "4 mt-Nd1 +      30          2839  poly  Y  1.0000000 2.000000\n",
       "5 mt-Nd1 +      39          2865  poly  I  0.3333333 2.666667\n",
       "6 mt-Nd1 +      40          2870  div   V  1.0000000 2.000000"
      ]
     },
     "metadata": {},
     "output_type": "display_data"
    }
   ],
   "source": [
    "castdom_mclust_varonly_ns_percodon <- castdom_mclust_varonly[!is.na(symbol) & type != \"\"][, list(sites = paste0(unique(pos), collapse = \",\"), types = paste0(unique(type), collapse = \",\"), AA = unique(AA), syn = mean(S), nonsyn = mean(N)), by = c(\"symbol\", \"strand\", \"codon_index\")]\n",
    "head(castdom_mclust_varonly_ns_percodon)"
   ]
  },
  {
   "cell_type": "code",
   "execution_count": null,
   "metadata": {
    "vscode": {
     "languageId": "r"
    }
   },
   "outputs": [],
   "source": [
    "fwrite(castdom_mclust_varonly_ns_percodon, file = \"Report/evo/population_mclust_varonly_ns_percodon.csv\")"
   ]
  },
  {
   "cell_type": "code",
   "execution_count": 37,
   "metadata": {
    "vscode": {
     "languageId": "r"
    }
   },
   "outputs": [
    {
     "data": {
      "text/html": [
       "<table class=\"dataframe\">\n",
       "<caption>A data.table: 6 × 4</caption>\n",
       "<thead>\n",
       "\t<tr><th scope=col>symbol</th><th scope=col>types</th><th scope=col>S</th><th scope=col>N</th></tr>\n",
       "\t<tr><th scope=col>&lt;chr&gt;</th><th scope=col>&lt;chr&gt;</th><th scope=col>&lt;dbl&gt;</th><th scope=col>&lt;dbl&gt;</th></tr>\n",
       "</thead>\n",
       "<tbody>\n",
       "\t<tr><td>mt-Atp6</td><td>div </td><td> 5.666667</td><td>15.333333</td></tr>\n",
       "\t<tr><td>mt-Atp6</td><td>poly</td><td>15.666667</td><td>44.333333</td></tr>\n",
       "\t<tr><td>mt-Atp8</td><td>div </td><td> 1.333333</td><td> 1.666667</td></tr>\n",
       "\t<tr><td>mt-Atp8</td><td>poly</td><td> 2.666667</td><td> 6.333333</td></tr>\n",
       "\t<tr><td>mt-Co1 </td><td>div </td><td>12.000000</td><td>33.000000</td></tr>\n",
       "\t<tr><td>mt-Co1 </td><td>poly</td><td>31.333333</td><td>91.666667</td></tr>\n",
       "</tbody>\n",
       "</table>\n"
      ],
      "text/latex": [
       "A data.table: 6 × 4\n",
       "\\begin{tabular}{llll}\n",
       " symbol & types & S & N\\\\\n",
       " <chr> & <chr> & <dbl> & <dbl>\\\\\n",
       "\\hline\n",
       "\t mt-Atp6 & div  &  5.666667 & 15.333333\\\\\n",
       "\t mt-Atp6 & poly & 15.666667 & 44.333333\\\\\n",
       "\t mt-Atp8 & div  &  1.333333 &  1.666667\\\\\n",
       "\t mt-Atp8 & poly &  2.666667 &  6.333333\\\\\n",
       "\t mt-Co1  & div  & 12.000000 & 33.000000\\\\\n",
       "\t mt-Co1  & poly & 31.333333 & 91.666667\\\\\n",
       "\\end{tabular}\n"
      ],
      "text/markdown": [
       "\n",
       "A data.table: 6 × 4\n",
       "\n",
       "| symbol &lt;chr&gt; | types &lt;chr&gt; | S &lt;dbl&gt; | N &lt;dbl&gt; |\n",
       "|---|---|---|---|\n",
       "| mt-Atp6 | div  |  5.666667 | 15.333333 |\n",
       "| mt-Atp6 | poly | 15.666667 | 44.333333 |\n",
       "| mt-Atp8 | div  |  1.333333 |  1.666667 |\n",
       "| mt-Atp8 | poly |  2.666667 |  6.333333 |\n",
       "| mt-Co1  | div  | 12.000000 | 33.000000 |\n",
       "| mt-Co1  | poly | 31.333333 | 91.666667 |\n",
       "\n"
      ],
      "text/plain": [
       "  symbol  types S         N        \n",
       "1 mt-Atp6 div    5.666667 15.333333\n",
       "2 mt-Atp6 poly  15.666667 44.333333\n",
       "3 mt-Atp8 div    1.333333  1.666667\n",
       "4 mt-Atp8 poly   2.666667  6.333333\n",
       "5 mt-Co1  div   12.000000 33.000000\n",
       "6 mt-Co1  poly  31.333333 91.666667"
      ]
     },
     "metadata": {},
     "output_type": "display_data"
    }
   ],
   "source": [
    "castdom_mclust_varonly_ns_pergene <- castdom_mclust_varonly_ns_percodon[types %in% c(\"div\", \"poly\")][, list(S = sum(syn), N = sum(nonsyn)), keyby = c(\"symbol\", \"types\")]\n",
    "head(castdom_mclust_varonly_ns_pergene)"
   ]
  },
  {
   "cell_type": "code",
   "execution_count": null,
   "metadata": {
    "vscode": {
     "languageId": "r"
    }
   },
   "outputs": [],
   "source": [
    "fwrite(castdom_mclust_varonly_ns_pergene, file = \"Report/evo/population_mclust_varonly_ns_pergene.csv\")"
   ]
  },
  {
   "cell_type": "code",
   "execution_count": 39,
   "metadata": {
    "vscode": {
     "languageId": "r"
    }
   },
   "outputs": [
    {
     "name": "stderr",
     "output_type": "stream",
     "text": [
      "Warning message in chisq.test(matrix(unlist(.SD), ncol = 2)):\n",
      "“Chi-squared approximation may be incorrect”\n",
      "Warning message in chisq.test(matrix(unlist(.SD), ncol = 2)):\n",
      "“Chi-squared approximation may be incorrect”\n",
      "Warning message in chisq.test(matrix(unlist(.SD), ncol = 2)):\n",
      "“Chi-squared approximation may be incorrect”\n",
      "Warning message in chisq.test(matrix(unlist(.SD), ncol = 2)):\n",
      "“Chi-squared approximation may be incorrect”\n",
      "Warning message in chisq.test(matrix(unlist(.SD), ncol = 2)):\n",
      "“Chi-squared approximation may be incorrect”\n"
     ]
    },
    {
     "data": {
      "text/html": [
       "<table class=\"dataframe\">\n",
       "<caption>A data.table: 13 × 2</caption>\n",
       "<thead>\n",
       "\t<tr><th scope=col>symbol</th><th scope=col>p</th></tr>\n",
       "\t<tr><th scope=col>&lt;chr&gt;</th><th scope=col>&lt;dbl&gt;</th></tr>\n",
       "</thead>\n",
       "<tbody>\n",
       "\t<tr><td>mt-Atp6</td><td>1.0000000</td></tr>\n",
       "\t<tr><td>mt-Atp8</td><td>1.0000000</td></tr>\n",
       "\t<tr><td>mt-Co1 </td><td>1.0000000</td></tr>\n",
       "\t<tr><td>mt-Co2 </td><td>0.8245945</td></tr>\n",
       "\t<tr><td>mt-Co3 </td><td>0.4668543</td></tr>\n",
       "\t<tr><td>mt-Cytb</td><td>0.8562873</td></tr>\n",
       "\t<tr><td>mt-Nd1 </td><td>0.7864418</td></tr>\n",
       "\t<tr><td>mt-Nd2 </td><td>0.9991129</td></tr>\n",
       "\t<tr><td>mt-Nd3 </td><td>1.0000000</td></tr>\n",
       "\t<tr><td>mt-Nd4 </td><td>0.9317355</td></tr>\n",
       "\t<tr><td>mt-Nd4l</td><td>      NaN</td></tr>\n",
       "\t<tr><td>mt-Nd5 </td><td>0.8502327</td></tr>\n",
       "\t<tr><td>mt-Nd6 </td><td>0.6302872</td></tr>\n",
       "</tbody>\n",
       "</table>\n"
      ],
      "text/latex": [
       "A data.table: 13 × 2\n",
       "\\begin{tabular}{ll}\n",
       " symbol & p\\\\\n",
       " <chr> & <dbl>\\\\\n",
       "\\hline\n",
       "\t mt-Atp6 & 1.0000000\\\\\n",
       "\t mt-Atp8 & 1.0000000\\\\\n",
       "\t mt-Co1  & 1.0000000\\\\\n",
       "\t mt-Co2  & 0.8245945\\\\\n",
       "\t mt-Co3  & 0.4668543\\\\\n",
       "\t mt-Cytb & 0.8562873\\\\\n",
       "\t mt-Nd1  & 0.7864418\\\\\n",
       "\t mt-Nd2  & 0.9991129\\\\\n",
       "\t mt-Nd3  & 1.0000000\\\\\n",
       "\t mt-Nd4  & 0.9317355\\\\\n",
       "\t mt-Nd4l &       NaN\\\\\n",
       "\t mt-Nd5  & 0.8502327\\\\\n",
       "\t mt-Nd6  & 0.6302872\\\\\n",
       "\\end{tabular}\n"
      ],
      "text/markdown": [
       "\n",
       "A data.table: 13 × 2\n",
       "\n",
       "| symbol &lt;chr&gt; | p &lt;dbl&gt; |\n",
       "|---|---|\n",
       "| mt-Atp6 | 1.0000000 |\n",
       "| mt-Atp8 | 1.0000000 |\n",
       "| mt-Co1  | 1.0000000 |\n",
       "| mt-Co2  | 0.8245945 |\n",
       "| mt-Co3  | 0.4668543 |\n",
       "| mt-Cytb | 0.8562873 |\n",
       "| mt-Nd1  | 0.7864418 |\n",
       "| mt-Nd2  | 0.9991129 |\n",
       "| mt-Nd3  | 1.0000000 |\n",
       "| mt-Nd4  | 0.9317355 |\n",
       "| mt-Nd4l |       NaN |\n",
       "| mt-Nd5  | 0.8502327 |\n",
       "| mt-Nd6  | 0.6302872 |\n",
       "\n"
      ],
      "text/plain": [
       "   symbol  p        \n",
       "1  mt-Atp6 1.0000000\n",
       "2  mt-Atp8 1.0000000\n",
       "3  mt-Co1  1.0000000\n",
       "4  mt-Co2  0.8245945\n",
       "5  mt-Co3  0.4668543\n",
       "6  mt-Cytb 0.8562873\n",
       "7  mt-Nd1  0.7864418\n",
       "8  mt-Nd2  0.9991129\n",
       "9  mt-Nd3  1.0000000\n",
       "10 mt-Nd4  0.9317355\n",
       "11 mt-Nd4l       NaN\n",
       "12 mt-Nd5  0.8502327\n",
       "13 mt-Nd6  0.6302872"
      ]
     },
     "metadata": {},
     "output_type": "display_data"
    }
   ],
   "source": [
    "K <- data.table(expand.grid(symbol = castdom_mclust_varonly_ns_pergene[, unique(symbol)], types = c(\"div\", \"poly\"), stringsAsFactors = FALSE))[order(symbol, types)]\n",
    "castdom_mclust_varonly_ns_pergene <- castdom_mclust_varonly_ns_pergene[K, on = c(\"symbol\", \"types\")]\n",
    "castdom_mclust_varonly_ns_pergene[is.na(S), S:=0]\n",
    "castdom_mclust_varonly_ns_pergene[is.na(N), N:=0]\n",
    "castdom_mclust_varonly_mkpval_pergene <- castdom_mclust_varonly_ns_pergene[, list(p = chisq.test(matrix(unlist(.SD), ncol = 2))$p.value), by = c(\"symbol\"), .SDcols = c(\"S\", \"N\")]\n",
    "castdom_mclust_varonly_mkpval_pergene"
   ]
  },
  {
   "cell_type": "code",
   "execution_count": null,
   "metadata": {
    "vscode": {
     "languageId": "r"
    }
   },
   "outputs": [],
   "source": [
    "fwrite(castdom_mclust_varonly_mkpval_pergene, file = \"Report/evo/population_mclust_varonly_mkpval_pergene.csv\")"
   ]
  },
  {
   "cell_type": "code",
   "execution_count": 41,
   "metadata": {
    "vscode": {
     "languageId": "r"
    }
   },
   "outputs": [
    {
     "data": {
      "text/plain": [
       "R version 4.4.0 (2024-04-24)\n",
       "Platform: x86_64-pc-linux-gnu\n",
       "Running under: openSUSE Tumbleweed\n",
       "\n",
       "Matrix products: default\n",
       "BLAS:   /home/lenovo/Applications/R/4.4.0/lib64/R/lib/libRblas.so \n",
       "LAPACK: /home/lenovo/Applications/R/4.4.0/lib64/R/lib/libRlapack.so;  LAPACK version 3.12.0\n",
       "\n",
       "locale:\n",
       " [1] LC_CTYPE=en_US.UTF-8       LC_NUMERIC=C              \n",
       " [3] LC_TIME=en_US.UTF-8        LC_COLLATE=en_US.UTF-8    \n",
       " [5] LC_MONETARY=en_US.UTF-8    LC_MESSAGES=en_US.UTF-8   \n",
       " [7] LC_PAPER=en_US.UTF-8       LC_NAME=C                 \n",
       " [9] LC_ADDRESS=C               LC_TELEPHONE=C            \n",
       "[11] LC_MEASUREMENT=en_US.UTF-8 LC_IDENTIFICATION=C       \n",
       "\n",
       "time zone: America/New_York\n",
       "tzcode source: system (glibc)\n",
       "\n",
       "attached base packages:\n",
       "[1] stats     graphics  grDevices utils     datasets  methods   base     \n",
       "\n",
       "other attached packages:\n",
       "[1] ggplot2_3.5.1     data.table_1.16.2\n",
       "\n",
       "loaded via a namespace (and not attached):\n",
       " [1] crayon_1.5.3       vctrs_0.6.5        cli_3.6.3          rlang_1.1.4       \n",
       " [5] generics_0.1.3     jsonlite_1.8.9     labeling_0.4.3     glue_1.8.0        \n",
       " [9] colorspace_2.1-1   htmltools_0.5.8.1  IRdisplay_1.1      IRkernel_1.3.2    \n",
       "[13] scales_1.3.0       fansi_1.0.6        grid_4.4.0         evaluate_1.0.1    \n",
       "[17] munsell_0.5.1      tibble_3.2.1       fastmap_1.2.0      base64enc_0.1-3   \n",
       "[21] lifecycle_1.0.4    compiler_4.4.0     dplyr_1.1.4        RColorBrewer_1.1-3\n",
       "[25] pkgconfig_2.0.3    R.oo_1.26.0        farver_2.1.2       R.utils_2.12.3    \n",
       "[29] pbdZMQ_0.3-13      digest_0.6.37      R6_2.5.1           tidyselect_1.2.1  \n",
       "[33] repr_1.1.7         utf8_1.2.4         pillar_1.9.0       magrittr_2.0.3    \n",
       "[37] R.methodsS3_1.8.2  withr_3.0.1        uuid_1.2-1         tools_4.4.0       \n",
       "[41] gtable_0.3.5      "
      ]
     },
     "metadata": {},
     "output_type": "display_data"
    }
   ],
   "source": [
    "sessionInfo()"
   ]
  }
 ],
 "metadata": {
  "kernelspec": {
   "display_name": "R",
   "language": "R",
   "name": "ir"
  },
  "language_info": {
   "codemirror_mode": "r",
   "file_extension": ".r",
   "mimetype": "text/x-r-source",
   "name": "R",
   "pygments_lexer": "r",
   "version": "4.4.0"
  }
 },
 "nbformat": 4,
 "nbformat_minor": 2
}
